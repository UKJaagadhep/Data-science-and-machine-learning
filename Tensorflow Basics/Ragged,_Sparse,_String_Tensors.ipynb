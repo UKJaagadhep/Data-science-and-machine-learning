{
  "nbformat": 4,
  "nbformat_minor": 0,
  "metadata": {
    "colab": {
      "provenance": [],
      "authorship_tag": "ABX9TyMyfOEsuDERJ8k5iyRwvN/L",
      "include_colab_link": true
    },
    "kernelspec": {
      "name": "python3",
      "display_name": "Python 3"
    },
    "language_info": {
      "name": "python"
    }
  },
  "cells": [
    {
      "cell_type": "markdown",
      "metadata": {
        "id": "view-in-github",
        "colab_type": "text"
      },
      "source": [
        "<a href=\"https://colab.research.google.com/github/UKJaagadhep/Data-science-and-machine-learning/blob/main/Tensorflow%20Basics/Ragged%2C_Sparse%2C_String_Tensors.ipynb\" target=\"_parent\"><img src=\"https://colab.research.google.com/assets/colab-badge.svg\" alt=\"Open In Colab\"/></a>"
      ]
    },
    {
      "cell_type": "code",
      "execution_count": 1,
      "metadata": {
        "id": "0z5QLDru5CEM"
      },
      "outputs": [],
      "source": [
        "import tensorflow as tf"
      ]
    },
    {
      "cell_type": "markdown",
      "source": [
        "**RAGGED TENSORS**"
      ],
      "metadata": {
        "id": "Rg2cQ9aZSeZ6"
      }
    },
    {
      "cell_type": "code",
      "source": [
        "a = tf.ragged.constant([[1],[4,2,5],[5,9]])"
      ],
      "metadata": {
        "id": "yGnf58wd5KmJ"
      },
      "execution_count": 2,
      "outputs": []
    },
    {
      "cell_type": "code",
      "source": [
        "print(a)\n",
        "print(a.shape)"
      ],
      "metadata": {
        "colab": {
          "base_uri": "https://localhost:8080/"
        },
        "id": "10Zpv0sa-Ut9",
        "outputId": "b89bb14c-e213-4898-b2e0-3e3deb578ae6"
      },
      "execution_count": 3,
      "outputs": [
        {
          "output_type": "stream",
          "name": "stdout",
          "text": [
            "<tf.RaggedTensor [[1], [4, 2, 5], [5, 9]]>\n",
            "(3, None)\n"
          ]
        }
      ]
    },
    {
      "cell_type": "code",
      "source": [
        "tf.ragged.boolean_mask(a, mask = tf.ragged.constant([[True],[True,False,False],[True,True]]))"
      ],
      "metadata": {
        "colab": {
          "base_uri": "https://localhost:8080/"
        },
        "id": "w7xxEWRE-YX2",
        "outputId": "9821c9d1-7c14-40f4-9012-f7328858d93e"
      },
      "execution_count": 4,
      "outputs": [
        {
          "output_type": "execute_result",
          "data": {
            "text/plain": [
              "<tf.RaggedTensor [[1], [4], [5, 9]]>"
            ]
          },
          "metadata": {},
          "execution_count": 4
        }
      ]
    },
    {
      "cell_type": "code",
      "source": [
        "tf.ragged.boolean_mask(a, mask = tf.ragged.constant([True, True, False]))"
      ],
      "metadata": {
        "colab": {
          "base_uri": "https://localhost:8080/"
        },
        "id": "iWo0D2DZ_9gA",
        "outputId": "3d7c01ce-24f0-4031-85e4-cfc9d685a26a"
      },
      "execution_count": 5,
      "outputs": [
        {
          "output_type": "execute_result",
          "data": {
            "text/plain": [
              "<tf.RaggedTensor [[1], [4, 2, 5]]>"
            ]
          },
          "metadata": {},
          "execution_count": 5
        }
      ]
    },
    {
      "cell_type": "code",
      "source": [
        "tf.RaggedTensor.from_row_lengths(values = [3,1,4,1,5,9,2,6], row_lengths = [4,0,3,0,1])"
      ],
      "metadata": {
        "colab": {
          "base_uri": "https://localhost:8080/"
        },
        "id": "HBELeLSeQmEu",
        "outputId": "35a5c18b-5948-4a01-8a86-d2339563a538"
      },
      "execution_count": 6,
      "outputs": [
        {
          "output_type": "execute_result",
          "data": {
            "text/plain": [
              "<tf.RaggedTensor [[3, 1, 4, 1], [], [5, 9, 2], [], [6]]>"
            ]
          },
          "metadata": {},
          "execution_count": 6
        }
      ]
    },
    {
      "cell_type": "code",
      "source": [
        "tf.RaggedTensor.from_row_limits(values = [3,1,4,1,5,9,2,6], row_limits = [4,4,7,7,8])"
      ],
      "metadata": {
        "colab": {
          "base_uri": "https://localhost:8080/"
        },
        "id": "kOZwindCRVtL",
        "outputId": "1be711fe-21a1-44d1-e391-d3dd72c257f4"
      },
      "execution_count": 7,
      "outputs": [
        {
          "output_type": "execute_result",
          "data": {
            "text/plain": [
              "<tf.RaggedTensor [[3, 1, 4, 1], [], [5, 9, 2], [], [6]]>"
            ]
          },
          "metadata": {},
          "execution_count": 7
        }
      ]
    },
    {
      "cell_type": "code",
      "source": [
        "tf.RaggedTensor.from_row_splits(values = [3,1,4,1,5,9,2,6], row_splits = [0,4,4,7,7,8])"
      ],
      "metadata": {
        "colab": {
          "base_uri": "https://localhost:8080/"
        },
        "id": "S6JrVomuRoZ8",
        "outputId": "49db9454-7b68-476c-8292-a55cb1aef880"
      },
      "execution_count": 8,
      "outputs": [
        {
          "output_type": "execute_result",
          "data": {
            "text/plain": [
              "<tf.RaggedTensor [[3, 1, 4, 1], [], [5, 9, 2], [], [6]]>"
            ]
          },
          "metadata": {},
          "execution_count": 8
        }
      ]
    },
    {
      "cell_type": "code",
      "source": [
        "b = tf.constant([[1,2,3],[4,5,6],[7,8,9]])\n",
        "print(tf.RaggedTensor.from_tensor(b))\n",
        "print(tf.RaggedTensor.from_tensor(b, lengths = [1,3,0]))"
      ],
      "metadata": {
        "colab": {
          "base_uri": "https://localhost:8080/"
        },
        "id": "bTOITM5tR7o1",
        "outputId": "76ea3688-f615-47ac-821a-d2864bdc67d8"
      },
      "execution_count": 9,
      "outputs": [
        {
          "output_type": "stream",
          "name": "stdout",
          "text": [
            "<tf.RaggedTensor [[1, 2, 3],\n",
            " [4, 5, 6],\n",
            " [7, 8, 9]]>\n",
            "<tf.RaggedTensor [[1], [4, 5, 6], []]>\n"
          ]
        }
      ]
    },
    {
      "cell_type": "markdown",
      "source": [
        "**SPARSE TENSORS**"
      ],
      "metadata": {
        "id": "zjAntCgmS1l_"
      }
    },
    {
      "cell_type": "code",
      "source": [
        "sparse = tf.sparse.SparseTensor(indices = [[0,1],[1,1],[1,3],[2,2],[2,4]], values = [5,6,7,8,9], dense_shape = [5,6])\n",
        "print(sparse)"
      ],
      "metadata": {
        "colab": {
          "base_uri": "https://localhost:8080/"
        },
        "id": "vLGU5Yw0SLI7",
        "outputId": "e9331779-6861-41d1-9612-e344df3a9701"
      },
      "execution_count": 13,
      "outputs": [
        {
          "output_type": "stream",
          "name": "stdout",
          "text": [
            "SparseTensor(indices=tf.Tensor(\n",
            "[[0 1]\n",
            " [1 1]\n",
            " [1 3]\n",
            " [2 2]\n",
            " [2 4]], shape=(5, 2), dtype=int64), values=tf.Tensor([5 6 7 8 9], shape=(5,), dtype=int32), dense_shape=tf.Tensor([5 6], shape=(2,), dtype=int64))\n"
          ]
        }
      ]
    },
    {
      "cell_type": "code",
      "source": [
        "tf.sparse.to_dense(sparse)"
      ],
      "metadata": {
        "colab": {
          "base_uri": "https://localhost:8080/"
        },
        "id": "LeRhifHtsg0T",
        "outputId": "e3a499aa-abf1-4039-e535-b42e6a431c02"
      },
      "execution_count": 14,
      "outputs": [
        {
          "output_type": "execute_result",
          "data": {
            "text/plain": [
              "<tf.Tensor: shape=(5, 6), dtype=int32, numpy=\n",
              "array([[0, 5, 0, 0, 0, 0],\n",
              "       [0, 6, 0, 7, 0, 0],\n",
              "       [0, 0, 8, 0, 9, 0],\n",
              "       [0, 0, 0, 0, 0, 0],\n",
              "       [0, 0, 0, 0, 0, 0]], dtype=int32)>"
            ]
          },
          "metadata": {},
          "execution_count": 14
        }
      ]
    },
    {
      "cell_type": "markdown",
      "source": [
        "**STRING TENSORS**"
      ],
      "metadata": {
        "id": "dNOtr_kBs9-4"
      }
    },
    {
      "cell_type": "code",
      "source": [
        "string_ = tf.constant([['ji','hello'],['ok','go'],['suf','tuk']])"
      ],
      "metadata": {
        "id": "iEotfnvrswhm"
      },
      "execution_count": 15,
      "outputs": []
    },
    {
      "cell_type": "code",
      "source": [
        "tf.strings.join(string_)"
      ],
      "metadata": {
        "colab": {
          "base_uri": "https://localhost:8080/"
        },
        "id": "mxSHiEfpt9z5",
        "outputId": "d2419140-6566-4f29-97e6-d39404c304ef"
      },
      "execution_count": 18,
      "outputs": [
        {
          "output_type": "execute_result",
          "data": {
            "text/plain": [
              "<tf.Tensor: shape=(2,), dtype=string, numpy=array([b'jioksuf', b'hellogotuk'], dtype=object)>"
            ]
          },
          "metadata": {},
          "execution_count": 18
        }
      ]
    },
    {
      "cell_type": "code",
      "source": [
        "tf.strings.join(string_, separator = '+')"
      ],
      "metadata": {
        "colab": {
          "base_uri": "https://localhost:8080/"
        },
        "id": "ev4NPuOIuCtP",
        "outputId": "2c833960-e0b0-4b54-ebdb-f6fcc8a63859"
      },
      "execution_count": 19,
      "outputs": [
        {
          "output_type": "execute_result",
          "data": {
            "text/plain": [
              "<tf.Tensor: shape=(2,), dtype=string, numpy=array([b'ji+ok+suf', b'hello+go+tuk'], dtype=object)>"
            ]
          },
          "metadata": {},
          "execution_count": 19
        }
      ]
    },
    {
      "cell_type": "code",
      "source": [
        "tf.strings.length(string_)"
      ],
      "metadata": {
        "colab": {
          "base_uri": "https://localhost:8080/"
        },
        "id": "gjV_pIFGucVj",
        "outputId": "7bdce57d-87b6-4670-b339-d1b1a3e90ed1"
      },
      "execution_count": 20,
      "outputs": [
        {
          "output_type": "execute_result",
          "data": {
            "text/plain": [
              "<tf.Tensor: shape=(3, 2), dtype=int32, numpy=\n",
              "array([[2, 5],\n",
              "       [2, 2],\n",
              "       [3, 3]], dtype=int32)>"
            ]
          },
          "metadata": {},
          "execution_count": 20
        }
      ]
    },
    {
      "cell_type": "code",
      "source": [
        "s = tf.strings.upper(string_)\n",
        "print(s)"
      ],
      "metadata": {
        "colab": {
          "base_uri": "https://localhost:8080/"
        },
        "id": "XYzdsbgOvAeZ",
        "outputId": "a73dc02a-6020-4766-c1cf-bb54b0d8b938"
      },
      "execution_count": 21,
      "outputs": [
        {
          "output_type": "stream",
          "name": "stdout",
          "text": [
            "tf.Tensor(\n",
            "[[b'JI' b'HELLO']\n",
            " [b'OK' b'GO']\n",
            " [b'SUF' b'TUK']], shape=(3, 2), dtype=string)\n"
          ]
        }
      ]
    },
    {
      "cell_type": "code",
      "source": [
        "tf.strings.lower(s)"
      ],
      "metadata": {
        "colab": {
          "base_uri": "https://localhost:8080/"
        },
        "id": "XrgKNfvTv_D1",
        "outputId": "be6efd0e-3aa0-45bb-f4dd-87cfb2d0448b"
      },
      "execution_count": 22,
      "outputs": [
        {
          "output_type": "execute_result",
          "data": {
            "text/plain": [
              "<tf.Tensor: shape=(3, 2), dtype=string, numpy=\n",
              "array([[b'ji', b'hello'],\n",
              "       [b'ok', b'go'],\n",
              "       [b'suf', b'tuk']], dtype=object)>"
            ]
          },
          "metadata": {},
          "execution_count": 22
        }
      ]
    },
    {
      "cell_type": "code",
      "source": [],
      "metadata": {
        "id": "QWkgvgbKwDiV"
      },
      "execution_count": null,
      "outputs": []
    }
  ]
}