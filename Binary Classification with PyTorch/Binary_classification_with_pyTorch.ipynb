{
  "nbformat": 4,
  "nbformat_minor": 0,
  "metadata": {
    "colab": {
      "provenance": [],
      "authorship_tag": "ABX9TyMENO/9p8WyGj6h0jIagAnr",
      "include_colab_link": true
    },
    "kernelspec": {
      "name": "python3",
      "display_name": "Python 3"
    },
    "language_info": {
      "name": "python"
    }
  },
  "cells": [
    {
      "cell_type": "markdown",
      "metadata": {
        "id": "view-in-github",
        "colab_type": "text"
      },
      "source": [
        "<a href=\"https://colab.research.google.com/github/UKJaagadhep/Data-science-and-machine-learning/blob/main/Binary%20Classification%20with%20PyTorch/Binary_classification_with_pyTorch.ipynb\" target=\"_parent\"><img src=\"https://colab.research.google.com/assets/colab-badge.svg\" alt=\"Open In Colab\"/></a>"
      ]
    },
    {
      "cell_type": "code",
      "execution_count": 1,
      "metadata": {
        "id": "B2v7Lca21qJJ"
      },
      "outputs": [],
      "source": [
        "import numpy\n",
        "import matplotlib.pyplot as plt\n",
        "from sklearn.datasets import load_breast_cancer\n",
        "from sklearn.model_selection import train_test_split\n",
        "from sklearn.metrics import accuracy_score, confusion_matrix, classification_report\n",
        "from sklearn.preprocessing import StandardScaler\n",
        "import torch\n",
        "from torch import nn\n",
        "from torch.nn import functional as F\n",
        "import torch.optim as optim\n",
        "from torch.utils.data import Dataset, DataLoader\n",
        "from tqdm import tqdm"
      ]
    },
    {
      "cell_type": "code",
      "source": [
        "#Checking for GPU\n",
        "device = torch.device(\"cuda\" if torch.cuda.is_available() else \"cpu\")\n",
        "print(device)"
      ],
      "metadata": {
        "colab": {
          "base_uri": "https://localhost:8080/"
        },
        "id": "Taw27ZfNoqIE",
        "outputId": "a7b15d84-d453-4313-c434-435dce7d95c4"
      },
      "execution_count": 18,
      "outputs": [
        {
          "output_type": "stream",
          "name": "stdout",
          "text": [
            "cpu\n"
          ]
        }
      ]
    },
    {
      "cell_type": "code",
      "source": [
        "data = load_breast_cancer()\n",
        "x = data.data\n",
        "y = data.target"
      ],
      "metadata": {
        "id": "eX-QiBDl3BJy"
      },
      "execution_count": 31,
      "outputs": []
    },
    {
      "cell_type": "code",
      "source": [
        "x"
      ],
      "metadata": {
        "colab": {
          "base_uri": "https://localhost:8080/"
        },
        "id": "qJn_vV7F3mEj",
        "outputId": "b98d3160-138d-4871-9407-73670bd828a8"
      },
      "execution_count": 32,
      "outputs": [
        {
          "output_type": "execute_result",
          "data": {
            "text/plain": [
              "array([[1.799e+01, 1.038e+01, 1.228e+02, ..., 2.654e-01, 4.601e-01,\n",
              "        1.189e-01],\n",
              "       [2.057e+01, 1.777e+01, 1.329e+02, ..., 1.860e-01, 2.750e-01,\n",
              "        8.902e-02],\n",
              "       [1.969e+01, 2.125e+01, 1.300e+02, ..., 2.430e-01, 3.613e-01,\n",
              "        8.758e-02],\n",
              "       ...,\n",
              "       [1.660e+01, 2.808e+01, 1.083e+02, ..., 1.418e-01, 2.218e-01,\n",
              "        7.820e-02],\n",
              "       [2.060e+01, 2.933e+01, 1.401e+02, ..., 2.650e-01, 4.087e-01,\n",
              "        1.240e-01],\n",
              "       [7.760e+00, 2.454e+01, 4.792e+01, ..., 0.000e+00, 2.871e-01,\n",
              "        7.039e-02]])"
            ]
          },
          "metadata": {},
          "execution_count": 32
        }
      ]
    },
    {
      "cell_type": "code",
      "source": [
        "y"
      ],
      "metadata": {
        "colab": {
          "base_uri": "https://localhost:8080/"
        },
        "id": "sw5lpsx23ptX",
        "outputId": "ce656f11-41ac-4d66-bb48-08806e7c5998"
      },
      "execution_count": 33,
      "outputs": [
        {
          "output_type": "execute_result",
          "data": {
            "text/plain": [
              "array([0, 0, 0, 0, 0, 0, 0, 0, 0, 0, 0, 0, 0, 0, 0, 0, 0, 0, 0, 1, 1, 1,\n",
              "       0, 0, 0, 0, 0, 0, 0, 0, 0, 0, 0, 0, 0, 0, 0, 1, 0, 0, 0, 0, 0, 0,\n",
              "       0, 0, 1, 0, 1, 1, 1, 1, 1, 0, 0, 1, 0, 0, 1, 1, 1, 1, 0, 1, 0, 0,\n",
              "       1, 1, 1, 1, 0, 1, 0, 0, 1, 0, 1, 0, 0, 1, 1, 1, 0, 0, 1, 0, 0, 0,\n",
              "       1, 1, 1, 0, 1, 1, 0, 0, 1, 1, 1, 0, 0, 1, 1, 1, 1, 0, 1, 1, 0, 1,\n",
              "       1, 1, 1, 1, 1, 1, 1, 0, 0, 0, 1, 0, 0, 1, 1, 1, 0, 0, 1, 0, 1, 0,\n",
              "       0, 1, 0, 0, 1, 1, 0, 1, 1, 0, 1, 1, 1, 1, 0, 1, 1, 1, 1, 1, 1, 1,\n",
              "       1, 1, 0, 1, 1, 1, 1, 0, 0, 1, 0, 1, 1, 0, 0, 1, 1, 0, 0, 1, 1, 1,\n",
              "       1, 0, 1, 1, 0, 0, 0, 1, 0, 1, 0, 1, 1, 1, 0, 1, 1, 0, 0, 1, 0, 0,\n",
              "       0, 0, 1, 0, 0, 0, 1, 0, 1, 0, 1, 1, 0, 1, 0, 0, 0, 0, 1, 1, 0, 0,\n",
              "       1, 1, 1, 0, 1, 1, 1, 1, 1, 0, 0, 1, 1, 0, 1, 1, 0, 0, 1, 0, 1, 1,\n",
              "       1, 1, 0, 1, 1, 1, 1, 1, 0, 1, 0, 0, 0, 0, 0, 0, 0, 0, 0, 0, 0, 0,\n",
              "       0, 0, 1, 1, 1, 1, 1, 1, 0, 1, 0, 1, 1, 0, 1, 1, 0, 1, 0, 0, 1, 1,\n",
              "       1, 1, 1, 1, 1, 1, 1, 1, 1, 1, 1, 0, 1, 1, 0, 1, 0, 1, 1, 1, 1, 1,\n",
              "       1, 1, 1, 1, 1, 1, 1, 1, 1, 0, 1, 1, 1, 0, 1, 0, 1, 1, 1, 1, 0, 0,\n",
              "       0, 1, 1, 1, 1, 0, 1, 0, 1, 0, 1, 1, 1, 0, 1, 1, 1, 1, 1, 1, 1, 0,\n",
              "       0, 0, 1, 1, 1, 1, 1, 1, 1, 1, 1, 1, 1, 0, 0, 1, 0, 0, 0, 1, 0, 0,\n",
              "       1, 1, 1, 1, 1, 0, 1, 1, 1, 1, 1, 0, 1, 1, 1, 0, 1, 1, 0, 0, 1, 1,\n",
              "       1, 1, 1, 1, 0, 1, 1, 1, 1, 1, 1, 1, 0, 1, 1, 1, 1, 1, 0, 1, 1, 0,\n",
              "       1, 1, 1, 1, 1, 1, 1, 1, 1, 1, 1, 1, 0, 1, 0, 0, 1, 0, 1, 1, 1, 1,\n",
              "       1, 0, 1, 1, 0, 1, 0, 1, 1, 0, 1, 0, 1, 1, 1, 1, 1, 1, 1, 1, 0, 0,\n",
              "       1, 1, 1, 1, 1, 1, 0, 1, 1, 1, 1, 1, 1, 1, 1, 1, 1, 0, 1, 1, 1, 1,\n",
              "       1, 1, 1, 0, 1, 0, 1, 1, 0, 1, 1, 1, 1, 1, 0, 0, 1, 0, 1, 0, 1, 1,\n",
              "       1, 1, 1, 0, 1, 1, 0, 1, 0, 1, 0, 0, 1, 1, 1, 0, 1, 1, 1, 1, 1, 1,\n",
              "       1, 1, 1, 1, 1, 0, 1, 0, 0, 1, 1, 1, 1, 1, 1, 1, 1, 1, 1, 1, 1, 1,\n",
              "       1, 1, 1, 1, 1, 1, 1, 1, 1, 1, 1, 1, 0, 0, 0, 0, 0, 0, 1])"
            ]
          },
          "metadata": {},
          "execution_count": 33
        }
      ]
    },
    {
      "cell_type": "code",
      "source": [
        "x.shape"
      ],
      "metadata": {
        "colab": {
          "base_uri": "https://localhost:8080/"
        },
        "id": "Eyf6s0EQ3zkY",
        "outputId": "720b2bfe-06bd-4dd9-ee2c-d8daed74b29a"
      },
      "execution_count": 34,
      "outputs": [
        {
          "output_type": "execute_result",
          "data": {
            "text/plain": [
              "(569, 30)"
            ]
          },
          "metadata": {},
          "execution_count": 34
        }
      ]
    },
    {
      "cell_type": "code",
      "source": [
        "y.shape"
      ],
      "metadata": {
        "colab": {
          "base_uri": "https://localhost:8080/"
        },
        "id": "MvWyW-4E31-H",
        "outputId": "53fa3bdc-7510-4776-fb58-7d4e55ef6fb5"
      },
      "execution_count": 35,
      "outputs": [
        {
          "output_type": "execute_result",
          "data": {
            "text/plain": [
              "(569,)"
            ]
          },
          "metadata": {},
          "execution_count": 35
        }
      ]
    },
    {
      "cell_type": "code",
      "source": [
        "x_train, x_test, y_train, y_test = train_test_split(x, y, test_size = 0.2, random_state = 42, stratify = y)"
      ],
      "metadata": {
        "id": "kIC6iKfN374v"
      },
      "execution_count": 36,
      "outputs": []
    },
    {
      "cell_type": "code",
      "source": [
        "x_train.shape"
      ],
      "metadata": {
        "colab": {
          "base_uri": "https://localhost:8080/"
        },
        "id": "5BSvKPhO4PN5",
        "outputId": "742f13b1-f5dc-4ab5-a8f9-1e6f6a513830"
      },
      "execution_count": 37,
      "outputs": [
        {
          "output_type": "execute_result",
          "data": {
            "text/plain": [
              "(455, 30)"
            ]
          },
          "metadata": {},
          "execution_count": 37
        }
      ]
    },
    {
      "cell_type": "code",
      "source": [
        "y_train.shape"
      ],
      "metadata": {
        "colab": {
          "base_uri": "https://localhost:8080/"
        },
        "id": "rNeroJvG4UVY",
        "outputId": "c4eef4b0-cb13-4c05-be77-5e2e60bd7196"
      },
      "execution_count": 38,
      "outputs": [
        {
          "output_type": "execute_result",
          "data": {
            "text/plain": [
              "(455,)"
            ]
          },
          "metadata": {},
          "execution_count": 38
        }
      ]
    },
    {
      "cell_type": "code",
      "source": [
        "scaler = StandardScaler()\n",
        "x_train = scaler.fit_transform(x_train)\n",
        "x_test = scaler.transform(x_test)"
      ],
      "metadata": {
        "id": "Dc1uRVbz4gFQ"
      },
      "execution_count": 39,
      "outputs": []
    },
    {
      "cell_type": "code",
      "source": [
        "class Hyperparameters():\n",
        "  def __init__(self, ):\n",
        "    self.number_of_epochs = 50\n",
        "    self.batch_size = 8\n",
        "    self.learning_rate = 0.01\n",
        "    self.shuffle = True"
      ],
      "metadata": {
        "id": "20iUbhSL4z7N"
      },
      "execution_count": 40,
      "outputs": []
    },
    {
      "cell_type": "code",
      "source": [
        "class TrainData(Dataset):\n",
        "  def __init__(self, x_train, y_train):\n",
        "    self.x_train = torch.tensor(x_train, dtype = torch.float32)\n",
        "    self.y_train = torch.tensor(y_train, dtype = torch.float32)\n",
        "\n",
        "  def __getitem__(self, index):\n",
        "    return self.x_train[index], self.y_train[index]\n",
        "\n",
        "  def __len__(self):\n",
        "    return len(self.x_train)"
      ],
      "metadata": {
        "id": "rlWUAMu85RMX"
      },
      "execution_count": 41,
      "outputs": []
    },
    {
      "cell_type": "code",
      "source": [
        "class TestData(Dataset):\n",
        "  def __init__(self, x_test):\n",
        "    self.x_test = torch.tensor(x_test, dtype = torch.float32)\n",
        "\n",
        "  def __getitem__(self, index):\n",
        "    return self.x_test[index]\n",
        "\n",
        "  def __len__(self):\n",
        "    return len(self.x_test)"
      ],
      "metadata": {
        "id": "r8bAf6Jn6YTE"
      },
      "execution_count": 42,
      "outputs": []
    },
    {
      "cell_type": "code",
      "source": [
        "train_data = TrainData(x_train, y_train)\n",
        "test_data = TestData(x_test)"
      ],
      "metadata": {
        "id": "Ii7JAF2z6qOt"
      },
      "execution_count": 43,
      "outputs": []
    },
    {
      "cell_type": "code",
      "source": [
        "hyperparameters = Hyperparameters()\n",
        "train_loader = DataLoader(dataset = train_data, batch_size = hyperparameters.batch_size, shuffle = hyperparameters.shuffle)\n",
        "test_loader = DataLoader(dataset = test_data, batch_size = 1)"
      ],
      "metadata": {
        "id": "RYTuuyL16116"
      },
      "execution_count": 44,
      "outputs": []
    },
    {
      "cell_type": "code",
      "source": [
        "class BreastCancerClassifier(nn.Module): #defining model using Module in torch.nn\n",
        "  def __init__(self, input_shape):\n",
        "    super(BreastCancerClassifier, self).__init__()\n",
        "    self.fc1 = nn.Linear(input_shape, 64)\n",
        "    self.fc2 = nn.Linear(64, 128)\n",
        "    self.fc3 = nn.Linear(128, 1)\n",
        "\n",
        "  def forward(self, x):\n",
        "    x = torch.relu(self.fc1(x))\n",
        "    x = torch.relu(self.fc2(x))\n",
        "    x = torch.sigmoid(self.fc3(x))\n",
        "    return x"
      ],
      "metadata": {
        "id": "8LbnaMnN8T6n"
      },
      "execution_count": 45,
      "outputs": []
    },
    {
      "cell_type": "code",
      "source": [
        "model = BreastCancerClassifier(input_shape = x_train.shape[1])\n",
        "optimizer = optim.Adam(model.parameters(), lr = hyperparameters.learning_rate)\n",
        "criterion = nn.BCELoss()\n",
        "model.to(device) #moving the model to device (CPU or GPU)"
      ],
      "metadata": {
        "colab": {
          "base_uri": "https://localhost:8080/"
        },
        "id": "guIU0zdonWiG",
        "outputId": "4fd9c651-9803-48ff-d691-5544d7ffcb0a"
      },
      "execution_count": 46,
      "outputs": [
        {
          "output_type": "execute_result",
          "data": {
            "text/plain": [
              "BreastCancerClassifier(\n",
              "  (fc1): Linear(in_features=30, out_features=64, bias=True)\n",
              "  (fc2): Linear(in_features=64, out_features=128, bias=True)\n",
              "  (fc3): Linear(in_features=128, out_features=1, bias=True)\n",
              ")"
            ]
          },
          "metadata": {},
          "execution_count": 46
        }
      ]
    },
    {
      "cell_type": "code",
      "source": [
        "def binary_accuracy(y_pred, y):\n",
        "  results = torch.round(y_pred)\n",
        "  correct_results = (results == y).sum().float()\n",
        "  acc = correct_results / y.shape[0]\n",
        "  acc = torch.round(acc * 100, decimals = 2)\n",
        "  return acc"
      ],
      "metadata": {
        "id": "uWDFgwxypYiH"
      },
      "execution_count": 47,
      "outputs": []
    },
    {
      "cell_type": "code",
      "source": [
        "losses = []\n",
        "accuracies = []\n",
        "model.train() #putting model in train mode\n",
        "for i in range(1, hyperparameters.number_of_epochs + 1):\n",
        "  epoch_loss = 0\n",
        "  epoch_accuracy = 0\n",
        "\n",
        "  for data in train_loader: #data here is a batch\n",
        "    x_train, y_train = data\n",
        "    x_train, y_train = x_train.to(device), y_train.to(device)\n",
        "\n",
        "    optimizer.zero_grad() #zeroing the gradients so they don't accumulate over the next batch\n",
        "\n",
        "    y_pred = model(x_train)\n",
        "\n",
        "    loss = criterion(y_pred, y_train.reshape(-1, 1))\n",
        "    acc = binary_accuracy(y_pred, y_train.reshape(-1, 1))\n",
        "\n",
        "    loss.backward() #calculating gradients\n",
        "    optimizer.step() #updating weights\n",
        "\n",
        "    epoch_loss += loss.item()\n",
        "    epoch_accuracy += acc.item()\n",
        "\n",
        "  print(f\"Epoch {i + 0:03} : | Loss : {epoch_loss / len(train_loader) : .5f} | Accuracy : {epoch_accuracy / len(train_loader) : .3f}\")\n",
        "  losses.append(epoch_loss / len(train_loader))\n",
        "  accuracies.append(epoch_accuracy / len(train_loader))"
      ],
      "metadata": {
        "colab": {
          "base_uri": "https://localhost:8080/"
        },
        "id": "x2R-pVIXqm7c",
        "outputId": "a616cce1-0ccb-431b-9698-e923a858be84"
      },
      "execution_count": 48,
      "outputs": [
        {
          "output_type": "stream",
          "name": "stdout",
          "text": [
            "Epoch 001 : | Loss :  0.19819 | Accuracy :  94.267\n",
            "Epoch 002 : | Loss :  0.05117 | Accuracy :  99.123\n",
            "Epoch 003 : | Loss :  0.06983 | Accuracy :  98.246\n",
            "Epoch 004 : | Loss :  0.06500 | Accuracy :  98.465\n",
            "Epoch 005 : | Loss :  0.03889 | Accuracy :  99.342\n",
            "Epoch 006 : | Loss :  0.02424 | Accuracy :  98.904\n",
            "Epoch 007 : | Loss :  0.04698 | Accuracy :  98.904\n",
            "Epoch 008 : | Loss :  0.02750 | Accuracy :  98.904\n",
            "Epoch 009 : | Loss :  0.03608 | Accuracy :  98.684\n",
            "Epoch 010 : | Loss :  0.07193 | Accuracy :  98.465\n",
            "Epoch 011 : | Loss :  0.04539 | Accuracy :  98.684\n",
            "Epoch 012 : | Loss :  0.03079 | Accuracy :  99.123\n",
            "Epoch 013 : | Loss :  0.01397 | Accuracy :  99.561\n",
            "Epoch 014 : | Loss :  0.01780 | Accuracy :  99.342\n",
            "Epoch 015 : | Loss :  0.01343 | Accuracy :  99.561\n",
            "Epoch 016 : | Loss :  0.02048 | Accuracy :  99.342\n",
            "Epoch 017 : | Loss :  0.00467 | Accuracy :  100.000\n",
            "Epoch 018 : | Loss :  0.00113 | Accuracy :  100.000\n",
            "Epoch 019 : | Loss :  0.00076 | Accuracy :  100.000\n",
            "Epoch 020 : | Loss :  0.00032 | Accuracy :  100.000\n",
            "Epoch 021 : | Loss :  0.00016 | Accuracy :  100.000\n",
            "Epoch 022 : | Loss :  0.00012 | Accuracy :  100.000\n",
            "Epoch 023 : | Loss :  0.00009 | Accuracy :  100.000\n",
            "Epoch 024 : | Loss :  0.00008 | Accuracy :  100.000\n",
            "Epoch 025 : | Loss :  0.00006 | Accuracy :  100.000\n",
            "Epoch 026 : | Loss :  0.00006 | Accuracy :  100.000\n",
            "Epoch 027 : | Loss :  0.00005 | Accuracy :  100.000\n",
            "Epoch 028 : | Loss :  0.00004 | Accuracy :  100.000\n",
            "Epoch 029 : | Loss :  0.00004 | Accuracy :  100.000\n",
            "Epoch 030 : | Loss :  0.00003 | Accuracy :  100.000\n",
            "Epoch 031 : | Loss :  0.00003 | Accuracy :  100.000\n",
            "Epoch 032 : | Loss :  0.00003 | Accuracy :  100.000\n",
            "Epoch 033 : | Loss :  0.00002 | Accuracy :  100.000\n",
            "Epoch 034 : | Loss :  0.00002 | Accuracy :  100.000\n",
            "Epoch 035 : | Loss :  0.00002 | Accuracy :  100.000\n",
            "Epoch 036 : | Loss :  0.00002 | Accuracy :  100.000\n",
            "Epoch 037 : | Loss :  0.00002 | Accuracy :  100.000\n",
            "Epoch 038 : | Loss :  0.00002 | Accuracy :  100.000\n",
            "Epoch 039 : | Loss :  0.00001 | Accuracy :  100.000\n",
            "Epoch 040 : | Loss :  0.00001 | Accuracy :  100.000\n",
            "Epoch 041 : | Loss :  0.00001 | Accuracy :  100.000\n",
            "Epoch 042 : | Loss :  0.00001 | Accuracy :  100.000\n",
            "Epoch 043 : | Loss :  0.00001 | Accuracy :  100.000\n",
            "Epoch 044 : | Loss :  0.00001 | Accuracy :  100.000\n",
            "Epoch 045 : | Loss :  0.00001 | Accuracy :  100.000\n",
            "Epoch 046 : | Loss :  0.00001 | Accuracy :  100.000\n",
            "Epoch 047 : | Loss :  0.00001 | Accuracy :  100.000\n",
            "Epoch 048 : | Loss :  0.00001 | Accuracy :  100.000\n",
            "Epoch 049 : | Loss :  0.00001 | Accuracy :  100.000\n",
            "Epoch 050 : | Loss :  0.00001 | Accuracy :  100.000\n"
          ]
        }
      ]
    },
    {
      "cell_type": "code",
      "source": [
        "plt.plot(losses)\n",
        "plt.title(\"Model training loss over epochs\")\n",
        "plt.xlabel(\"Epochs\")\n",
        "plt.ylabel(\"Loss\")"
      ],
      "metadata": {
        "colab": {
          "base_uri": "https://localhost:8080/",
          "height": 489
        },
        "id": "-aALNLjtuxsY",
        "outputId": "5e04d9ab-989d-42b4-da85-2de6ecf66738"
      },
      "execution_count": 49,
      "outputs": [
        {
          "output_type": "execute_result",
          "data": {
            "text/plain": [
              "Text(0, 0.5, 'Loss')"
            ]
          },
          "metadata": {},
          "execution_count": 49
        },
        {
          "output_type": "display_data",
          "data": {
            "text/plain": [
              "<Figure size 640x480 with 1 Axes>"
            ],
            "image/png": "[encoded data removed]"
          },
          "metadata": {}
        }
      ]
    },
    {
      "cell_type": "code",
      "source": [
        "plt.plot(accuracies)\n",
        "plt.title(\"Model training accuracy over epochs\")\n",
        "plt.xlabel(\"Epochs\")\n",
        "plt.ylabel(\"Accuracy\")"
      ],
      "metadata": {
        "colab": {
          "base_uri": "https://localhost:8080/",
          "height": 489
        },
        "id": "UmpbfyU6vRm0",
        "outputId": "9ca5314f-4cb3-406a-c8c1-982bf112b87b"
      },
      "execution_count": 50,
      "outputs": [
        {
          "output_type": "execute_result",
          "data": {
            "text/plain": [
              "Text(0, 0.5, 'Accuracy')"
            ]
          },
          "metadata": {},
          "execution_count": 50
        },
        {
          "output_type": "display_data",
          "data": {
            "text/plain": [
              "<Figure size 640x480 with 1 Axes>"
            ],
            "image/png": "[encoded data removed]"
          },
          "metadata": {}
        }
      ]
    },
    {
      "cell_type": "markdown",
      "source": [
        "## **Testing**"
      ],
      "metadata": {
        "id": "Rs477hnAvnQy"
      }
    },
    {
      "cell_type": "code",
      "source": [
        "y_test_pred = []\n",
        "model.eval() #putting model in evaluation mode\n",
        "with torch.no_grad(): #no gradient calculation required as we are not training\n",
        "  for x_test in test_loader:\n",
        "    x_test = x_test.to(device)\n",
        "\n",
        "    y_test_probs = model(x_test)\n",
        "    y_pred = torch.round(y_test_probs)\n",
        "\n",
        "    y_test_pred.append(y_pred.cpu().numpy()) #move rounded predictions to cpu and then make them as numpy array\n",
        "\n",
        "y_test_pred = [a.squeeze().tolist() for a in y_test_pred] #reshaping"
      ],
      "metadata": {
        "id": "Fr9zrzpmvYzo"
      },
      "execution_count": 51,
      "outputs": []
    },
    {
      "cell_type": "code",
      "source": [
        "y_test_pred"
      ],
      "metadata": {
        "colab": {
          "base_uri": "https://localhost:8080/"
        },
        "id": "I70FRStXyH5Z",
        "outputId": "e6d5ff80-079e-42a1-f8a7-aaa96c8b7dec"
      },
      "execution_count": 52,
      "outputs": [
        {
          "output_type": "execute_result",
          "data": {
            "text/plain": [
              "[0.0,\n",
              " 1.0,\n",
              " 0.0,\n",
              " 0.0,\n",
              " 0.0,\n",
              " 1.0,\n",
              " 1.0,\n",
              " 0.0,\n",
              " 0.0,\n",
              " 0.0,\n",
              " 1.0,\n",
              " 0.0,\n",
              " 1.0,\n",
              " 0.0,\n",
              " 0.0,\n",
              " 1.0,\n",
              " 0.0,\n",
              " 1.0,\n",
              " 1.0,\n",
              " 1.0,\n",
              " 0.0,\n",
              " 0.0,\n",
              " 1.0,\n",
              " 1.0,\n",
              " 1.0,\n",
              " 1.0,\n",
              " 0.0,\n",
              " 1.0,\n",
              " 1.0,\n",
              " 1.0,\n",
              " 1.0,\n",
              " 1.0,\n",
              " 1.0,\n",
              " 1.0,\n",
              " 0.0,\n",
              " 0.0,\n",
              " 1.0,\n",
              " 1.0,\n",
              " 0.0,\n",
              " 0.0,\n",
              " 1.0,\n",
              " 1.0,\n",
              " 1.0,\n",
              " 0.0,\n",
              " 0.0,\n",
              " 1.0,\n",
              " 1.0,\n",
              " 1.0,\n",
              " 1.0,\n",
              " 0.0,\n",
              " 1.0,\n",
              " 1.0,\n",
              " 1.0,\n",
              " 1.0,\n",
              " 1.0,\n",
              " 1.0,\n",
              " 1.0,\n",
              " 0.0,\n",
              " 0.0,\n",
              " 1.0,\n",
              " 1.0,\n",
              " 1.0,\n",
              " 1.0,\n",
              " 1.0,\n",
              " 0.0,\n",
              " 0.0,\n",
              " 0.0,\n",
              " 1.0,\n",
              " 1.0,\n",
              " 1.0,\n",
              " 1.0,\n",
              " 1.0,\n",
              " 1.0,\n",
              " 0.0,\n",
              " 0.0,\n",
              " 0.0,\n",
              " 0.0,\n",
              " 1.0,\n",
              " 1.0,\n",
              " 1.0,\n",
              " 1.0,\n",
              " 1.0,\n",
              " 0.0,\n",
              " 1.0,\n",
              " 0.0,\n",
              " 1.0,\n",
              " 1.0,\n",
              " 1.0,\n",
              " 1.0,\n",
              " 1.0,\n",
              " 1.0,\n",
              " 1.0,\n",
              " 0.0,\n",
              " 0.0,\n",
              " 0.0,\n",
              " 1.0,\n",
              " 0.0,\n",
              " 1.0,\n",
              " 0.0,\n",
              " 1.0,\n",
              " 0.0,\n",
              " 0.0,\n",
              " 0.0,\n",
              " 1.0,\n",
              " 0.0,\n",
              " 0.0,\n",
              " 1.0,\n",
              " 0.0,\n",
              " 1.0,\n",
              " 0.0,\n",
              " 1.0,\n",
              " 0.0,\n",
              " 1.0,\n",
              " 1.0]"
            ]
          },
          "metadata": {},
          "execution_count": 52
        }
      ]
    },
    {
      "cell_type": "code",
      "source": [
        "confusion_matrix(y_test, y_test_pred)"
      ],
      "metadata": {
        "colab": {
          "base_uri": "https://localhost:8080/"
        },
        "id": "UDh_43L3ytu3",
        "outputId": "3dc6b317-dfd5-46e9-d0e6-1106ed4d4111"
      },
      "execution_count": 53,
      "outputs": [
        {
          "output_type": "execute_result",
          "data": {
            "text/plain": [
              "array([[41,  1],\n",
              "       [ 4, 68]])"
            ]
          },
          "metadata": {},
          "execution_count": 53
        }
      ]
    },
    {
      "cell_type": "code",
      "source": [
        "print(classification_report(y_test, y_test_pred))"
      ],
      "metadata": {
        "colab": {
          "base_uri": "https://localhost:8080/"
        },
        "id": "vXk6CY5wy5Gm",
        "outputId": "a191dccd-5e34-4a48-81a9-bd976d68dc1d"
      },
      "execution_count": 55,
      "outputs": [
        {
          "output_type": "stream",
          "name": "stdout",
          "text": [
            "              precision    recall  f1-score   support\n",
            "\n",
            "           0       0.91      0.98      0.94        42\n",
            "           1       0.99      0.94      0.96        72\n",
            "\n",
            "    accuracy                           0.96       114\n",
            "   macro avg       0.95      0.96      0.95       114\n",
            "weighted avg       0.96      0.96      0.96       114\n",
            "\n"
          ]
        }
      ]
    },
    {
      "cell_type": "code",
      "source": [],
      "metadata": {
        "id": "r6ePOwLCzEpt"
      },
      "execution_count": null,
      "outputs": []
    }
  ]
}