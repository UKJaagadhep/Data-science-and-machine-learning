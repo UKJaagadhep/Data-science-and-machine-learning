{
 "cells": [
  {
   "cell_type": "markdown",
   "metadata": {
    "id": "Sd2E_jbGFerd"
   },
   "source": [
    "\n",
    "                                                                \n",
    "                                                                PNEUMONIA DETECTION\n",
    "\n",
    "                                                                "
   ]
  },
  {
   "cell_type": "code",
   "execution_count": 2,
   "metadata": {
    "colab": {
     "base_uri": "https://localhost:8080/"
    },
    "id": "ISpNVuLS_Qno",
    "outputId": "6d4125a6-41c7-4746-b774-ae6edb2a83c7",
    "scrolled": true
   },
   "outputs": [
    {
     "name": "stdout",
     "output_type": "stream",
     "text": [
      "Found 5216 images belonging to 2 classes.\n",
      "Found 624 images belonging to 2 classes.\n",
      "Epoch 1/10\n",
      "163/163 [==============================] - 495s 3s/step - loss: 0.3800 - accuracy: 0.8436 - val_loss: 0.5148 - val_accuracy: 0.7869\n",
      "Epoch 2/10\n",
      "163/163 [==============================] - 338s 2s/step - loss: 0.2616 - accuracy: 0.8959 - val_loss: 0.6456 - val_accuracy: 0.7468\n",
      "Epoch 3/10\n",
      "163/163 [==============================] - 342s 2s/step - loss: 0.2420 - accuracy: 0.9018 - val_loss: 0.6619 - val_accuracy: 0.7756\n",
      "Epoch 4/10\n",
      "163/163 [==============================] - 351s 2s/step - loss: 0.2177 - accuracy: 0.9126 - val_loss: 0.3982 - val_accuracy: 0.8301\n",
      "Epoch 5/10\n",
      "163/163 [==============================] - 436s 3s/step - loss: 0.2025 - accuracy: 0.9218 - val_loss: 0.4753 - val_accuracy: 0.8221\n",
      "Epoch 6/10\n",
      "163/163 [==============================] - 465s 3s/step - loss: 0.1830 - accuracy: 0.9271 - val_loss: 0.3384 - val_accuracy: 0.8606\n",
      "Epoch 7/10\n",
      "163/163 [==============================] - 424s 3s/step - loss: 0.1916 - accuracy: 0.9264 - val_loss: 0.4351 - val_accuracy: 0.8269\n",
      "Epoch 8/10\n",
      "163/163 [==============================] - 478s 3s/step - loss: 0.1688 - accuracy: 0.9381 - val_loss: 0.2904 - val_accuracy: 0.8942\n",
      "Epoch 9/10\n",
      "163/163 [==============================] - 426s 3s/step - loss: 0.1471 - accuracy: 0.9452 - val_loss: 0.2442 - val_accuracy: 0.9151\n",
      "Epoch 10/10\n",
      "163/163 [==============================] - 504s 3s/step - loss: 0.1541 - accuracy: 0.9406 - val_loss: 0.4426 - val_accuracy: 0.8510\n"
     ]
    },
    {
     "name": "stderr",
     "output_type": "stream",
     "text": [
      "C:\\Users\\LENIN\\AppData\\Local\\Programs\\Python\\Python311\\Lib\\site-packages\\keras\\src\\engine\\training.py:3103: UserWarning: You are saving your model as an HDF5 file via `model.save()`. This file format is considered legacy. We recommend using instead the native Keras format, e.g. `model.save('my_model.keras')`.\n",
      "  saving_api.save_model(\n"
     ]
    }
   ],
   "source": [
    "import tensorflow as tf\n",
    "from tensorflow.keras.models import Sequential\n",
    "from tensorflow.keras.layers import Conv2D, MaxPooling2D, Flatten, Dense, Dropout\n",
    "from tensorflow.keras.preprocessing.image import ImageDataGenerator\n",
    "\n",
    "model = Sequential()\n",
    "model.add(Conv2D(32, (3, 3), activation='relu', input_shape=(224, 224, 3)))\n",
    "model.add(MaxPooling2D((2, 2)))\n",
    "\n",
    "model.add(Conv2D(64, (3, 3), activation='relu'))\n",
    "model.add(MaxPooling2D((2, 2)))\n",
    "\n",
    "model.add(Conv2D(128, (3, 3), activation='relu'))\n",
    "model.add(MaxPooling2D((2, 2)))\n",
    "model.add(Flatten())\n",
    "\n",
    "model.add(Dense(128, activation='relu'))\n",
    "model.add(Dropout(0.5))\n",
    "model.add(Dense(1, activation='sigmoid'))\n",
    "\n",
    "model.compile(optimizer='adam', loss='binary_crossentropy', metrics=['accuracy'])\n",
    "\n",
    "train_datagen = ImageDataGenerator(\n",
    "    rescale=1./255,\n",
    "    shear_range=0.2,\n",
    "    zoom_range=0.2,\n",
    "    horizontal_flip=True\n",
    ")\n",
    "\n",
    "test_datagen = ImageDataGenerator(rescale=1./255)  \n",
    "\n",
    "train_generator = train_datagen.flow_from_directory(\n",
    "    'C:\\\\Users\\\\LENIN\\\\Downloads\\\\archive\\\\chest_xray\\\\train',\n",
    "    target_size=(224, 224),\n",
    "    batch_size=32,\n",
    "    class_mode='binary',\n",
    "    shuffle=True\n",
    ")\n",
    "\n",
    "test_generator = test_datagen.flow_from_directory(\n",
    "    'C:\\\\Users\\\\LENIN\\\\Downloads\\\\archive\\\\chest_xray\\\\test', \n",
    "    target_size=(224, 224),\n",
    "    batch_size=32,\n",
    "    class_mode='binary',\n",
    "    shuffle=False\n",
    ")\n",
    "\n",
    "history = model.fit(\n",
    "    train_generator,\n",
    "    epochs=10,\n",
    "    validation_data=test_generator\n",
    ")\n",
    "\n",
    "model.save('pneumonia_model.h5')"
   ]
  },
  {
   "cell_type": "code",
   "execution_count": 4,
   "metadata": {
    "colab": {
     "base_uri": "https://localhost:8080/",
     "height": 175
    },
    "id": "qa3vlwteE5rD",
    "outputId": "d03649f0-0eb4-48ee-9ca5-1e353404960e"
   },
   "outputs": [
    {
     "name": "stdout",
     "output_type": "stream",
     "text": [
      "20/20 [==============================] - 21s 999ms/step - loss: 0.4426 - accuracy: 0.8510\n",
      "Accuracy:  0.8509615659713745\n",
      "Accuracy percentage: 85.10%\n"
     ]
    }
   ],
   "source": [
    "accuracy_score = model.evaluate(test_generator)  # Used to compute accuracy\n",
    "print(\"Accuracy: \", accuracy_score[1])\n",
    "print(f\"Accuracy percentage: {accuracy_score[1] * 100:.2f}%\")"
   ]
  },
  {
   "cell_type": "code",
   "execution_count": 6,
   "metadata": {},
   "outputs": [],
   "source": [
    "model.save('p_85-1p.h5')"
   ]
  },
  {
   "cell_type": "code",
   "execution_count": 14,
   "metadata": {
    "colab": {
     "base_uri": "https://localhost:8080/"
    },
    "id": "mjS3KgIy8Bps",
    "outputId": "5a7d4cff-5ed3-43f3-9039-8e20318a96f4"
   },
   "outputs": [
    {
     "name": "stdout",
     "output_type": "stream",
     "text": [
      "WARNING:tensorflow:6 out of the last 6 calls to <function Model.make_predict_function.<locals>.predict_function at 0x0000021BB1915DA0> triggered tf.function retracing. Tracing is expensive and the excessive number of tracings could be due to (1) creating @tf.function repeatedly in a loop, (2) passing tensors with different shapes, (3) passing Python objects instead of tensors. For (1), please define your @tf.function outside of the loop. For (2), @tf.function has reduce_retracing=True option that can avoid unnecessary retracing. For (3), please refer to https://www.tensorflow.org/guide/function#controlling_retracing and https://www.tensorflow.org/api_docs/python/tf/function for  more details.\n",
      "1/1 [==============================] - 0s 197ms/step\n",
      "Raw Prediction: [[0.0109835]]\n"
     ]
    },
    {
     "data": {
      "image/jpeg": "[encoded data removed]",
      "text/plain": [
       "<IPython.core.display.Image object>"
      ]
     },
     "metadata": {
      "image/jpeg": {
       "height": 224,
       "width": 224
      }
     },
     "output_type": "display_data"
    },
    {
     "name": "stdout",
     "output_type": "stream",
     "text": [
      "The prediction is: NORMAL\n"
     ]
    }
   ],
   "source": [
    "from tensorflow.keras.models import load_model\n",
    "from tensorflow.keras.preprocessing import image\n",
    "import numpy as np\n",
    "from PIL import Image\n",
    "from IPython.display import display, Image\n",
    "\n",
    "\n",
    "model = load_model('p_85-1p.h5')\n",
    "\n",
    "def predict_pneumonia(image_path):\n",
    "    img = image.load_img(image_path, target_size=(224, 224))\n",
    "    img_array = image.img_to_array(img)\n",
    "    img_array = np.expand_dims(img_array, axis=0)\n",
    "    img_array /= 255.0\n",
    "\n",
    "    prediction = model.predict(img_array)\n",
    "\n",
    "    print(\"Raw Prediction:\", prediction)\n",
    "    display(Image(filename=image_path, width=224, height=224))\n",
    "\n",
    "    if prediction[0][0] > 0.2:\n",
    "        result = 'PNEUMONIA'\n",
    "        \n",
    "    else:\n",
    "        result = 'NORMAL'\n",
    "\n",
    "    return result\n",
    "\n",
    "image_path = 'C:\\\\Users\\\\LENIN\\\\Downloads\\\\nxr.jpg'\n",
    "prediction_result = predict_pneumonia(image_path)\n",
    "print(f'The prediction is: {prediction_result}')"
   ]
  },
  {
   "cell_type": "code",
   "execution_count": null,
   "metadata": {
    "id": "T7rGKmDZ1Tgu"
   },
   "outputs": [],
   "source": []
  }
 ],
 "metadata": {
  "colab": {
   "provenance": []
  },
  "kernelspec": {
   "display_name": "Python 3 (ipykernel)",
   "language": "python",
   "name": "python3"
  },
  "language_info": {
   "codemirror_mode": {
    "name": "ipython",
    "version": 3
   },
   "file_extension": ".py",
   "mimetype": "text/x-python",
   "name": "python",
   "nbconvert_exporter": "python",
   "pygments_lexer": "ipython3",
   "version": "3.11.7"
  },
  "widgets": {
   "application/vnd.jupyter.widget-state+json": {
    "54db5f7a123c458aa8d11f697827c997": {
     "model_module": "@jupyter-widgets/base",
     "model_module_version": "1.2.0",
     "model_name": "LayoutModel",
     "state": {
      "_model_module": "@jupyter-widgets/base",
      "_model_module_version": "1.2.0",
      "_model_name": "LayoutModel",
      "_view_count": null,
      "_view_module": "@jupyter-widgets/base",
      "_view_module_version": "1.2.0",
      "_view_name": "LayoutView",
      "align_content": null,
      "align_items": null,
      "align_self": null,
      "border": null,
      "bottom": null,
      "display": null,
      "flex": null,
      "flex_flow": null,
      "grid_area": null,
      "grid_auto_columns": null,
      "grid_auto_flow": null,
      "grid_auto_rows": null,
      "grid_column": null,
      "grid_gap": null,
      "grid_row": null,
      "grid_template_areas": null,
      "grid_template_columns": null,
      "grid_template_rows": null,
      "height": null,
      "justify_content": null,
      "justify_items": null,
      "left": null,
      "margin": null,
      "max_height": null,
      "max_width": null,
      "min_height": null,
      "min_width": null,
      "object_fit": null,
      "object_position": null,
      "order": null,
      "overflow": null,
      "overflow_x": null,
      "overflow_y": null,
      "padding": null,
      "right": null,
      "top": null,
      "visibility": null,
      "width": null
     }
    },
    "6ca7607df8dc4193977bae109b9b6748": {
     "model_module": "@jupyter-widgets/controls",
     "model_module_version": "1.5.0",
     "model_name": "ButtonStyleModel",
     "state": {
      "_model_module": "@jupyter-widgets/controls",
      "_model_module_version": "1.5.0",
      "_model_name": "ButtonStyleModel",
      "_view_count": null,
      "_view_module": "@jupyter-widgets/base",
      "_view_module_version": "1.2.0",
      "_view_name": "StyleView",
      "button_color": null,
      "font_weight": ""
     }
    },
    "8c108331a9b2499f916ea59a941b013f": {
     "model_module": "@jupyter-widgets/controls",
     "model_module_version": "1.5.0",
     "model_name": "FileUploadModel",
     "state": {
      "_counter": 0,
      "_dom_classes": [],
      "_model_module": "@jupyter-widgets/controls",
      "_model_module_version": "1.5.0",
      "_model_name": "FileUploadModel",
      "_view_count": null,
      "_view_module": "@jupyter-widgets/controls",
      "_view_module_version": "1.5.0",
      "_view_name": "FileUploadView",
      "accept": "",
      "button_style": "",
      "data": [],
      "description": "Upload",
      "description_tooltip": null,
      "disabled": false,
      "error": "",
      "icon": "upload",
      "layout": "IPY_MODEL_54db5f7a123c458aa8d11f697827c997",
      "metadata": [],
      "multiple": false,
      "style": "IPY_MODEL_6ca7607df8dc4193977bae109b9b6748"
     }
    }
   }
  }
 },
 "nbformat": 4,
 "nbformat_minor": 4
}
