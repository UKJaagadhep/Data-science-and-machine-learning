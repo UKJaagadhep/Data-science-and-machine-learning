{
  "nbformat": 4,
  "nbformat_minor": 0,
  "metadata": {
    "colab": {
      "provenance": [],
      "gpuType": "T4",
      "authorship_tag": "ABX9TyPmsvmavHzOUCNIZjqf0SpF",
      "include_colab_link": true
    },
    "kernelspec": {
      "name": "python3",
      "display_name": "Python 3"
    },
    "language_info": {
      "name": "python"
    },
    "accelerator": "GPU",
    "widgets": {
      "application/vnd.jupyter.widget-state+json": {
        "3eb64fed1544440ba323c360e8e5567a": {
          "model_module": "@jupyter-widgets/controls",
          "model_name": "HBoxModel",
          "model_module_version": "1.5.0",
          "state": {
            "_dom_classes": [],
            "_model_module": "@jupyter-widgets/controls",
            "_model_module_version": "1.5.0",
            "_model_name": "HBoxModel",
            "_view_count": null,
            "_view_module": "@jupyter-widgets/controls",
            "_view_module_version": "1.5.0",
            "_view_name": "HBoxView",
            "box_style": "",
            "children": [
              "IPY_MODEL_238db1102e3341f7b3a18e5ad538a8f1",
              "IPY_MODEL_69cb9c07b7104ab6ae32f6bf09beef43",
              "IPY_MODEL_6861f99f919449aaa318f94a05f717ce"
            ],
            "layout": "IPY_MODEL_1879887083ec449ead2db4a5b5d21afa"
          }
        },
        "238db1102e3341f7b3a18e5ad538a8f1": {
          "model_module": "@jupyter-widgets/controls",
          "model_name": "HTMLModel",
          "model_module_version": "1.5.0",
          "state": {
            "_dom_classes": [],
            "_model_module": "@jupyter-widgets/controls",
            "_model_module_version": "1.5.0",
            "_model_name": "HTMLModel",
            "_view_count": null,
            "_view_module": "@jupyter-widgets/controls",
            "_view_module_version": "1.5.0",
            "_view_name": "HTMLView",
            "description": "",
            "description_tooltip": null,
            "layout": "IPY_MODEL_d2069dbf97a94cb8b2fe13056ed2880f",
            "placeholder": "​",
            "style": "IPY_MODEL_c84409d7ff004368959ada3b7caad54c",
            "value": "Dl Completed...: 100%"
          }
        },
        "69cb9c07b7104ab6ae32f6bf09beef43": {
          "model_module": "@jupyter-widgets/controls",
          "model_name": "FloatProgressModel",
          "model_module_version": "1.5.0",
          "state": {
            "_dom_classes": [],
            "_model_module": "@jupyter-widgets/controls",
            "_model_module_version": "1.5.0",
            "_model_name": "FloatProgressModel",
            "_view_count": null,
            "_view_module": "@jupyter-widgets/controls",
            "_view_module_version": "1.5.0",
            "_view_name": "ProgressView",
            "bar_style": "success",
            "description": "",
            "description_tooltip": null,
            "layout": "IPY_MODEL_62fe1aaadce94df8a304e23fefb91da6",
            "max": 1,
            "min": 0,
            "orientation": "horizontal",
            "style": "IPY_MODEL_01a1a576b835420080d6cfe48af4fe43",
            "value": 1
          }
        },
        "6861f99f919449aaa318f94a05f717ce": {
          "model_module": "@jupyter-widgets/controls",
          "model_name": "HTMLModel",
          "model_module_version": "1.5.0",
          "state": {
            "_dom_classes": [],
            "_model_module": "@jupyter-widgets/controls",
            "_model_module_version": "1.5.0",
            "_model_name": "HTMLModel",
            "_view_count": null,
            "_view_module": "@jupyter-widgets/controls",
            "_view_module_version": "1.5.0",
            "_view_name": "HTMLView",
            "description": "",
            "description_tooltip": null,
            "layout": "IPY_MODEL_c4455b85133f49d9b1a3de6195a7c4cd",
            "placeholder": "​",
            "style": "IPY_MODEL_179698f6f251403bae3883ee46ed67e2",
            "value": " 1/1 [00:38&lt;00:00, 38.84s/ url]"
          }
        },
        "1879887083ec449ead2db4a5b5d21afa": {
          "model_module": "@jupyter-widgets/base",
          "model_name": "LayoutModel",
          "model_module_version": "1.2.0",
          "state": {
            "_model_module": "@jupyter-widgets/base",
            "_model_module_version": "1.2.0",
            "_model_name": "LayoutModel",
            "_view_count": null,
            "_view_module": "@jupyter-widgets/base",
            "_view_module_version": "1.2.0",
            "_view_name": "LayoutView",
            "align_content": null,
            "align_items": null,
            "align_self": null,
            "border": null,
            "bottom": null,
            "display": null,
            "flex": null,
            "flex_flow": null,
            "grid_area": null,
            "grid_auto_columns": null,
            "grid_auto_flow": null,
            "grid_auto_rows": null,
            "grid_column": null,
            "grid_gap": null,
            "grid_row": null,
            "grid_template_areas": null,
            "grid_template_columns": null,
            "grid_template_rows": null,
            "height": null,
            "justify_content": null,
            "justify_items": null,
            "left": null,
            "margin": null,
            "max_height": null,
            "max_width": null,
            "min_height": null,
            "min_width": null,
            "object_fit": null,
            "object_position": null,
            "order": null,
            "overflow": null,
            "overflow_x": null,
            "overflow_y": null,
            "padding": null,
            "right": null,
            "top": null,
            "visibility": null,
            "width": null
          }
        },
        "d2069dbf97a94cb8b2fe13056ed2880f": {
          "model_module": "@jupyter-widgets/base",
          "model_name": "LayoutModel",
          "model_module_version": "1.2.0",
          "state": {
            "_model_module": "@jupyter-widgets/base",
            "_model_module_version": "1.2.0",
            "_model_name": "LayoutModel",
            "_view_count": null,
            "_view_module": "@jupyter-widgets/base",
            "_view_module_version": "1.2.0",
            "_view_name": "LayoutView",
            "align_content": null,
            "align_items": null,
            "align_self": null,
            "border": null,
            "bottom": null,
            "display": null,
            "flex": null,
            "flex_flow": null,
            "grid_area": null,
            "grid_auto_columns": null,
            "grid_auto_flow": null,
            "grid_auto_rows": null,
            "grid_column": null,
            "grid_gap": null,
            "grid_row": null,
            "grid_template_areas": null,
            "grid_template_columns": null,
            "grid_template_rows": null,
            "height": null,
            "justify_content": null,
            "justify_items": null,
            "left": null,
            "margin": null,
            "max_height": null,
            "max_width": null,
            "min_height": null,
            "min_width": null,
            "object_fit": null,
            "object_position": null,
            "order": null,
            "overflow": null,
            "overflow_x": null,
            "overflow_y": null,
            "padding": null,
            "right": null,
            "top": null,
            "visibility": null,
            "width": null
          }
        },
        "c84409d7ff004368959ada3b7caad54c": {
          "model_module": "@jupyter-widgets/controls",
          "model_name": "DescriptionStyleModel",
          "model_module_version": "1.5.0",
          "state": {
            "_model_module": "@jupyter-widgets/controls",
            "_model_module_version": "1.5.0",
            "_model_name": "DescriptionStyleModel",
            "_view_count": null,
            "_view_module": "@jupyter-widgets/base",
            "_view_module_version": "1.2.0",
            "_view_name": "StyleView",
            "description_width": ""
          }
        },
        "62fe1aaadce94df8a304e23fefb91da6": {
          "model_module": "@jupyter-widgets/base",
          "model_name": "LayoutModel",
          "model_module_version": "1.2.0",
          "state": {
            "_model_module": "@jupyter-widgets/base",
            "_model_module_version": "1.2.0",
            "_model_name": "LayoutModel",
            "_view_count": null,
            "_view_module": "@jupyter-widgets/base",
            "_view_module_version": "1.2.0",
            "_view_name": "LayoutView",
            "align_content": null,
            "align_items": null,
            "align_self": null,
            "border": null,
            "bottom": null,
            "display": null,
            "flex": null,
            "flex_flow": null,
            "grid_area": null,
            "grid_auto_columns": null,
            "grid_auto_flow": null,
            "grid_auto_rows": null,
            "grid_column": null,
            "grid_gap": null,
            "grid_row": null,
            "grid_template_areas": null,
            "grid_template_columns": null,
            "grid_template_rows": null,
            "height": null,
            "justify_content": null,
            "justify_items": null,
            "left": null,
            "margin": null,
            "max_height": null,
            "max_width": null,
            "min_height": null,
            "min_width": null,
            "object_fit": null,
            "object_position": null,
            "order": null,
            "overflow": null,
            "overflow_x": null,
            "overflow_y": null,
            "padding": null,
            "right": null,
            "top": null,
            "visibility": null,
            "width": "20px"
          }
        },
        "01a1a576b835420080d6cfe48af4fe43": {
          "model_module": "@jupyter-widgets/controls",
          "model_name": "ProgressStyleModel",
          "model_module_version": "1.5.0",
          "state": {
            "_model_module": "@jupyter-widgets/controls",
            "_model_module_version": "1.5.0",
            "_model_name": "ProgressStyleModel",
            "_view_count": null,
            "_view_module": "@jupyter-widgets/base",
            "_view_module_version": "1.2.0",
            "_view_name": "StyleView",
            "bar_color": null,
            "description_width": ""
          }
        },
        "c4455b85133f49d9b1a3de6195a7c4cd": {
          "model_module": "@jupyter-widgets/base",
          "model_name": "LayoutModel",
          "model_module_version": "1.2.0",
          "state": {
            "_model_module": "@jupyter-widgets/base",
            "_model_module_version": "1.2.0",
            "_model_name": "LayoutModel",
            "_view_count": null,
            "_view_module": "@jupyter-widgets/base",
            "_view_module_version": "1.2.0",
            "_view_name": "LayoutView",
            "align_content": null,
            "align_items": null,
            "align_self": null,
            "border": null,
            "bottom": null,
            "display": null,
            "flex": null,
            "flex_flow": null,
            "grid_area": null,
            "grid_auto_columns": null,
            "grid_auto_flow": null,
            "grid_auto_rows": null,
            "grid_column": null,
            "grid_gap": null,
            "grid_row": null,
            "grid_template_areas": null,
            "grid_template_columns": null,
            "grid_template_rows": null,
            "height": null,
            "justify_content": null,
            "justify_items": null,
            "left": null,
            "margin": null,
            "max_height": null,
            "max_width": null,
            "min_height": null,
            "min_width": null,
            "object_fit": null,
            "object_position": null,
            "order": null,
            "overflow": null,
            "overflow_x": null,
            "overflow_y": null,
            "padding": null,
            "right": null,
            "top": null,
            "visibility": null,
            "width": null
          }
        },
        "179698f6f251403bae3883ee46ed67e2": {
          "model_module": "@jupyter-widgets/controls",
          "model_name": "DescriptionStyleModel",
          "model_module_version": "1.5.0",
          "state": {
            "_model_module": "@jupyter-widgets/controls",
            "_model_module_version": "1.5.0",
            "_model_name": "DescriptionStyleModel",
            "_view_count": null,
            "_view_module": "@jupyter-widgets/base",
            "_view_module_version": "1.2.0",
            "_view_name": "StyleView",
            "description_width": ""
          }
        },
        "c8e24636eb2a4ec6a5c555a3795829a8": {
          "model_module": "@jupyter-widgets/controls",
          "model_name": "HBoxModel",
          "model_module_version": "1.5.0",
          "state": {
            "_dom_classes": [],
            "_model_module": "@jupyter-widgets/controls",
            "_model_module_version": "1.5.0",
            "_model_name": "HBoxModel",
            "_view_count": null,
            "_view_module": "@jupyter-widgets/controls",
            "_view_module_version": "1.5.0",
            "_view_name": "HBoxView",
            "box_style": "",
            "children": [
              "IPY_MODEL_80711f4f31ad441ea40c0a9b4e2c9fd6",
              "IPY_MODEL_900d74121414488dad2465a66a79279b",
              "IPY_MODEL_9c1c34b4c3f1428d9f6d54001db91d63"
            ],
            "layout": "IPY_MODEL_5c7a16deeff54b51a52ca44ffd931bc8"
          }
        },
        "80711f4f31ad441ea40c0a9b4e2c9fd6": {
          "model_module": "@jupyter-widgets/controls",
          "model_name": "HTMLModel",
          "model_module_version": "1.5.0",
          "state": {
            "_dom_classes": [],
            "_model_module": "@jupyter-widgets/controls",
            "_model_module_version": "1.5.0",
            "_model_name": "HTMLModel",
            "_view_count": null,
            "_view_module": "@jupyter-widgets/controls",
            "_view_module_version": "1.5.0",
            "_view_name": "HTMLView",
            "description": "",
            "description_tooltip": null,
            "layout": "IPY_MODEL_2cb0b7dc44ea4b038cffb03ae85b6913",
            "placeholder": "​",
            "style": "IPY_MODEL_792003c9a3a0472492608170b587abf8",
            "value": "Dl Size...: 100%"
          }
        },
        "900d74121414488dad2465a66a79279b": {
          "model_module": "@jupyter-widgets/controls",
          "model_name": "FloatProgressModel",
          "model_module_version": "1.5.0",
          "state": {
            "_dom_classes": [],
            "_model_module": "@jupyter-widgets/controls",
            "_model_module_version": "1.5.0",
            "_model_name": "FloatProgressModel",
            "_view_count": null,
            "_view_module": "@jupyter-widgets/controls",
            "_view_module_version": "1.5.0",
            "_view_name": "ProgressView",
            "bar_style": "success",
            "description": "",
            "description_tooltip": null,
            "layout": "IPY_MODEL_f2299447667341f595073e4b100abb39",
            "max": 1,
            "min": 0,
            "orientation": "horizontal",
            "style": "IPY_MODEL_4e010f018a2a48c183441cec396bc652",
            "value": 1
          }
        },
        "9c1c34b4c3f1428d9f6d54001db91d63": {
          "model_module": "@jupyter-widgets/controls",
          "model_name": "HTMLModel",
          "model_module_version": "1.5.0",
          "state": {
            "_dom_classes": [],
            "_model_module": "@jupyter-widgets/controls",
            "_model_module_version": "1.5.0",
            "_model_name": "HTMLModel",
            "_view_count": null,
            "_view_module": "@jupyter-widgets/controls",
            "_view_module_version": "1.5.0",
            "_view_name": "HTMLView",
            "description": "",
            "description_tooltip": null,
            "layout": "IPY_MODEL_40c290f13b054cc1a99bebe3c76998d8",
            "placeholder": "​",
            "style": "IPY_MODEL_a2c53deca95e4fd4be7708d61078a29f",
            "value": " 80/80 [00:38&lt;00:00,  2.61 MiB/s]"
          }
        },
        "5c7a16deeff54b51a52ca44ffd931bc8": {
          "model_module": "@jupyter-widgets/base",
          "model_name": "LayoutModel",
          "model_module_version": "1.2.0",
          "state": {
            "_model_module": "@jupyter-widgets/base",
            "_model_module_version": "1.2.0",
            "_model_name": "LayoutModel",
            "_view_count": null,
            "_view_module": "@jupyter-widgets/base",
            "_view_module_version": "1.2.0",
            "_view_name": "LayoutView",
            "align_content": null,
            "align_items": null,
            "align_self": null,
            "border": null,
            "bottom": null,
            "display": null,
            "flex": null,
            "flex_flow": null,
            "grid_area": null,
            "grid_auto_columns": null,
            "grid_auto_flow": null,
            "grid_auto_rows": null,
            "grid_column": null,
            "grid_gap": null,
            "grid_row": null,
            "grid_template_areas": null,
            "grid_template_columns": null,
            "grid_template_rows": null,
            "height": null,
            "justify_content": null,
            "justify_items": null,
            "left": null,
            "margin": null,
            "max_height": null,
            "max_width": null,
            "min_height": null,
            "min_width": null,
            "object_fit": null,
            "object_position": null,
            "order": null,
            "overflow": null,
            "overflow_x": null,
            "overflow_y": null,
            "padding": null,
            "right": null,
            "top": null,
            "visibility": null,
            "width": null
          }
        },
        "2cb0b7dc44ea4b038cffb03ae85b6913": {
          "model_module": "@jupyter-widgets/base",
          "model_name": "LayoutModel",
          "model_module_version": "1.2.0",
          "state": {
            "_model_module": "@jupyter-widgets/base",
            "_model_module_version": "1.2.0",
            "_model_name": "LayoutModel",
            "_view_count": null,
            "_view_module": "@jupyter-widgets/base",
            "_view_module_version": "1.2.0",
            "_view_name": "LayoutView",
            "align_content": null,
            "align_items": null,
            "align_self": null,
            "border": null,
            "bottom": null,
            "display": null,
            "flex": null,
            "flex_flow": null,
            "grid_area": null,
            "grid_auto_columns": null,
            "grid_auto_flow": null,
            "grid_auto_rows": null,
            "grid_column": null,
            "grid_gap": null,
            "grid_row": null,
            "grid_template_areas": null,
            "grid_template_columns": null,
            "grid_template_rows": null,
            "height": null,
            "justify_content": null,
            "justify_items": null,
            "left": null,
            "margin": null,
            "max_height": null,
            "max_width": null,
            "min_height": null,
            "min_width": null,
            "object_fit": null,
            "object_position": null,
            "order": null,
            "overflow": null,
            "overflow_x": null,
            "overflow_y": null,
            "padding": null,
            "right": null,
            "top": null,
            "visibility": null,
            "width": null
          }
        },
        "792003c9a3a0472492608170b587abf8": {
          "model_module": "@jupyter-widgets/controls",
          "model_name": "DescriptionStyleModel",
          "model_module_version": "1.5.0",
          "state": {
            "_model_module": "@jupyter-widgets/controls",
            "_model_module_version": "1.5.0",
            "_model_name": "DescriptionStyleModel",
            "_view_count": null,
            "_view_module": "@jupyter-widgets/base",
            "_view_module_version": "1.2.0",
            "_view_name": "StyleView",
            "description_width": ""
          }
        },
        "f2299447667341f595073e4b100abb39": {
          "model_module": "@jupyter-widgets/base",
          "model_name": "LayoutModel",
          "model_module_version": "1.2.0",
          "state": {
            "_model_module": "@jupyter-widgets/base",
            "_model_module_version": "1.2.0",
            "_model_name": "LayoutModel",
            "_view_count": null,
            "_view_module": "@jupyter-widgets/base",
            "_view_module_version": "1.2.0",
            "_view_name": "LayoutView",
            "align_content": null,
            "align_items": null,
            "align_self": null,
            "border": null,
            "bottom": null,
            "display": null,
            "flex": null,
            "flex_flow": null,
            "grid_area": null,
            "grid_auto_columns": null,
            "grid_auto_flow": null,
            "grid_auto_rows": null,
            "grid_column": null,
            "grid_gap": null,
            "grid_row": null,
            "grid_template_areas": null,
            "grid_template_columns": null,
            "grid_template_rows": null,
            "height": null,
            "justify_content": null,
            "justify_items": null,
            "left": null,
            "margin": null,
            "max_height": null,
            "max_width": null,
            "min_height": null,
            "min_width": null,
            "object_fit": null,
            "object_position": null,
            "order": null,
            "overflow": null,
            "overflow_x": null,
            "overflow_y": null,
            "padding": null,
            "right": null,
            "top": null,
            "visibility": null,
            "width": "20px"
          }
        },
        "4e010f018a2a48c183441cec396bc652": {
          "model_module": "@jupyter-widgets/controls",
          "model_name": "ProgressStyleModel",
          "model_module_version": "1.5.0",
          "state": {
            "_model_module": "@jupyter-widgets/controls",
            "_model_module_version": "1.5.0",
            "_model_name": "ProgressStyleModel",
            "_view_count": null,
            "_view_module": "@jupyter-widgets/base",
            "_view_module_version": "1.2.0",
            "_view_name": "StyleView",
            "bar_color": null,
            "description_width": ""
          }
        },
        "40c290f13b054cc1a99bebe3c76998d8": {
          "model_module": "@jupyter-widgets/base",
          "model_name": "LayoutModel",
          "model_module_version": "1.2.0",
          "state": {
            "_model_module": "@jupyter-widgets/base",
            "_model_module_version": "1.2.0",
            "_model_name": "LayoutModel",
            "_view_count": null,
            "_view_module": "@jupyter-widgets/base",
            "_view_module_version": "1.2.0",
            "_view_name": "LayoutView",
            "align_content": null,
            "align_items": null,
            "align_self": null,
            "border": null,
            "bottom": null,
            "display": null,
            "flex": null,
            "flex_flow": null,
            "grid_area": null,
            "grid_auto_columns": null,
            "grid_auto_flow": null,
            "grid_auto_rows": null,
            "grid_column": null,
            "grid_gap": null,
            "grid_row": null,
            "grid_template_areas": null,
            "grid_template_columns": null,
            "grid_template_rows": null,
            "height": null,
            "justify_content": null,
            "justify_items": null,
            "left": null,
            "margin": null,
            "max_height": null,
            "max_width": null,
            "min_height": null,
            "min_width": null,
            "object_fit": null,
            "object_position": null,
            "order": null,
            "overflow": null,
            "overflow_x": null,
            "overflow_y": null,
            "padding": null,
            "right": null,
            "top": null,
            "visibility": null,
            "width": null
          }
        },
        "a2c53deca95e4fd4be7708d61078a29f": {
          "model_module": "@jupyter-widgets/controls",
          "model_name": "DescriptionStyleModel",
          "model_module_version": "1.5.0",
          "state": {
            "_model_module": "@jupyter-widgets/controls",
            "_model_module_version": "1.5.0",
            "_model_name": "DescriptionStyleModel",
            "_view_count": null,
            "_view_module": "@jupyter-widgets/base",
            "_view_module_version": "1.2.0",
            "_view_name": "StyleView",
            "description_width": ""
          }
        },
        "2b972f0de84b4868afa1454423a1e32d": {
          "model_module": "@jupyter-widgets/controls",
          "model_name": "HBoxModel",
          "model_module_version": "1.5.0",
          "state": {
            "_dom_classes": [],
            "_model_module": "@jupyter-widgets/controls",
            "_model_module_version": "1.5.0",
            "_model_name": "HBoxModel",
            "_view_count": null,
            "_view_module": "@jupyter-widgets/controls",
            "_view_module_version": "1.5.0",
            "_view_name": "HBoxView",
            "box_style": "",
            "children": [
              "IPY_MODEL_45906571aa594ff29ca0b4272245b4a7",
              "IPY_MODEL_1c63e9aa8f484483949346faab2c5d11",
              "IPY_MODEL_e7c261df213642249a32debd1257061d"
            ],
            "layout": "IPY_MODEL_3307bff5bf354fb58a6e31cec70681d4"
          }
        },
        "45906571aa594ff29ca0b4272245b4a7": {
          "model_module": "@jupyter-widgets/controls",
          "model_name": "HTMLModel",
          "model_module_version": "1.5.0",
          "state": {
            "_dom_classes": [],
            "_model_module": "@jupyter-widgets/controls",
            "_model_module_version": "1.5.0",
            "_model_name": "HTMLModel",
            "_view_count": null,
            "_view_module": "@jupyter-widgets/controls",
            "_view_module_version": "1.5.0",
            "_view_name": "HTMLView",
            "description": "",
            "description_tooltip": null,
            "layout": "IPY_MODEL_97bf35acf9964e31a18c0ed13cb1d0c5",
            "placeholder": "​",
            "style": "IPY_MODEL_19fb96d2190d4fd8bfc96014bb56de78",
            "value": "Generating splits...: 100%"
          }
        },
        "1c63e9aa8f484483949346faab2c5d11": {
          "model_module": "@jupyter-widgets/controls",
          "model_name": "FloatProgressModel",
          "model_module_version": "1.5.0",
          "state": {
            "_dom_classes": [],
            "_model_module": "@jupyter-widgets/controls",
            "_model_module_version": "1.5.0",
            "_model_name": "FloatProgressModel",
            "_view_count": null,
            "_view_module": "@jupyter-widgets/controls",
            "_view_module_version": "1.5.0",
            "_view_name": "ProgressView",
            "bar_style": "",
            "description": "",
            "description_tooltip": null,
            "layout": "IPY_MODEL_21944d2d019c469c8655a279bcc5ce65",
            "max": 3,
            "min": 0,
            "orientation": "horizontal",
            "style": "IPY_MODEL_9aa31d19130d4eb59120baf890c6394f",
            "value": 3
          }
        },
        "e7c261df213642249a32debd1257061d": {
          "model_module": "@jupyter-widgets/controls",
          "model_name": "HTMLModel",
          "model_module_version": "1.5.0",
          "state": {
            "_dom_classes": [],
            "_model_module": "@jupyter-widgets/controls",
            "_model_module_version": "1.5.0",
            "_model_name": "HTMLModel",
            "_view_count": null,
            "_view_module": "@jupyter-widgets/controls",
            "_view_module_version": "1.5.0",
            "_view_name": "HTMLView",
            "description": "",
            "description_tooltip": null,
            "layout": "IPY_MODEL_03cdfca769a34deb94384ee421bb464a",
            "placeholder": "​",
            "style": "IPY_MODEL_5526da066df04ddbb0a1761990342598",
            "value": " 3/3 [00:35&lt;00:00, 12.50s/ splits]"
          }
        },
        "3307bff5bf354fb58a6e31cec70681d4": {
          "model_module": "@jupyter-widgets/base",
          "model_name": "LayoutModel",
          "model_module_version": "1.2.0",
          "state": {
            "_model_module": "@jupyter-widgets/base",
            "_model_module_version": "1.2.0",
            "_model_name": "LayoutModel",
            "_view_count": null,
            "_view_module": "@jupyter-widgets/base",
            "_view_module_version": "1.2.0",
            "_view_name": "LayoutView",
            "align_content": null,
            "align_items": null,
            "align_self": null,
            "border": null,
            "bottom": null,
            "display": null,
            "flex": null,
            "flex_flow": null,
            "grid_area": null,
            "grid_auto_columns": null,
            "grid_auto_flow": null,
            "grid_auto_rows": null,
            "grid_column": null,
            "grid_gap": null,
            "grid_row": null,
            "grid_template_areas": null,
            "grid_template_columns": null,
            "grid_template_rows": null,
            "height": null,
            "justify_content": null,
            "justify_items": null,
            "left": null,
            "margin": null,
            "max_height": null,
            "max_width": null,
            "min_height": null,
            "min_width": null,
            "object_fit": null,
            "object_position": null,
            "order": null,
            "overflow": null,
            "overflow_x": null,
            "overflow_y": null,
            "padding": null,
            "right": null,
            "top": null,
            "visibility": "hidden",
            "width": null
          }
        },
        "97bf35acf9964e31a18c0ed13cb1d0c5": {
          "model_module": "@jupyter-widgets/base",
          "model_name": "LayoutModel",
          "model_module_version": "1.2.0",
          "state": {
            "_model_module": "@jupyter-widgets/base",
            "_model_module_version": "1.2.0",
            "_model_name": "LayoutModel",
            "_view_count": null,
            "_view_module": "@jupyter-widgets/base",
            "_view_module_version": "1.2.0",
            "_view_name": "LayoutView",
            "align_content": null,
            "align_items": null,
            "align_self": null,
            "border": null,
            "bottom": null,
            "display": null,
            "flex": null,
            "flex_flow": null,
            "grid_area": null,
            "grid_auto_columns": null,
            "grid_auto_flow": null,
            "grid_auto_rows": null,
            "grid_column": null,
            "grid_gap": null,
            "grid_row": null,
            "grid_template_areas": null,
            "grid_template_columns": null,
            "grid_template_rows": null,
            "height": null,
            "justify_content": null,
            "justify_items": null,
            "left": null,
            "margin": null,
            "max_height": null,
            "max_width": null,
            "min_height": null,
            "min_width": null,
            "object_fit": null,
            "object_position": null,
            "order": null,
            "overflow": null,
            "overflow_x": null,
            "overflow_y": null,
            "padding": null,
            "right": null,
            "top": null,
            "visibility": null,
            "width": null
          }
        },
        "19fb96d2190d4fd8bfc96014bb56de78": {
          "model_module": "@jupyter-widgets/controls",
          "model_name": "DescriptionStyleModel",
          "model_module_version": "1.5.0",
          "state": {
            "_model_module": "@jupyter-widgets/controls",
            "_model_module_version": "1.5.0",
            "_model_name": "DescriptionStyleModel",
            "_view_count": null,
            "_view_module": "@jupyter-widgets/base",
            "_view_module_version": "1.2.0",
            "_view_name": "StyleView",
            "description_width": ""
          }
        },
        "21944d2d019c469c8655a279bcc5ce65": {
          "model_module": "@jupyter-widgets/base",
          "model_name": "LayoutModel",
          "model_module_version": "1.2.0",
          "state": {
            "_model_module": "@jupyter-widgets/base",
            "_model_module_version": "1.2.0",
            "_model_name": "LayoutModel",
            "_view_count": null,
            "_view_module": "@jupyter-widgets/base",
            "_view_module_version": "1.2.0",
            "_view_name": "LayoutView",
            "align_content": null,
            "align_items": null,
            "align_self": null,
            "border": null,
            "bottom": null,
            "display": null,
            "flex": null,
            "flex_flow": null,
            "grid_area": null,
            "grid_auto_columns": null,
            "grid_auto_flow": null,
            "grid_auto_rows": null,
            "grid_column": null,
            "grid_gap": null,
            "grid_row": null,
            "grid_template_areas": null,
            "grid_template_columns": null,
            "grid_template_rows": null,
            "height": null,
            "justify_content": null,
            "justify_items": null,
            "left": null,
            "margin": null,
            "max_height": null,
            "max_width": null,
            "min_height": null,
            "min_width": null,
            "object_fit": null,
            "object_position": null,
            "order": null,
            "overflow": null,
            "overflow_x": null,
            "overflow_y": null,
            "padding": null,
            "right": null,
            "top": null,
            "visibility": null,
            "width": null
          }
        },
        "9aa31d19130d4eb59120baf890c6394f": {
          "model_module": "@jupyter-widgets/controls",
          "model_name": "ProgressStyleModel",
          "model_module_version": "1.5.0",
          "state": {
            "_model_module": "@jupyter-widgets/controls",
            "_model_module_version": "1.5.0",
            "_model_name": "ProgressStyleModel",
            "_view_count": null,
            "_view_module": "@jupyter-widgets/base",
            "_view_module_version": "1.2.0",
            "_view_name": "StyleView",
            "bar_color": null,
            "description_width": ""
          }
        },
        "03cdfca769a34deb94384ee421bb464a": {
          "model_module": "@jupyter-widgets/base",
          "model_name": "LayoutModel",
          "model_module_version": "1.2.0",
          "state": {
            "_model_module": "@jupyter-widgets/base",
            "_model_module_version": "1.2.0",
            "_model_name": "LayoutModel",
            "_view_count": null,
            "_view_module": "@jupyter-widgets/base",
            "_view_module_version": "1.2.0",
            "_view_name": "LayoutView",
            "align_content": null,
            "align_items": null,
            "align_self": null,
            "border": null,
            "bottom": null,
            "display": null,
            "flex": null,
            "flex_flow": null,
            "grid_area": null,
            "grid_auto_columns": null,
            "grid_auto_flow": null,
            "grid_auto_rows": null,
            "grid_column": null,
            "grid_gap": null,
            "grid_row": null,
            "grid_template_areas": null,
            "grid_template_columns": null,
            "grid_template_rows": null,
            "height": null,
            "justify_content": null,
            "justify_items": null,
            "left": null,
            "margin": null,
            "max_height": null,
            "max_width": null,
            "min_height": null,
            "min_width": null,
            "object_fit": null,
            "object_position": null,
            "order": null,
            "overflow": null,
            "overflow_x": null,
            "overflow_y": null,
            "padding": null,
            "right": null,
            "top": null,
            "visibility": null,
            "width": null
          }
        },
        "5526da066df04ddbb0a1761990342598": {
          "model_module": "@jupyter-widgets/controls",
          "model_name": "DescriptionStyleModel",
          "model_module_version": "1.5.0",
          "state": {
            "_model_module": "@jupyter-widgets/controls",
            "_model_module_version": "1.5.0",
            "_model_name": "DescriptionStyleModel",
            "_view_count": null,
            "_view_module": "@jupyter-widgets/base",
            "_view_module_version": "1.2.0",
            "_view_name": "StyleView",
            "description_width": ""
          }
        },
        "787bd71378014ea580fd82435df7a99a": {
          "model_module": "@jupyter-widgets/controls",
          "model_name": "HBoxModel",
          "model_module_version": "1.5.0",
          "state": {
            "_dom_classes": [],
            "_model_module": "@jupyter-widgets/controls",
            "_model_module_version": "1.5.0",
            "_model_name": "HBoxModel",
            "_view_count": null,
            "_view_module": "@jupyter-widgets/controls",
            "_view_module_version": "1.5.0",
            "_view_name": "HBoxView",
            "box_style": "",
            "children": [
              "IPY_MODEL_4953a0cf48ee4ce98c2f92f05883a3c6",
              "IPY_MODEL_d423946a15034241aa81a9c295086648",
              "IPY_MODEL_ae2117350ef14b96b4ddd13c0a28233d"
            ],
            "layout": "IPY_MODEL_105000a477de4e1b9425d6b9f3ec1125"
          }
        },
        "4953a0cf48ee4ce98c2f92f05883a3c6": {
          "model_module": "@jupyter-widgets/controls",
          "model_name": "HTMLModel",
          "model_module_version": "1.5.0",
          "state": {
            "_dom_classes": [],
            "_model_module": "@jupyter-widgets/controls",
            "_model_module_version": "1.5.0",
            "_model_name": "HTMLModel",
            "_view_count": null,
            "_view_module": "@jupyter-widgets/controls",
            "_view_module_version": "1.5.0",
            "_view_name": "HTMLView",
            "description": "",
            "description_tooltip": null,
            "layout": "IPY_MODEL_b49055e4827d4f599e6fbf3e73265115",
            "placeholder": "​",
            "style": "IPY_MODEL_54ef93182f1845248469ecc8139ebd4d",
            "value": "Generating train examples...:  94%"
          }
        },
        "d423946a15034241aa81a9c295086648": {
          "model_module": "@jupyter-widgets/controls",
          "model_name": "FloatProgressModel",
          "model_module_version": "1.5.0",
          "state": {
            "_dom_classes": [],
            "_model_module": "@jupyter-widgets/controls",
            "_model_module_version": "1.5.0",
            "_model_name": "FloatProgressModel",
            "_view_count": null,
            "_view_module": "@jupyter-widgets/controls",
            "_view_module_version": "1.5.0",
            "_view_name": "ProgressView",
            "bar_style": "",
            "description": "",
            "description_tooltip": null,
            "layout": "IPY_MODEL_233f2ee6c0d8479d99370858be28df56",
            "max": 25000,
            "min": 0,
            "orientation": "horizontal",
            "style": "IPY_MODEL_39e7aef61cba4bb4a1148ddb761c33e5",
            "value": 25000
          }
        },
        "ae2117350ef14b96b4ddd13c0a28233d": {
          "model_module": "@jupyter-widgets/controls",
          "model_name": "HTMLModel",
          "model_module_version": "1.5.0",
          "state": {
            "_dom_classes": [],
            "_model_module": "@jupyter-widgets/controls",
            "_model_module_version": "1.5.0",
            "_model_name": "HTMLModel",
            "_view_count": null,
            "_view_module": "@jupyter-widgets/controls",
            "_view_module_version": "1.5.0",
            "_view_name": "HTMLView",
            "description": "",
            "description_tooltip": null,
            "layout": "IPY_MODEL_6fb7ba7e61584a0cba0581735ea6df5e",
            "placeholder": "​",
            "style": "IPY_MODEL_74464ec208e44bfb9daa0a673da3d9ce",
            "value": " 23459/25000 [00:06&lt;00:00, 4901.02 examples/s]"
          }
        },
        "105000a477de4e1b9425d6b9f3ec1125": {
          "model_module": "@jupyter-widgets/base",
          "model_name": "LayoutModel",
          "model_module_version": "1.2.0",
          "state": {
            "_model_module": "@jupyter-widgets/base",
            "_model_module_version": "1.2.0",
            "_model_name": "LayoutModel",
            "_view_count": null,
            "_view_module": "@jupyter-widgets/base",
            "_view_module_version": "1.2.0",
            "_view_name": "LayoutView",
            "align_content": null,
            "align_items": null,
            "align_self": null,
            "border": null,
            "bottom": null,
            "display": null,
            "flex": null,
            "flex_flow": null,
            "grid_area": null,
            "grid_auto_columns": null,
            "grid_auto_flow": null,
            "grid_auto_rows": null,
            "grid_column": null,
            "grid_gap": null,
            "grid_row": null,
            "grid_template_areas": null,
            "grid_template_columns": null,
            "grid_template_rows": null,
            "height": null,
            "justify_content": null,
            "justify_items": null,
            "left": null,
            "margin": null,
            "max_height": null,
            "max_width": null,
            "min_height": null,
            "min_width": null,
            "object_fit": null,
            "object_position": null,
            "order": null,
            "overflow": null,
            "overflow_x": null,
            "overflow_y": null,
            "padding": null,
            "right": null,
            "top": null,
            "visibility": "hidden",
            "width": null
          }
        },
        "b49055e4827d4f599e6fbf3e73265115": {
          "model_module": "@jupyter-widgets/base",
          "model_name": "LayoutModel",
          "model_module_version": "1.2.0",
          "state": {
            "_model_module": "@jupyter-widgets/base",
            "_model_module_version": "1.2.0",
            "_model_name": "LayoutModel",
            "_view_count": null,
            "_view_module": "@jupyter-widgets/base",
            "_view_module_version": "1.2.0",
            "_view_name": "LayoutView",
            "align_content": null,
            "align_items": null,
            "align_self": null,
            "border": null,
            "bottom": null,
            "display": null,
            "flex": null,
            "flex_flow": null,
            "grid_area": null,
            "grid_auto_columns": null,
            "grid_auto_flow": null,
            "grid_auto_rows": null,
            "grid_column": null,
            "grid_gap": null,
            "grid_row": null,
            "grid_template_areas": null,
            "grid_template_columns": null,
            "grid_template_rows": null,
            "height": null,
            "justify_content": null,
            "justify_items": null,
            "left": null,
            "margin": null,
            "max_height": null,
            "max_width": null,
            "min_height": null,
            "min_width": null,
            "object_fit": null,
            "object_position": null,
            "order": null,
            "overflow": null,
            "overflow_x": null,
            "overflow_y": null,
            "padding": null,
            "right": null,
            "top": null,
            "visibility": null,
            "width": null
          }
        },
        "54ef93182f1845248469ecc8139ebd4d": {
          "model_module": "@jupyter-widgets/controls",
          "model_name": "DescriptionStyleModel",
          "model_module_version": "1.5.0",
          "state": {
            "_model_module": "@jupyter-widgets/controls",
            "_model_module_version": "1.5.0",
            "_model_name": "DescriptionStyleModel",
            "_view_count": null,
            "_view_module": "@jupyter-widgets/base",
            "_view_module_version": "1.2.0",
            "_view_name": "StyleView",
            "description_width": ""
          }
        },
        "233f2ee6c0d8479d99370858be28df56": {
          "model_module": "@jupyter-widgets/base",
          "model_name": "LayoutModel",
          "model_module_version": "1.2.0",
          "state": {
            "_model_module": "@jupyter-widgets/base",
            "_model_module_version": "1.2.0",
            "_model_name": "LayoutModel",
            "_view_count": null,
            "_view_module": "@jupyter-widgets/base",
            "_view_module_version": "1.2.0",
            "_view_name": "LayoutView",
            "align_content": null,
            "align_items": null,
            "align_self": null,
            "border": null,
            "bottom": null,
            "display": null,
            "flex": null,
            "flex_flow": null,
            "grid_area": null,
            "grid_auto_columns": null,
            "grid_auto_flow": null,
            "grid_auto_rows": null,
            "grid_column": null,
            "grid_gap": null,
            "grid_row": null,
            "grid_template_areas": null,
            "grid_template_columns": null,
            "grid_template_rows": null,
            "height": null,
            "justify_content": null,
            "justify_items": null,
            "left": null,
            "margin": null,
            "max_height": null,
            "max_width": null,
            "min_height": null,
            "min_width": null,
            "object_fit": null,
            "object_position": null,
            "order": null,
            "overflow": null,
            "overflow_x": null,
            "overflow_y": null,
            "padding": null,
            "right": null,
            "top": null,
            "visibility": null,
            "width": null
          }
        },
        "39e7aef61cba4bb4a1148ddb761c33e5": {
          "model_module": "@jupyter-widgets/controls",
          "model_name": "ProgressStyleModel",
          "model_module_version": "1.5.0",
          "state": {
            "_model_module": "@jupyter-widgets/controls",
            "_model_module_version": "1.5.0",
            "_model_name": "ProgressStyleModel",
            "_view_count": null,
            "_view_module": "@jupyter-widgets/base",
            "_view_module_version": "1.2.0",
            "_view_name": "StyleView",
            "bar_color": null,
            "description_width": ""
          }
        },
        "6fb7ba7e61584a0cba0581735ea6df5e": {
          "model_module": "@jupyter-widgets/base",
          "model_name": "LayoutModel",
          "model_module_version": "1.2.0",
          "state": {
            "_model_module": "@jupyter-widgets/base",
            "_model_module_version": "1.2.0",
            "_model_name": "LayoutModel",
            "_view_count": null,
            "_view_module": "@jupyter-widgets/base",
            "_view_module_version": "1.2.0",
            "_view_name": "LayoutView",
            "align_content": null,
            "align_items": null,
            "align_self": null,
            "border": null,
            "bottom": null,
            "display": null,
            "flex": null,
            "flex_flow": null,
            "grid_area": null,
            "grid_auto_columns": null,
            "grid_auto_flow": null,
            "grid_auto_rows": null,
            "grid_column": null,
            "grid_gap": null,
            "grid_row": null,
            "grid_template_areas": null,
            "grid_template_columns": null,
            "grid_template_rows": null,
            "height": null,
            "justify_content": null,
            "justify_items": null,
            "left": null,
            "margin": null,
            "max_height": null,
            "max_width": null,
            "min_height": null,
            "min_width": null,
            "object_fit": null,
            "object_position": null,
            "order": null,
            "overflow": null,
            "overflow_x": null,
            "overflow_y": null,
            "padding": null,
            "right": null,
            "top": null,
            "visibility": null,
            "width": null
          }
        },
        "74464ec208e44bfb9daa0a673da3d9ce": {
          "model_module": "@jupyter-widgets/controls",
          "model_name": "DescriptionStyleModel",
          "model_module_version": "1.5.0",
          "state": {
            "_model_module": "@jupyter-widgets/controls",
            "_model_module_version": "1.5.0",
            "_model_name": "DescriptionStyleModel",
            "_view_count": null,
            "_view_module": "@jupyter-widgets/base",
            "_view_module_version": "1.2.0",
            "_view_name": "StyleView",
            "description_width": ""
          }
        },
        "10b94be72ea04816a67fee4f2ba340cc": {
          "model_module": "@jupyter-widgets/controls",
          "model_name": "HBoxModel",
          "model_module_version": "1.5.0",
          "state": {
            "_dom_classes": [],
            "_model_module": "@jupyter-widgets/controls",
            "_model_module_version": "1.5.0",
            "_model_name": "HBoxModel",
            "_view_count": null,
            "_view_module": "@jupyter-widgets/controls",
            "_view_module_version": "1.5.0",
            "_view_name": "HBoxView",
            "box_style": "",
            "children": [
              "IPY_MODEL_5d508d3b860a4678b542df8699a9af0e",
              "IPY_MODEL_2c3376c1fe91478581c426cee79d2fc3",
              "IPY_MODEL_ef710d2d28ce440e82fadb2ed714992e"
            ],
            "layout": "IPY_MODEL_2ec967f6e4504ea29020f0400329462d"
          }
        },
        "5d508d3b860a4678b542df8699a9af0e": {
          "model_module": "@jupyter-widgets/controls",
          "model_name": "HTMLModel",
          "model_module_version": "1.5.0",
          "state": {
            "_dom_classes": [],
            "_model_module": "@jupyter-widgets/controls",
            "_model_module_version": "1.5.0",
            "_model_name": "HTMLModel",
            "_view_count": null,
            "_view_module": "@jupyter-widgets/controls",
            "_view_module_version": "1.5.0",
            "_view_name": "HTMLView",
            "description": "",
            "description_tooltip": null,
            "layout": "IPY_MODEL_f6ede19d1f314ffda6f90851301c2e0c",
            "placeholder": "​",
            "style": "IPY_MODEL_f9f02391e3a24c6582d7e8e4c090baf1",
            "value": "Shuffling /root/tensorflow_datasets/imdb_reviews/plain_text/1.0.0.incompletePBB9H9/imdb_reviews-train.tfrecord*...:  29%"
          }
        },
        "2c3376c1fe91478581c426cee79d2fc3": {
          "model_module": "@jupyter-widgets/controls",
          "model_name": "FloatProgressModel",
          "model_module_version": "1.5.0",
          "state": {
            "_dom_classes": [],
            "_model_module": "@jupyter-widgets/controls",
            "_model_module_version": "1.5.0",
            "_model_name": "FloatProgressModel",
            "_view_count": null,
            "_view_module": "@jupyter-widgets/controls",
            "_view_module_version": "1.5.0",
            "_view_name": "ProgressView",
            "bar_style": "",
            "description": "",
            "description_tooltip": null,
            "layout": "IPY_MODEL_6edb290f23d442df9a8693af6c800281",
            "max": 25000,
            "min": 0,
            "orientation": "horizontal",
            "style": "IPY_MODEL_771fb17df8e04faf9fbd60d2673d3652",
            "value": 25000
          }
        },
        "ef710d2d28ce440e82fadb2ed714992e": {
          "model_module": "@jupyter-widgets/controls",
          "model_name": "HTMLModel",
          "model_module_version": "1.5.0",
          "state": {
            "_dom_classes": [],
            "_model_module": "@jupyter-widgets/controls",
            "_model_module_version": "1.5.0",
            "_model_name": "HTMLModel",
            "_view_count": null,
            "_view_module": "@jupyter-widgets/controls",
            "_view_module_version": "1.5.0",
            "_view_name": "HTMLView",
            "description": "",
            "description_tooltip": null,
            "layout": "IPY_MODEL_f1d1d92b156d4fa9bf7a9a972f39c1aa",
            "placeholder": "​",
            "style": "IPY_MODEL_46853853466c42748abfe4b77189c1d7",
            "value": " 7204/25000 [00:00&lt;00:00, 72029.42 examples/s]"
          }
        },
        "2ec967f6e4504ea29020f0400329462d": {
          "model_module": "@jupyter-widgets/base",
          "model_name": "LayoutModel",
          "model_module_version": "1.2.0",
          "state": {
            "_model_module": "@jupyter-widgets/base",
            "_model_module_version": "1.2.0",
            "_model_name": "LayoutModel",
            "_view_count": null,
            "_view_module": "@jupyter-widgets/base",
            "_view_module_version": "1.2.0",
            "_view_name": "LayoutView",
            "align_content": null,
            "align_items": null,
            "align_self": null,
            "border": null,
            "bottom": null,
            "display": null,
            "flex": null,
            "flex_flow": null,
            "grid_area": null,
            "grid_auto_columns": null,
            "grid_auto_flow": null,
            "grid_auto_rows": null,
            "grid_column": null,
            "grid_gap": null,
            "grid_row": null,
            "grid_template_areas": null,
            "grid_template_columns": null,
            "grid_template_rows": null,
            "height": null,
            "justify_content": null,
            "justify_items": null,
            "left": null,
            "margin": null,
            "max_height": null,
            "max_width": null,
            "min_height": null,
            "min_width": null,
            "object_fit": null,
            "object_position": null,
            "order": null,
            "overflow": null,
            "overflow_x": null,
            "overflow_y": null,
            "padding": null,
            "right": null,
            "top": null,
            "visibility": "hidden",
            "width": null
          }
        },
        "f6ede19d1f314ffda6f90851301c2e0c": {
          "model_module": "@jupyter-widgets/base",
          "model_name": "LayoutModel",
          "model_module_version": "1.2.0",
          "state": {
            "_model_module": "@jupyter-widgets/base",
            "_model_module_version": "1.2.0",
            "_model_name": "LayoutModel",
            "_view_count": null,
            "_view_module": "@jupyter-widgets/base",
            "_view_module_version": "1.2.0",
            "_view_name": "LayoutView",
            "align_content": null,
            "align_items": null,
            "align_self": null,
            "border": null,
            "bottom": null,
            "display": null,
            "flex": null,
            "flex_flow": null,
            "grid_area": null,
            "grid_auto_columns": null,
            "grid_auto_flow": null,
            "grid_auto_rows": null,
            "grid_column": null,
            "grid_gap": null,
            "grid_row": null,
            "grid_template_areas": null,
            "grid_template_columns": null,
            "grid_template_rows": null,
            "height": null,
            "justify_content": null,
            "justify_items": null,
            "left": null,
            "margin": null,
            "max_height": null,
            "max_width": null,
            "min_height": null,
            "min_width": null,
            "object_fit": null,
            "object_position": null,
            "order": null,
            "overflow": null,
            "overflow_x": null,
            "overflow_y": null,
            "padding": null,
            "right": null,
            "top": null,
            "visibility": null,
            "width": null
          }
        },
        "f9f02391e3a24c6582d7e8e4c090baf1": {
          "model_module": "@jupyter-widgets/controls",
          "model_name": "DescriptionStyleModel",
          "model_module_version": "1.5.0",
          "state": {
            "_model_module": "@jupyter-widgets/controls",
            "_model_module_version": "1.5.0",
            "_model_name": "DescriptionStyleModel",
            "_view_count": null,
            "_view_module": "@jupyter-widgets/base",
            "_view_module_version": "1.2.0",
            "_view_name": "StyleView",
            "description_width": ""
          }
        },
        "6edb290f23d442df9a8693af6c800281": {
          "model_module": "@jupyter-widgets/base",
          "model_name": "LayoutModel",
          "model_module_version": "1.2.0",
          "state": {
            "_model_module": "@jupyter-widgets/base",
            "_model_module_version": "1.2.0",
            "_model_name": "LayoutModel",
            "_view_count": null,
            "_view_module": "@jupyter-widgets/base",
            "_view_module_version": "1.2.0",
            "_view_name": "LayoutView",
            "align_content": null,
            "align_items": null,
            "align_self": null,
            "border": null,
            "bottom": null,
            "display": null,
            "flex": null,
            "flex_flow": null,
            "grid_area": null,
            "grid_auto_columns": null,
            "grid_auto_flow": null,
            "grid_auto_rows": null,
            "grid_column": null,
            "grid_gap": null,
            "grid_row": null,
            "grid_template_areas": null,
            "grid_template_columns": null,
            "grid_template_rows": null,
            "height": null,
            "justify_content": null,
            "justify_items": null,
            "left": null,
            "margin": null,
            "max_height": null,
            "max_width": null,
            "min_height": null,
            "min_width": null,
            "object_fit": null,
            "object_position": null,
            "order": null,
            "overflow": null,
            "overflow_x": null,
            "overflow_y": null,
            "padding": null,
            "right": null,
            "top": null,
            "visibility": null,
            "width": null
          }
        },
        "771fb17df8e04faf9fbd60d2673d3652": {
          "model_module": "@jupyter-widgets/controls",
          "model_name": "ProgressStyleModel",
          "model_module_version": "1.5.0",
          "state": {
            "_model_module": "@jupyter-widgets/controls",
            "_model_module_version": "1.5.0",
            "_model_name": "ProgressStyleModel",
            "_view_count": null,
            "_view_module": "@jupyter-widgets/base",
            "_view_module_version": "1.2.0",
            "_view_name": "StyleView",
            "bar_color": null,
            "description_width": ""
          }
        },
        "f1d1d92b156d4fa9bf7a9a972f39c1aa": {
          "model_module": "@jupyter-widgets/base",
          "model_name": "LayoutModel",
          "model_module_version": "1.2.0",
          "state": {
            "_model_module": "@jupyter-widgets/base",
            "_model_module_version": "1.2.0",
            "_model_name": "LayoutModel",
            "_view_count": null,
            "_view_module": "@jupyter-widgets/base",
            "_view_module_version": "1.2.0",
            "_view_name": "LayoutView",
            "align_content": null,
            "align_items": null,
            "align_self": null,
            "border": null,
            "bottom": null,
            "display": null,
            "flex": null,
            "flex_flow": null,
            "grid_area": null,
            "grid_auto_columns": null,
            "grid_auto_flow": null,
            "grid_auto_rows": null,
            "grid_column": null,
            "grid_gap": null,
            "grid_row": null,
            "grid_template_areas": null,
            "grid_template_columns": null,
            "grid_template_rows": null,
            "height": null,
            "justify_content": null,
            "justify_items": null,
            "left": null,
            "margin": null,
            "max_height": null,
            "max_width": null,
            "min_height": null,
            "min_width": null,
            "object_fit": null,
            "object_position": null,
            "order": null,
            "overflow": null,
            "overflow_x": null,
            "overflow_y": null,
            "padding": null,
            "right": null,
            "top": null,
            "visibility": null,
            "width": null
          }
        },
        "46853853466c42748abfe4b77189c1d7": {
          "model_module": "@jupyter-widgets/controls",
          "model_name": "DescriptionStyleModel",
          "model_module_version": "1.5.0",
          "state": {
            "_model_module": "@jupyter-widgets/controls",
            "_model_module_version": "1.5.0",
            "_model_name": "DescriptionStyleModel",
            "_view_count": null,
            "_view_module": "@jupyter-widgets/base",
            "_view_module_version": "1.2.0",
            "_view_name": "StyleView",
            "description_width": ""
          }
        },
        "91ae5b3d56954c8aa287cc1d3964d6e6": {
          "model_module": "@jupyter-widgets/controls",
          "model_name": "HBoxModel",
          "model_module_version": "1.5.0",
          "state": {
            "_dom_classes": [],
            "_model_module": "@jupyter-widgets/controls",
            "_model_module_version": "1.5.0",
            "_model_name": "HBoxModel",
            "_view_count": null,
            "_view_module": "@jupyter-widgets/controls",
            "_view_module_version": "1.5.0",
            "_view_name": "HBoxView",
            "box_style": "",
            "children": [
              "IPY_MODEL_f9003e3414b14018a79ff942bdf4c424",
              "IPY_MODEL_b8e0cd1a5f924d618f7119174580c3c2",
              "IPY_MODEL_0127e53191a349b9a174a829e3be3025"
            ],
            "layout": "IPY_MODEL_45440bc0f00040a3b5c2381eea51f802"
          }
        },
        "f9003e3414b14018a79ff942bdf4c424": {
          "model_module": "@jupyter-widgets/controls",
          "model_name": "HTMLModel",
          "model_module_version": "1.5.0",
          "state": {
            "_dom_classes": [],
            "_model_module": "@jupyter-widgets/controls",
            "_model_module_version": "1.5.0",
            "_model_name": "HTMLModel",
            "_view_count": null,
            "_view_module": "@jupyter-widgets/controls",
            "_view_module_version": "1.5.0",
            "_view_name": "HTMLView",
            "description": "",
            "description_tooltip": null,
            "layout": "IPY_MODEL_c61518ee47054ad49c9af64643a19719",
            "placeholder": "​",
            "style": "IPY_MODEL_9704199b2c4f4e49a94f98028cba398a",
            "value": "Generating test examples...:  79%"
          }
        },
        "b8e0cd1a5f924d618f7119174580c3c2": {
          "model_module": "@jupyter-widgets/controls",
          "model_name": "FloatProgressModel",
          "model_module_version": "1.5.0",
          "state": {
            "_dom_classes": [],
            "_model_module": "@jupyter-widgets/controls",
            "_model_module_version": "1.5.0",
            "_model_name": "FloatProgressModel",
            "_view_count": null,
            "_view_module": "@jupyter-widgets/controls",
            "_view_module_version": "1.5.0",
            "_view_name": "ProgressView",
            "bar_style": "",
            "description": "",
            "description_tooltip": null,
            "layout": "IPY_MODEL_ebb60e41f99f466d8b83ee7f74094078",
            "max": 25000,
            "min": 0,
            "orientation": "horizontal",
            "style": "IPY_MODEL_eeca3222a88e48eaa827e53b7a983211",
            "value": 25000
          }
        },
        "0127e53191a349b9a174a829e3be3025": {
          "model_module": "@jupyter-widgets/controls",
          "model_name": "HTMLModel",
          "model_module_version": "1.5.0",
          "state": {
            "_dom_classes": [],
            "_model_module": "@jupyter-widgets/controls",
            "_model_module_version": "1.5.0",
            "_model_name": "HTMLModel",
            "_view_count": null,
            "_view_module": "@jupyter-widgets/controls",
            "_view_module_version": "1.5.0",
            "_view_name": "HTMLView",
            "description": "",
            "description_tooltip": null,
            "layout": "IPY_MODEL_1bb36ea0a1f04ee0b4ad2611f4957c68",
            "placeholder": "​",
            "style": "IPY_MODEL_9665ba95ab0245879fb7bdcae47db28a",
            "value": " 19783/25000 [00:05&lt;00:01, 4714.25 examples/s]"
          }
        },
        "45440bc0f00040a3b5c2381eea51f802": {
          "model_module": "@jupyter-widgets/base",
          "model_name": "LayoutModel",
          "model_module_version": "1.2.0",
          "state": {
            "_model_module": "@jupyter-widgets/base",
            "_model_module_version": "1.2.0",
            "_model_name": "LayoutModel",
            "_view_count": null,
            "_view_module": "@jupyter-widgets/base",
            "_view_module_version": "1.2.0",
            "_view_name": "LayoutView",
            "align_content": null,
            "align_items": null,
            "align_self": null,
            "border": null,
            "bottom": null,
            "display": null,
            "flex": null,
            "flex_flow": null,
            "grid_area": null,
            "grid_auto_columns": null,
            "grid_auto_flow": null,
            "grid_auto_rows": null,
            "grid_column": null,
            "grid_gap": null,
            "grid_row": null,
            "grid_template_areas": null,
            "grid_template_columns": null,
            "grid_template_rows": null,
            "height": null,
            "justify_content": null,
            "justify_items": null,
            "left": null,
            "margin": null,
            "max_height": null,
            "max_width": null,
            "min_height": null,
            "min_width": null,
            "object_fit": null,
            "object_position": null,
            "order": null,
            "overflow": null,
            "overflow_x": null,
            "overflow_y": null,
            "padding": null,
            "right": null,
            "top": null,
            "visibility": "hidden",
            "width": null
          }
        },
        "c61518ee47054ad49c9af64643a19719": {
          "model_module": "@jupyter-widgets/base",
          "model_name": "LayoutModel",
          "model_module_version": "1.2.0",
          "state": {
            "_model_module": "@jupyter-widgets/base",
            "_model_module_version": "1.2.0",
            "_model_name": "LayoutModel",
            "_view_count": null,
            "_view_module": "@jupyter-widgets/base",
            "_view_module_version": "1.2.0",
            "_view_name": "LayoutView",
            "align_content": null,
            "align_items": null,
            "align_self": null,
            "border": null,
            "bottom": null,
            "display": null,
            "flex": null,
            "flex_flow": null,
            "grid_area": null,
            "grid_auto_columns": null,
            "grid_auto_flow": null,
            "grid_auto_rows": null,
            "grid_column": null,
            "grid_gap": null,
            "grid_row": null,
            "grid_template_areas": null,
            "grid_template_columns": null,
            "grid_template_rows": null,
            "height": null,
            "justify_content": null,
            "justify_items": null,
            "left": null,
            "margin": null,
            "max_height": null,
            "max_width": null,
            "min_height": null,
            "min_width": null,
            "object_fit": null,
            "object_position": null,
            "order": null,
            "overflow": null,
            "overflow_x": null,
            "overflow_y": null,
            "padding": null,
            "right": null,
            "top": null,
            "visibility": null,
            "width": null
          }
        },
        "9704199b2c4f4e49a94f98028cba398a": {
          "model_module": "@jupyter-widgets/controls",
          "model_name": "DescriptionStyleModel",
          "model_module_version": "1.5.0",
          "state": {
            "_model_module": "@jupyter-widgets/controls",
            "_model_module_version": "1.5.0",
            "_model_name": "DescriptionStyleModel",
            "_view_count": null,
            "_view_module": "@jupyter-widgets/base",
            "_view_module_version": "1.2.0",
            "_view_name": "StyleView",
            "description_width": ""
          }
        },
        "ebb60e41f99f466d8b83ee7f74094078": {
          "model_module": "@jupyter-widgets/base",
          "model_name": "LayoutModel",
          "model_module_version": "1.2.0",
          "state": {
            "_model_module": "@jupyter-widgets/base",
            "_model_module_version": "1.2.0",
            "_model_name": "LayoutModel",
            "_view_count": null,
            "_view_module": "@jupyter-widgets/base",
            "_view_module_version": "1.2.0",
            "_view_name": "LayoutView",
            "align_content": null,
            "align_items": null,
            "align_self": null,
            "border": null,
            "bottom": null,
            "display": null,
            "flex": null,
            "flex_flow": null,
            "grid_area": null,
            "grid_auto_columns": null,
            "grid_auto_flow": null,
            "grid_auto_rows": null,
            "grid_column": null,
            "grid_gap": null,
            "grid_row": null,
            "grid_template_areas": null,
            "grid_template_columns": null,
            "grid_template_rows": null,
            "height": null,
            "justify_content": null,
            "justify_items": null,
            "left": null,
            "margin": null,
            "max_height": null,
            "max_width": null,
            "min_height": null,
            "min_width": null,
            "object_fit": null,
            "object_position": null,
            "order": null,
            "overflow": null,
            "overflow_x": null,
            "overflow_y": null,
            "padding": null,
            "right": null,
            "top": null,
            "visibility": null,
            "width": null
          }
        },
        "eeca3222a88e48eaa827e53b7a983211": {
          "model_module": "@jupyter-widgets/controls",
          "model_name": "ProgressStyleModel",
          "model_module_version": "1.5.0",
          "state": {
            "_model_module": "@jupyter-widgets/controls",
            "_model_module_version": "1.5.0",
            "_model_name": "ProgressStyleModel",
            "_view_count": null,
            "_view_module": "@jupyter-widgets/base",
            "_view_module_version": "1.2.0",
            "_view_name": "StyleView",
            "bar_color": null,
            "description_width": ""
          }
        },
        "1bb36ea0a1f04ee0b4ad2611f4957c68": {
          "model_module": "@jupyter-widgets/base",
          "model_name": "LayoutModel",
          "model_module_version": "1.2.0",
          "state": {
            "_model_module": "@jupyter-widgets/base",
            "_model_module_version": "1.2.0",
            "_model_name": "LayoutModel",
            "_view_count": null,
            "_view_module": "@jupyter-widgets/base",
            "_view_module_version": "1.2.0",
            "_view_name": "LayoutView",
            "align_content": null,
            "align_items": null,
            "align_self": null,
            "border": null,
            "bottom": null,
            "display": null,
            "flex": null,
            "flex_flow": null,
            "grid_area": null,
            "grid_auto_columns": null,
            "grid_auto_flow": null,
            "grid_auto_rows": null,
            "grid_column": null,
            "grid_gap": null,
            "grid_row": null,
            "grid_template_areas": null,
            "grid_template_columns": null,
            "grid_template_rows": null,
            "height": null,
            "justify_content": null,
            "justify_items": null,
            "left": null,
            "margin": null,
            "max_height": null,
            "max_width": null,
            "min_height": null,
            "min_width": null,
            "object_fit": null,
            "object_position": null,
            "order": null,
            "overflow": null,
            "overflow_x": null,
            "overflow_y": null,
            "padding": null,
            "right": null,
            "top": null,
            "visibility": null,
            "width": null
          }
        },
        "9665ba95ab0245879fb7bdcae47db28a": {
          "model_module": "@jupyter-widgets/controls",
          "model_name": "DescriptionStyleModel",
          "model_module_version": "1.5.0",
          "state": {
            "_model_module": "@jupyter-widgets/controls",
            "_model_module_version": "1.5.0",
            "_model_name": "DescriptionStyleModel",
            "_view_count": null,
            "_view_module": "@jupyter-widgets/base",
            "_view_module_version": "1.2.0",
            "_view_name": "StyleView",
            "description_width": ""
          }
        },
        "7ca453ad3942463daa87144101d1def6": {
          "model_module": "@jupyter-widgets/controls",
          "model_name": "HBoxModel",
          "model_module_version": "1.5.0",
          "state": {
            "_dom_classes": [],
            "_model_module": "@jupyter-widgets/controls",
            "_model_module_version": "1.5.0",
            "_model_name": "HBoxModel",
            "_view_count": null,
            "_view_module": "@jupyter-widgets/controls",
            "_view_module_version": "1.5.0",
            "_view_name": "HBoxView",
            "box_style": "",
            "children": [
              "IPY_MODEL_40105d8a1a494ffbba5db0a2e1e91abf",
              "IPY_MODEL_6c3995f8c7d2467682cd564e716dddb6",
              "IPY_MODEL_746e4d636fee4070bdaa1426323b21e1"
            ],
            "layout": "IPY_MODEL_233e3dd83f0b437b93337c7db1c9e8bb"
          }
        },
        "40105d8a1a494ffbba5db0a2e1e91abf": {
          "model_module": "@jupyter-widgets/controls",
          "model_name": "HTMLModel",
          "model_module_version": "1.5.0",
          "state": {
            "_dom_classes": [],
            "_model_module": "@jupyter-widgets/controls",
            "_model_module_version": "1.5.0",
            "_model_name": "HTMLModel",
            "_view_count": null,
            "_view_module": "@jupyter-widgets/controls",
            "_view_module_version": "1.5.0",
            "_view_name": "HTMLView",
            "description": "",
            "description_tooltip": null,
            "layout": "IPY_MODEL_7d8ed26e9e7f4737a7d97f8b5647d117",
            "placeholder": "​",
            "style": "IPY_MODEL_cf87fc43b93145008350aca70bf528a9",
            "value": "Shuffling /root/tensorflow_datasets/imdb_reviews/plain_text/1.0.0.incompletePBB9H9/imdb_reviews-test.tfrecord*...:  63%"
          }
        },
        "6c3995f8c7d2467682cd564e716dddb6": {
          "model_module": "@jupyter-widgets/controls",
          "model_name": "FloatProgressModel",
          "model_module_version": "1.5.0",
          "state": {
            "_dom_classes": [],
            "_model_module": "@jupyter-widgets/controls",
            "_model_module_version": "1.5.0",
            "_model_name": "FloatProgressModel",
            "_view_count": null,
            "_view_module": "@jupyter-widgets/controls",
            "_view_module_version": "1.5.0",
            "_view_name": "ProgressView",
            "bar_style": "",
            "description": "",
            "description_tooltip": null,
            "layout": "IPY_MODEL_9650f959543d4dd1b59467d703b1aaad",
            "max": 25000,
            "min": 0,
            "orientation": "horizontal",
            "style": "IPY_MODEL_01d0c00a6e77429b9a0fcf12f2108416",
            "value": 25000
          }
        },
        "746e4d636fee4070bdaa1426323b21e1": {
          "model_module": "@jupyter-widgets/controls",
          "model_name": "HTMLModel",
          "model_module_version": "1.5.0",
          "state": {
            "_dom_classes": [],
            "_model_module": "@jupyter-widgets/controls",
            "_model_module_version": "1.5.0",
            "_model_name": "HTMLModel",
            "_view_count": null,
            "_view_module": "@jupyter-widgets/controls",
            "_view_module_version": "1.5.0",
            "_view_name": "HTMLView",
            "description": "",
            "description_tooltip": null,
            "layout": "IPY_MODEL_5e31b2e2a9c347b2b110a53e933e23dd",
            "placeholder": "​",
            "style": "IPY_MODEL_016f986f4507417ea6ec8ef285316cf7",
            "value": " 15843/25000 [00:00&lt;00:00, 158406.36 examples/s]"
          }
        },
        "233e3dd83f0b437b93337c7db1c9e8bb": {
          "model_module": "@jupyter-widgets/base",
          "model_name": "LayoutModel",
          "model_module_version": "1.2.0",
          "state": {
            "_model_module": "@jupyter-widgets/base",
            "_model_module_version": "1.2.0",
            "_model_name": "LayoutModel",
            "_view_count": null,
            "_view_module": "@jupyter-widgets/base",
            "_view_module_version": "1.2.0",
            "_view_name": "LayoutView",
            "align_content": null,
            "align_items": null,
            "align_self": null,
            "border": null,
            "bottom": null,
            "display": null,
            "flex": null,
            "flex_flow": null,
            "grid_area": null,
            "grid_auto_columns": null,
            "grid_auto_flow": null,
            "grid_auto_rows": null,
            "grid_column": null,
            "grid_gap": null,
            "grid_row": null,
            "grid_template_areas": null,
            "grid_template_columns": null,
            "grid_template_rows": null,
            "height": null,
            "justify_content": null,
            "justify_items": null,
            "left": null,
            "margin": null,
            "max_height": null,
            "max_width": null,
            "min_height": null,
            "min_width": null,
            "object_fit": null,
            "object_position": null,
            "order": null,
            "overflow": null,
            "overflow_x": null,
            "overflow_y": null,
            "padding": null,
            "right": null,
            "top": null,
            "visibility": "hidden",
            "width": null
          }
        },
        "7d8ed26e9e7f4737a7d97f8b5647d117": {
          "model_module": "@jupyter-widgets/base",
          "model_name": "LayoutModel",
          "model_module_version": "1.2.0",
          "state": {
            "_model_module": "@jupyter-widgets/base",
            "_model_module_version": "1.2.0",
            "_model_name": "LayoutModel",
            "_view_count": null,
            "_view_module": "@jupyter-widgets/base",
            "_view_module_version": "1.2.0",
            "_view_name": "LayoutView",
            "align_content": null,
            "align_items": null,
            "align_self": null,
            "border": null,
            "bottom": null,
            "display": null,
            "flex": null,
            "flex_flow": null,
            "grid_area": null,
            "grid_auto_columns": null,
            "grid_auto_flow": null,
            "grid_auto_rows": null,
            "grid_column": null,
            "grid_gap": null,
            "grid_row": null,
            "grid_template_areas": null,
            "grid_template_columns": null,
            "grid_template_rows": null,
            "height": null,
            "justify_content": null,
            "justify_items": null,
            "left": null,
            "margin": null,
            "max_height": null,
            "max_width": null,
            "min_height": null,
            "min_width": null,
            "object_fit": null,
            "object_position": null,
            "order": null,
            "overflow": null,
            "overflow_x": null,
            "overflow_y": null,
            "padding": null,
            "right": null,
            "top": null,
            "visibility": null,
            "width": null
          }
        },
        "cf87fc43b93145008350aca70bf528a9": {
          "model_module": "@jupyter-widgets/controls",
          "model_name": "DescriptionStyleModel",
          "model_module_version": "1.5.0",
          "state": {
            "_model_module": "@jupyter-widgets/controls",
            "_model_module_version": "1.5.0",
            "_model_name": "DescriptionStyleModel",
            "_view_count": null,
            "_view_module": "@jupyter-widgets/base",
            "_view_module_version": "1.2.0",
            "_view_name": "StyleView",
            "description_width": ""
          }
        },
        "9650f959543d4dd1b59467d703b1aaad": {
          "model_module": "@jupyter-widgets/base",
          "model_name": "LayoutModel",
          "model_module_version": "1.2.0",
          "state": {
            "_model_module": "@jupyter-widgets/base",
            "_model_module_version": "1.2.0",
            "_model_name": "LayoutModel",
            "_view_count": null,
            "_view_module": "@jupyter-widgets/base",
            "_view_module_version": "1.2.0",
            "_view_name": "LayoutView",
            "align_content": null,
            "align_items": null,
            "align_self": null,
            "border": null,
            "bottom": null,
            "display": null,
            "flex": null,
            "flex_flow": null,
            "grid_area": null,
            "grid_auto_columns": null,
            "grid_auto_flow": null,
            "grid_auto_rows": null,
            "grid_column": null,
            "grid_gap": null,
            "grid_row": null,
            "grid_template_areas": null,
            "grid_template_columns": null,
            "grid_template_rows": null,
            "height": null,
            "justify_content": null,
            "justify_items": null,
            "left": null,
            "margin": null,
            "max_height": null,
            "max_width": null,
            "min_height": null,
            "min_width": null,
            "object_fit": null,
            "object_position": null,
            "order": null,
            "overflow": null,
            "overflow_x": null,
            "overflow_y": null,
            "padding": null,
            "right": null,
            "top": null,
            "visibility": null,
            "width": null
          }
        },
        "01d0c00a6e77429b9a0fcf12f2108416": {
          "model_module": "@jupyter-widgets/controls",
          "model_name": "ProgressStyleModel",
          "model_module_version": "1.5.0",
          "state": {
            "_model_module": "@jupyter-widgets/controls",
            "_model_module_version": "1.5.0",
            "_model_name": "ProgressStyleModel",
            "_view_count": null,
            "_view_module": "@jupyter-widgets/base",
            "_view_module_version": "1.2.0",
            "_view_name": "StyleView",
            "bar_color": null,
            "description_width": ""
          }
        },
        "5e31b2e2a9c347b2b110a53e933e23dd": {
          "model_module": "@jupyter-widgets/base",
          "model_name": "LayoutModel",
          "model_module_version": "1.2.0",
          "state": {
            "_model_module": "@jupyter-widgets/base",
            "_model_module_version": "1.2.0",
            "_model_name": "LayoutModel",
            "_view_count": null,
            "_view_module": "@jupyter-widgets/base",
            "_view_module_version": "1.2.0",
            "_view_name": "LayoutView",
            "align_content": null,
            "align_items": null,
            "align_self": null,
            "border": null,
            "bottom": null,
            "display": null,
            "flex": null,
            "flex_flow": null,
            "grid_area": null,
            "grid_auto_columns": null,
            "grid_auto_flow": null,
            "grid_auto_rows": null,
            "grid_column": null,
            "grid_gap": null,
            "grid_row": null,
            "grid_template_areas": null,
            "grid_template_columns": null,
            "grid_template_rows": null,
            "height": null,
            "justify_content": null,
            "justify_items": null,
            "left": null,
            "margin": null,
            "max_height": null,
            "max_width": null,
            "min_height": null,
            "min_width": null,
            "object_fit": null,
            "object_position": null,
            "order": null,
            "overflow": null,
            "overflow_x": null,
            "overflow_y": null,
            "padding": null,
            "right": null,
            "top": null,
            "visibility": null,
            "width": null
          }
        },
        "016f986f4507417ea6ec8ef285316cf7": {
          "model_module": "@jupyter-widgets/controls",
          "model_name": "DescriptionStyleModel",
          "model_module_version": "1.5.0",
          "state": {
            "_model_module": "@jupyter-widgets/controls",
            "_model_module_version": "1.5.0",
            "_model_name": "DescriptionStyleModel",
            "_view_count": null,
            "_view_module": "@jupyter-widgets/base",
            "_view_module_version": "1.2.0",
            "_view_name": "StyleView",
            "description_width": ""
          }
        },
        "8802ba3b793b4130a59fb94a1ae67d1d": {
          "model_module": "@jupyter-widgets/controls",
          "model_name": "HBoxModel",
          "model_module_version": "1.5.0",
          "state": {
            "_dom_classes": [],
            "_model_module": "@jupyter-widgets/controls",
            "_model_module_version": "1.5.0",
            "_model_name": "HBoxModel",
            "_view_count": null,
            "_view_module": "@jupyter-widgets/controls",
            "_view_module_version": "1.5.0",
            "_view_name": "HBoxView",
            "box_style": "",
            "children": [
              "IPY_MODEL_64a3d614e491423fbf80b11ab916ebe7",
              "IPY_MODEL_00702125ce004726bfdce266c22dcce8",
              "IPY_MODEL_03b2da2522ff443a90aa52210e6d28a2"
            ],
            "layout": "IPY_MODEL_40141134c42f4ebfb435aa6ed985a06d"
          }
        },
        "64a3d614e491423fbf80b11ab916ebe7": {
          "model_module": "@jupyter-widgets/controls",
          "model_name": "HTMLModel",
          "model_module_version": "1.5.0",
          "state": {
            "_dom_classes": [],
            "_model_module": "@jupyter-widgets/controls",
            "_model_module_version": "1.5.0",
            "_model_name": "HTMLModel",
            "_view_count": null,
            "_view_module": "@jupyter-widgets/controls",
            "_view_module_version": "1.5.0",
            "_view_name": "HTMLView",
            "description": "",
            "description_tooltip": null,
            "layout": "IPY_MODEL_e45f1ba617c94f95a9b9d79af8bc18ad",
            "placeholder": "​",
            "style": "IPY_MODEL_4fe3992bd8aa4a1fbb72fb78de5116cd",
            "value": "Generating unsupervised examples...:  89%"
          }
        },
        "00702125ce004726bfdce266c22dcce8": {
          "model_module": "@jupyter-widgets/controls",
          "model_name": "FloatProgressModel",
          "model_module_version": "1.5.0",
          "state": {
            "_dom_classes": [],
            "_model_module": "@jupyter-widgets/controls",
            "_model_module_version": "1.5.0",
            "_model_name": "FloatProgressModel",
            "_view_count": null,
            "_view_module": "@jupyter-widgets/controls",
            "_view_module_version": "1.5.0",
            "_view_name": "ProgressView",
            "bar_style": "",
            "description": "",
            "description_tooltip": null,
            "layout": "IPY_MODEL_8b87295135ee40928fdf916201b827b1",
            "max": 50000,
            "min": 0,
            "orientation": "horizontal",
            "style": "IPY_MODEL_5390b12be731436b936395cc0d40d036",
            "value": 50000
          }
        },
        "03b2da2522ff443a90aa52210e6d28a2": {
          "model_module": "@jupyter-widgets/controls",
          "model_name": "HTMLModel",
          "model_module_version": "1.5.0",
          "state": {
            "_dom_classes": [],
            "_model_module": "@jupyter-widgets/controls",
            "_model_module_version": "1.5.0",
            "_model_name": "HTMLModel",
            "_view_count": null,
            "_view_module": "@jupyter-widgets/controls",
            "_view_module_version": "1.5.0",
            "_view_name": "HTMLView",
            "description": "",
            "description_tooltip": null,
            "layout": "IPY_MODEL_25ea14a89be44b3cae8adcecec7bf27a",
            "placeholder": "​",
            "style": "IPY_MODEL_e46faa4752d54b5fafba784a77292e61",
            "value": " 44593/50000 [00:14&lt;00:01, 4387.39 examples/s]"
          }
        },
        "40141134c42f4ebfb435aa6ed985a06d": {
          "model_module": "@jupyter-widgets/base",
          "model_name": "LayoutModel",
          "model_module_version": "1.2.0",
          "state": {
            "_model_module": "@jupyter-widgets/base",
            "_model_module_version": "1.2.0",
            "_model_name": "LayoutModel",
            "_view_count": null,
            "_view_module": "@jupyter-widgets/base",
            "_view_module_version": "1.2.0",
            "_view_name": "LayoutView",
            "align_content": null,
            "align_items": null,
            "align_self": null,
            "border": null,
            "bottom": null,
            "display": null,
            "flex": null,
            "flex_flow": null,
            "grid_area": null,
            "grid_auto_columns": null,
            "grid_auto_flow": null,
            "grid_auto_rows": null,
            "grid_column": null,
            "grid_gap": null,
            "grid_row": null,
            "grid_template_areas": null,
            "grid_template_columns": null,
            "grid_template_rows": null,
            "height": null,
            "justify_content": null,
            "justify_items": null,
            "left": null,
            "margin": null,
            "max_height": null,
            "max_width": null,
            "min_height": null,
            "min_width": null,
            "object_fit": null,
            "object_position": null,
            "order": null,
            "overflow": null,
            "overflow_x": null,
            "overflow_y": null,
            "padding": null,
            "right": null,
            "top": null,
            "visibility": "hidden",
            "width": null
          }
        },
        "e45f1ba617c94f95a9b9d79af8bc18ad": {
          "model_module": "@jupyter-widgets/base",
          "model_name": "LayoutModel",
          "model_module_version": "1.2.0",
          "state": {
            "_model_module": "@jupyter-widgets/base",
            "_model_module_version": "1.2.0",
            "_model_name": "LayoutModel",
            "_view_count": null,
            "_view_module": "@jupyter-widgets/base",
            "_view_module_version": "1.2.0",
            "_view_name": "LayoutView",
            "align_content": null,
            "align_items": null,
            "align_self": null,
            "border": null,
            "bottom": null,
            "display": null,
            "flex": null,
            "flex_flow": null,
            "grid_area": null,
            "grid_auto_columns": null,
            "grid_auto_flow": null,
            "grid_auto_rows": null,
            "grid_column": null,
            "grid_gap": null,
            "grid_row": null,
            "grid_template_areas": null,
            "grid_template_columns": null,
            "grid_template_rows": null,
            "height": null,
            "justify_content": null,
            "justify_items": null,
            "left": null,
            "margin": null,
            "max_height": null,
            "max_width": null,
            "min_height": null,
            "min_width": null,
            "object_fit": null,
            "object_position": null,
            "order": null,
            "overflow": null,
            "overflow_x": null,
            "overflow_y": null,
            "padding": null,
            "right": null,
            "top": null,
            "visibility": null,
            "width": null
          }
        },
        "4fe3992bd8aa4a1fbb72fb78de5116cd": {
          "model_module": "@jupyter-widgets/controls",
          "model_name": "DescriptionStyleModel",
          "model_module_version": "1.5.0",
          "state": {
            "_model_module": "@jupyter-widgets/controls",
            "_model_module_version": "1.5.0",
            "_model_name": "DescriptionStyleModel",
            "_view_count": null,
            "_view_module": "@jupyter-widgets/base",
            "_view_module_version": "1.2.0",
            "_view_name": "StyleView",
            "description_width": ""
          }
        },
        "8b87295135ee40928fdf916201b827b1": {
          "model_module": "@jupyter-widgets/base",
          "model_name": "LayoutModel",
          "model_module_version": "1.2.0",
          "state": {
            "_model_module": "@jupyter-widgets/base",
            "_model_module_version": "1.2.0",
            "_model_name": "LayoutModel",
            "_view_count": null,
            "_view_module": "@jupyter-widgets/base",
            "_view_module_version": "1.2.0",
            "_view_name": "LayoutView",
            "align_content": null,
            "align_items": null,
            "align_self": null,
            "border": null,
            "bottom": null,
            "display": null,
            "flex": null,
            "flex_flow": null,
            "grid_area": null,
            "grid_auto_columns": null,
            "grid_auto_flow": null,
            "grid_auto_rows": null,
            "grid_column": null,
            "grid_gap": null,
            "grid_row": null,
            "grid_template_areas": null,
            "grid_template_columns": null,
            "grid_template_rows": null,
            "height": null,
            "justify_content": null,
            "justify_items": null,
            "left": null,
            "margin": null,
            "max_height": null,
            "max_width": null,
            "min_height": null,
            "min_width": null,
            "object_fit": null,
            "object_position": null,
            "order": null,
            "overflow": null,
            "overflow_x": null,
            "overflow_y": null,
            "padding": null,
            "right": null,
            "top": null,
            "visibility": null,
            "width": null
          }
        },
        "5390b12be731436b936395cc0d40d036": {
          "model_module": "@jupyter-widgets/controls",
          "model_name": "ProgressStyleModel",
          "model_module_version": "1.5.0",
          "state": {
            "_model_module": "@jupyter-widgets/controls",
            "_model_module_version": "1.5.0",
            "_model_name": "ProgressStyleModel",
            "_view_count": null,
            "_view_module": "@jupyter-widgets/base",
            "_view_module_version": "1.2.0",
            "_view_name": "StyleView",
            "bar_color": null,
            "description_width": ""
          }
        },
        "25ea14a89be44b3cae8adcecec7bf27a": {
          "model_module": "@jupyter-widgets/base",
          "model_name": "LayoutModel",
          "model_module_version": "1.2.0",
          "state": {
            "_model_module": "@jupyter-widgets/base",
            "_model_module_version": "1.2.0",
            "_model_name": "LayoutModel",
            "_view_count": null,
            "_view_module": "@jupyter-widgets/base",
            "_view_module_version": "1.2.0",
            "_view_name": "LayoutView",
            "align_content": null,
            "align_items": null,
            "align_self": null,
            "border": null,
            "bottom": null,
            "display": null,
            "flex": null,
            "flex_flow": null,
            "grid_area": null,
            "grid_auto_columns": null,
            "grid_auto_flow": null,
            "grid_auto_rows": null,
            "grid_column": null,
            "grid_gap": null,
            "grid_row": null,
            "grid_template_areas": null,
            "grid_template_columns": null,
            "grid_template_rows": null,
            "height": null,
            "justify_content": null,
            "justify_items": null,
            "left": null,
            "margin": null,
            "max_height": null,
            "max_width": null,
            "min_height": null,
            "min_width": null,
            "object_fit": null,
            "object_position": null,
            "order": null,
            "overflow": null,
            "overflow_x": null,
            "overflow_y": null,
            "padding": null,
            "right": null,
            "top": null,
            "visibility": null,
            "width": null
          }
        },
        "e46faa4752d54b5fafba784a77292e61": {
          "model_module": "@jupyter-widgets/controls",
          "model_name": "DescriptionStyleModel",
          "model_module_version": "1.5.0",
          "state": {
            "_model_module": "@jupyter-widgets/controls",
            "_model_module_version": "1.5.0",
            "_model_name": "DescriptionStyleModel",
            "_view_count": null,
            "_view_module": "@jupyter-widgets/base",
            "_view_module_version": "1.2.0",
            "_view_name": "StyleView",
            "description_width": ""
          }
        },
        "433ae1777d0f470b8c4381c567a1b75d": {
          "model_module": "@jupyter-widgets/controls",
          "model_name": "HBoxModel",
          "model_module_version": "1.5.0",
          "state": {
            "_dom_classes": [],
            "_model_module": "@jupyter-widgets/controls",
            "_model_module_version": "1.5.0",
            "_model_name": "HBoxModel",
            "_view_count": null,
            "_view_module": "@jupyter-widgets/controls",
            "_view_module_version": "1.5.0",
            "_view_name": "HBoxView",
            "box_style": "",
            "children": [
              "IPY_MODEL_507af97ebb6f421cac5f4c92c25c92f9",
              "IPY_MODEL_d8a0669685d049f2a5a2652cf9fe3e8f",
              "IPY_MODEL_f99f5379fc5d40fb9020d131a6544105"
            ],
            "layout": "IPY_MODEL_5f195cc71fe44158a31fb025efb1e59d"
          }
        },
        "507af97ebb6f421cac5f4c92c25c92f9": {
          "model_module": "@jupyter-widgets/controls",
          "model_name": "HTMLModel",
          "model_module_version": "1.5.0",
          "state": {
            "_dom_classes": [],
            "_model_module": "@jupyter-widgets/controls",
            "_model_module_version": "1.5.0",
            "_model_name": "HTMLModel",
            "_view_count": null,
            "_view_module": "@jupyter-widgets/controls",
            "_view_module_version": "1.5.0",
            "_view_name": "HTMLView",
            "description": "",
            "description_tooltip": null,
            "layout": "IPY_MODEL_4432a060dcf242e2853ba8c72cfeb8f5",
            "placeholder": "​",
            "style": "IPY_MODEL_5370d0538c8443d38437e87124203f20",
            "value": "Shuffling /root/tensorflow_datasets/imdb_reviews/plain_text/1.0.0.incompletePBB9H9/imdb_reviews-unsupervised.tfrecord*...:  74%"
          }
        },
        "d8a0669685d049f2a5a2652cf9fe3e8f": {
          "model_module": "@jupyter-widgets/controls",
          "model_name": "FloatProgressModel",
          "model_module_version": "1.5.0",
          "state": {
            "_dom_classes": [],
            "_model_module": "@jupyter-widgets/controls",
            "_model_module_version": "1.5.0",
            "_model_name": "FloatProgressModel",
            "_view_count": null,
            "_view_module": "@jupyter-widgets/controls",
            "_view_module_version": "1.5.0",
            "_view_name": "ProgressView",
            "bar_style": "",
            "description": "",
            "description_tooltip": null,
            "layout": "IPY_MODEL_3c00361d019e4ada82132cec8e3451f2",
            "max": 50000,
            "min": 0,
            "orientation": "horizontal",
            "style": "IPY_MODEL_f92146f8a50f4e1c98a525732e1fa5fc",
            "value": 50000
          }
        },
        "f99f5379fc5d40fb9020d131a6544105": {
          "model_module": "@jupyter-widgets/controls",
          "model_name": "HTMLModel",
          "model_module_version": "1.5.0",
          "state": {
            "_dom_classes": [],
            "_model_module": "@jupyter-widgets/controls",
            "_model_module_version": "1.5.0",
            "_model_name": "HTMLModel",
            "_view_count": null,
            "_view_module": "@jupyter-widgets/controls",
            "_view_module_version": "1.5.0",
            "_view_name": "HTMLView",
            "description": "",
            "description_tooltip": null,
            "layout": "IPY_MODEL_349c75f0041f41efa451ab82fbd82d1f",
            "placeholder": "​",
            "style": "IPY_MODEL_4fc67bc4bb6040dcb1ec5b33dd156453",
            "value": " 36824/50000 [00:00&lt;00:00, 199125.93 examples/s]"
          }
        },
        "5f195cc71fe44158a31fb025efb1e59d": {
          "model_module": "@jupyter-widgets/base",
          "model_name": "LayoutModel",
          "model_module_version": "1.2.0",
          "state": {
            "_model_module": "@jupyter-widgets/base",
            "_model_module_version": "1.2.0",
            "_model_name": "LayoutModel",
            "_view_count": null,
            "_view_module": "@jupyter-widgets/base",
            "_view_module_version": "1.2.0",
            "_view_name": "LayoutView",
            "align_content": null,
            "align_items": null,
            "align_self": null,
            "border": null,
            "bottom": null,
            "display": null,
            "flex": null,
            "flex_flow": null,
            "grid_area": null,
            "grid_auto_columns": null,
            "grid_auto_flow": null,
            "grid_auto_rows": null,
            "grid_column": null,
            "grid_gap": null,
            "grid_row": null,
            "grid_template_areas": null,
            "grid_template_columns": null,
            "grid_template_rows": null,
            "height": null,
            "justify_content": null,
            "justify_items": null,
            "left": null,
            "margin": null,
            "max_height": null,
            "max_width": null,
            "min_height": null,
            "min_width": null,
            "object_fit": null,
            "object_position": null,
            "order": null,
            "overflow": null,
            "overflow_x": null,
            "overflow_y": null,
            "padding": null,
            "right": null,
            "top": null,
            "visibility": "hidden",
            "width": null
          }
        },
        "4432a060dcf242e2853ba8c72cfeb8f5": {
          "model_module": "@jupyter-widgets/base",
          "model_name": "LayoutModel",
          "model_module_version": "1.2.0",
          "state": {
            "_model_module": "@jupyter-widgets/base",
            "_model_module_version": "1.2.0",
            "_model_name": "LayoutModel",
            "_view_count": null,
            "_view_module": "@jupyter-widgets/base",
            "_view_module_version": "1.2.0",
            "_view_name": "LayoutView",
            "align_content": null,
            "align_items": null,
            "align_self": null,
            "border": null,
            "bottom": null,
            "display": null,
            "flex": null,
            "flex_flow": null,
            "grid_area": null,
            "grid_auto_columns": null,
            "grid_auto_flow": null,
            "grid_auto_rows": null,
            "grid_column": null,
            "grid_gap": null,
            "grid_row": null,
            "grid_template_areas": null,
            "grid_template_columns": null,
            "grid_template_rows": null,
            "height": null,
            "justify_content": null,
            "justify_items": null,
            "left": null,
            "margin": null,
            "max_height": null,
            "max_width": null,
            "min_height": null,
            "min_width": null,
            "object_fit": null,
            "object_position": null,
            "order": null,
            "overflow": null,
            "overflow_x": null,
            "overflow_y": null,
            "padding": null,
            "right": null,
            "top": null,
            "visibility": null,
            "width": null
          }
        },
        "5370d0538c8443d38437e87124203f20": {
          "model_module": "@jupyter-widgets/controls",
          "model_name": "DescriptionStyleModel",
          "model_module_version": "1.5.0",
          "state": {
            "_model_module": "@jupyter-widgets/controls",
            "_model_module_version": "1.5.0",
            "_model_name": "DescriptionStyleModel",
            "_view_count": null,
            "_view_module": "@jupyter-widgets/base",
            "_view_module_version": "1.2.0",
            "_view_name": "StyleView",
            "description_width": ""
          }
        },
        "3c00361d019e4ada82132cec8e3451f2": {
          "model_module": "@jupyter-widgets/base",
          "model_name": "LayoutModel",
          "model_module_version": "1.2.0",
          "state": {
            "_model_module": "@jupyter-widgets/base",
            "_model_module_version": "1.2.0",
            "_model_name": "LayoutModel",
            "_view_count": null,
            "_view_module": "@jupyter-widgets/base",
            "_view_module_version": "1.2.0",
            "_view_name": "LayoutView",
            "align_content": null,
            "align_items": null,
            "align_self": null,
            "border": null,
            "bottom": null,
            "display": null,
            "flex": null,
            "flex_flow": null,
            "grid_area": null,
            "grid_auto_columns": null,
            "grid_auto_flow": null,
            "grid_auto_rows": null,
            "grid_column": null,
            "grid_gap": null,
            "grid_row": null,
            "grid_template_areas": null,
            "grid_template_columns": null,
            "grid_template_rows": null,
            "height": null,
            "justify_content": null,
            "justify_items": null,
            "left": null,
            "margin": null,
            "max_height": null,
            "max_width": null,
            "min_height": null,
            "min_width": null,
            "object_fit": null,
            "object_position": null,
            "order": null,
            "overflow": null,
            "overflow_x": null,
            "overflow_y": null,
            "padding": null,
            "right": null,
            "top": null,
            "visibility": null,
            "width": null
          }
        },
        "f92146f8a50f4e1c98a525732e1fa5fc": {
          "model_module": "@jupyter-widgets/controls",
          "model_name": "ProgressStyleModel",
          "model_module_version": "1.5.0",
          "state": {
            "_model_module": "@jupyter-widgets/controls",
            "_model_module_version": "1.5.0",
            "_model_name": "ProgressStyleModel",
            "_view_count": null,
            "_view_module": "@jupyter-widgets/base",
            "_view_module_version": "1.2.0",
            "_view_name": "StyleView",
            "bar_color": null,
            "description_width": ""
          }
        },
        "349c75f0041f41efa451ab82fbd82d1f": {
          "model_module": "@jupyter-widgets/base",
          "model_name": "LayoutModel",
          "model_module_version": "1.2.0",
          "state": {
            "_model_module": "@jupyter-widgets/base",
            "_model_module_version": "1.2.0",
            "_model_name": "LayoutModel",
            "_view_count": null,
            "_view_module": "@jupyter-widgets/base",
            "_view_module_version": "1.2.0",
            "_view_name": "LayoutView",
            "align_content": null,
            "align_items": null,
            "align_self": null,
            "border": null,
            "bottom": null,
            "display": null,
            "flex": null,
            "flex_flow": null,
            "grid_area": null,
            "grid_auto_columns": null,
            "grid_auto_flow": null,
            "grid_auto_rows": null,
            "grid_column": null,
            "grid_gap": null,
            "grid_row": null,
            "grid_template_areas": null,
            "grid_template_columns": null,
            "grid_template_rows": null,
            "height": null,
            "justify_content": null,
            "justify_items": null,
            "left": null,
            "margin": null,
            "max_height": null,
            "max_width": null,
            "min_height": null,
            "min_width": null,
            "object_fit": null,
            "object_position": null,
            "order": null,
            "overflow": null,
            "overflow_x": null,
            "overflow_y": null,
            "padding": null,
            "right": null,
            "top": null,
            "visibility": null,
            "width": null
          }
        },
        "4fc67bc4bb6040dcb1ec5b33dd156453": {
          "model_module": "@jupyter-widgets/controls",
          "model_name": "DescriptionStyleModel",
          "model_module_version": "1.5.0",
          "state": {
            "_model_module": "@jupyter-widgets/controls",
            "_model_module_version": "1.5.0",
            "_model_name": "DescriptionStyleModel",
            "_view_count": null,
            "_view_module": "@jupyter-widgets/base",
            "_view_module_version": "1.2.0",
            "_view_name": "StyleView",
            "description_width": ""
          }
        }
      }
    }
  },
  "cells": [
    {
      "cell_type": "markdown",
      "metadata": {
        "id": "view-in-github",
        "colab_type": "text"
      },
      "source": [
        "<a href=\"https://colab.research.google.com/github/UKJaagadhep/Data-science-and-machine-learning/blob/main/Sentiment%20analysis%20with%20Transformer%20architecture%20(Encoder)%20and%20LSH%20(%20Locality%20Sensitive%20Hashing)%20Attention/Sentiment_analysis_with_Transformer_architecture_(Encoder)_and_LSH_(_Locality_Sensitive_Hashing)_Attention.ipynb\" target=\"_parent\"><img src=\"https://colab.research.google.com/assets/colab-badge.svg\" alt=\"Open In Colab\"/></a>"
      ]
    },
    {
      "cell_type": "code",
      "execution_count": null,
      "metadata": {
        "id": "frc6lcWsdRsv"
      },
      "outputs": [],
      "source": [
        "import tensorflow_datasets as tfds\n",
        "import tensorflow as tf\n",
        "import re\n",
        "from nltk.stem.porter import PorterStemmer\n",
        "from tensorflow.keras.layers import TextVectorization, Input, Embedding, Dense, Dropout, Flatten, Layer, MultiHeadAttention, LayerNormalization\n",
        "from tensorflow.keras.models import Sequential, Model\n",
        "from tensorflow.keras.losses import BinaryCrossentropy\n",
        "from tensorflow.keras.optimizers import Adam\n",
        "from tensorflow.keras.callbacks import ModelCheckpoint\n",
        "import numpy as np\n",
        "import string\n",
        "import matplotlib.pyplot as plt\n",
        "from numpy import random"
      ]
    },
    {
      "cell_type": "code",
      "source": [
        "train_ds, val_ds, test_ds = tfds.load('imdb_reviews', split = ['train', 'test[:50%]', 'test[50%:]'], as_supervised = True)"
      ],
      "metadata": {
        "colab": {
          "base_uri": "https://localhost:8080/",
          "height": 136,
          "referenced_widgets": [
            "3eb64fed1544440ba323c360e8e5567a",
            "238db1102e3341f7b3a18e5ad538a8f1",
            "69cb9c07b7104ab6ae32f6bf09beef43",
            "6861f99f919449aaa318f94a05f717ce",
            "1879887083ec449ead2db4a5b5d21afa",
            "d2069dbf97a94cb8b2fe13056ed2880f",
            "c84409d7ff004368959ada3b7caad54c",
            "62fe1aaadce94df8a304e23fefb91da6",
            "01a1a576b835420080d6cfe48af4fe43",
            "c4455b85133f49d9b1a3de6195a7c4cd",
            "179698f6f251403bae3883ee46ed67e2",
            "c8e24636eb2a4ec6a5c555a3795829a8",
            "80711f4f31ad441ea40c0a9b4e2c9fd6",
            "900d74121414488dad2465a66a79279b",
            "9c1c34b4c3f1428d9f6d54001db91d63",
            "5c7a16deeff54b51a52ca44ffd931bc8",
            "2cb0b7dc44ea4b038cffb03ae85b6913",
            "792003c9a3a0472492608170b587abf8",
            "f2299447667341f595073e4b100abb39",
            "4e010f018a2a48c183441cec396bc652",
            "40c290f13b054cc1a99bebe3c76998d8",
            "a2c53deca95e4fd4be7708d61078a29f",
            "2b972f0de84b4868afa1454423a1e32d",
            "45906571aa594ff29ca0b4272245b4a7",
            "1c63e9aa8f484483949346faab2c5d11",
            "e7c261df213642249a32debd1257061d",
            "3307bff5bf354fb58a6e31cec70681d4",
            "97bf35acf9964e31a18c0ed13cb1d0c5",
            "19fb96d2190d4fd8bfc96014bb56de78",
            "21944d2d019c469c8655a279bcc5ce65",
            "9aa31d19130d4eb59120baf890c6394f",
            "03cdfca769a34deb94384ee421bb464a",
            "5526da066df04ddbb0a1761990342598",
            "787bd71378014ea580fd82435df7a99a",
            "4953a0cf48ee4ce98c2f92f05883a3c6",
            "d423946a15034241aa81a9c295086648",
            "ae2117350ef14b96b4ddd13c0a28233d",
            "105000a477de4e1b9425d6b9f3ec1125",
            "b49055e4827d4f599e6fbf3e73265115",
            "54ef93182f1845248469ecc8139ebd4d",
            "233f2ee6c0d8479d99370858be28df56",
            "39e7aef61cba4bb4a1148ddb761c33e5",
            "6fb7ba7e61584a0cba0581735ea6df5e",
            "74464ec208e44bfb9daa0a673da3d9ce",
            "10b94be72ea04816a67fee4f2ba340cc",
            "5d508d3b860a4678b542df8699a9af0e",
            "2c3376c1fe91478581c426cee79d2fc3",
            "ef710d2d28ce440e82fadb2ed714992e",
            "2ec967f6e4504ea29020f0400329462d",
            "f6ede19d1f314ffda6f90851301c2e0c",
            "f9f02391e3a24c6582d7e8e4c090baf1",
            "6edb290f23d442df9a8693af6c800281",
            "771fb17df8e04faf9fbd60d2673d3652",
            "f1d1d92b156d4fa9bf7a9a972f39c1aa",
            "46853853466c42748abfe4b77189c1d7",
            "91ae5b3d56954c8aa287cc1d3964d6e6",
            "f9003e3414b14018a79ff942bdf4c424",
            "b8e0cd1a5f924d618f7119174580c3c2",
            "0127e53191a349b9a174a829e3be3025",
            "45440bc0f00040a3b5c2381eea51f802",
            "c61518ee47054ad49c9af64643a19719",
            "9704199b2c4f4e49a94f98028cba398a",
            "ebb60e41f99f466d8b83ee7f74094078",
            "eeca3222a88e48eaa827e53b7a983211",
            "1bb36ea0a1f04ee0b4ad2611f4957c68",
            "9665ba95ab0245879fb7bdcae47db28a",
            "7ca453ad3942463daa87144101d1def6",
            "40105d8a1a494ffbba5db0a2e1e91abf",
            "6c3995f8c7d2467682cd564e716dddb6",
            "746e4d636fee4070bdaa1426323b21e1",
            "233e3dd83f0b437b93337c7db1c9e8bb",
            "7d8ed26e9e7f4737a7d97f8b5647d117",
            "cf87fc43b93145008350aca70bf528a9",
            "9650f959543d4dd1b59467d703b1aaad",
            "01d0c00a6e77429b9a0fcf12f2108416",
            "5e31b2e2a9c347b2b110a53e933e23dd",
            "016f986f4507417ea6ec8ef285316cf7",
            "8802ba3b793b4130a59fb94a1ae67d1d",
            "64a3d614e491423fbf80b11ab916ebe7",
            "00702125ce004726bfdce266c22dcce8",
            "03b2da2522ff443a90aa52210e6d28a2",
            "40141134c42f4ebfb435aa6ed985a06d",
            "e45f1ba617c94f95a9b9d79af8bc18ad",
            "4fe3992bd8aa4a1fbb72fb78de5116cd",
            "8b87295135ee40928fdf916201b827b1",
            "5390b12be731436b936395cc0d40d036",
            "25ea14a89be44b3cae8adcecec7bf27a",
            "e46faa4752d54b5fafba784a77292e61",
            "433ae1777d0f470b8c4381c567a1b75d",
            "507af97ebb6f421cac5f4c92c25c92f9",
            "d8a0669685d049f2a5a2652cf9fe3e8f",
            "f99f5379fc5d40fb9020d131a6544105",
            "5f195cc71fe44158a31fb025efb1e59d",
            "4432a060dcf242e2853ba8c72cfeb8f5",
            "5370d0538c8443d38437e87124203f20",
            "3c00361d019e4ada82132cec8e3451f2",
            "f92146f8a50f4e1c98a525732e1fa5fc",
            "349c75f0041f41efa451ab82fbd82d1f",
            "4fc67bc4bb6040dcb1ec5b33dd156453"
          ]
        },
        "id": "x6HcfvpXdf-c",
        "outputId": "59635830-ce72-44bf-8e5a-9d9869d561ee"
      },
      "execution_count": null,
      "outputs": [
        {
          "output_type": "stream",
          "name": "stdout",
          "text": [
            "Downloading and preparing dataset 80.23 MiB (download: 80.23 MiB, generated: Unknown size, total: 80.23 MiB) to /root/tensorflow_datasets/imdb_reviews/plain_text/1.0.0...\n"
          ]
        },
        {
          "output_type": "display_data",
          "data": {
            "text/plain": [
              "Dl Completed...: 0 url [00:00, ? url/s]"
            ],
            "application/vnd.jupyter.widget-view+json": {
              "version_major": 2,
              "version_minor": 0,
              "model_id": "3eb64fed1544440ba323c360e8e5567a"
            }
          },
          "metadata": {}
        },
        {
          "output_type": "display_data",
          "data": {
            "text/plain": [
              "Dl Size...: 0 MiB [00:00, ? MiB/s]"
            ],
            "application/vnd.jupyter.widget-view+json": {
              "version_major": 2,
              "version_minor": 0,
              "model_id": "c8e24636eb2a4ec6a5c555a3795829a8"
            }
          },
          "metadata": {}
        },
        {
          "output_type": "display_data",
          "data": {
            "text/plain": [
              "Generating splits...:   0%|          | 0/3 [00:00<?, ? splits/s]"
            ],
            "application/vnd.jupyter.widget-view+json": {
              "version_major": 2,
              "version_minor": 0,
              "model_id": "2b972f0de84b4868afa1454423a1e32d"
            }
          },
          "metadata": {}
        },
        {
          "output_type": "display_data",
          "data": {
            "text/plain": [
              "Generating train examples...:   0%|          | 0/25000 [00:00<?, ? examples/s]"
            ],
            "application/vnd.jupyter.widget-view+json": {
              "version_major": 2,
              "version_minor": 0,
              "model_id": "787bd71378014ea580fd82435df7a99a"
            }
          },
          "metadata": {}
        },
        {
          "output_type": "display_data",
          "data": {
            "text/plain": [
              "Shuffling /root/tensorflow_datasets/imdb_reviews/plain_text/1.0.0.incompletePBB9H9/imdb_reviews-train.tfrecord…"
            ],
            "application/vnd.jupyter.widget-view+json": {
              "version_major": 2,
              "version_minor": 0,
              "model_id": "10b94be72ea04816a67fee4f2ba340cc"
            }
          },
          "metadata": {}
        },
        {
          "output_type": "display_data",
          "data": {
            "text/plain": [
              "Generating test examples...:   0%|          | 0/25000 [00:00<?, ? examples/s]"
            ],
            "application/vnd.jupyter.widget-view+json": {
              "version_major": 2,
              "version_minor": 0,
              "model_id": "91ae5b3d56954c8aa287cc1d3964d6e6"
            }
          },
          "metadata": {}
        },
        {
          "output_type": "display_data",
          "data": {
            "text/plain": [
              "Shuffling /root/tensorflow_datasets/imdb_reviews/plain_text/1.0.0.incompletePBB9H9/imdb_reviews-test.tfrecord*…"
            ],
            "application/vnd.jupyter.widget-view+json": {
              "version_major": 2,
              "version_minor": 0,
              "model_id": "7ca453ad3942463daa87144101d1def6"
            }
          },
          "metadata": {}
        },
        {
          "output_type": "display_data",
          "data": {
            "text/plain": [
              "Generating unsupervised examples...:   0%|          | 0/50000 [00:00<?, ? examples/s]"
            ],
            "application/vnd.jupyter.widget-view+json": {
              "version_major": 2,
              "version_minor": 0,
              "model_id": "8802ba3b793b4130a59fb94a1ae67d1d"
            }
          },
          "metadata": {}
        },
        {
          "output_type": "display_data",
          "data": {
            "text/plain": [
              "Shuffling /root/tensorflow_datasets/imdb_reviews/plain_text/1.0.0.incompletePBB9H9/imdb_reviews-unsupervised.t…"
            ],
            "application/vnd.jupyter.widget-view+json": {
              "version_major": 2,
              "version_minor": 0,
              "model_id": "433ae1777d0f470b8c4381c567a1b75d"
            }
          },
          "metadata": {}
        },
        {
          "output_type": "stream",
          "name": "stdout",
          "text": [
            "Dataset imdb_reviews downloaded and prepared to /root/tensorflow_datasets/imdb_reviews/plain_text/1.0.0. Subsequent calls will reuse this data.\n"
          ]
        }
      ]
    },
    {
      "cell_type": "code",
      "source": [
        "train_ds"
      ],
      "metadata": {
        "colab": {
          "base_uri": "https://localhost:8080/"
        },
        "id": "c2lWW2Atecbf",
        "outputId": "80f2d7db-177e-4723-e3ae-f31f8597cc0a"
      },
      "execution_count": null,
      "outputs": [
        {
          "output_type": "execute_result",
          "data": {
            "text/plain": [
              "<_PrefetchDataset element_spec=(TensorSpec(shape=(), dtype=tf.string, name=None), TensorSpec(shape=(), dtype=tf.int64, name=None))>"
            ]
          },
          "metadata": {},
          "execution_count": 3
        }
      ]
    },
    {
      "cell_type": "code",
      "source": [
        "for review, label in train_ds.take(5):\n",
        "  print(review)\n",
        "  print(label)"
      ],
      "metadata": {
        "colab": {
          "base_uri": "https://localhost:8080/"
        },
        "id": "dkUleO9_efaw",
        "outputId": "07f4fc4a-e2a0-41be-8880-4309aabd62e0"
      },
      "execution_count": null,
      "outputs": [
        {
          "output_type": "stream",
          "name": "stdout",
          "text": [
            "tf.Tensor(b\"This was an absolutely terrible movie. Don't be lured in by Christopher Walken or Michael Ironside. Both are great actors, but this must simply be their worst role in history. Even their great acting could not redeem this movie's ridiculous storyline. This movie is an early nineties US propaganda piece. The most pathetic scenes were those when the Columbian rebels were making their cases for revolutions. Maria Conchita Alonso appeared phony, and her pseudo-love affair with Walken was nothing but a pathetic emotional plug in a movie that was devoid of any real meaning. I am disappointed that there are movies like this, ruining actor's like Christopher Walken's good name. I could barely sit through it.\", shape=(), dtype=string)\n",
            "tf.Tensor(0, shape=(), dtype=int64)\n",
            "tf.Tensor(b'I have been known to fall asleep during films, but this is usually due to a combination of things including, really tired, being warm and comfortable on the sette and having just eaten a lot. However on this occasion I fell asleep because the film was rubbish. The plot development was constant. Constantly slow and boring. Things seemed to happen, but with no explanation of what was causing them or why. I admit, I may have missed part of the film, but i watched the majority of it and everything just seemed to happen of its own accord without any real concern for anything else. I cant recommend this film at all.', shape=(), dtype=string)\n",
            "tf.Tensor(0, shape=(), dtype=int64)\n",
            "tf.Tensor(b'Mann photographs the Alberta Rocky Mountains in a superb fashion, and Jimmy Stewart and Walter Brennan give enjoyable performances as they always seem to do. <br /><br />But come on Hollywood - a Mountie telling the people of Dawson City, Yukon to elect themselves a marshal (yes a marshal!) and to enforce the law themselves, then gunfighters battling it out on the streets for control of the town? <br /><br />Nothing even remotely resembling that happened on the Canadian side of the border during the Klondike gold rush. Mr. Mann and company appear to have mistaken Dawson City for Deadwood, the Canadian North for the American Wild West.<br /><br />Canadian viewers be prepared for a Reefer Madness type of enjoyable howl with this ludicrous plot, or, to shake your head in disgust.', shape=(), dtype=string)\n",
            "tf.Tensor(0, shape=(), dtype=int64)\n",
            "tf.Tensor(b'This is the kind of film for a snowy Sunday afternoon when the rest of the world can go ahead with its own business as you descend into a big arm-chair and mellow for a couple of hours. Wonderful performances from Cher and Nicolas Cage (as always) gently row the plot along. There are no rapids to cross, no dangerous waters, just a warm and witty paddle through New York life at its best. A family film in every sense and one that deserves the praise it received.', shape=(), dtype=string)\n",
            "tf.Tensor(1, shape=(), dtype=int64)\n",
            "tf.Tensor(b'As others have mentioned, all the women that go nude in this film are mostly absolutely gorgeous. The plot very ably shows the hypocrisy of the female libido. When men are around they want to be pursued, but when no \"men\" are around, they become the pursuers of a 14 year old boy. And the boy becomes a man really fast (we should all be so lucky at this age!). He then gets up the courage to pursue his true love.', shape=(), dtype=string)\n",
            "tf.Tensor(1, shape=(), dtype=int64)\n"
          ]
        }
      ]
    },
    {
      "cell_type": "markdown",
      "source": [
        "# **TEXT PREPROCESSING**"
      ],
      "metadata": {
        "id": "jk63iJIsjSda"
      }
    },
    {
      "cell_type": "code",
      "source": [
        "batch_size = 64"
      ],
      "metadata": {
        "id": "3TYaHWY0ehmV"
      },
      "execution_count": null,
      "outputs": []
    },
    {
      "cell_type": "code",
      "source": [
        "def standardization(input_data):\n",
        "  lower_case = tf.strings.lower(input_data)\n",
        "  no_html_tag = tf.strings.regex_replace(lower_case, \"<[^>]+>\", \"\")\n",
        "  no_punctuations = tf.strings.regex_replace(no_html_tag, \"[%s]\"%re.escape(string.punctuation), \"\")\n",
        "  output = no_punctuations\n",
        "  return output"
      ],
      "metadata": {
        "id": "qgpI82oyesuU"
      },
      "execution_count": null,
      "outputs": []
    },
    {
      "cell_type": "code",
      "source": [
        "#STEMMING EXAMPLE\n",
        "print(PorterStemmer().stem(\"discussion\"))\n",
        "print(PorterStemmer().stem(\"Discussion\"))\n",
        "print(PorterStemmer().stem(\"discussing\"))\n",
        "print(PorterStemmer().stem(\"discussed\"))"
      ],
      "metadata": {
        "colab": {
          "base_uri": "https://localhost:8080/"
        },
        "id": "DIFDPONDeu3I",
        "outputId": "a04fbcdf-8d51-4b1a-e972-2fcdfca9f5ca"
      },
      "execution_count": null,
      "outputs": [
        {
          "output_type": "stream",
          "name": "stdout",
          "text": [
            "discuss\n",
            "discuss\n",
            "discuss\n",
            "discuss\n"
          ]
        }
      ]
    },
    {
      "cell_type": "code",
      "source": [
        "print(PorterStemmer().stem(\"tensed\")) #May not necessarily give a meaningful output\n",
        "print(PorterStemmer().stem(\"tensing\"))\n",
        "print(PorterStemmer().stem(\"tension\"))"
      ],
      "metadata": {
        "colab": {
          "base_uri": "https://localhost:8080/"
        },
        "id": "DaiV8ttBew_s",
        "outputId": "2eeb83a1-6d54-4f70-e019-272da8929c01"
      },
      "execution_count": null,
      "outputs": [
        {
          "output_type": "stream",
          "name": "stdout",
          "text": [
            "tens\n",
            "tens\n",
            "tension\n"
          ]
        }
      ]
    },
    {
      "cell_type": "code",
      "source": [
        "sequence_length = 250\n",
        "max_tokens = 10000"
      ],
      "metadata": {
        "id": "4sXjqIvhe0wI"
      },
      "execution_count": null,
      "outputs": []
    },
    {
      "cell_type": "code",
      "source": [
        "vectorization_layer = TextVectorization(\n",
        "    standardize = standardization, #Calling user defined method\n",
        "    output_sequence_length = sequence_length,\n",
        "    max_tokens = max_tokens,\n",
        "    output_mode = 'int'\n",
        ")"
      ],
      "metadata": {
        "id": "kszm3LVYe3YQ"
      },
      "execution_count": null,
      "outputs": []
    },
    {
      "cell_type": "code",
      "source": [
        "training_data = train_ds.map(lambda x, y : x) # Takes in x (reviews) and y (labels) and outputs only x (reviews)\n",
        "vectorization_layer.adapt(training_data) #Text Vectorization"
      ],
      "metadata": {
        "id": "v1RIZPq2e49S"
      },
      "execution_count": null,
      "outputs": []
    },
    {
      "cell_type": "code",
      "source": [
        "print(vectorization_layer.get_vocabulary())\n",
        "print(len(vectorization_layer.get_vocabulary()))"
      ],
      "metadata": {
        "colab": {
          "base_uri": "https://localhost:8080/"
        },
        "id": "_4XBL3zJe69c",
        "outputId": "96850073-cd18-4b90-f641-04fbee6861ab"
      },
      "execution_count": null,
      "outputs": [
        {
          "output_type": "stream",
          "name": "stdout",
          "text": [
            "['', '[UNK]', 'the', 'and', 'a', 'of', 'to', 'is', 'in', 'it', 'this', 'i', 'that', 'was', 'as', 'with', 'for', 'movie', 'but', 'film', 'on', 'not', 'are', 'you', 'his', 'have', 'be', 'he', 'one', 'its', 'at', 'all', 'by', 'an', 'they', 'who', 'from', 'like', 'so', 'her', 'or', 'just', 'about', 'has', 'out', 'if', 'some', 'what', 'there', 'good', 'more', 'very', 'when', 'she', 'even', 'up', 'no', 'would', 'my', 'which', 'only', 'time', 'really', 'story', 'their', 'were', 'had', 'see', 'can', 'me', 'than', 'we', 'much', 'been', 'get', 'well', 'will', 'into', 'because', 'people', 'other', 'also', 'do', 'bad', 'great', 'how', 'first', 'most', 'him', 'dont', 'made', 'movies', 'then', 'films', 'make', 'could', 'way', 'them', 'any', 'too', 'after', 'characters', 'think', 'watch', 'two', 'many', 'being', 'seen', 'character', 'never', 'little', 'acting', 'plot', 'where', 'best', 'love', 'did', 'know', 'life', 'show', 'does', 'ever', 'your', 'better', 'over', 'still', 'off', 'end', 'these', 'say', 'man', 'here', 'scene', 'why', 'such', 'scenes', 'while', 'go', 'should', 'something', 'through', 'back', 'those', 'im', 'doesnt', 'real', 'watching', 'years', 'thing', 'actors', 'though', 'didnt', 'new', 'actually', 'makes', 'before', 'nothing', 'now', 'find', 'another', 'work', 'funny', 'few', 'look', 'old', 'going', 'same', 'lot', 'every', 'us', 'part', 'again', 'cant', 'director', 'quite', 'cast', 'want', 'thats', 'pretty', 'things', 'seems', 'young', 'got', 'around', 'fact', 'down', 'world', 'take', 'enough', 'between', 'give', 'may', 'both', 'big', 'horror', 'thought', 'original', 'own', 'however', 'ive', 'without', 'gets', 'always', 'series', 'right', 'isnt', 'long', 'saw', 'come', 'almost', 'times', 'least', 'role', 'point', 'action', 'must', 'whole', 'interesting', 'bit', 'comedy', 'family', 'theres', 'done', 'music', 'script', 'anything', 'might', 'last', 'hes', 'guy', 'feel', 'minutes', 'far', 'since', 'probably', 'performance', 'am', 'kind', 'rather', 'worst', 'away', 'yet', 'sure', 'tv', 'woman', 'making', 'girl', 'each', 'found', 'fun', 'played', 'anyone', 'our', 'comes', 'believe', 'having', 'trying', 'course', 'especially', 'goes', 'day', 'looks', 'shows', 'hard', 'although', 'different', 'put', 'wasnt', 'place', 'book', 'money', 'reason', 'sense', 'main', 'set', 'ending', 'looking', 'worth', 'true', 'once', 'watched', 'everything', 'plays', 'maybe', 'someone', 'job', 'actor', 'seem', 'said', 'takes', 'screen', 'dvd', 'three', 'play', 'together', 'beautiful', 'effects', 'during', 'instead', 'himself', 'later', '10', 'version', 'john', '2', 'left', 'everyone', 'seeing', 'audience', 'special', 'night', 'house', 'american', 'excellent', 'idea', 'wife', 'nice', 'simply', 'shot', 'youre', 'read', 'high', 'less', 'completely', 'black', 'help', 'else', 'kids', 'fan', 'war', 'used', 'star', 'poor', 'second', 'year', 'given', 'father', 'try', 'death', 'friends', 'need', 'use', 'rest', 'home', 'men', 'enjoy', 'performances', 'mind', 'short', 'classic', 'until', 'either', 'truly', 'hollywood', 'boring', 'along', 'half', 'wrong', 'dead', 'tell', 'production', 'line', 'women', 'couple', 'remember', 'came', 'start', 'recommend', 'next', 'understand', 'wonderful', 'full', 'getting', 'mean', 'others', 'stupid', 'let', 'moments', 'playing', 'keep', 'perhaps', 'awful', 'episode', 'camera', 'terrible', 'small', 'gives', 'stars', 'doing', 'sex', 'often', 'video', 'definitely', 'early', 'perfect', 'become', 'name', 'felt', 'school', 'face', 'human', 'supposed', 'couldnt', 'liked', 'lines', 'dialogue', 'piece', 'person', 'itself', 'lost', 'top', 'absolutely', 'case', 'against', 'went', 'entire', 'live', 'certainly', 'waste', 'sort', 'shes', 'head', 'budget', 'written', 'style', 'finally', 'hope', 'problem', 'picture', 'several', 'loved', 'evil', 'yes', 'title', 'worse', 'becomes', 'entertaining', 'cinema', 'mr', 'seemed', 'white', 'beginning', 'fans', 'boy', 'already', 'care', 'wanted', '\\x96', 'example', 'dark', 'based', 'lives', 'id', 'guys', 'killer', 'mother', 'friend', 'direction', 'throughout', 'totally', 'wont', 'turn', 'fine', 'wants', 'children', 'final', 'amazing', 'laugh', 'drama', 'girls', 'guess', 'lead', '3', 'tries', 'called', 'humor', 'sound', 'youll', 'writing', 'low', 'under', 'despite', 'works', 'turns', 'history', 'able', 'enjoyed', 'oh', 'behind', 'theyre', 'unfortunately', 'michael', 'past', 'quality', 'days', 'gave', 'starts', 'favorite', 'son', 'kill', 'game', 'act', '1', 'sometimes', 'town', 'viewer', 'side', 'parts', 'horrible', 'car', 'actress', 'child', 'ones', 'eyes', 'expect', 'soon', 'flick', 'themselves', 'heart', 'art', 'thinking', 'obviously', 'brilliant', 'stories', 'decent', 'feeling', 'myself', 'genre', 'run', 'late', 'directed', 'overall', 'stuff', 'blood', 'fight', 'says', 'close', 'city', 'took', 'heard', 'cannot', 'highly', 'hand', 'leave', 'except', 'killed', 'kid', 'matter', 'ill', 'moment', 'police', 'hell', 'wouldnt', 'extremely', 'roles', 'strong', 'happens', 'particularly', 'hour', 'lack', 'happened', 'involved', 'attempt', 'obvious', 'told', 'chance', 'living', 'wonder', 'james', 'violence', 'including', 'etc', 'complete', 'voice', 'murder', 'coming', 'daughter', 'group', 'looked', 'age', 'save', 'experience', 'type', 'simple', 'alone', 'number', 'exactly', 'slow', 'shown', 'happen', 'ago', 'god', 'interest', 'score', 'whose', 'brother', 'taken', 'none', 'serious', 'usually', 'across', 'stop', 'hours', 'cinematography', 'annoying', 'running', 'somewhat', 'song', 'known', 'opening', 'ends', 'musical', 'usual', 'sad', 'finds', 'career', 'yourself', 'hit', 'wish', 'started', 'released', 'huge', 'relationship', 'scary', 'gore', 'possible', 'please', 'lets', 'order', 'jokes', 'change', 'david', 'crap', 'saying', 'shots', 'reality', 'english', 'ridiculous', 'hilarious', 'novel', 'episodes', 'mostly', 'cool', 'cut', 'body', 'today', 'ok', 'female', 'major', 'opinion', 'talking', 'seriously', 'taking', 'call', 'robert', 'strange', 'directors', 'due', 'important', 'supporting', 'hero', 'knows', 'knew', 'view', 'documentary', 'power', 'events', 'turned', 'happy', 'apparently', 'husband', 'clearly', 'talent', 'songs', 'arent', 'level', 'room', 'british', 'single', 'king', 'tells', 'local', 'easily', 'attention', 'basically', 'word', 'anyway', '5', 'bring', 'words', 'problems', 'cheap', 'silly', 'sequence', 'television', 'modern', 'disappointed', 'light', 'falls', 'sets', 'future', 'four', 'similar', 'beyond', 'country', 'whether', 'miss', 'five', 'needs', 'appears', 'romantic', '4', 'giving', 'jack', 'viewers', 'predictable', 'earth', 'comic', 'upon', 'entertainment', 'talk', 'rating', 'within', 'paul', 'havent', 'review', 'feels', 'whats', 'message', 'mention', 'george', 'nearly', 'enjoyable', 'bunch', 'theater', 'lady', 'animation', 'storyline', 'rock', 'richard', 'actual', 'points', 'surprised', 'middle', 'moving', 'named', 'above', 'using', 'theme', 'lots', 'herself', 'dull', 'mystery', 'add', 'begins', 'ways', 'sequel', 'among', 'fantastic', 'typical', 'ten', 'showing', 'elements', 'york', 'easy', 'comments', 'thriller', 'team', 'stay', 'writer', 'tried', 'fall', 'effort', 'clear', 'certain', 'near', 'hate', 'release', 'french', 'famous', 'tale', 'parents', 'means', 'leads', 'kept', 'straight', 'working', 'greatest', 'buy', 'dialog', 'soundtrack', 'somehow', 'form', 'class', 'doubt', 'general', 'red', 'editing', 'weak', 'sister', 'brought', 'figure', 'peter', 'feature', 'oscar', 'season', 'material', 'hear', 'gone', 'filmed', 'whos', 'particular', 'viewing', 'sorry', 'learn', 'realistic', 'move', 'tom', 'check', 'atmosphere', 'youve', 'reviews', 'decided', 'sequences', 'fast', 'period', 'imagine', 'possibly', 'eventually', 'deal', 'lame', 'became', 'premise', 'follow', 'dance', 'space', 'de', 'stand', 'avoid', 'eye', 'difficult', 'sit', 'wait', 'lee', 'poorly', 'forget', 'expected', 'zombie', 'die', 'sexual', 'japanese', 'indeed', 'writers', 'surprise', 'crime', 'third', 'nature', 'nor', 'leaves', 'average', '80s', 'subject', 'suspense', 'stage', 'killing', 'believable', 'whatever', 'truth', 'needed', 'filmmakers', 'screenplay', 'rent', 'meets', 'reading', 'meet', 'boys', 'begin', 'question', 'romance', 'street', 'realize', 'emotional', 'forced', 'memorable', 'joe', 'write', 'superb', 'minute', 'dr', 'older', 'keeps', 'earlier', 'situation', 'interested', 'baby', 'whom', 'weird', 'footage', 'credits', 'features', 'dramatic', 'beauty', 'disney', 'shame', 'otherwise', 'towards', 'dog', 'previous', 'badly', 'ask', 'note', 'brings', 'hot', 'crazy', 'comment', 'okay', 'personal', 'male', 'worked', 'total', 'plenty', 'incredibly', 'sounds', 'perfectly', 'directing', 'admit', 'unless', 'society', 'result', 'cheesy', 'unique', 'quickly', 'laughs', 'deep', 'america', 'free', 'creepy', 'development', 'leading', 'appear', 'return', 'meant', 'hardly', 'brothers', 'plus', 'hands', 'open', '20', 'various', 'effect', 'casting', 'remake', 'imdb', 'create', 'b', 'mark', 'setting', 'christmas', 'mess', 'battle', 'scifi', 'potential', 'background', 'monster', 'forward', 'powerful', 'portrayed', 'dream', 'inside', '70s', 'business', 'outside', 'fairly', 'manages', 'ideas', 'missing', 'fails', 'expecting', 'bill', 'present', 'political', 'attempts', 'apart', 'deserves', 'twist', 'la', 'secret', 'dumb', 'jane', 'fire', 'fantasy', 'joke', 'fighting', 'pay', 'air', 'gay', 'front', 'masterpiece', 'married', 'rich', 'reasons', 'copy', 'box', 'recently', 'agree', 'nudity', 'break', 'ben', 'acted', 'talented', 'success', 'plain', 'william', 'cute', 'western', 'telling', 'match', 'further', 'villain', 'pure', 'missed', 'incredible', 'odd', 'girlfriend', 'doctor', 'crew', 'caught', 'decides', 'cop', 'social', 'large', 'waiting', 'sees', 'mentioned', 'sadly', 'uses', 'unlike', 'members', 'following', 'flat', 'popular', 'hold', 'ended', 'slightly', 'wasted', 'public', 'pace', 'considering', 'wrote', 'sweet', 'spent', 'suddenly', 'kills', 'entirely', 'neither', 'compared', 'created', 'rate', 'intelligent', 'familiar', 'audiences', 'office', 'cause', 'convincing', 'visual', 'tension', 'bored', 'party', 'escape', 'clever', 'era', 'moves', 'cartoon', 'list', 'biggest', 'scott', 'revenge', 'laughing', 'credit', 'basic', 'successful', 'fear', 'recent', 'island', 'positive', 'gun', 'violent', 'trouble', 'spend', 'spirit', 'mary', 'cover', 'consider', 'choice', 'books', 'appreciate', 'zombies', 'water', 'died', 'dancing', 'cold', 'speak', 'singing', 'former', 'science', 'portrayal', 'concept', 'younger', 'filled', 'value', 'adult', 'state', 'solid', 'produced', 'common', 'bizarre', 'werent', 'amount', 'walk', 'ultimately', 'focus', 'exciting', 'animated', 'showed', 'language', 'effective', 'band', 'german', 'amusing', 'italian', 'producers', 'fit', 'follows', 'runs', 'considered', 'van', 'impossible', 'impressive', 'decide', 'chemistry', 'cat', 'tone', 'won', 'pointless', 'company', 'store', 'depth', 'win', 'barely', 'situations', 'control', 'studio', 'project', 'mad', 'changed', '15', 'prison', 'leaving', 'college', 'sick', 'force', '8', '12', 'somewhere', 'respect', 'hair', 'trip', 'awesome', 'century', 'longer', 'likes', 'failed', 'slasher', 'shooting', 'planet', 'questions', 'involving', 'charming', 'surprisingly', 'honest', 'trash', 'disturbing', 'generally', 'accent', 'starring', 'literally', 'immediately', 'images', 'values', 'tony', '30', 'utterly', 'south', 'fake', 'bought', 'ghost', 'touch', 'recommended', 'pictures', 'steve', 'magic', 'west', 'natural', 'ability', '7', 'pathetic', 'glad', 'aspect', 'sitting', 'adventure', 'adaptation', 'computer', 'thanks', 'explain', 'culture', 'normal', 'frank', 'appearance', 'fair', 'conclusion', 'camp', 'tough', 'cult', 'stick', 'jim', 'alive', 'aside', 'remains', 'rare', 'thinks', 'knowing', 'dad', 'catch', 'appeal', 'meaning', 'silent', 'army', 'genius', 'added', 'terms', 'managed', 'humour', 'detective', 'taste', 'sam', 'garbage', 'walking', 'soldiers', 'sexy', 'military', 'twists', 'standard', 'smith', 'dreams', '100', 'subtle', 'loves', 'london', 'comedies', 'beautifully', 'attack', 'personally', 'journey', 'nowhere', 'honestly', 'yeah', 'woods', 'touching', 'purpose', 'pick', 'naked', 'likely', 'complex', 'harry', 'equally', 'wild', 'channel', 'terrific', 'excuse', 'mood', 'fully', 'plan', 'master', 'lovely', 'narrative', 'chase', 'road', 'cinematic', 'themes', 'fiction', 'constantly', 'central', 'surely', 'contains', 'issues', 'week', 'unbelievable', 'slowly', 'self', 'outstanding', 'nobody', 'brain', 'thrown', 'presented', 'painful', 'innocent', 'pass', 'batman', 'youd', 'presence', 'disappointing', 'spoilers', 'marriage', 'historical', 'date', 'animals', 'thus', 'thank', 'stunning', 'impression', 'places', 'makers', 'laughable', 'hoping', 'shoot', 'critics', 'costumes', 'club', 'stands', 'mysterious', 'mistake', 'details', 'photography', 'edge', 'sent', 'justice', 'indian', 'christopher', 'chris', 'charm', 'soul', 'charles', 'minor', 'ride', 'finish', 'door', 'aspects', 'makeup', 'law', 'exception', 'brief', 'heavy', 'climax', 'stewart', 'government', 'feelings', 'vampire', 'suppose', 'pieces', 'manner', 'mainly', 'expectations', 'element', 'color', 'boss', 'train', 'support', 'scenery', 'opportunity', 'gang', 'festival', 'names', 'filming', 'loud', 'bother', 'acts', 'victims', 'paris', 'cry', 'track', 'puts', 'smart', 'serial', 'intended', 'changes', 'fascinating', 'falling', 'drawn', 'award', 'throw', 'emotions', 'available', 'tired', 'suggest', 'charlie', 'victim', 'include', 'disappointment', 'church', 'hey', 'blue', 'twice', 'rated', 'hasnt', 'emotion', 'confused', 'building', 'likable', 'henry', 'hotel', 'ahead', 'compelling', 'motion', 'green', 'followed', 'appeared', '9', 'students', 'image', 'giant', 'dies', 'developed', 'pain', 'laughed', 'lacks', 'mans', 'gorgeous', 'approach', 'share', 'impact', 'everybody', 'difference', 'besides', 'offer', 'million', 'hurt', 'forever', 'fellow', 'wow', 'fresh', 'bruce', 'bed', 'trailer', 'merely', 'wondering', 'proves', 'happening', '6', 'speaking', 'moral', 'kelly', 'finding', 'drive', 'confusing', 'shock', 'relationships', 'helps', 'bar', 'answer', 'adults', 'system', 'supposedly', 'random', 'funniest', 'putting', 'notice', 'jerry', 'creative', 'student', 'numbers', 'murders', 'mix', 'key', 'delivers', 'noir', 'jones', 'christian', 'provides', 'opera', 'lighting', 'paid', 'mediocre', 'damn', 'bottom', 'born', 'billy', 'zero', 'negative', 'lived', 'event', 'addition', 'absolute', 'park', 'impressed', 'fell', 'drug', 'content', 'becoming', 'tragedy', 'thoroughly', 'offers', 'gem', 'alien', 'summer', 'producer', 'flying', 'reminded', 'lover', 'land', 'flicks', 'childhood', 'boyfriend', 'imagination', 'hospital', 'stuck', 'seemingly', 'lose', 'flaws', 'attractive', 'race', 'tragic', 'ii', 'ugly', 'rented', 'extreme', 'six', 'nasty', 'holes', 'held', 'americans', 'agent', '90', 'standards', 'spot', 'shouldnt', 'page', 'ms', 'adds', 'williams', 'rape', 'martin', 'intense', 'beat', 'pull', 'hidden', 'faces', 'detail', 'asks', 'artistic', 'afraid', 'filmmaker', 'turning', 'seconds', 'ray', 'porn', 'folks', 'step', 'games', 'arthur', 'industry', 'collection', 'super', 'states', 'shocking', 'onto', 'latter', 'describe', 'affair', 'picked', 'forgotten', 'angry', 'al', 'therefore', 'teenage', 'davis', 'alan', 'ready', 'area', 'actresses', 'redeeming', 'mom', 'led', 'favourite', 'grade', 'design', 'deliver', 'wooden', 'information', 'count', 'soldier', 'seven', 'dirty', 'allowed', 'thin', 'struggle', 'queen', 'compare', 'carry', 'willing', 'inspired', 'includes', 'chinese', 'brian', 'personality', 'news', 'moved', 'lord', 'location', 'ground', 'apartment', 'helped', 'fashion', 'deeply', 'animal', 'intelligence', 'desperate', 'bond', 'wonderfully', 'wars', 'quick', 'martial', 'allen', 'listen', 'uncle', 'member', 'direct', 'criminal', 'professional', 'grace', 'cliché', 'began', 'stephen', 'scientist', 'food', 'cops', 'castle', 'captain', 'jason', 'creature', 'clothes', 'worthy', 'todays', 'rarely', 'phone', 'mental', 'introduced', 'double', 'cgi', 'wearing', 'theatre', 'spoiler', 'necessary', 'humans', 'realized', 'plane', 'independent', 'comedic', 'anymore', 'fox', 'dying', 'drugs', 'don', 'commentary', 'apparent', 'trust', 'tears', 'superior', 'provide', 'physical', 'energy', 'wall', 'technical', 'allow', 'treat', 'ship', 'epic', 'desire', 'continue', 'sky', 'remarkable', 'nightmare', 'unusual', 'sight', 'mouth', 'arts', 'stone', 'filmmaking', 'accident', 'scared', 'returns', 'powers', 'limited', 'whatsoever', 'station', 'ring', 'reminds', 'heroes', 'engaging', 'bloody', 'accept', '60s', 'witch', 'suspect', 'pleasure', 'holds', 'douglas', 'wedding', 'search', 'danny', 'actions', 'tim', 'teacher', 'surprising', 'machine', 'intriguing', 'hated', 'build', 'brutal', 'wanting', 'disaster', 'asked', 'academy', 'sleep', 'russian', 'clichés', 'unnecessary', 'vision', 'pacing', 'grand', 'fred', 'finished', 'constant', 'bits', 'ie', 'suicide', 'sat', 'religious', 'process', 'artist', 'passion', 'normally', 'nicely', 'lies', 'legend', 'johnny', 'extra', 'absurd', 'warning', 'roll', 'monsters', 'anywhere', 'suit', 'media', 'lovers', 'killers', 'gotten', 'blame', 'anybody', 'joy', 'joan', 'growing', 'faith', 'explanation', 'watchable', 'toward', 'instance', 'deserve', 'dangerous', 'players', 'met', 'memory', 'ladies', 'ed', 'winning', 'villains', 'unknown', 'skip', 'quiet', 'torture', 'hadnt', 'andy', 'smile', 'higher', 'eddie', 'capture', 'accurate', '40', 'somebody', 'pilot', 'jump', 'heads', 'cars', 'hopes', 'heaven', 'according', 'nick', 'jr', 'fail', 'exist', 'creating', 'community', 'river', 'jeff', 'guns', 'friendship', 'responsible', 'fights', 'vs', 'teen', 'saved', 'record', 'featuring', 'worlds', 'pulled', 'originally', 'moon', 'kevin', 'england', 'dick', 'understanding', 'terribly', 'taylor', 'superman', 'starting', 'months', 'lowbudget', 'whilst', 'treated', 'reviewers', 'manage', 'kinda', 'keeping', 'explained', 'european', 'dressed', 'radio', 'numerous', 'mixed', 'memories', 'jesus', 'hits', 'finest', 'adam', 'tarzan', 'prince', 'loving', 'knowledge', 'judge', 'player', 'officer', 'lacking', 'issue', 'unfunny', 'private', 'pop', 'delightful', '50', 'vhs', 'sucks', 'prove', 'jackson', 'horse', 'fat', 'eat', 'discover', 'deserved', 'bland', 'whenever', 'screaming', 'price', 'loose', 'forces', 'floor', 'witty', 'streets', 'sign', 'regular', 'psychological', 'pretentious', 'ordinary', 'loss', 'japan', 'included', 'field', 'spanish', 'peoples', 'opposite', 'jean', 'heroine', 'drunk', 'weve', 'portray', 'loses', 'humanity', 'empty', 'driving', 'dated', 'conflict', 'cable', 'broken', 'skills', 'opens', 'noticed', 'mike', 'bright', 'locations', 'gene', 'cuts', 'bigger', 'talents', 'discovered', 'calls', 'cage', 'breaks', 'aware', 'wind', 'saving', 'partner', 'international', 'deals', 'continues', 'morning', 'mine', 'humorous', 'heres', 'dealing', 'captured', 'blonde', 'youth', 'werewolf', 'visit', 'theyve', 'scream', 'length', 'fate', 'c', 'ball', 'traditional', 'soap', 'plots', 'magnificent', 'gold', 'gags', 'curious', 'connection', 'rubbish', 'results', 'received', 'nonsense', 'miles', 'golden', 'genuine', 'current', 'concerned', 'shallow', 'satire', 'realism', 'perspective', 'naturally', 'murdered', 'debut', 'allows', 'advice', 'versions', 'sing', 'learned', 'occasionally', 'kate', 'genuinely', 'below', 'behavior', 'proved', 'lesson', 'kong', 'jimmy', 'grew', 'bob', 'blind', 'bank', '90s', '1950s', 'stock', 'revealed', 'national', 'mission', 'fathers', 'context', 'visuals', 'ultimate', 'sheer', 'essentially', 'corny', 'cameo', 'anthony', 'washington', 'vampires', 'unexpected', 'unable', 'sean', 'santa', 'mrs', 'morgan', 'underrated', 'shop', 'formula', 'favor', 'develop', 'visually', 'steal', 'remembered', 'owner', 'frankly', 'study', 'reach', 'luck', 'ford', 'finale', 'efforts', 'ages', 'window', 'village', 'survive', 'sudden', 'references', 'keaton', 'jennifer', 'identity', 'harris', 'gonna', 'decade', 'cross', 'albert', 'strength', 'segment', 'sea', 'program', 'passed', 'discovers', 'awkward', 'wise', 'spectacular', 'singer', 'gary', 'desert', 'crappy', 'brilliantly', 'welles', 'sake', 'majority', 'logic', 'gangster', 'existence', 'candy', 'awards', 'types', 'sisters', 'leader', 'ice', 'delivered', 'board', 'ann', 'stereotypes', 'standing', 'flashbacks', 'creates', 'bet', 'utter', 'relate', 'reaction', 'ran', 'lake', 'insane', 'caused', 'trek', 'sucked', 'rob', 'pair', 'meeting', 'gratuitous', 'graphic', 'grant', 'daughters', 'speed', 'relief', 'painfully', 'lucky', 'foreign', 'dreadful', 'boat', 'travel', 'practically', 'families', 'emotionally', 'edited', 'pleasant', 'fault', 'eric', 'devil', 'described', 'author', 'technology', 'site', 'robin', 'reviewer', 'freedom', 'failure', 'endless', 'decision', 'seasons', 'portrays', 'overly', 'native', 'comparison', 'combination', 'assume', 'ancient', 'thomas', 'test', 'rules', 'president', 'feet', 'attitude', 'anime', 'aka', 'vehicle', 'treatment', 'proper', 'hearing', 'wide', 'twenty', 'stopped', 'sell', 'range', 'portraying', 'parody', 'foot', 'eating', 'dan', 'commercial', 'choose', 'asking', 'uk', 'steven', 'simon', 'marry', 'learns', 'laughter', 'howard', 'executed', 'chosen', 'capable', 'brown', 'believes', 'bear', 'tape', 'largely', 'involves', 'gory', 'fill', 'excited', 'classics', 'buddy', 'wood', 'recall', 'produce', 'lynch', 'hitler', 'grow', 'evening', 'barbara', 'wit', 'religion', 'product', 'broadway', 'unrealistic', 'sheriff', 'luke', 'levels', 'entertained', 'contrived', 'center', 'anna', 'theatrical', 'theaters', 'ruined', 'round', 'model', 'kick', 'halloween', 'drew', 'clue', '50s', 'strongly', 'sequels', 'rescue', 'irritating', 'haunting', 'depressing', 'costs', 'contrast', 'suffering', 'handsome', 'claim', 'built', 'appealing', 'sympathetic', 'sports', 'research', 'individual', 'heck', 'destroy', 'd', 'talks', 'shakespeare', 'rose', 'rise', 'r', 'protagonist', 'hill', 'generation', 'extras', 'embarrassing', 'disgusting', 'clean', 'captures', 'appropriate', 'tend', 'losing', 'facts', 'evidence', 'dry', '1010', 'victor', 'post', 'parker', 'fame', 'chick', 'woody', 'voices', 'naive', 'matters', 'joseph', 'hunter', 'hanging', 'grown', 'football', 'daniel', 'chief', 'bringing', 'asian', 'walks', 'training', 'scare', 'roy', 'relatively', 'nevertheless', 'horribly', 'exploitation', 'costume', 'cares', '11', 'virtually', 'thoughts', 'steals', 'spoil', 'priest', 'obsessed', 'haunted', 'freddy', 'france', 'fits', 'correct', 'convinced', 'canadian', 'teenagers', 'safe', 'promise', 'matt', 'mask', 'insult', 'frame', 'creatures', 'vote', 'teenager', 'saturday', 'pity', 'fly', 'dogs', 'crowd', 'cost', 'bomb', 'send', 'satisfying', 'remain', 'lousy', 'initial', 'halfway', 'excitement', 'dubbed', 'depicted', 'cash', 'till', 'ryan', 'patrick', 'amateurish', 'alex', '1970s', 'winner', 'united', 'tiny', 'texas', 'tedious', 'lower', 'louis', 'influence', 'holding', 'hide', 'gordon', 'germany', 'europe', 'contemporary', 'angel', 'unlikely', 'unfortunate', 'substance', 'soft', 'psycho', 'nominated', 'jackie', 'cowboy', 'circumstances', 'asleep', 'weekend', 'touches', 'presents', 'oliver', 'lewis', 'hopefully', 'flesh', 'closer', 'bodies', 'baseball', 'witness', 'walter', 'viewed', 'serves', 'provided', 'max', 'marie', 'lawyer', 'drag', 'danger', 'continuity', 'australian', 'trilogy', 'suffers', 'meanwhile', 'handled', 'fool', 'f', 'cartoons', 'amateur', 'weeks', 'surreal', 'structure', 'source', 'sons', 'shocked', 'ruin', 'reporter', 'repeated', 'refreshing', 'nancy', 'fare', 'cinderella', 'chose', 'category', 'brave', 'supernatural', 'seat', 'politics', 'plans', 'offensive', 'latest', 'hunt', 'fu', 'display', 'africa', 'accidentally', 'wayne', 'warm', 'studios', 'roger', 'pile', 'overthetop', 'north', 'market', 'deaths', 'angles', 'target', 'surprises', 'speaks', 's', 'robot', 'realizes', 'qualities', 'promising', 'previously', 'colors', 'claims', 'bugs', 'anne', 'storytelling', 'harsh', 'factor', 'experiences', 'deadly', 'convince', 'adventures', 'accents', 'designed', 'covered', 'artists', 'wouldve', 'welcome', 'speech', 'skin', 'service', 'recognize', 'lesbian', 'hall', 'draw', 'believed', 'rental', 'professor', 'movement', 'mainstream', 'highlight', 'degree', 'victoria', 'uninteresting', 'sinatra', 'routine', 'propaganda', 'occasional', 'mistakes', 'hat', 'columbo', 'walked', 'universal', 'twisted', 'struggling', 'rain', 'minds', 'magical', 'guilty', 'directly', 'aliens', 'veteran', 'nude', 'massive', 'kinds', 'invisible', 'friday', 'focused', 'explains', 'downright', 'combined', 'breaking', 'teens', 'sympathy', 'section', 'print', 'princess', 'paper', 'inner', 'edward', 'committed', 'remotely', 'offered', 'narration', 'moore', 'ass', 'treasure', 'suspenseful', 'sorts', 'prime', 'peace', 'multiple', 'j', 'irish', 'gritty', 'featured', 'express', 'experienced', 'enemy', 'whoever', 'universe', 'spends', 'sharp', 'reveal', 'regret', 'lonely', 'legendary', 'kim', 'insight', 'frightening', 'execution', 'atrocious', '1980s', 'variety', 'reputation', 'performed', 'hong', 'figured', 'exact', 'dollars', 'abuse', '25', 'surface', 'stolen', 'rings', 'prior', 'path', 'forgettable', 'figures', 'fictional', 'false', 'bothered', 'birth', 'anger', 'theory', 'subtitles', 'spy', 'pulls', 'passing', 'hired', 'ghosts', 'forest', 'fairy', 'enter', 'dozen', 'darkness', 'crying', 'crash', 'core', 'conversation', 'abandoned', 'statement', 'security', 'russell', 'reveals', 'required', 'paint', 'paced', 'granted', 'erotic', 'donald', 'anderson', 'wilson', 'urban', 'trapped', 'terror', 'stays', 'stayed', 'significant', 'powell', 'mountain', 'melodrama', 'hed', 'effectively', 'drop', 'cutting', 'blow', 'worthwhile', 'slapstick', 'paying', 'gas', 'eight', 'demons', 'crude', 'von', 'rights', 'proud', 'mere', 'grim', 'focuses', 'buying', 'wear', 'spite', 'quest', 'necessarily', 'lights', 'grave', 'beach', 'african', 'account', 'unconvincing', 'scale', 'listening', 'jobs', 'heavily', 'forth', 'sir', 'scares', 'network', 'everywhere', 'emma', 'destroyed', 'department', 'delivery', 'clichéd', 'andor', 'amazed', 'afternoon', '1930s', '14', '13', 'vietnam', 'scenario', 'rule', 'mgm', 'metal', 'imagery', 'facial', 'driven', 'desperately', 'cruel', 'childrens', 'caine', 'bus', 'bmovie', 'titanic', 'sounded', 'skill', 'reminiscent', 'position', 'mature', 'matrix', 'junk', 'julia', 'idiot', 'flashback', 'favorites', 'faithful', 'fabulous', 'device', 'dean', 'changing', 'belief', 'suffer', 'settings', 'sensitive', 'revolution', 'placed', 'novels', 'murphy', 'mothers', 'mexican', 'forgot', 'extraordinary', 'code', 'closing', 'clark', 'blockbuster', 'aint', 'views', 'stereotypical', 'ron', 'musicals', 'lifetime', 'jon', 'interview', 'happiness', 'greater', 'driver', 'deeper', 'campy', 'california', 'beloved', 'angle', 'understood', 'sunday', 'sleeping', 'san', 'renting', 'prefer', 'pitt', 'notorious', 'inept', 'ignore', 'helping', 'dude', 'criminals', 'court', 'beast', 'achieve', 'teeth', 'sitcom', 'seek', 'rolling', 'pregnant', 'mexico', 'learning', 'league', 'depiction', 'bourne', 'amazingly', 'alright', 'raw', 'jungle', 'examples', 'couldve', 'convey', 'breathtaking', 'bore', 'table', 'purely', 'picks', 'midnight', 'lisa', 'format', 'entertain', 'encounter', 'disbelief', 'dennis', 'china', 'blah', 'summary', 'starred', 'rough', 'quirky', 'prepared', 'murderer', 'mildly', 'kung', 'indie', 'fourth', 'expert', 'description', 'decades', 'cultural', 'critical', 'complicated', 'answers', 'touched', 'throws', 'throwing', 'status', 'serve', 'sarah', 'rip', 'productions', 'pacino', 'julie', 'join', 'initially', 'friendly', 'drinking', 'calling', 'appreciated', 'via', 'underground', 'subplot', 'regarding', 'funnier', 'expression', 'everyday', 'dragon', 'carries', 'burns', 'basis', 'task', 'succeeds', 'raised', 'protect', 'ned', 'introduction', 'honor', 'freeman', 'comical', 'blown', 'base', 'arms', 'alice', 'wears', 'thankfully', 'susan', 'suck', 'leslie', 'larry', 'kiss', 'intellectual', 'fallen', 'extent', 'dress', 'criticism', 'caring', 'bollywood', 'usa', 'truck', 'shadow', 'regard', 'raise', 'racist', 'moviethe', 'inspiration', 'flight', 'environment', 'causes', 'carrying', 'carried', 'cabin', 'brooks', 'brad', 'ted', 'sword', 'socalled', 'ripoff', 'rachel', 'protagonists', 'praise', 'originality', 'notable', 'lazy', 'handle', 'foster', 'embarrassed', 'choices', 'charge', 'challenge', 'cell', 'cases', 'attempting', 'writerdirector', 'weapons', 'warned', 'tales', 'spoof', 'sinister', 'related', 'ludicrous', 'johnson', 'itthe', 'enjoying', 'turkey', 'southern', 'shut', 'rogers', 'replaced', 'properly', 'maria', 'locked', 'ironic', 'hoffman', 'gruesome', 'experiment', 'determined', 'breath', 'angels', 'adding', 'wins', 'westerns', 'sun', 'screening', 'pet', 'obnoxious', 'nowadays', 'lie', 'interpretation', 'escapes', 'daily', 'aunt', 'amongst', 'x', 'tradition', 'sleazy', 'remote', 'obsession', 'jail', 'clips', 'blair', 'bbc', 'wave', 'u', 'tight', 'strangely', 'sold', 'served', 'scripts', 'remind', 'reference', 'jumps', 'interviews', 'hardy', 'exists', 'essential', 'chilling', 'arrives', 'warner', 'trick', 'stops', 'st', 'punch', 'navy', 'lugosi', 'elizabeth', 'contain', 'claire', 'burt', 'attacked', 'timing', 'successfully', 'michelle', 'marvelous', 'laura', 'jessica', 'hitchcock', 'hills', 'goofy', 'frequently', 'established', 'dollar', 'ashamed', 'term', 'sum', 'rival', 'revolves', 'refuses', 'oscars', 'o', 'nonexistent', 'jewish', 'india', 'graphics', 'flow', 'flawed', 'drives', 'balance', 'authentic', '810', 'warn', 'upset', 'stylish', 'struggles', 'risk', 'mirror', 'mindless', 'mentally', 'manager', 'legs', 'busy', 'tree', 'titles', 'sidney', 'sides', 'shower', 'par', 'overcome', 'nation', 'inspector', 'horrific', 'hood', 'hence', 'greatly', 'delight', 'comedian', 'che', 'toy', 'tense', 'suspects', 'stomach', 'stanley', 'spoken', 'roberts', 'riding', 'retarded', 'poignant', 'mob', 'mansion', 'lesser', 'lane', 'intentions', 'intensity', 'guard', 'gods', 'cynical', 'bridge', 'attacks', 'albeit', 'wishes', 'topic', 'presentation', 'madness', 'lion', 'fbi', 'expressions', 'controversial', 'buck', 'bitter', 'andrews', 'wealthy', 'wasting', 'vacation', 'thrilling', 'thousands', 'technically', 'suffered', 'stupidity', 'stranger', 'philip', 'personalities', 'medical', 'husbands', 'glimpse', 'demon', 'cooper', 'confusion', 'bette', 'storm', 'ratings', 'pride', 'opened', 'internet', 'hundreds', 'guessing', 'eg', 'dinner', 'chan', 'bound', 'alas', '30s', 'uncomfortable', 'text', 'shorts', 'shines', 'separate', 'seeking', 'scientists', 'perform', 'patient', 'nazi', 'mass', 'lessons', 'holmes', 'hint', 'happily', 'dislike', 'courage', 'corner', 'chair', 'broke', 'advantage', 'adapted', 'trite', 'sings', 'performers', 'needless', 'miscast', 'infamous', 'gross', 'filmthe', 'countries', 'contact', 'chases', 'trial', 'thief', 'suggests', 'shape', 'rocks', 'reed', 'physically', 'mouse', 'letting', 'innocence', 'horses', 'east', 'dubbing', 'credible', 'credibility', 'atmospheric', '2006', 'womans', 'whereas', 'tracy', 'tied', 'sexuality', 'reunion', 'noble', 'millions', 'lucy', 'jay', 'hundred', 'hole', 'glass', 'elvis', 'cook', 'consists', '1960s', 'troubled', 'technique', 'steps', 'sin', 'portrait', 'pool', 'miller', 'lovable', 'gripping', 'ensemble', 'develops', 'curse', 'crisis', 'cameos', '2000', '110', 'saves', 'racism', 'oneliners', 'noted', 'lying', 'idiotic', 'holiday', 'enjoyment', 'concert', 'bears', 'wwii', 'weapon', 'torn', 'stretch', 'sentimental', 'screenwriter', 'proof', 'plastic', 'oddly', 'neat', 'meaningful', 'hanks', 'grey', 'gain', 'exceptional', 'drink', 'catholic', 'bo', 'accepted', '710', 'vincent', 'unforgettable', 'thrillers', 'shed', 'searching', 'imaginative', 'host', 'hiding', 'franchise', 'fish', 'entry', 'dig', 'dialogs', 'connected', 'bettie', 'belongs', 'attraction', 'spots', 'solve', 'sends', 'ralph', 'lincoln', 'kurt', 'hoped', 'helen', 'flaw', 'concerns', 'christ', 'card', 'annoyed', 'aired', 'worry', 'virgin', 'succeed', 'sandler', 'object', 'nonetheless', 'nine', 'irony', 'guts', 'fortunately', 'endearing', 'closely', 'assistant', 'arm', 'achieved', 'striking', 'redemption', 'profound', 'n', 'homeless', 'hearts', 'fortune', 'equal', 'encounters', 'eerie', 'dealt', 'crimes', 'cousin', 'battles', 'bag', 'appearances', 'andrew', 'aged', 'videos', 'tune', 'tribute', 'teach', 'sutherland', 'snow', 'segments', 'repeat', 'quote', 'persons', 'ourselves', 'oil', 'nights', 'neighborhood', 'library', 'italy', 'hunting', 'ha', 'h', 'factory', 'dragged', 'dentist', 'covers', 'complaint', 'colorful', 'checking', 'widmark', 'slight', 'pointed', 'nelson', 'miniseries', 'lucas', 'jake', 'hooked', 'hang', 'essence', 'civil', 'bucks', 'believing', 'bat', 'tour', 'thousand', 'strikes', 'stanwyck', 'split', 'shoots', 'rush', 'pat', 'pack', 'mst3k', 'laid', 'knife', 'hamlet', 'glory', 'expensive', 'countless', 'cheese', 'charisma', 'baker', 'zone', 'workers', 'surrounding', 'surrounded', 'stood', 'spending', 'pitch', 'incoherent', 'health', 'dear', 'dare', 'dancer', 'cube', 'condition', 'competent', 'colour', 'charismatic', 'attempted', 'appearing', '1st', 'unintentionally', 'theyd', 'terrifying', 'stronger', 'stealing', 'specific', 'shall', 'ripped', 'massacre', 'lloyd', 'intention', 'horrendous', 'grows', 'dorothy', 'crafted', 'chasing', 'chances', 'catherine', 'attached', 'aforementioned', '2001', '18', 'trade', 'stunts', 'setup', 'seagal', 'rushed', 'rochester', 'reactions', 'messages', 'iti', 'individuals', 'hip', 'fx', 'easier', 'curtis', 'associated', '80', 'wing', 'university', 'tricks', 'tons', 'sullivan', 'sexually', 'requires', 'perfection', 'moviei', 'month', 'magazine', 'elsewhere', 'creators', 'burning', 'birthday', 'beating', 'arnold', 'wake', 'stunt', 'stated', 'silver', 'revelation', 'nose', 'noise', 'matthau', 'increasingly', 'identify', 'homage', 'guilt', 'guest', 'goal', 'gift', 'gag', 'forgive', 'dropped', 'drags', 'corrupt', 'wanna', 'vague', 'strictly', 'stan', 'spike', 'represents', 'per', 'overrated', 'neck', 'le', 'kings', 'jeremy', 'importance', 'fired', 'exercise', 'dramas', 'dawn', 'cats', 'cardboard', 'boredom', 'allowing', 'walls', 'virus', 't', 'reynolds', 'performing', 'painting', 'medium', 'loser', 'killings', 'kidnapped', 'kicks', 'kane', 'instantly', 'importantly', 'hype', 'gotta', 'fitting', 'faced', 'enters', 'contract', 'commit', 'camerawork', 'briefly', '17', 'winter', 'weight', 'techniques', 'sophisticated', 'row', 'pushed', 'pie', 'horrors', 'handful', 'gothic', 'godfather', 'fifteen', 'disagree', 'chuck', 'carefully', 'branagh', 'basement', 'barry', '24', 'wonders', 'typically', 'shining', 'relevant', 'reallife', 'realise', 'presumably', 'pleased', 'plague', 'partly', 'packed', 'nuclear', 'notch', 'mustsee', 'letter', 'ian', 'doors', 'denzel', 'chaplin', 'brand', 'bobby', 'wondered', 'tremendous', 'toilet', 'talked', 'superhero', 'silence', 'resolution', 'pleasantly', 'persona', 'overlooked', 'occurs', 'marks', 'korean', 'jesse', 'hudson', 'hitting', 'heat', 'frustrated', 'flash', 'continued', 'comics', 'britain', 'admire', 'acceptable', '45', 'worthless', 'thumbs', 'strip', 'secretary', 'prevent', 'listed', 'lab', 'inevitable', 'iii', 'fears', 'evident', 'destruction', 'competition', 'buried', 'bride', 'breasts', 'boll', 'arrested', 'superbly', 'subplots', 'strike', 'stiff', 'spell', 'shy', 'projects', 'press', 'opposed', 'masters', 'larger', 'investigation', 'flawless', 'fatal', 'executive', 'eva', 'estate', 'digital', 'derek', 'canada', 'bush', 'bullets', 'brando', 'boxing', 'bible', 'beings', 'attracted', 'admittedly', 'accused', '40s', 'walken', 'union', 'struck', 'splendid', 'spiritual', 'someones', 'sally', 'root', 'returning', 'planning', 'outrageous', 'nazis', 'mild', 'menacing', 'luckily', 'los', 'jumping', 'directorial', 'clues', 'closeups', 'citizen', 'carol', 'brilliance', 'appalling', 'useless', 'uninspired', 'thrills', 'suits', 'subsequent', 'sole', 'slightest', 'revealing', 'remaining', 'relative', 'precious', 'mafia', 'logical', 'lacked', 'jamie', 'inspiring', 'guide', 'glover', 'genres', 'dvds', 'doc', 'cup', 'ambitious', 'afterwards', '3d', '2005', 'watches', 'ward', 'twin', 'spooky', 'souls', 'savage', 'repetitive', 'repeatedly', 'reasonably', 'raped', 'pulling', 'picking', 'notably', 'neighbor', 'morality', 'melodramatic', 'installment', 'hire', 'francisco', 'elderly', 'documentaries', 'dire', 'depression', 'curiosity', 'creation', 'convoluted', 'con', 'characterization', 'burn', 'blob', 'aimed', '911', 'wicked', 'wes', 'wannabe', 'ticket', 'theyll', 'territory', 'spoiled', 'smooth', 'screams', 'rid', 'response', 'push', 'providing', 'poverty', 'photographed', 'overdone', 'notes', 'minimal', 'jerk', 'intrigued', 'insulting', 'generous', 'failing', 'duke', 'drunken', 'draws', 'cox', 'conspiracy', 'cia', 'cared', 'border', 'achievement', 'accomplished', 'timeless', 'tea', 'streisand', 'shadows', 'samurai', 'reduced', 'psychiatrist', 'non', 'mile', 'mid', 'ken', 'karloff', 'jealous', 'heston', 'hatred', 'futuristic', 'forbidden', 'flynn', 'explore', 'distant', 'darker', 'corpse', 'bleak', 'alike', 'adams', '310', '20th', 'wells', 'timothy', 'thirty', 'tall', 'sticks', 'spring', 'shell', 'ritter', 'reasonable', 'piano', 'outcome', 'nurse', 'mel', 'meat', 'manhattan', 'loosely', 'laurel', 'intent', 'goldberg', 'captivating', 'blows', 'argument', 'unbelievably', 'trap', 'rap', 'obscure', 'motivation', 'mitchell', 'misses', 'improved', 'ignored', 'highlights', 'grandmother', 'gradually', 'gentle', 'emily', 'elaborate', 'doctors', 'definite', 'burton', 'beaten', 'absence', 'tunes', 'tortured', 'stole', 'spielberg', 'resembles', 'pushing', 'psychotic', 'miserably', 'indians', 'huh', 'farce', 'explicit', 'et', 'em', 'disease', 'discussion', 'davies', 'cruise', 'cried', 'connect', 'concerning', 'childish', 'carpenter', 'beer', 'ad', '910', 'worried', 'warrior', 'vicious', 'turner', 'throat', 'threat', 'temple', 'string', 'spin', 'sloppy', 'shortly', 'shoes', 'returned', 'regardless', 'reached', 'ranks', 'norman', 'neil', 'liberal', 'knock', 'horrid', 'hardcore', 'fancy', 'extended', 'exaggerated', 'displays', 'complain', 'cole', 'cameras', 'builds', 'brazil', 'blend', 'affected', 'wreck', 'website', 'waters', 'threw', 'swedish', 'subjects', 'spirits', 'shark', 'sacrifice', 'purple', 'prom', 'pretend', 'ought', 'monkey', 'idiots', 'houses', 'fisher', 'eve', 'enjoys', 'distance', 'demands', 'danes', 'dancers', 'craig', 'consequences', 'arrive', 'alltime', 'triumph', 'smoking', 'ridiculously', 'restaurant', 'receive', 'poster', 'photographer', 'overacting', 'lou', 'hysterical', 'harder', 'farm', 'eyre', 'elvira', 'drivel', 'diamond', 'dave', 'currently', 'carter', 'broad', 'blank', 'alexander', 'size', 'progress', 'officers', 'movements', 'modesty', 'landscape', 'groups', 'dynamic', 'duo', 'drawing', 'conversations', 'burned', 'beats', 'australia', 'argue', 'areas', 'annie', 'upper', 'trio', 'sunshine', 'styles', 'staying', 'smoke', 'selling', 'scripted', 'scientific', 'ruth', 'robots', 'popcorn', 'murderous', 'matthew', 'load', 'ironically', 'involvement', 'investigate', 'incident', 'heroic', 'glenn', 'fever', 'fay', 'exposed', 'engaged', 'empire', 'dignity', 'devoted', 'daring', 'commercials', 'comfortable', 'buddies', 'broadcast', 'brains', '410', 'warren', 'vivid', 'titled', 'threatening', 'symbolism', 'swear', 'superficial', 'selfish', 'rural', 'recognized', 'producing', 'proceedings', 'panic', 'orders', 'offering', 'occur', 'newspaper', 'mountains', 'machines', 'kitchen', 'kenneth', 'jet', 'ireland', 'hollow', 'existed', 'escaped', 'dinosaurs', 'differences', 'cusack', 'critic', 'couples', 'bands', 'aging', 'winters', 'uneven', 'translation', 'tame', 'secrets', 'rage', 'merit', 'lips', 'lily', 'kudos', 'journalist', 'innovative', 'greek', 'explaining', 'ex', 'discovery', 'detailed', 'deliberately', 'contrary', 'choreography', 'carrey', 'cagney', 'brosnan', 'block', 'bite', 'bathroom', 'apes', '60', 'wealth', 'versus', 'unpleasant', 'unbearable', 'thugs', 'staff', 'soviet', 'signs', 'removed', 'relies', 'possibility', 'occurred', 'nearby', 'mate', 'lighthearted', 'juvenile', 'intrigue', 'ingredients', 'imagined', 'holy', 'hollywoods', 'gray', 'folk', 'felix', 'editor', 'dawson', 'causing', 'birds', 'adequate', '2nd', '2004', 'web', 'travels', 'sidekick', 'sadness', 'sadistic', 'resemblance', 'primary', 'population', 'pays', 'overwhelming', 'onscreen', 'nightmares', 'mildred', 'meaningless', 'margaret', 'maker', 'joey', 'grab', 'generic', 'focusing', 'defeat', 'damage', 'craft', 'conventional', 'combat', 'chain', 'catches', 'bell', 'audio', 'astaire', 'abilities', 'abc', '2003', '16', 'twelve', 'trees', 'stiller', 'ships', 'pulp', 'portion', 'perry', 'passes', 'narrator', 'lifestyle', 'lawrence', 'implausible', 'hurts', 'hugh', 'headed', 'flies', 'explosion', 'eccentric', 'disturbed', 'discuss', 'dialogues', 'composed', 'bin', 'winds', 'unintentional', 'thrill', 'settle', 'react', 'primarily', 'official', 'liking', 'leg', 'kirk', 'itll', 'hitman', 'highest', 'hates', 'glorious', 'giallo', 'financial', 'falk', 'explored', 'exotic', 'enormous', 'dracula', 'dozens', 'devoid', 'clumsy', 'clothing', 'chaos', 'banned', 'backdrop', 'atlantis', 'antics', 'afford', 'w', 'urge', 'undoubtedly', 'surviving', 'survival', 'smaller', 'shine', 'scheme', 'roman', 'represent', 'remarkably', 'reaches', 'models', 'mixture', 'maggie', 'karen', 'kapoor', 'g', 'fond', 'doomed', 'decisions', 'consistently', 'coherent', 'clint', 'cameron', 'blatant', 'bird', 'beneath', '2002', '1990s', 'unwatchable', 'slap', 'rank', 'outer', 'odds', 'notion', 'neighbors', 'mistaken', 'jeffrey', 'hints', 'fighter', 'errors', 'dutch', 'distracting', 'disjointed', 'disc', 'describes', 'clown', 'cheating', 'carl', 'careers', 'bold', 'altogether', 'yesterday', 'vast', 'uwe', 'trailers', 'topless', 'thick', 'tap', 'survivors', 'sport', 'spare', 'senseless', 'richards', 'props', 'possessed', 'offended', 'monkeys', 'mickey', 'kennedy', 'instant', 'influenced', 'impress', 'ideal', 'hideous', 'heartwarming', 'garden', 'gangsters', 'freak', 'everyones', 'drops', 'directs', 'dating', 'dances', 'contained', 'butt', 'brooklyn', 'brady', 'blew', 'bedroom', 'advance', 'wolf', 'whale', 'weakest', 'wallace', 'walker', 'voight', 'ups', 'toys', 'tommy', 'ties', 'tear', 'stellar', 'specifically', 'simplistic', 'revolutionary', 'relations', 'rebel', 'performer', 'montage', 'matches', 'loads', 'linda', 'lasted', 'jazz', 'introduces', 'guessed', 'gandhi', 'frustration', 'florida', 'flop', 'explosions', 'ego', 'desperation', 'dedicated', 'cuba', 'commented', 'classes', 'benefit', 'backgrounds', 'april', 'adorable', '3rd', '0', 'unfolds', 'tender', 'suited', 'succeeded', 'subtlety', 'soccer', 'shelf', 'seventies', 'sellers', 'satan', 'saga', 'ruthless', 'rooms', 'rambo', 'principal', 'practice', 'politically', 'philosophy', 'passionate', 'occasion', 'mysteries', 'miserable', 'justify', 'judging', 'involve', 'immensely', 'illogical', 'honesty', 'hammer', 'hal', 'forms', 'emphasis', 'doll', 'developing', 'depressed', 'crush', 'countryside', 'coffee', 'claimed', 'bare', 'awake', 'arrogant', 'trashy', 'transformation', 'tracks', 'tad', 'stress', 'staged', 'solely', 'similarities', 'severe', 'recorded', 'planned', 'outfit', 'motives', 'melting', 'measure', 'lust', 'loyal', 'link', 'leonard', 'kicked', 'interaction', 'funeral', 'endure', 'endings', 'edie', 'disappeared', 'disappear', 'destiny', 'considerable', 'command', 'circle', 'chorus', 'cary', 'bone', 'avoided', 'amy', 'wrestling', 'wore', 'treats', 'traveling', 'todd', 'thoughtful', 'synopsis', 'stereotype', 'realizing', 'quotes', 'photos', 'peters', 'paulie', 'method', 'menace', 'isolated', 'hank', 'hamilton', 'facing', 'eastwood', 'ease', 'displayed', 'cure', 'corruption', 'consistent', 'companion', 'chased', 'cards', 'buffs', 'blues', 'blake', 'authority', 'angeles', 'aid', 'agrees', 'yellow', 'waited', 'taught', 'switch', 'swimming', 'surfing', 'sits', 'satisfied', 'riveting', 'represented', 'report', 'purchase', 'preview', 'possibilities', 'orson', 'madefortv', 'lyrics', 'kidding', 'jonathan', 'inventive', 'helicopter', 'hbo', 'grasp', 'goodness', 'ginger', 'formulaic', 'enemies', 'eighties', 'dolls', 'celluloid', 'anyways', '1999', 'wished', 'widow', 'voiceover', 'vegas', 'unsettling', 'tongue', 'snl', 'rick', 'relation', 'promised', 'onedimensional', 'nervous', 'myers', 'moody', 'march', 'improve', 'hunters', 'holly', 'harvey', 'handed', 'enterprise', 'embarrassment', 'ears', 'e', 'duty', 'donna', 'divorce', 'dickens', 'delivering', 'defend', 'comparing', 'colonel', 'cliff', 'cg', 'celebrity', 'carrie', 'behave', 'wives', 'waves', 'valuable', 'user', 'unhappy', 'terrorist', 'suitable', 'stinker', 'solo', 'shirley', 'reads', 'prostitute', 'philosophical', 'parent', 'pages', 'oz', 'lemmon', 'judy', 'ignorant', 'horrifying', 'hook', 'godzilla', 'fix', 'disappoint', 'diane', 'crack', 'combine', 'closet', 'chess', 'buildings', 'buff', 'bonus', 'blond', '1996', '1980', 'tonight', 'thru', 'stooges', 'snake', 'scottish', 'scores', 'sappy', 'reflect', 'painted', 'online', 'mario', 'maintain', 'l', 'kingdom', 'inane', 'humble', 'hart', 'global', 'faster', 'engage', 'ellen', 'elegant', 'education', 'destroying', 'corporate', 'conflicts', 'closest', 'blacks', 'artificial', 'agents', 'affect', 'wed', 'useful', 'understandable', 'transfer', 'stinks', 'stevens', 'staring', 'slave', 'similarly', 'shake', 'sentence', 'seed', 'secretly', 'scope', 'safety', 'rotten', 'remarks', 'reaching', 'racial', 'questionable', 'pretending', 'potentially', 'plant', 'museum', 'motivations', 'miracle', 'letters', 'lately', 'germans', 'furthermore', 'fooled', 'earned', 'coach', 'charlotte', 'centers', 'armed', 'amanda', 'airplane', 'access', 'abysmal', 'yelling', 'wet', 'wandering', 'virginia', 'trained', 'tiresome', 'survived', 'scarecrow', 'rocket', 'rex', 'purchased', 'provoking', 'poetic', 'nostalgic', 'nicholson', 'miike', 'lay', 'jumped', 'iron', 'intentionally', 'inferior', 'hung', 'guarantee', 'francis', 'finger', 'filmi', 'faults', 'exploration', 'elephant', 'dub', 'dinosaur', 'depicts', 'concern', 'communist', 'civilization', 'bullet', 'brutally', 'blunt', 'blade', 'amounts', 'americas', 'alongside', 'alcoholic', 'airport', 'advise', 'womens', 'wizard', 'willis', 'vulnerable', 'understated', 'troops', 'tie', 'terry', 'steel', 'spoke', 'splatter', 'slick', 'showcase', 'robbery', 'rising', 'rendition', 'punk', 'proceeds', 'porno', 'plight', 'pig', 'patients', 'nomination', 'namely', 'mini', 'lengthy', 'lees', 'joined', 'illegal', 'homosexual', 'grinch', 'greedy', 'floating', 'edgar', 'diana', 'convincingly', 'confidence', 'cleverly', 'channels', 'campbell', 'beliefs', 'bath', 'arrived', 'arguably', 'advanced', 'abusive', 'wrapped', 'visits', 'sub', 'streep', 'stilted', 'spread', 'species', 'september', 'resort', 'relatives', 'pokemon', 'nonstop', 'mall', 'm', 'lena', 'gadget', 'fascinated', 'familys', 'downhill', 'dimensional', 'designs', 'construction', 'cinematographer', 'carradine', 'cake', 'bottle', 'beatty', 'balls', 'ballet', 'attitudes', 'ape', 'ah', 'agreed', 'advertising', '70', '3000', '2007', 'wound', 'worker', 'witches', 'transition', 'taxi', 'simplicity', 'shirt', 'satisfy', 'sandra', 'ruby', 'recognition', 'pops', 'nyc', 'niro', 'morris', 'macy', 'lowest', 'lit', 'limits', 'latin', 'june', 'intimate', 'hopper', 'heartbreaking', 'frequent', 'foul', 'disneys', 'demented', 'copies', 'complexity', 'compelled', 'classical', 'cities', 'christians', 'chicago', 'cave', 'catchy', 'careful', 'capturing', 'berlin', 'babe', 'aids', '1972', '1940s', 'tends', 'sue', 'schools', 'robinson', 'raising', 'prisoner', 'prequel', 'parallel', 'opinions', 'mundane', 'mars', 'manipulative', 'madonna', 'losers', 'lone', 'li', 'khan', 'junior', 'jenny', 'inappropriate', 'illness', 'hilariously', 'grandfather', 'fonda', 'exceptionally', 'ethan', 'equivalent', 'eager', 'dreary', 'devils', 'damon', 'cinemas', 'chicks', 'cheated', 'challenging', 'bang', 'alternate', 'akshay', 'accompanied', '1990', 'writes', 'witnesses', 'wishing', 'widely', 'wellknown', 'v', 'twilight', 'tomatoes', 'suspicious', 'smiling', 'seeks', 'scooby', 'rat', 'pursuit', 'prisoners', 'poetry', 'pearl', 'paltrow', 'overlook', 'olivier', 'ocean', 'nostalgia', 'nonsensical', 'montana', 'molly', 'misery', 'lively', 'incomprehensible', 'homer', 'gundam', 'georges', 'edition', 'eaten', 'der', 'demand', 'del', 'daddy', 'crucial', 'choreographed', 'chooses', 'chest', 'capital', 'boot', 'awe', '1968', 'ya', 'wisdom', 'vengeance', 'vaguely', 'suspend', 'square', 'sincere', 'signed', 'shelley', 'royal', 'restored', 'resources', 'remakes', 'progresses', 'prize', 'plausible', 'phantom', 'performs', 'paranoia', 'opportunities', 'nicholas', 'nations', 'methods', 'messed', 'lol', 'literature', 'likewise', 'legal', 'laws', 'kicking', 'invasion', 'incompetent', 'experiments', 'excessive', 'enthusiasm', 'elm', 'domestic', 'desired', 'dalton', 'da', 'crocodile', 'constructed', 'conservative', 'calm', 'bumbling', 'blowing', 'belong', 'basketball', 'bakshi', 'awfully', 'appreciation', 'wacky', 'viewings', 'trademark', 'tag', 'simmons', 'showdown', 'robbins', 'richardson', 'responsibility', 'resist', 'recording', 'randomly', 'promises', 'polished', 'petty', 'nuts', 'mummy', 'mentions', 'mechanical', 'mayor', 'masterpieces', 'masterful', 'mann', 'leo', 'landscapes', 'introduce', 'generations', 'franco', 'feed', 'doubts', 'distinct', 'descent', 'creativity', 'climactic', 'borrowed', 'assigned', 'assault', 'arrival', '210', '1983', 'witnessed', 'wholly', 'visible', 'unit', 'underlying', 'unaware', 'terrorists', 'teachers', 'strangers', 'stones', 'spirited', 'solution', 'sneak', 'sink', 'simpson', 'scrooge', 'ruins', 'resident', 'receives', 'raymond', 'rangers', 'punishment', 'poem', 'pit', 'parties', 'operation', 'marty', 'map', 'justin', 'jaws', 'instinct', 'improvement', 'icon', 'heights', 'greed', 'gifted', 'gerard', 'fury', 'fields', 'earl', 'dust', 'craven', 'conceived', 'cd', 'bela', 'bacall', 'attorney', 'attend', 'assumed', '–', 'wounded', 'willie', 'warriors', 'warmth', 'waitress', 'unoriginal', 'troubles', 'testament', 'teaching', 'straightforward', 'slaughter', 'quit', 'property', 'pot', 'muslim', 'mighty', 'mentioning', 'louise', 'loaded', 'laughably', 'kay', 'irrelevant', 'iraq', 'iran', 'inevitably', 'historically', 'gabriel', 'females', 'expressed', 'educational', 'edgy', 'contest', 'closed', 'chapter', 'businessman', 'activities', 'acid', '1973', 'wouldbe', 'voiced', 'twins', 'tooth', 'tiger', 'swim', 'survivor', 'stunned', 'rolled', 'rocky', 'rats', 'popularity', 'pink', 'overlong', 'omen', 'mistress', 'minimum', 'middleaged', 'merits', 'keith', 'imitation', 'household', 'hello', 'grabs', 'fashioned', 'exposure', 'equipment', 'depicting', 'christy', 'catching', 'button', 'bull', 'brenda', 'ashley', 'alert', '13th', 'whoopi', 'wendy', 'verhoeven', 'valley', 'uplifting', 'unseen', 'unreal', 'tribe', 'timon', 'supported', 'suggested', 'subjected', 'stretched', 'standout', 'stale', 'spain', 'sounding', 'significance', 'sid', 'shaw', 'shaky', 'rubber', 'roots', 'resulting', 'resemble', 'randy', 'rabbit', 'pressure', 'phony', 'pamela', 'noone', 'moronic', 'metaphor', 'masses', 'marketing', 'lumet', 'loyalty', 'invented', 'interests', 'integrity', 'heartfelt', 'greg', 'garbo', 'fought', 'feelgood', 'exchange', 'eugene', 'empathy', 'doom', 'domino', 'disliked', 'despair', 'definition', 'cringe', 'confrontation', 'compassion', 'championship', 'cannibal', 'boom', 'betty', 'bergman', 'bay', 'astonishing', 'analysis', 'ambiguous', 'alfred', 'accuracy', '35', 'wretched', 'wifes', 'watson', 'unpredictable', 'unexpectedly', 'trail', 'suffice', 'stumbled', 'spock', 'sopranos', 'simultaneously', 'romero', 'retired', 'remained', 'reflection', 'ramones', 'psychic', 'pierce', 'peak', 'patience', 'pants', 'palace', 'package', 'orleans', 'ollie', 'monk', 'landing', 'lackluster', 'kubrick', 'josh', 'inability', 'immediate', 'gather', 'furious', 'fulci', 'fascination', 'expedition', 'drake', 'dolph', 'distribution', 'directions', 'defined', 'defense', 'creep', 'confess', 'comfort', 'cliche', 'checked', 'butler', 'biography', 'austin', 'angela', 'album', 'adaptations', '1984', 'victory', 'unfair', 'travesty', 'technicolor', 'sums', 'stargate', 'sixties', 'seldom', 'roth', 'roommate', 'require', 'refused', 'reel', 'rave', 'raises', 'primitive', 'polanski', 'phil', 'objective', 'nicole', 'newly', 'nail', 'mankind', 'legacy', 'kyle', 'israel', 'hopeless', 'hears', 'grayson', 'frustrating', 'frightened', 'firm', 'eastern', 'difficulties', 'deceased', 'creator', 'costar', 'composer', 'companies', 'closeup', 'claus', 'bud', 'blast', 'abraham', 'wakes', 'vulgar', 'unlikable', 'underneath', 'teaches', 'tastes', 'subpar', 'stark', 'softcore', 'shanghai', 'screens', 'scotland', 'rises', 'respected', 'replace', 'remade', 'reid', 'rates', 'raines', 'quietly', 'presenting', 'precisely', 'photo', 'passable', 'pan', 'pal', 'owen', 'musicians', 'milk', 'meryl', 'maniac', 'maid', 'kissing', 'joins', 'interactions', 'glasses', 'flair', 'favour', 'farrell', 'experimental', 'dreck', 'dixon', 'discovering', 'dimension', 'desires', 'deranged', 'dee', 'darren', 'daniels', 'conditions', 'coast', 'clip', 'christianity', 'buffalo', 'awhile', 'andre', 'abused', '1971', '1933', 'yard', 'widescreen', 'warming', 'walsh', 'tank', 'specially', 'spacey', 'secondly', 'rude', 'rely', 'othello', 'ninja', 'nerd', 'muddled', 'matched', 'lundgren', 'literary', 'lands', 'joel', 'inexplicably', 'graham', 'gender', 'framed', 'fingers', 'examination', 'encourage', 'electric', 'dysfunctional', 'dresses', 'dose', 'comedians', 'casts', 'brutality', 'behaviour', 'barrymore', 'assassin', 'amused', 'amitabh', 'alcohol', 'adopted', 'wrap', 'wildly', 'visiting', 'tomorrow', 'teams', 'tacky', 'sunny', 'shouldve', 'shoddy', 'sharon', 'shared', 'sentinel', 'sentiment', 'senses', 'roof', 'rifle', 'referred', 'reeves', 'purposes', 'provocative', 'preposterous', 'prepare', 'premiere', 'positively', 'phrase', 'pg13', 'paradise', 'parade', 'ordered', 'nathan', 'musician', 'mode', 'masks', 'marshall', 'marion', 'lock', 'knocked', 'karl', 'julian', 'invites', 'hopkins', 'griffith', 'generated', 'frankenstein', 'filling', 'fest', 'femme', 'exposition', 'emperor', 'credited', 'correctly', 'connery', 'complaining', 'choppy', 'chicken', 'charged', 'bunny', 'automatically', 'aspiring', 'appropriately', 'amusement', 'alternative', 'alec', 'absent', '1993', '1987', 'yearold', 'vice', 'vance', 'ustinov', 'unfold', 'uncut', 'tube', 'translated', 'tracking', 'topnotch', 'sung', 'stuart', 'spark', 'sissy', 'ross', 'romp', 'respective', 'releases', 'relax', 'refer', 'realised', 'preston', 'posters', 'poison', 'murdering', 'morbid', 'mclaglen', 'loneliness', 'ladder', 'items', 'insurance', 'hopelessly', 'hawke', 'hackneyed', 'guests', 'greatness', 'gentleman', 'fantasies', 'downey', 'demise', 'deaf', 'counts', 'citizens', 'cattle', 'carell', 'babies', 'accomplish', 'abrupt', 'youngest', 'wellwritten', 'weakness', 'wang', 'trend', 'thoughtprovoking', 'swing', 'skull', 'singers', 'silliness', 'shoulders', 'shares', 'sabrina', 'russia', 'rooney', 'region', 'regarded', 'realm', 'pun', 'pitiful', 'objects', 'nephew', 'naughty', 'mtv', 'misleading', 'macarthur', 'leon', 'laurence', 'kansas', 'invited', 'infected', 'indication', 'imaginable', 'ignorance', 'hyde', 'harm', 'handling', 'grotesque', 'glowing', 'gambling', 'function', 'fi', 'fed', 'eternal', 'ensues', 'deserted', 'costars', 'corpses', 'complaints', 'challenges', 'celebration', 'caricatures', 'biko', 'beverly', 'bernard', 'bargain', 'asylum', 'antwone', 'affection', 'additional', 'accepts', 'absurdity', '75', '19th', '1995', 'towns', 'threatens', 'skits', 'servant', 'secondary', 'respectively', 'reflects', 'recycled', 'receiving', 'puppet', 'promote', 'pro', 'prey', 'phillips', 'partners', 'palance', 'owners', 'oldest', 'noises', 'nod', 'muppets', 'minded', 'lush', 'jews', 'iconic', 'ho', 'hitlers', 'grief', 'drove', 'din', 'devices', 'dana', 'crystal', 'cruelty', 'cope', 'conveys', 'coincidence', 'chills', 'chainsaw', 'canyon', 'admirable', 'address', 'active', '1997', '1986', 'wilderness', 'weaknesses', 'visited', 'venture', 'underworld', 'understands', 'tyler', 'sympathize', 'strongest', 'stores', 'standup', 'squad', 'severely', 'sci', 'reluctant', 'rejected', 'records', 'recommendation', 'prejudice', 'posted', 'portrayals', 'outing', 'outfits', 'occasions', 'obligatory', 'nolan', 'mill', 'lifted', 'les', 'kumar', 'investigating', 'insipid', 'industrial', 'hk', 'heros', 'heading', 'hammy', 'freaks', 'forty', 'disappears', 'depending', 'damme', 'crawford', 'conviction', 'conventions', 'conscience', 'burst', 'belushi', 'baldwin', 'authors', 'alicia', 'aim', 'affairs', 'acclaimed', 'acceptance', '1970', '1936', 'tripe', 'thread', 'terrified', 'tasteless', 'suspension', 'suitably', 'studying', 'steady', 'stages', 'sketch', 'shakespeares', 'shades', 'selection', 'rita', 'redeem', 'psychology', 'programs', 'profanity', 'priceless', 'previews', 'predict', 'policeman', 'phenomenon', 'patricia', 'paramount', 'murray', 'muppet', 'morally', 'misguided', 'mccoy', 'malone', 'locals', 'labor', 'hughes', 'heist', 'guaranteed', 'frankie', 'fog', 'fishing', 'filler', 'fiancé', 'explores', 'evidently', 'entitled', 'emerges', 'elses', 'ear', 'difficulty', 'designer', 'deniro', 'demonstrates', 'dates', 'darn', 'cassidy', 'caliber', 'bros', 'attract', 'ants', '73', '2008', '1989', '1979', '1978', 'worn', 'vital', 'visions', 'vibrant', 'vein', 'unexplained', 'spinal', 'soup', 'sooner', 'snakes', 'slimy', 'sht', 'shouting', 'sending', 'representation', 'reign', 'reader', 'prominent', 'physics', 'palma', 'orange', 'michaels', 'marvel', 'marries', 'lois', 'kungfu', 'kolchak', 'iv', 'insists', 'inconsistent', 'hippie', 'hers', 'harmless', 'hapless', 'gems', 'forcing', 'firstly', 'filth', 'feminist', 'eats', 'discussing', 'diehard', 'despicable', 'deleted', 'cue', 'cream', 'conclude', 'communicate', 'commander', 'clock', 'clarke', 'cancer', 'bridget', 'billed', 'betrayal', 'beatles', 'basinger', 'banal', 'anticipation', 'alison', 'agenda', 'wwe', 'welldone', 'vader', 'transformed', 'tierney', 'tempted', 'studies', 'springer', 'sox', 'soso', 'slice', 'shootout', 'route', 'rome', 'rod', 'rhythm', 'renaissance', 'ratso', 'pounds', 'pg', 'option', 'moreover', 'minus', 'mentality', 'knight', 'jacksons', 'ingenious', 'immature', 'housewife', 'harold', 'guitar', 'flowers', 'fido', 'el', 'dud', 'depends', 'delicate', 'danish', 'crazed', 'considerably', 'comparisons', 'clueless', 'claustrophobic', 'clan', 'claiming', 'circus', 'champion', 'casual', 'cannon', 'buster', 'bread', 'blatantly', 'bike', 'biased', 'befriends', 'assuming', 'wings', 'wellmade', 'voted', 'unrelated', 'towers', 'tail', 'symbolic', 'stumbles', 'smiles', 'shortcomings', 'schlock', 'sassy', 'riot', 'repeating', 'remove', 'recognizable', 'quinn', 'paxton', 'nicolas', 'mirrors', 'millionaire', 'meg', 'limit', 'lifeless', 'legends', 'kitty', 'iq', 'inhabitants', 'inexplicable', 'hokey', 'historic', 'height', 'grudge', 'gregory', 'grainy', 'glamorous', 'gear', 'fontaine', 'fluff', 'flashy', 'exploring', 'ethnic', 'edit', 'dukes', 'drivein', 'dressing', 'detectives', 'defeated', 'connections', 'co', 'challenged', 'campaign', 'boston', 'beside', 'agency', 'adolescent', 'addicted', 'vocal', 'uniformly', 'tunnel', 'trivia', 'trials', 'ton', 'thompson', 'surgery', 'static', 'stairs', 'sorely', 'someday', 'shopping', 'screwed', 'satirical', 'rapist', 'praised', 'pete', 'penny', 'partially', 'parsons', 'paintings', 'outright', 'offbeat', 'novak', 'nemesis', 'minority', 'melody', 'martha', 'las', 'keen', 'institution', 'independence', 'hangs', 'handles', 'gina', 'foxx', 'firing', 'fifty', 'feeding', 'exceptions', 'disgusted', 'disguise', 'departure', 'coupled', 'coup', 'couch', 'controlled', 'continually', 'computers', 'chuckle', 'childs', 'charms', 'bend', 'bars', 'bacon', 'backs', 'assassination', 'ambition', 'yeti', 'wax', 'token', 'thrilled', 'threatened', 'swept', 'sugar', 'sirk', 'shoulder', 'serving', 'rukh', 'ripping', 'preferred', 'preachy', 'posey', 'pacific', 'outdated', 'northern', 'newer', 'neurotic', 'natives', 'nails', 'messy', 'mercy', 'macho', 'kathryn', 'inspire', 'insightful', 'hilarity', 'hearted', 'hack', 'girlfriends', 'gate', 'firmly', 'feat', 'farfetched', 'employed', 'earn', 'dylan', 'duck', 'disastrous', 'dirt', 'destroys', 'deserving', 'debate', 'commenting', 'cheer', 'centre', 'camcorder', 'bully', 'boxer', 'bowl', 'bondage', 'bates', 'audrey', 'artwork', 'artsy', 'arthouse', 'altman', 'ace', 'accurately', '23', '1988', '1981', 'windows', 'winchester', 'vile', 'vain', 'unlikeable', 'uma', 'triangle', 'toronto', 'topics', 'suggestion', 'subtly', 'strings', 'steele', 'stalker', 'speeches', 'sleeps', 'sharing', 'screenwriters', 'rooting', 'refuse', 'predecessor', 'pole', 'organized', 'obtain', 'neatly', 'mutual', 'melissa', 'mayhem', 'marlon', 'males', 'liners', 'lindsay', 'leigh', 'layers', 'kidman', 'interestingly', 'info', 'hides', 'healthy', 'harrison', 'garner', 'fuller', 'freddys', 'excess', 'evolution', 'europa', 'esther', 'entered', 'elite', 'duration', 'doo', 'disorder', 'destined', 'describing', 'demonic', 'curly', 'concepts', 'completed', 'centered', 'cartoonish', 'brooding', 'bridges', 'brendan', 'boyle', 'boasts', 'bent', 'audition', 'allens', '1976', '1969', '1000', 'zombi', 'woo', 'wig', 'weather', 'weaker', 'wanders', 'undead', 'traffic', 'tip', 'ta', 'stopping', 'sometime', 'skit', 'sincerely', 'shaking', 'seedy', 'saint', 'rope', 'reruns', 'rendered', 'relentless', 'refers', 'readers', 'raj', 'punches', 'profession', 'politician', 'originals', 'norm', 'newman', 'mesmerizing', 'masterfully', 'mannerisms', 'leaders', 'knightley', 'kline', 'injured', 'hungry', 'hires', 'helpless', 'helpful', 'guards', 'gal', 'fist', 'fade', 'exquisite', 'engrossing', 'elevator', 'des', 'deny', 'dazzling', 'damaged', 'containing', 'colin', 'christine', 'chavez', 'charlton', 'cassavetes', 'bulk', 'bogus', 'authorities', 'applaud', 'anyones', 'affects', '4th', '22', '1945', 'wheres', 'users', 'unsuspecting', 'triple', 'tower', 'tenant', 'tarantino', 'strengths', 'statue', 'startling', 'stare', 'stack', 'shorter', 'scariest', 'rides', 'restrained', 'residents', 'racing', 'quaid', 'publicity', 'proving', 'preparing', 'passengers', 'owes', 'nut', 'myth', 'motive', 'min', 'luis', 'lift', 'lifes', 'lasting', 'jess', 'jared', 'item', 'internal', 'hulk', 'hugely', 'hartley', 'genie', 'gained', 'frances', 'fifties', 'fastpaced', 'exploits', 'excellently', 'error', 'emerge', 'duvall', 'dudley', 'detract', 'demanding', 'critique', 'crashes', 'contempt', 'cliches', 'chronicles', 'cbs', 'carla', 'carey', 'candidate', 'breed', 'boris', 'behold', 'backwards', 'anton', 'alley', 'akin', 'advertised', 'activity', '\\x85', 'youthful', 'wardrobe', 'votes', 'vastly', 'tops', 'tokyo', 'suburban', 'stunningly', 'storys', 'stallone', 'spree', 'sleaze', 'servants', 'referring', 'realities', 'rapidly', 'radical', 'promptly', 'poker', 'origins', 'origin', 'netflix', 'net', 'mutant', 'modest', 'mixing', 'misfortune', 'minister', 'miami', 'mail', 'macabre', 'located', 'limitations', 'lasts', 'label', 'kent', 'justified', 'joker', 'jaw', 'insults', 'insights', 'insanity', 'ingrid', 'inaccurate', 'highway', 'heels', 'grounds', 'goodbye', 'globe', 'gimmick', 'gillian', 'giants', 'galaxy', 'fools', 'factors', 'expertly', 'entering', 'eleven', 'dubious', 'dropping', 'dj', 'disguised', 'cracking', 'convinces', 'contribution', 'conrad', 'confronted', 'confront', 'compete', 'choosing', 'cerebral', 'casino', 'carmen', 'buys', 'breakfast', 'bow', 'bitch', 'belt', 'banter', 'authenticity', 'approaches', 'abruptly', '21st', '1991', '1939', 'wander', 'vividly', 'unsure', 'underwater', 'undeniably', 'tossed', 'tormented', 'thunderbirds', 'supply', 'sticking', 'soylent', 'sinking', 'sf', 'salvation', 'salt', 'rookie', 'reward', 'repulsive', 'rampage', 'puppets', 'puerto', 'principals', 'phillip', 'perception', 'pale', 'painter', 'owns', 'ol', 'nope', 'nina', 'mol', 'mitch', 'lukas', 'lowkey', 'lend', 'lauren', 'landed', 'jordan', 'jarring', 'interact', 'inherent', 'incidentally', 'homes', 'heavyhanded', 'guinness', 'growth', 'grateful', 'gates', 'formed', 'fords', 'expects', 'eventual', 'endlessly', 'differently', 'derivative', 'depths', 'definitive', 'dandy', 'convicted', 'confident', 'conan', 'colours', 'cents', 'braveheart', 'bitten', 'biblical', 'beware', 'bachelor', 'austen', 'approaching', 'antonio', 'alvin', 'alexandre', 'accessible', '1977', 'yokai', 'wendigo', 'vehicles', 'unattractive', 'survives', 'stranded', 'spies', 'sniper', 'siblings', 'separated', 'sensible', 'screw', 'sale', 'runner', 'repressed', 'regards', 'published', 'pray', 'photographs', 'overblown', 'outline', 'nominations', 'monty', 'mice', 'meandering', 'letdown', 'judd', 'jedi', 'incapable', 'immortal', 'identical', 'homicide', 'hats', 'ham', 'goodlooking', 'godawful', 'glued', 'gere', 'frames', 'flimsy', 'flashes', 'fatale', 'exterior', 'exploit', 'exit', 'evelyn', 'eternity', 'energetic', 'dragons', 'dismal', 'devastating', 'depict', 'decidedly', 'damned', 'cries', 'conveyed', 'continuing', 'concentrate', 'cemetery', 'caricature', 'buzz', 'bruno', 'bronson', 'barrel', 'attenborough', 'assured', 'ariel', 'angst', 'altered', 'ally', 'adore', 'zane', 'witchcraft', 'wisely', 'walt', 'volume', 'unimaginative', 'uniform', 'toni', 'terminator', 'tapes', 'swallow', 'subway', 'sublime', 'stalking', 'simpsons', 'sg1', 'severed', 'ronald', 'rivers', 'reviewing', 'respectable', 'reports', 'reminder', 'reliable', 'randolph', 'quantum', 'psychopath', 'promoted', 'principle', 'possess', 'pleasing', 'playboy', 'penn', 'peck', 'pc', 'payoff', 'pattern', 'papers', 'owned', 'oldfashioned', 'niece', 'nerves', 'moe', 'mermaid', 'loretta', 'longest', 'jules', 'judgment', 'janes', 'irene', 'intricate', 'inspirational', 'improbable', 'implied', 'imo', 'homosexuality', 'hindi', 'heavens', 'handheld', 'fragile', 'filthy', 'fifth', 'farmer', 'expose', 'excruciatingly', 'entirety', 'enthusiastic', 'ensure', 'enhanced', 'election', 'ebert', 'dread', 'divine', 'disgrace', 'disabled', 'demonstrate', 'delicious', 'decline', 'cultures', 'crossing', 'crisp', 'crippled', 'creek', 'contribute', 'combines', 'colleagues', 'cleaning', 'chopped', 'characteristics', 'cecil', 'butcher', 'butch', 'bones', 'bmovies', 'bloom', 'arguing', 'arab', 'appeals', 'antonioni', 'africanamerican', 'addict', 'accounts', '300', '1985', '1950', 'zizek', 'youtube', 'wonderland', 'whiny', 'whining', 'wagner', 'vanessa', 'ultimatum', 'tremendously', 'timberlake', 'tendency', 'tara', 'switched', 'steam', 'soderbergh', 'sidewalk', 'sentimentality', 'senior', 'scratch', 'scarface', 'resolved', 'reeve', 'rainy', 'pursue', 'popping', 'pirate', 'pickup', 'parallels', 'packs', 'p', 'ominous', 'ohara', 'ny', 'nightclub', 'natalie', 'morals', 'mobile', 'mitchum', 'missile', 'mathieu', 'lighter', 'lex', 'lester', 'leather', 'lance', 'kidnapping', 'juliet', 'jacket', 'itthis', 'immense', 'holocaust', 'hippies', 'harriet', 'habit', 'fairbanks', 'experiencing', 'estranged', 'escaping', 'errol', 'embrace', 'email', 'dustin', 'drinks', 'divorced', 'distract', 'deer', 'cushing', 'collect', 'bug', 'budgets', 'bsg', 'beowulf', 'attacking', 'astounding', 'assembled', 'answered', 'aided', 'absorbing', '95', '28', '1994', '1974', '1920s', 'yours', 'wire', 'werewolves', 'wellacted', 'voyage', 'virtual', 'victorian', 'updated', 'unsatisfying', 'turmoil', 'theories', 'sucker', 'subtext', 'stewarts', 'stardom', 'spectacle', 'sought', 'sophie', 'seymour', 'sergeant', 'selected', 'seeming', 'sand', 'rounded', 'revolt', 'reviewed', 'resulted', 'rescued', 'remembering', 'rebellious', 'quentin', 'quarter', 'ps', 'postwar', 'polly', 'pin', 'peculiar', 'peaceful', 'paula', 'noticeable', 'miranda', 'messing', 'marc', 'magician', 'longtime', 'longing', 'lola', 'literal', 'lavish', 'kurosawa', 'knocks', 'jaded', 'isolation', 'havoc', 'gunga', 'grass', 'goldblum', 'glaring', 'ghetto', 'garland', 'forgiven', 'followup', 'fills', 'expectation', 'exorcist', 'earnest', 'disgust', 'dilemma', 'denis', 'demonstrated', 'deliberate', 'dashing', 'dame', 'cyborg', 'crown', 'corporation', 'copied', 'conveniently', 'contestants', 'collective', 'classy', 'clash', 'clara', 'christie', 'chill', 'cheaply', 'boyer', 'begging', 'bach', 'asia', 'approached', 'amrita', 'amazon', 'alleged', 'aiming', 'adrian', '200', '\\x97', 'wounds', 'worms', 'wilder', 'whites', 'wartime', 'vince', 'vega', 'vanilla', 'valentine', 'traits', 'trains', 'tourist', 'thieves', 'taped', 'sydney', 'swearing', 'suspected', 'spit', 'span', 'spaghetti', 'snuff', 'slip', 'slaves', 'slapped', 'skilled', 'settled', 'serials', 'scotts', 'salman', 'rowlands', 'ritchie', 'rehash', 'rear', 'potter', 'poses', 'pocket', 'plotting', 'planets', 'pickford', 'pad', 'odyssey', 'nolte', 'mystical', 'morons', 'liveaction', 'liu', 'lightning', 'laurie', 'kellys', 'karate', 'judged', 'jealousy', 'indiana', 'hackman', 'goods', 'gentlemen', 'gamera', 'frontier', 'foolish', 'executives', 'excuses', 'establish', 'enhance', 'dump', 'dramatically', 'diverse', 'deliverance', 'define', 'debt', 'dealer', 'crashing', 'contributed', 'commits', 'coat', 'climb', 'christina', 'celebrated', 'casper', 'canceled', 'bw', 'burke', 'bravo', 'borders', 'bombs', 'bittersweet', 'bills', 'avoiding', 'aussie', 'arriving', 'arc', 'affleck', 'admired', 'addiction', 'acquired', 'achieves', 'accepting', '1959', '19', 'wtf', 'wiped', 'vanity', 'underwear', 'ultra', 'truman', 'tool', 'tonys', 'tax', 'taboo', 'suggesting', 'strict', 'stella', 'spice', 'spencer', 'slugs', 'seductive', 'seasoned', 'scoop', 'sarcastic', 'samantha', 'romeo', 'romances', 'ritual', 'rewarding', 'remembers', 'relentlessly', 'redundant', 'readily', 'races', 'pumbaa', 'psychologist', 'predictably', 'posing', 'populated', 'planes', 'pirates', 'phenomenal', 'pedestrian', 'pause', 'overboard', 'novelty', 'nbc', 'mum', 'moron', 'mason', 'lunch', 'loy', 'logan', 'legitimate', 'leap', 'korea', 'juliette', 'jodie', 'jersey', 'introducing', 'intentional', 'insist', 'inmates', 'informed', 'incorrect', 'immigrant', 'horny', 'headache', 'hayworth', 'graveyard', 'gable', 'furniture', 'freaky', 'fluid', 'flavor', 'firstrate', 'feast', 'explosive', 'exploding', 'expense', 'drab', 'downs', 'delightfully', 'delighted', 'deliciously', 'defies', 'dads', 'cuban', 'covering', 'courtroom', 'corbett', 'cookie', 'comprehend', 'commitment', 'cliffhanger', 'circles', 'cher', 'cheek', 'cape', 'breakdown', 'brainless', 'bounty', 'axe', 'attending', 'anil', '21', '1944', 'yawn', 'wine', 'wider', 'wastes', 'vintage', 'unsympathetic', 'trace', 'tongueincheek', 'tolerable', 'toby', 'timethe', 'thirties', 'themthe', 'symbol', 'stylized', 'stroke', 'slide', 'shockingly', 'shepherd', 'sells', 'robbers', 'ricky', 'respects', 'redneck', 'ranch', 'pushes', 'produces', 'precode', 'pound', 'possession', 'possesses', 'politicians', 'polish', 'poe', 'pilots', 'phase', 'passage', 'parking', 'pans', 'nuances', 'newcomer', 'mysteriously', 'mouths', 'mortal', 'mins', 'melvyn', 'medieval', 'likeable', 'liam', 'lethal', 'lends', 'lean', 'kinnear', 'jacques', 'ira', 'instincts', 'hepburn', 'groundbreaking', 'gilbert', 'gielgud', 'franklin', 'foundation', 'festivals', 'europeans', 'establishing', 'encountered', 'einstein', 'dominated', 'deciding', 'debbie', 'deanna', 'cypher', 'counter', 'consist', 'consideration', 'cohen', 'clive', 'cliched', 'clerk', 'cigarette', 'caron', 'carnage', 'cal', 'beg', 'barbra', 'bachchan', 'awakening', 'attended', 'arrest', 'arranged', 'apply', 'anxious', 'yep', 'xfiles', 'viewpoint', 'verdict', 'unusually', 'unanswered', 'turd', 'tickets', 'tactics', 'stephanie', 'stating', 'stabbed', 'sparks', 'sources', 'sixth', 'sgt', 'session', 'serum', 'screwball', 'scored', 'sarandon', 'routines', 'reverse', 'rejects', 'rational', 'queens', 'pursued', 'psyche', 'preminger', 'porter', 'pfeiffer', 'ordeal', 'optimistic', 'obstacles', 'obsessive', 'neglected', 'mute', 'motions', 'misunderstood', 'milo', 'mens', 'lucille', 'longoria', 'keys', 'keatons', 'jury', 'july', 'jill', 'jewel', 'invite', 'invention', 'informative', 'indifferent', 'indicate', 'incidents', 'hybrid', 'huston', 'horrified', 'hop', 'hateful', 'haines', 'gypo', 'guinea', 'freaking', 'flock', 'feminine', 'feeble', 'exploited', 'explodes', 'excruciating', 'erika', 'en', 'embarrassingly', 'dumped', 'dumbest', 'duel', 'document', 'distress', 'distracted', 'degrees', 'daylewis', 'daisy', 'crosby', 'controlling', 'compliment', 'clone', 'casablanca', 'bye', 'btw', 'breathing', 'blandings', 'begs', 'armstrong', 'anytime', 'anticipated', 'anthology', 'aftermath', 'abandon', '99', '1975', '1953', 'whore', 'warns', 'void', 'veterans', 'verbal', 'varied', 'upcoming', 'uncanny', 'un', 'uh', 'tvs', 'translate', 'thurman', 'thelma', 'targets', 'sundance', 'stations', 'spiderman', 'sickening', 'sanders', 'salesman', 'roughly', 'rosemarys', 'rider', 'relevance', 'regularly', 'rambling', 'q', 'puzzle', 'products', 'pointing', 'pixar', 'pathos', 'participants', 'otto', 'olivia', 'noteworthy', 'niven', 'narrow', 'mythology', 'murky', 'mormon', 'monologue', 'meantime', 'meal', 'mcqueen', 'martian', 'marilyn', 'mama', 'kathy', 'iranian', 'instances', 'inaccuracies', 'hannah', 'gwyneth', 'grandma', 'grabbed', 'goals', 'gloria', 'generate', 'gangs', 'fright', 'freeze', 'frantic', 'flower', 'distraction', 'depictions', 'daylight', 'darth', 'corn', 'corman', 'cooking', 'convention', 'columbia', 'cindy', 'ches', 'charlies', 'centuries', 'cannes', 'busey', 'brides', 'biopic', 'belly', 'basket', 'arty', 'arguments', 'amidst', 'alot', 'agony', 'aggressive', 'afterward', 'adaption', '34', '1998', '1940', 'upside', 'tuned', 'traps', 'tomei', 'tcm', 'swinging', 'suspicion', 'sunrise', 'statements', 'starters', 'stance', 'spine', 'shifts', 'shift', 'services', 'seats', 'scorsese', 'sang', 'rounds', 'resembling', 'replies', 'releasing', 'relating', 'realization', 'realistically', 'predator', 'policy', 'plodding', 'phones', 'paths', 'parks', 'paints', 'overbearing', 'nerve', 'motorcycle', 'moss', 'minnelli', 'midst', 'mates', 'masterson', 'manners', 'lurking', 'lowe', 'lip', 'launch', 'kidnap', 'juan', 'jose', 'jolie', 'jenna', 'intro', 'intensely', 'inclusion', 'hoot', 'herman', 'herbert', 'hadley', 'grip', 'glimpses', 'glance', 'gallery', 'funding', 'forties', 'forgetting', 'followers', 'flames', 'fishburne', 'fanatic', 'exclusively', 'enigmatic', 'employee', 'economic', 'eagerly', 'dynamics', 'dismiss', 'discussed', 'diary', 'denise', 'deed', 'debra', 'criticize', 'corey', 'controversy', 'combs', 'coffin', 'click', 'carpenters', 'bogart', 'blamed', 'berkeley', 'begun', 'august', 'arquette', 'anyhow', 'angie', 'ambitions', 'admitted', '1982', '1948', 'z', 'wong', 'widowed', 'warden', 'uniforms', 'syndrome', 'sweden', 'surroundings', 'substantial', 'stiles', 'sterling', 'stalked', 'sondra', 'snowman', 'smash', 'skinny', 'sketches', 'shore', 'shepard', 'sentences', 'selfindulgent', 'scripting', 'scenarios', 'scarecrows', 'saloon', 'rewarded', 'reunite', 'reiser', 'reflected', 'qualify', 'popped', 'platform', 'periods', 'penelope', 'pains', 'offscreen', 'necessity', 'naschy', 'narrated', 'murderers', 'moms', 'maureen', 'maintains', 'mabel', 'lionel', 'linked', 'kazan', 'itit', 'imaginary', 'ignoring', 'ignores', 'idol', 'hyped', 'hinted', 'hines', 'haunt', 'gloomy', 'gigantic', 'gestures', 'gap', 'frontal', 'frog', 'fried', 'foremost', 'foil', 'fleshed', 'factual', 'extensive', 'evans', 'envy', 'enchanted', 'educated', 'edith', 'dumber', 'dreamy', 'deputy', 'cycle', 'county', 'consequence', 'comeback', 'claude', 'chamber', 'capacity', 'campus', 'branaghs', 'bosses', 'biker', 'battlestar', 'backed', 'avid', 'assignment', 'apt', 'applies', 'applied', 'angelina', 'ample', 'ambiguity', 'abortion', '1934', 'zorro', 'witnessing', 'wheel', 'valid', 'unstable', 'unfolding', 'troma', 'trier', 'tones', 'tho', 'therapy', 'stream', 'stereotyped', 'soprano', 'smell', 'slim', 'sins', 'sights', 'sheets', 'shaggy', 'schneider', 'schedule', 'sailor', 'safely', 'ruining', 'rodriguez', 'robertson', 'rips', 'revival', 'reunited', 'resume', 'resistance', 'replacement', 'repeats', 're', 'protest', 'precise', 'pose', 'pornography', 'phantasm', 'paranoid', 'observe', 'nuanced', 'muslims', 'moviemaking', 'moviegoers', 'momentum', 'miyazaki', 'mick', 'medicine', 'lions', 'laputa', 'kubricks', 'kris', 'knights', 'kells', 'kathleen', 'jacks', 'israeli', 'islands', 'investigator', 'invested', 'intact', 'insomnia', 'homicidal', 'harlow', 'gus', 'graduate', 'gooding', 'goldie', 'georgia', 'gaps', 'frozen', 'entrance', 'eli', 'du', 'dominic', 'diner', 'dillinger', 'denouement', 'delirious', 'daytime', 'curiously', 'cunningham', 'collins', 'clunky', 'clay', 'cheadle', 'characterizations', 'characterisation', 'cap', 'cab', 'bubble', 'breast', 'bonnie', 'blockbusters', 'bleed', 'blaise', 'biting', 'bikini', 'benefits', 'beckinsale', 'bats', 'assure', 'arrow', 'array', 'arkin', 'anita', 'alliance', 'acknowledge', '1992', '101', 'weekly', 'wayans', 'waking', 'villainous', 'tomb', 'tire', 'thereby', 'talky', 'supreme', 'sufficient', 'studied', 'stern', 'steer', 'stadium', 'spider', 'sour', 'snipes', 'skeptical', 'sitcoms', 'similarity', 'silverman', 'shotgun', 'shocks', 'sherlock', 'sheen', 'sensibility', 'seduce', 'sarcasm', 'russ', 'rosario', 'rightly', 'revolving', 'retelling', 'reserved', 'relying', 'rebels', 'realises', 'raging', 'questioning', 'prophecy', 'playwright', 'pegg', 'parrot', 'omar', 'offend', 'october', 'networks', 'needing', 'mustve', 'meteor', 'marked', 'landmark', 'laboratory', 'joking', 'johns', 'interrupted', 'inadvertently', 'hysterically', 'hooker', 'hayes', 'gathering', 'fuzzy', 'fundamental', 'fortunate', 'fleet', 'famed', 'enchanting', 'displaying', 'detroit', 'deemed', 'customers', 'crushed', 'cow', 'consequently', 'commanding', 'colored', 'collette', 'coke', 'clooney', 'childlike', 'chamberlain', 'brooke', 'boundaries', 'bias', 'bc', 'bauer', 'balanced', 'bait', 'babes', 'artistry', 'admits', 'additionally', 'abound', '1967', 'ww2', 'worldwide', 'washed', 'wash', 'visitor', 'vignettes', 'vargas', 'upstairs', 'unnatural', 'unhinged', 'unfamiliar', 'understandably', 'unclear', 'truths', 'trivial', 'trauma', 'sweat', 'sunset', 'substitute', 'subgenre', 'stumble', 'stake', 'spotlight', 'smug', 'sly', 'sincerity', 'shred', 'shameless', 'sebastian', 'scheming', 'samuel', 'sammo', 'rupert', 'rolls', 'rice', 'reluctantly', 'quintessential', 'puppy', 'psychedelic', 'progressed', 'professionals', 'pivotal', 'phoenix', 'penned', 'olsen', 'observations', 'northam', 'nauseating', 'maximum', 'marisa', 'madeleine', 'lynchs', 'lunatic', 'lopez', 'lil', 'jude', 'janet', 'iturbi', 'itbut', 'interviewed', 'interior', 'howling', 'hostel', 'hitchcocks', 'heath', 'hardened', 'handicapped', 'geisha', 'gackt', 'fuel', 'fruit', 'forgets', 'finishing', 'finishes', 'favourites', 'evokes', 'ernie', 'epics', 'enduring', 'egyptian', 'drowned', 'divided', 'diversity', 'district', 'disco', 'determination', 'despise', 'demille', 'criticized', 'coworker', 'courtesy', 'convent', 'controls', 'confined', 'complications', 'commendable', 'chiba', 'chew', 'cheerful', 'charges', 'caretaker', 'bust', 'boots', 'boogie', 'beckham', 'baddies', 'awareness', 'arrogance', 'announced', 'ala', 'addressed', '85', 'yell', 'wholesome', 'whod', 'whimsical', 'verge', 'update', 'unnecessarily', 'um', 'transparent', 'traditions', 'titular', 'tide', 'thrust', 'thailand', 'testing', 'temper', 'targeted', 'sylvia', 'surround', 'summed', 'sonny', 'shannon', 'seth', 'semblance', 'sanity', 'roses', 'resolve', 'republic', 'reminding', 'relaxed', 'recover', 'randall', 'python', 'programme', 'perverted', 'participate', 'owl', 'outlandish', 'orchestra', 'olds', 'occult', 'obscurity', 'monotonous', 'monks', 'meadows', 'mccarthy', 'martians', 'mandy', 'magically', 'madsen', 'license', 'lens', 'laying', 'krueger', 'kirsten', 'kindly', 'johansson', 'interpretations', 'inserted', 'insert', 'injury', 'infinitely', 'hunted', 'hostile', 'hiphop', 'harrowing', 'hallmark', 'gut', 'guardian', 'gorilla', 'galactica', 'flows', 'file', 'fassbinder', 'fascist', 'fart', 'fairytale', 'explode', 'entries', 'earliest', 'dynamite', 'destination', 'deeds', 'cutter', 'convenient', 'considers', 'composition', 'comparable', 'colleague', 'clouds', 'chuckles', 'characteristic', 'chaotic', 'celebrities', 'carlos', 'captivated', 'camping', 'cameraman', 'cain', 'burial', 'brett', 'brent', 'brat', 'bonds', 'bonanza', 'blackandwhite', 'beard', 'bakshis', 'backstory', 'antagonist', 'annoy', 'affecting', 'accompanying', 'accidental', '1963', '1951', '1943', 'wright', 'wrestler', 'winners', 'whove', 'wherever', 'vomit', 'vivian', 'variation', 'upbeat', 'understatement', 'underdeveloped', 'unappealing', 'ugh', 'turkish', 'toxic', 'toned', 'timmy', 'thunder', 'taut', 'takashi', 'suzanne', 'sunk', 'subsequently', 'stuffed', 'stepmother', 'sporting', 'spoiling', 'slashers', 'sholay', 'sho', 'searched', 'se', 'scoobydoo', 'scarlett', 'satisfaction', 'sane', 'salvage', 'sales', 'robbed', 'rivals', 'remark', 'recreate', 'rea', 'rampant', 'protection', 'preaching', 'portuguese', 'plate', 'pizza', 'pigs', 'philo', 'outrageously', 'openly', 'nun', 'novelist', 'nightmarish', 'myrna', 'motel', 'misty', 'mister', 'miikes', 'melancholy', 'mei', 'marcel', 'macdonald', 'listened', 'kinski', 'judges', 'jagger', 'intend', 'inclined', 'incestuous', 'implies', 'hostage', 'hooper', 'herd', 'gypsy', 'ghastly', 'flashing', 'flag', 'finney', 'filmit', 'fetish', 'faded', 'exploitative', 'excels', 'engine', 'elsa', 'elliott', 'elephants', 'drowning', 'drift', 'dragging', 'distributed', 'devotion', 'deathtrap', 'dangerously', 'dallas', 'dahmer', 'dafoe', 'crosses', 'crossed', 'crooks', 'creasy', 'counting', 'constraints', 'complained', 'compensate', 'communication', 'committing', 'coma', 'cocaine', 'clarity', 'chong', 'cena', 'caprica', 'cancelled', 'borrow', 'blazing', 'bearing', 'battlefield', 'baron', 'awaiting', 'avoids', 'article', 'almighty', 'allthe', 'aesthetic', 'admission', 'adele', 'adapt', 'achievements', 'zodiac', 'wheelchair', 'wesley', 'watcher', 'warrant', 'walmart', 'voyager', 'voodoo', 'vcr', 'vapid', 'uneasy', 'unconventional', 'traumatic', 'transport', 'tools', 'stabbing', 'ss', 'spiral', 'sophia', 'smiths', 'slower', 'sinks', 'shoe', 'sharks', 'shah', 'sexist', 'sergio', 'serbian', 'senator', 'sections', 'seattle', 'screened', 'satanic', 'ruled', 'robotic', 'riff', 'restraint', 'rendering', 'remainder', 'raunchy', 'prop', 'progression', 'proceed', 'pretends', 'presidential', 'practical', 'plug', 'permanent', 'palm', 'overtones', 'overshadowed', 'orphan', 'observation', 'oblivious', 'nutshell', 'movieit', 'mole', 'mock', 'miraculously', 'mentor', 'manipulation', 'lookalike', 'locke', 'lennon', 'juice', 'impending', 'hometown', 'henchmen', 'hawn', 'grin', 'glossy', 'ghostly', 'garfield', 'fritz', 'frat', 'fires', 'fashions', 'fairness', 'facility', 'excellence', 'evoke', 'epitome', 'enormously', 'encouraged', 'dwight', 'duh', 'drivers', 'dreaming', 'distinction', 'desk', 'deepest', 'creations', 'courageous', 'coolest', 'contestant', 'confuse', 'conductor', 'cmon', 'climbing', 'classmates', 'clad', 'circa', 'cheering', 'celebrate', 'cedric', 'burnt', 'betrayed', 'bernsen', 'beers', 'battling', 'bashing', 'banks', 'awarded', 'avenge', 'aunts', 'assumes', 'apple', 'apocalypse', 'ajay', 'advised', 'admiration', 'abundance', 'absorbed', 'aaron', '26', '1932', 'warehouse', 'unleashed', 'transforms', 'theodore', 'superstar', 'submarine', 'suave', 'storythe', 'stardust', 'stab', 'spontaneous', 'somethings', 'solved', 'slater', 'sickness', 'sheep', 'shaped', 'shameful', 'selfcentered', 'secure', 'screenplays', 'runaway', 'rourke', 'roller', 'rivalry', 'riders', 'respond', 'reported', 'razor', 'raid', 'qualifies', 'quaint', 'pursuing', 'prologue', 'projected', 'principles', 'priests', 'plotline', 'peggy', 'paz', 'organization', 'occupied', 'noting', 'notices', 'myrtle', 'moores', 'meyer', 'meredith', 'meek', 'masked', 'marijuana', 'magazines', 'macmurray', 'linear', 'labeled', 'joining', 'jj', 'je', 'jar', 'jackman', 'isabelle', 'irritated', 'informer', 'incidental', 'incest', 'hum', 'hobgoblins', 'greene', 'goat', 'giovanna', 'gilliam', 'gig', 'garage', 'fraud', 'feinstone', 'failures', 'fades', 'experts', 'everett', 'espionage', 'ernest', 'employees', 'electronic', 'effortlessly', 'ealing', 'eagle', 'doug', 'dominate', 'distinctive', 'diego', 'demeanor', 'defending', 'deadpan', 'dc', 'cursed', 'convict', 'conveying', 'cons', 'colony', 'coburn', 'chops', 'choir', 'chloe', 'carpet', 'carlitos', 'capote', 'caper', 'candle', 'buttons', 'brazilian', 'bout', 'boobs', 'blondell', 'bimbo', 'beforehand', 'automatic', 'auto', 'assistance', 'ambiance', '1966', '1958', 'yells', 'worrying', 'woefully', 'weirdness', 'warhols', 'vigilante', 'uncertain', 'turtle', 'travis', 'torment', 'tolerance', 'tits', 'timei', 'theatres', 'tended', 'tech', 'tashan', 'tackle', 'symbols', 'switching', 'sustain', 'strung', 'starship', 'spoofs', 'socially', 'sober', 'snap', 'slept', 'slavery', 'sites', 'signature', 'shahid', 'sensual', 'sensitivity', 'sandy', 'saints', 'responds', 'reject', 'rebellion', 'ram', 'prostitution', 'prostitutes', 'pros', 'predecessors', 'prank', 'pornographic', 'pompous', 'policemen', 'playful', 'pauline', 'patty', 'outset', 'ongoing', 'officially', 'offense', 'obrien', 'ninjas', 'ninety', 'nest', 'motivated', 'monroe', 'mills', 'middleclass', 'marines', 'manipulated', 'managing', 'mae', 'madison', 'lifelong', 'lara', 'lampoon', 'joint', 'jo', 'jigsaw', 'investment', 'interiors', 'informs', 'inform', 'influential', 'influences', 'ideals', 'highschool', 'harron', 'gretchen', 'govinda', 'gena', 'geek', 'frost', 'filmography', 'fiend', 'fiancée', 'ferrell', 'farmers', 'englund', 'edges', 'economy', 'dunst', 'dreyfuss', 'doyle', 'disregard', 'discipline', 'disappearance', 'detached', 'davids', 'croc', 'crashed', 'conscious', 'confines', 'combining', 'cohesive', 'clyde', 'closure', 'clinic', 'chip', 'cheech', 'cells', 'busby', 'budding', 'brashear', 'bodyguard', 'boards', 'bloodbath', 'bless', 'blames', 'bennett', 'benjamin', 'bean', 'barnes', 'badness', 'associate', 'artemisia', 'antihero', 'annoyance', 'ads', 'admirer', 'abomination', 'waythe', 'waynes', 'warners', 'vincenzo', 'vet', 'varying', 'val', 'unravel', 'troopers', 'transported', 'tramp', 'tolerate', 'throwaway', 'theirs', 'surrender', 'superfluous', 'stink', 'standpoint', 'stabs', 'spelling', 'spade', 'spaceship', 'slam', 'shrek', 'shoved', 'shootouts', 'shield', 'seuss', 'seriousness', 'sensational', 'scriptwriter', 'scratching', 'sailors', 'sacrifices', 'russo', 'rewrite', 'reasoning', 'reagan', 'protective', 'programming', 'pressed', 'polar', 'perverse', 'perspectives', 'peril', 'pen', 'peers', 'paycheck', 'parodies', 'palmas', 'pairing', 'padding', 'norris', 'nearest', 'mythical', 'mustache', 'morse', 'mixes', 'mines', 'midget', 'marrying', 'marine', 'manic', 'malden', 'maintaining', 'lurid', 'lingering', 'lindy', 'liberty', 'lays', 'justification', 'jewelry', 'irving', 'interplay', 'inexperienced', 'inconsistencies', 'imitate', 'identified', 'idealistic', 'holt', 'himthe', 'happenings', 'hallucinations', 'gruff', 'groove', 'griffiths', 'grating', 'goodman', 'gershwin', 'gadgets', 'functions', 'framing', 'forrest', 'forgiveness', 'fodder', 'flowing', 'fixed', 'fabric', 'existing', 'emphasize', 'egg', 'echoes', 'drawings', 'division', 'diving', 'distorted', 'dish', 'directtovideo', 'dim', 'digging', 'dictator', 'determine', 'dern', 'depend', 'damsel', 'cunning', 'crowded', 'criticisms', 'cringing', 'cravens', 'cracks', 'counterparts', 'consciousness', 'connie', 'conclusions', 'concentration', 'collector', 'collapse', 'cody', 'cheers', 'captive', 'cannibals', 'burgess', 'britney', 'breathe', 'brandon', 'boyfriends', 'blessed', 'bites', 'bert', 'berenger', 'believability', 'beetle', 'barney', 'awry', 'asset', 'animations', 'anguish', 'ang', 'advances', 'acclaim', '1955', '1946', 'yarn', 'widower', 'weary', 'villa', 'vertigo', 'uptight', 'tsui', 'trigger', 'transplant', 'torturing', 'tightly', 'thereafter', 'tess', 'temptation', 'systems', 'switches', 'surf', 'subtitled', 'structured', 'strained', 'stoned', 'steaming', 'stares', 'staging', 'spelled', 'sorrow', 'slut', 'simons', 'showcases', 'shelter', 'sensibilities', 'sammy', 'russians', 'rousing', 'romania', 'revolver', 'representing', 'representative', 'replacing', 'regime', 'reese', 'reckless', 'radiation', 'profoundly', 'portions', 'plagued', 'placement', 'pierre', 'pals', 'paired', 'overwrought', 'outlaw', 'ostensibly', 'orlando', 'opposition', 'officials', 'monologues', 'monica', 'mobster', 'merry', 'mercifully', 'melbourne', 'mcadams', 'marvin', 'marcus', 'manga', 'mack', 'luxury', 'loren', 'lords', 'locate', 'locale', 'lo', 'lightweight', 'lifts', 'liberties', 'kidnaps', 'keanu', 'k', 'jurassic', 'jan', 'inhabit', 'identities', 'heroines', 'henchman', 'heap', 'hartleys', 'hardboiled', 'han', 'halfhour', 'hairy', 'grossly', 'grease', 'graces', 'gino', 'gibson', 'genetic', 'gathered', 'gasp', 'gandolfini', 'foreboding', 'flew', 'flavia', 'filmthis', 'fiery', 'federal', 'faint', 'examine', 'er', 'entertains', 'engineer', 'elected', 'egypt', 'earns', 'duchovny', 'drummer', 'drastically', 'downfall', 'dom', 'disappoints', 'derived', 'depardieu', 'denying', 'dedication', 'deck', 'decency', 'dash', 'czech', 'coworkers', 'cowardly', 'coward', 'cousins', 'contributes', 'continuously', 'confronts', 'communism', 'cloak', 'censorship', 'categories', 'cages', 'butchered', 'buffy', 'brush', 'borrows', 'bastard', 'bartender', 'animators', 'amid', 'altmans', 'allan', 'ali', 'airing', 'abu', 'zu', 'youngsters', 'wielding', 'visconti', 'virtue', 'uninspiring', 'underused', 'undercover', 'tricked', 'travolta', 'transitions', 'threads', 'tasty', 'taime', 'sykes', 'sweeping', 'surgeon', 'supportive', 'supermarket', 'sucking', 'subdued', 'straighttovideo', 'stirring', 'spotted', 'spells', 'sophistication', 'snowy', 'sleeper', 'significantly', 'shrill', 'shiny', 'shelves', 'shaun', 'sensation', 'seduction', 'scattered', 'satisfactory', 'sasquatch', 'sara', 'romanian', 'rogue', 'rockets', 'retirement', 'register', 'rapes', 'puzzled', 'prolific', 'presume', 'premiered', 'prefers', 'preferably', 'pleasures', 'pia', 'owe', 'oscarwinning', 'optimism', 'ogre', 'nuns', 'nora', 'natali', 'muni', 'movieits', 'modernday', 'mira', 'methe', 'mediocrity', 'massey', 'madman', 'loony', 'loner', 'liotta', 'ledger', 'lds', 'lawn', 'latino', 'laser', 'lars', 'languages', 'knocking', 'knees', 'katie', 'intelligently', 'intellectually', 'injustice', 'increase', 'impressions', 'imho', 'illustrate', 'icons', 'hypnotic', 'hurry', 'hanzo', 'hans', 'haha', 'grandpa', 'golf', 'glow', 'geoffrey', 'gently', 'geniuses', 'fuss', 'funky', 'freed', 'fierce', 'fewer', 'fetched', 'fence', 'faye', 'fanning', 'eyed', 'expresses', 'ewoks', 'establishment', 'ensue', 'engagement', 'emmy', 'eh', 'edmund', 'edison', 'echo', 'ebay', 'drum', 'dreamlike', 'downbeat', 'dodgy', 'distinctly', 'developments', 'deservedly', 'defy', 'dealers', 'darkly', 'crypt', 'crooked', 'correctness', 'coop', 'consumed', 'conniving', 'confirmed', 'condemned', 'colman', 'collaboration', 'cockney', 'clutter', 'cloth', 'clockwork', 'client', 'clarence', 'chemical', 'chans', 'ceremony', 'ceiling', 'capitalism', 'byron', 'brit', 'bothers', 'booth', 'boost', 'boogeyman', 'bleeding', 'billing', 'benny', 'belle', 'aura', 'atrocity', 'atlantic', 'apollo', 'anti', 'anchors', 'alter', 'allies', 'alarm', 'aircraft', 'adultery', 'accomplishment', 'abstract', 'aboard', '20s', 'zhang', 'zelah', 'zany', 'wrongly', 'willingly', 'visceral', 'verhoevens', 'vaughn', 'ursula', 'unwilling', 'trusted', 'trendy', 'traveled', 'tina', 'thug', 'thereof', 'taker', 'supports', 'succession', 'strain', 'springs', 'slowmotion', 'slips', 'sleepy', 'slaughtered', 'simpler', 'shout', 'shocker', 'shady', 'sematary', 'scarier', 'roommates', 'romeros', 'rodney', 'robbing', 'roads', 'rhyme', 'retrieve', 'reportedly', 'relates', 'redford', 'ravishing', 'rapid', 'rant', 'proudly', 'protecting', 'proportions', 'prone', 'promoting', 'predicted', 'predictability', 'preacher', 'potent', 'plummer', 'photograph', 'peterson', 'perceived', 'pepper', 'pecker', 'overtly', 'oprah', 'operating', 'operate', 'oneill', 'notwithstanding', 'nifty', 'nerdy', 'myra', 'mutants', 'muscular', 'muriel', 'mud', 'mockery', 'mishmash', 'maurice', 'maturity', 'mastermind', 'manipulate', 'luthor', 'lure', 'lorre', 'lists', 'lindsey', 'limp', 'lesbians', 'legion', 'lawyers', 'launched', 'kristofferson', 'knives', 'kilmer', 'kalifornia', 'judgement', 'imprisoned', 'imply', 'illusion', 'il', 'icy', 'hugo', 'henderson', 'heartless', 'harilal', 'grisly', 'grandparents', 'governments', 'goldsworthy', 'godard', 'gladiator', 'fur', 'fulfilling', 'fulfill', 'freaked', 'forsythe', 'forbes', 'fleeting', 'fleeing', 'flamboyant', 'fighters', 'fellini', 'farrah', 'extraordinarily', 'exgirlfriend', 'encourages', 'electricity', 'elder', 'dunne', 'drain', 'doris', 'denver', 'della', 'defining', 'deborah', 'data', 'darius', 'daria', 'cynicism', 'cradle', 'cowrote', 'conflicted', 'comprised', 'cinematographic', 'christensen', 'chevy', 'censors', 'bs', 'brick', 'breakthrough', 'bon', 'bloke', 'blackmail', 'bitchy', 'behaving', 'barton', 'bart', 'ballroom', 'baddie', 'backdrops', 'autobiography', 'attic', 'attendant', 'astonishingly', 'artistically', 'arnie', 'armor', 'applause', 'appalled', 'anxiety', 'analyze', 'amoral', 'alexandra', 'alcoholism', 'abroad', '700', '51', '1964', '1957', '150', 'wwi', 'wrath', 'worship', 'wolves', 'wee', 'virginity', 'violently', 'vibe', 'vaudeville', 'urgency', 'upbringing', 'unnerving', 'unlucky', 'unconscious', 'treating', 'tourists', 'tobe', 'throne', 'terrorism', 'temporary', 'tasks', 'tango', 'tacked', 'tables', 'swords', 'supremacy', 'superiors', 'stumbling', 'steamy', 'sore', 'sixteen', 'sibling', 'sheridan', 'shawn', 'shatner', 'shamelessly', 'seventh', 'semi', 'scarlet', 'sammi', 'sack', 'rudd', 'ridden', 'replay', 'reno', 'relaxing', 'redgrave', 'recurring', 'recreation', 'recovering', 'ratio', 'ranger', 'quirks', 'prolonged', 'prejudices', 'pour', 'poke', 'placing', 'pistol', 'pertwee', 'peaks', 'payne', 'patriotic', 'passions', 'padded', 'overwhelmed', 'overused', 'overacts', 'ossessione', 'observed', 'notions', 'neverending', 'needlessly', 'natasha', 'movieand', 'moderately', 'miyazakis', 'missions', 'mcdermott', 'marx', 'mandatory', 'management', 'lt', 'liar', 'levy', 'leaps', 'largest', 'lansbury', 'kornbluth', 'kenny', 'kareena', 'jolly', 'jerky', 'jam', 'irresponsible', 'irresistible', 'interspersed', 'innuendo', 'inhabited', 'inducing', 'increasing', 'immigrants', 'imitating', 'illustrated', 'hunky', 'hilton', 'herrings', 'helmet', 'heir', 'hector', 'heavenly', 'heather', 'hazzard', 'harbor', 'happier', 'hale', 'gusto', 'grendel', 'gravity', 'glenda', 'giggle', 'gays', 'gardens', 'flame', 'fitzgerald', 'fiasco', 'feared', 'fastforward', 'fagin', 'expressing', 'expand', 'enthralling', 'elisha', 'ecstasy', 'eastwoods', 'dwarf', 'dukakis', 'doses', 'dodge', 'dive', 'distinguished', 'disasters', 'dillon', 'diaz', 'destructive', 'denial', 'dangers', 'curtain', 'crass', 'countrys', 'counterpart', 'counted', 'continuous', 'confession', 'concentrated', 'compassionate', 'coal', 'clubs', 'climbs', 'climate', 'civilians', 'chop', 'cheung', 'cheesiness', 'cheat', 'chandler', 'castro', 'cassie', 'burden', 'bullies', 'brunette', 'brennan', 'borderline', 'booker', 'bombed', 'bloodshed', 'bliss', 'bigfoot', 'benoit', 'behaves', 'aztec', 'auteur', 'attributes', 'athletic', 'astronauts', 'assortment', 'associates', 'archer', 'antichrist', 'alienation', 'academic', '98', '27', '010', 'zabriskie', 'yearning', 'y', 'worm', 'woke', 'whipped', 'whip', 'vulnerability', 'volumes', 'vienna', 'vets', 'versa', 'vault', 'valerie', 'unemployed', 'truthful', 'traumatized', 'transformers', 'torch', 'thumb', 'thorn', 'theo', 'swiss', 'stupidest', 'stripper', 'stretches', 'stereotyping', 'stalks', 'spitting', 'spinning', 'smarmy', 'sm', 'slew', 'skipping', 'sinatras', 'sessions', 'segal', 'seal', 'screamed', 'scandal', 'sarne', 'rusty', 'rotting', 'roach', 'rko', 'richly', 'restless', 'relied', 'reincarnation', 'regrets', 'rapture', 'purse', 'pub', 'psychiatric', 'prophet', 'profile', 'princes', 'prices', 'practices', 'posh', 'pond', 'poet', 'percent', 'perceive', 'penis', 'penalty', 'paragraph', 'palestinian', 'outs', 'opponents', 'nutty', 'noam', 'nerds', 'neglect', 'neeson', 'nailed', 'muted', 'montages', 'monday', 'mindset', 'midway', 'midler', 'meyers', 'melt', 'mechanic', 'meanings', 'mcdowell', 'martino', 'marathon', 'maguire', 'ma', 'luzhin', 'lowbrow', 'liz', 'lin', 'lecture', 'lastly', 'lang', 'knack', 'keitel', 'joshua', 'izzard', 'itd', 'irrational', 'intellect', 'inherited', 'incompetence', 'improvised', 'idiocy', 'hustler', 'hopeful', 'honeymoon', 'honey', 'holland', 'hesitate', 'herethe', 'guru', 'grady', 'gosh', 'goofs', 'gimmicks', 'gannon', 'frenzy', 'footsteps', 'flipping', 'firsttime', 'finely', 'featurelength', 'farnsworth', 'fallon', 'fable', 'exwife', 'expanded', 'existential', 'enhances', 'embarrass', 'elmer', 'elevate', 'efficient', 'drugged', 'dopey', 'dogma', 'disdain', 'discernible', 'disappearing', 'dickinson', 'darling', 'dani', 'customs', 'custody', 'crowds', 'crenna', 'coverage', 'cortez', 'coppola', 'contemplate', 'consisted', 'connor', 'concludes', 'concentrates', 'compositions', 'companions', 'collecting', 'cocktail', 'coaster', 'chocolate', 'celine', 'casually', 'camps', 'bursts', 'buildup', 'btk', 'bothering', 'bonding', 'bishop', 'bing', 'billion', 'beth', 'bald', 'azumi', 'awfulness', 'aweigh', 'astronaut', 'architecture', 'approximately', 'anonymous', 'annoyingly', 'aniston', 'alienate', 'alba', 'afghanistan', 'adequately', '48', '250', 'zealand', 'wits', 'wisecracking', 'wipe', 'welcomed', 'weaver', 'walters', 'waits', 'victorias', 'versatile', 'vera', 'vengeful', 'undeveloped', 'uncredited', 'throats', 'thatll', 'thankful', 'tested', 'tensions', 'tenants', 'suspended', 'surpasses', 'supporters', 'suggestive', 'subtleties', 'submit', 'strikingly', 'stoic', 'stepped', 'stature', 'squeeze', 'spectacularly', 'sparse', 'snippets', 'snappy', 'smarter', 'slows', 'slipped', 'sleuth', 'shootings', 'shaolin', 'shakespearean', 'saddest', 'rushes', 'rosenstrasse', 'rizzo', 'ripoffs', 'rico', 'revive', 'rests', 'rehearsal', 'regal', 'regain', 'recipe', 'rebecca', 'rack', 'proverbial', 'profit', 'prevented', 'prevalent', 'preteen', 'premises', 'pranks', 'postmodern', 'plants', 'planted', 'penguin', 'pauses', 'passenger', 'outrage', 'oppressive', 'oddball', 'norton', 'naval', 'murphys', 'moviethis', 'mourning', 'mostel', 'monstrous', 'mold', 'micheal', 'metropolis', 'melinda', 'maverick', 'marred', 'maiden', 'lyrical', 'lung', 'lucio', 'lubitsch', 'lovingly', 'loop', 'looney', 'locales', 'listing', 'limbs', 'lightly', 'lange', 'kramer', 'kiddie', 'kerr', 'keeler', 'jock', 'january', 'it´s', 'italians', 'islam', 'insignificant', 'insects', 'insanely', 'impeccable', 'immersed', 'hug', 'horn', 'hmmm', 'hmm', 'hitchhiker', 'healing', 'harrys', 'harlem', 'guided', 'graves', 'grain', 'goodthe', 'goers', 'gi', 'garnered', 'gage', 'fulllength', 'fugitive', 'friendships', 'floriane', 'flip', 'fatherson', 'farewell', 'fanatics', 'explanations', 'examined', 'everybodys', 'empathize', 'elliot', 'ella', 'eliminate', 'dyke', 'dusty', 'duryea', 'durbin', 'dreadfully', 'downtown', 'documents', 'discussions', 'diabolical', 'dental', 'democracy', 'delve', 'december', 'daphne', 'daisies', 'creeps', 'cowritten', 'corridors', 'corbin', 'converted', 'continent', 'conquest', 'confronting', 'conduct', 'condescending', 'conception', 'compromise', 'collar', 'coleman', 'cocky', 'citys', 'choke', 'chock', 'chewing', 'chapters', 'caution', 'capt', 'candidates', 'callahan', 'bury', 'bucket', 'brink', 'branch', 'braindead', 'bombing', 'bolivia', 'betrays', 'believer', 'bearable', 'bash', 'barbarian', 'balloon', 'backwoods', 'babysitter', 'atomic', 'association', 'assist', 'architect', 'apprentice', 'apologize', 'apartheid', 'alternately', 'albums', 'adventurous', 'adopt', 'acknowledged', '2009', '1949', '1938', '1931', '18th', 'woven', 'wondrous', 'witless', 'wheels', 'welch', 'weirdo', 'voiceovers', 'villagers', 'variations', 'vanishing', 'untrue', 'universally', 'unimpressive', 'undertaker', 'unborn', 'tucker', 'toss', 'til', 'therein', 'thatthe', 'telly', 'tedium', 'switzerland', 'swamp', 'surrogate', 'surfers', 'stubborn', 'straw', 'strangest', 'stimulating', 'spielbergs', 'spectrum', 'soulless', 'sorvino', 'societies', 'snatch', 'smoothly', 'smitten', 'sloane', 'siege', 'shouts', 'shack', 'sentenced', 'seinfeld', 'sciencefiction', 'satellite', 'sacrificed', 'rugged', 'rollercoaster', 'rigid', 'rightfully', 'revelations', 'retain', 'requisite', 'render', 'recalls', 'ranging', 'rainer', 'psychologically', 'prototype', 'presumed', 'prehistoric', 'practicing', 'plotted', 'platoon', 'pita', 'philadelphia', 'pauls', 'partial', 'palette', 'overt', 'overseas', 'outtakes', 'outta', 'oriental', 'organs', 'obscene', 'nuance', 'november', 'norwegian', 'norma', 'nineties', 'mutated', 'morgana', 'moonstruck', 'mocking', 'misplaced', 'mischievous', 'mining', 'millennium', 'matching', 'marquis', 'lotr', 'locks', 'lizard', 'lineup', 'layered', 'lamas', 'kinky', 'kindness', 'kentucky', 'kaufman', 'joanna', 'jessie', 'janitor', 'irs', 'intruder', 'intestines', 'interpreted', 'insulted', 'illustrates', 'illiterate', 'hurting', 'hungarian', 'hoods', 'holidays', 'hogan', 'hockey', 'hispanic', 'hisher', 'heroin', 'hating', 'harmony', 'hardest', 'haired', 'guevara', 'grumpy', 'grips', 'granger', 'goodnatured', 'glee', 'gesture', 'gen', 'garcia', 'gamut', 'gaining', 'forgivable', 'floors', 'flee', 'fireworks', 'exposing', 'exhibit', 'evolved', 'equals', 'eponymous', 'episodic', 'entertainer', 'edits', 'duties', 'duff', 'distributors', 'disgruntled', 'dimwitted', 'desolate', 'dense', 'darkest', 'culkin', 'cruella', 'connolly', 'connecting', 'confirm', 'comicbook', 'cloud', 'classified', 'cillian', 'chore', 'cheaper', 'celebrating', 'cathy', 'casted', 'carson', 'caroline', 'carole', 'carnival', 'carlito', 'bets', 'benson', 'batwoman', 'barker', 'backyard', 'assassins', 'ash', 'andersons', 'anchor', 'amok', 'allison', 'allegedly', 'ahmad', 'admirably', 'administration', 'achieving', '500', '400', 'zatoichi', 'wills', 'wicker', 'wellthe', 'weaves', 'wb', 'voting', 'voters', 'viggo', 'usage', 'unsuccessful', 'unrated', 'unnamed', 'unfinished', 'unfairly', 'undertones', 'underdog', 'twodimensional', 'transform', 'transferred', 'transcends', 'thisthe', 'texture', 'tepid', 'teddy', 'tearjerker', 'tasteful', 'swift', 'swat', 'supplies', 'stripped', 'streisands', 'streak', 'stir', 'stills', 'stealth', 'spreading', 'spoton', 'spears', 'spaces', 'soles', 'societal', 'smalltown', 'smallest', 'slug', 'slowmoving', 'skimpy', 'singin', 'shrink', 'shakes', 'shadowy', 'secluded', 'schemes', 'sans', 'sacred', 'rewatch', 'retrospect', 'rerun', 'request', 'redeemed', 'rabid', 'puzzling', 'pursues', 'prevents', 'preserved', 'positions', 'poppins', 'polite', 'pokes', 'plantation', 'phyllis', 'pets', 'pavarotti', 'patch', 'participation', 'pam', 'owning', 'ounce', 'orphanage', 'orgy', 'operas', 'onethe', 'onesided', 'olympic', 'napoleon', 'motif', 'monumental', 'monstrosity', 'monastery', 'mj', 'miracles', 'mastroianni', 'marvellous', 'mamet', 'malcolm', 'mac', 'logo', 'll', 'lieutenant', 'leia', 'lap', 'lambs', 'kisses', 'kingsley', 'jew', 'jed', 'jackass', 'itits', 'itchy', 'irwin', 'interpret', 'integrated', 'instruments', 'insisted', 'indulge', 'inch', 'inc', 'imdbs', 'hosts', 'honorable', 'historians', 'hiring', 'helena', 'hedy', 'hawaii', 'hardships', 'handy', 'hammerhead', 'hamill', 'grounded', 'greta', 'goo', 'gladly', 'gilligans', 'gifts', 'geeks', 'gee', 'frenchman', 'forum', 'flamenco', 'ferry', 'faux', 'exudes', 'extremes', 'exposes', 'expertise', 'existent', 'exhausted', 'exceedingly', 'ensuing', 'employs', 'employ', 'emerged', 'dw', 'drums', 'dripping', 'drifter', 'draft', 'documented', 'directorwriter', 'deception', 'decapitated', 'deathstalker', 'darkman', 'dane', 'culminating', 'crow', 'crop', 'criminally', 'crawl', 'cracker', 'corky', 'consisting', 'compound', 'colourful', 'coarse', 'clumsily', 'chef', 'chat', 'chains', 'cbc', 'caruso', 'capsule', 'capitalize', 'campers', 'bryan', 'bruckheimer', 'brits', 'breathless', 'booze', 'bonham', 'bogdanovich', 'blink', 'blaxploitation', 'bgrade', 'behalf', 'beau', 'bathing', 'badthe', 'badass', 'attributed', 'atrocities', 'arizona', 'aristocrat', 'answering', 'anchorman', 'alligator', 'allied', 'alli', 'aims', 'aiello', 'affections', 'addressing', 'addresses', 'adapting', 'acquire', '1942', 'yourselves', 'winston', 'willem', 'warped', 'vonnegut', 'vivah', 'visitors', 'virtues', 'virgins', 'upsetting', 'untalented', 'uniquely', 'unforgivable', 'uneducated', 'turgid', 'travelling', 'toro', 'topped', 'tigerland', 'thinner', 'therethe', 'textbook', 'tent', 'teds', 'technological', 'teamed', 'tanks', 'talentless', 'sweetheart', 'subconscious', 'stretching', 'stray', 'stevenson', 'starving', 'staple', 'stalwart', 'stable', 'speechless', 'somber', 'slash', 'skywalker', 'showtime', 'shoestring', 'shenanigans', 'sheila', 'seduced', 'sealed', 'scriptwriters', 'sabu', 'runofthemill', 'rumors', 'rub', 'romano', 'rohmer', 'risks', 'rewind', 'revolting', 'retains', 'renders', 'reeks', 'recruits', 'recreated', 'recognise', 'reception', 'reanimator', 'raping', 'radar', 'punished', 'pronounced', 'praying', 'portman', 'pinup', 'picnic', 'perfected', 'pbs', 'patton', 'pacinos', 'outbreak', 'otoole', 'osullivan', 'orchestral', 'onenote', 'olympia', 'occurring', 'observing', 'oblivion', 'nielsen', 'mpaa', 'mismatched', 'misfire', 'minions', 'michel', 'menu', 'materials', 'masturbation', 'marginally', 'manor', 'mannered', 'maintained', 'madly', 'macbeth', 'loudly', 'lombard', 'liza', 'leno', 'lanza', 'lampoons', 'ladys', 'laden', 'knox', 'keyboard', 'kerry', 'keeper', 'kamal', 'joyous', 'jovi', 'jameson']\n",
            "10000\n"
          ]
        }
      ]
    },
    {
      "cell_type": "code",
      "source": [
        "for review,label in train_ds.take(1):\n",
        "  print(review)\n",
        "  print(label)"
      ],
      "metadata": {
        "colab": {
          "base_uri": "https://localhost:8080/"
        },
        "id": "4j0Hyeske806",
        "outputId": "47d5c27e-b50c-4625-c601-5170e04a7c0c"
      },
      "execution_count": null,
      "outputs": [
        {
          "output_type": "stream",
          "name": "stdout",
          "text": [
            "tf.Tensor(b\"This was an absolutely terrible movie. Don't be lured in by Christopher Walken or Michael Ironside. Both are great actors, but this must simply be their worst role in history. Even their great acting could not redeem this movie's ridiculous storyline. This movie is an early nineties US propaganda piece. The most pathetic scenes were those when the Columbian rebels were making their cases for revolutions. Maria Conchita Alonso appeared phony, and her pseudo-love affair with Walken was nothing but a pathetic emotional plug in a movie that was devoid of any real meaning. I am disappointed that there are movies like this, ruining actor's like Christopher Walken's good name. I could barely sit through it.\", shape=(), dtype=string)\n",
            "tf.Tensor(0, shape=(), dtype=int64)\n"
          ]
        }
      ]
    },
    {
      "cell_type": "code",
      "source": [
        "#TEXT PREPROCESSING\n",
        "def vectorizer(review,label):\n",
        "    return vectorization_layer(review),label\n",
        "\n",
        "train_dataset=train_ds.map(vectorizer)\n",
        "val_dataset=val_ds.map(vectorizer)"
      ],
      "metadata": {
        "id": "HTom1Smie-nE"
      },
      "execution_count": null,
      "outputs": []
    },
    {
      "cell_type": "code",
      "source": [
        "for review,label in train_dataset.take(1):\n",
        "  print(review)\n",
        "  print(label)"
      ],
      "metadata": {
        "colab": {
          "base_uri": "https://localhost:8080/"
        },
        "id": "edJD44FIfA15",
        "outputId": "5a9f1b84-e8aa-486a-9cf5-ba8e4542bc8d"
      },
      "execution_count": null,
      "outputs": [
        {
          "output_type": "stream",
          "name": "stdout",
          "text": [
            "tf.Tensor(\n",
            "[  10   13   33  411  384   17   89   26    1    8   32 1337 3521   40\n",
            "  491    1  192   22   84  149   18   10  215  317   26   64  239  212\n",
            "    8  484   54   64   84  111   95   21 5502   10   91  637  737   10\n",
            "   17    7   33  393 9554  169 2443  406    2   87 1205  135   65  142\n",
            "   52    2    1 7408   65  245   64 2832   16    1 2851    1    1 1415\n",
            " 4969    3   39    1 1567   15 3521   13  156   18    4 1205  881 7874\n",
            "    8    4   17   12   13 4037    5   98  145 1234   11  236  696   12\n",
            "   48   22   91   37   10 7285  149   37 1337    1   49  396   11   95\n",
            " 1148  841  140    9    0    0    0    0    0    0    0    0    0    0\n",
            "    0    0    0    0    0    0    0    0    0    0    0    0    0    0\n",
            "    0    0    0    0    0    0    0    0    0    0    0    0    0    0\n",
            "    0    0    0    0    0    0    0    0    0    0    0    0    0    0\n",
            "    0    0    0    0    0    0    0    0    0    0    0    0    0    0\n",
            "    0    0    0    0    0    0    0    0    0    0    0    0    0    0\n",
            "    0    0    0    0    0    0    0    0    0    0    0    0    0    0\n",
            "    0    0    0    0    0    0    0    0    0    0    0    0    0    0\n",
            "    0    0    0    0    0    0    0    0    0    0    0    0    0    0\n",
            "    0    0    0    0    0    0    0    0    0    0    0    0], shape=(250,), dtype=int64)\n",
            "tf.Tensor(0, shape=(), dtype=int64)\n"
          ]
        }
      ]
    },
    {
      "cell_type": "code",
      "source": [
        "train_dataset=train_dataset.batch(batch_size).prefetch(buffer_size=tf.data.AUTOTUNE)\n",
        "val_dataset=val_dataset.batch(batch_size).prefetch(buffer_size=tf.data.AUTOTUNE)"
      ],
      "metadata": {
        "id": "OzMff-ggfENy"
      },
      "execution_count": null,
      "outputs": []
    },
    {
      "cell_type": "markdown",
      "source": [
        "# **MODELLING**"
      ],
      "metadata": {
        "id": "lo37_9IfodKp"
      }
    },
    {
      "cell_type": "markdown",
      "metadata": {
        "id": "p2okOiavvAJO"
      },
      "source": [
        "## **POSITIONAL ENCODING**"
      ]
    },
    {
      "cell_type": "code",
      "source": [
        "def positional_encoding(d_model, sequence_length):\n",
        "  outputs = []\n",
        "  for pos in range(sequence_length):\n",
        "    PE = np.zeros((d_model))\n",
        "    for i in range(d_model):\n",
        "      if i % 2 == 0:\n",
        "        PE[i] = np.sin(pos / (10000 ** (i / d_model)))\n",
        "      else:\n",
        "        PE[i] = np.cos(pos / (10000 ** ((i - 1)/ d_model)))\n",
        "    outputs.append(tf.expand_dims(PE, axis = 0)) #shape = [1, d_model]\n",
        "  out = tf.concat(outputs, axis = 0) #shape = [sequence_length, d_model]\n",
        "  out = tf.expand_dims(out, axis = 0) #shape = [1, sequence_length, d_model]\n",
        "  return tf.cast(out, dtype = tf.float32)"
      ],
      "metadata": {
        "id": "sqW1H5vUfHQc"
      },
      "execution_count": null,
      "outputs": []
    },
    {
      "cell_type": "code",
      "source": [
        "print(positional_encoding(256, 64).shape)"
      ],
      "metadata": {
        "colab": {
          "base_uri": "https://localhost:8080/"
        },
        "id": "RyifbdE-fjCe",
        "outputId": "dfe111ca-29db-4009-ff26-db10d358c5de"
      },
      "execution_count": null,
      "outputs": [
        {
          "output_type": "stream",
          "name": "stdout",
          "text": [
            "(1, 64, 256)\n"
          ]
        }
      ]
    },
    {
      "cell_type": "markdown",
      "metadata": {
        "id": "-y6kl7PpGhaB"
      },
      "source": [
        "## **EMBEDDINGS**"
      ]
    },
    {
      "cell_type": "code",
      "source": [
        "class Embeddings(Layer):\n",
        "  def __init__(self, sequence_length, vocabulary_size, embedding_dimension):\n",
        "    super(Embeddings, self).__init__()\n",
        "    self.embedding = Embedding(vocabulary_size, embedding_dimension)\n",
        "    self.vocabulary_size = vocabulary_size\n",
        "    self.embedding_dimension = embedding_dimension\n",
        "    self.sequence_length = sequence_length\n",
        "\n",
        "  def call(self, inputs):\n",
        "    embedded_tokens = self.embedding(inputs)\n",
        "    embedded_positions = positional_encoding(self.embedding_dimension, self.sequence_length)\n",
        "    return embedded_tokens + embedded_positions, self.compute_mask(inputs)\n",
        "\n",
        "  def compute_mask(self, inputs, mask = None):\n",
        "    mask =  tf.math.not_equal(inputs, 0) #To avoid computation for places in the sequence where value is 0 (no word) as they don't contain any info\n",
        "    #True if element in inputs not equal to 0 and False if element in inputs equal to 0\n",
        "    return mask\n"
      ],
      "metadata": {
        "id": "RPK61myDfa_c"
      },
      "execution_count": null,
      "outputs": []
    },
    {
      "cell_type": "code",
      "source": [
        "mask = emb.compute_mask(test_input)\n",
        "print(mask)"
      ],
      "metadata": {
        "colab": {
          "base_uri": "https://localhost:8080/"
        },
        "id": "AQ-pvum7fmES",
        "outputId": "5ec0de62-5f96-4e93-b238-c9f3482d2557"
      },
      "execution_count": null,
      "outputs": [
        {
          "output_type": "stream",
          "name": "stdout",
          "text": [
            "tf.Tensor([[ True  True  True  True  True  True False False]], shape=(1, 8), dtype=bool)\n"
          ]
        }
      ]
    },
    {
      "cell_type": "markdown",
      "metadata": {
        "id": "LSajIeADGkf4"
      },
      "source": [
        "## **TRANSFORMER ENCODER**"
      ]
    },
    {
      "cell_type": "code",
      "source": [
        "class TransformerEncoder(Layer):\n",
        "  def __init__(self, embedding_dimension, inner_dense_dimension, num_heads):\n",
        "    super(TransformerEncoder, self).__init__()\n",
        "\n",
        "    self.mh_attention = MultiHeadAttention(num_heads = num_heads, key_dim = embedding_dimension)\n",
        "    #num_heads is no. of self attention units in multi head attention\n",
        "\n",
        "    self.norm1 = LayerNormalization()\n",
        "    self.norm2 = LayerNormalization()\n",
        "\n",
        "    self.feed_forward = Sequential([\n",
        "        Dense(inner_dense_dimension, activation = 'relu'),\n",
        "        Dense(embedding_dimension)\n",
        "    ])\n",
        "\n",
        "  def call(self, inputs, mask = None):\n",
        "    #print(\"transformer encoder input shape\", inputs)\n",
        "    if mask is not None: #mask shape = [batch_size, sequence_length]\n",
        "      mask = tf.cast(mask, dtype = tf.int32) #Converting from True and False to 1 and 0\n",
        "      mask1 = mask[:, :, tf.newaxis]\n",
        "      mask2 = mask[:,tf.newaxis, :]\n",
        "      padding_mask = tf.cast(mask1&mask2, dtype=\"int32\")\n",
        "    attention_output = self.mh_attention(key = inputs, query = inputs, value = inputs, attention_mask = padding_mask)\n",
        "\n",
        "    add_norm_and_feed_forward_input = self.norm1(inputs + attention_output)\n",
        "\n",
        "    feed_forward_output = self.feed_forward(add_norm_and_feed_forward_input)\n",
        "\n",
        "    return self.norm2(add_norm_and_feed_forward_input + feed_forward_output)"
      ],
      "metadata": {
        "id": "Vw8nmMjRfoOu"
      },
      "execution_count": null,
      "outputs": []
    },
    {
      "cell_type": "markdown",
      "metadata": {
        "id": "AOA1EYcXRu7E"
      },
      "source": [
        "## **TRANSFORMER**"
      ]
    },
    {
      "cell_type": "code",
      "source": [
        "embedding_dimension = 128\n",
        "feed_forward_inner_dimension = 1024\n",
        "num_heads = 8\n",
        "num_layers = 1\n",
        "num_epochs = 10\n",
        "vocabulary_size = max_tokens"
      ],
      "metadata": {
        "id": "GeV3NYKZfxfZ"
      },
      "execution_count": null,
      "outputs": []
    },
    {
      "cell_type": "code",
      "source": [
        "sequence_length = 250\n",
        "encoder_input = Input(shape = (None,), dtype = \"int64\", name = \"input\")\n",
        "embedding = Embeddings(sequence_length, vocabulary_size, embedding_dimension)\n",
        "x, encoder_mask = embedding(encoder_input)\n",
        "\n",
        "for _ in range(num_layers):\n",
        "  x = TransformerEncoder(embedding_dimension, feed_forward_inner_dimension, num_heads)(x)\n",
        "\n",
        "x = Flatten()(x)\n",
        "output = Dense(1, activation = \"sigmoid\")(x)\n",
        "\n",
        "transformer = tf.keras.Model(\n",
        "    encoder_input, output, name = \"transformer\"\n",
        ")\n",
        "transformer.summary()"
      ],
      "metadata": {
        "colab": {
          "base_uri": "https://localhost:8080/"
        },
        "id": "3LCxUjG1gNia",
        "outputId": "9d3dd159-856a-4e4a-a3a9-e8d4b8928118"
      },
      "execution_count": null,
      "outputs": [
        {
          "output_type": "stream",
          "name": "stdout",
          "text": [
            "Model: \"transformer\"\n",
            "_________________________________________________________________\n",
            " Layer (type)                Output Shape              Param #   \n",
            "=================================================================\n",
            " input (InputLayer)          [(None, None)]            0         \n",
            "                                                                 \n",
            " embeddings_1 (Embeddings)   ((None, 250, 128),        1280000   \n",
            "                              (None, None))                      \n",
            "                                                                 \n",
            " transformer_encoder_1 (Tra  (None, 250, 128)          791296    \n",
            " nsformerEncoder)                                                \n",
            "                                                                 \n",
            " flatten (Flatten)           (None, 32000)             0         \n",
            "                                                                 \n",
            " dense_4 (Dense)             (None, 1)                 32001     \n",
            "                                                                 \n",
            "=================================================================\n",
            "Total params: 2103297 (8.02 MB)\n",
            "Trainable params: 2103297 (8.02 MB)\n",
            "Non-trainable params: 0 (0.00 Byte)\n",
            "_________________________________________________________________\n"
          ]
        }
      ]
    },
    {
      "cell_type": "code",
      "source": [
        "transformer.compile(\n",
        "    loss = BinaryCrossentropy(),\n",
        "    optimizer = Adam(),\n",
        "    metrics = ['accuracy'])"
      ],
      "metadata": {
        "id": "HV7iCCMUg8pt"
      },
      "execution_count": null,
      "outputs": []
    },
    {
      "cell_type": "code",
      "source": [
        "checkpoint_filepath = '/content/transformers.h5'\n",
        "model_checkpoint_callback = ModelCheckpoint(\n",
        "    filepath = checkpoint_filepath,\n",
        "    monitor = 'val_accuracy',\n",
        "    mode = 'max',\n",
        "    save_best_only = True)"
      ],
      "metadata": {
        "id": "AGvU18johOL6"
      },
      "execution_count": null,
      "outputs": []
    },
    {
      "cell_type": "code",
      "source": [
        "train_dataset.take(1)"
      ],
      "metadata": {
        "colab": {
          "base_uri": "https://localhost:8080/"
        },
        "id": "OkQlHLBVtPZ1",
        "outputId": "e30dd528-98ab-41f3-c736-1606fcffc2fe"
      },
      "execution_count": null,
      "outputs": [
        {
          "output_type": "execute_result",
          "data": {
            "text/plain": [
              "<_TakeDataset element_spec=(TensorSpec(shape=(None, None), dtype=tf.int64, name=None), TensorSpec(shape=(None,), dtype=tf.int64, name=None))>"
            ]
          },
          "metadata": {},
          "execution_count": 22
        }
      ]
    },
    {
      "cell_type": "code",
      "source": [
        "for i in train_dataset.take(2):\n",
        "  print(i)"
      ],
      "metadata": {
        "colab": {
          "base_uri": "https://localhost:8080/"
        },
        "id": "SVDrD0UGfFpN",
        "outputId": "e0985c32-9197-407a-faab-7cc466ce7ed5"
      },
      "execution_count": null,
      "outputs": [
        {
          "output_type": "stream",
          "name": "stdout",
          "text": [
            "(<tf.Tensor: shape=(64, 250), dtype=int64, numpy=\n",
            "array([[  10,   13,   33, ...,    0,    0,    0],\n",
            "       [  11,   25,   73, ...,    0,    0,    0],\n",
            "       [4799, 6235,    2, ...,    0,    0,    0],\n",
            "       ...,\n",
            "       [   4,  638,    3, ..., 3067,   67,   10],\n",
            "       [4204,   36,   10, ...,    0,    0,    0],\n",
            "       [  11,  151,  514, ...,    0,    0,    0]])>, <tf.Tensor: shape=(64,), dtype=int64, numpy=\n",
            "array([0, 0, 0, 1, 1, 1, 0, 0, 0, 0, 0, 1, 1, 0, 1, 0, 1, 1, 1, 0, 1, 1,\n",
            "       1, 1, 1, 0, 0, 0, 1, 0, 0, 0, 0, 0, 0, 1, 1, 0, 0, 1, 0, 0, 0, 0,\n",
            "       0, 0, 0, 1, 0, 1, 1, 1, 1, 1, 0, 1, 0, 1, 1, 1, 1, 1, 0, 1])>)\n",
            "(<tf.Tensor: shape=(64, 250), dtype=int64, numpy=\n",
            "array([[2720,    1,    1, ...,  790,    9,   81],\n",
            "       [ 159,  725,    1, ...,    0,    0,    0],\n",
            "       [  47, 3349,  976, ...,   45,  319,   62],\n",
            "       ...,\n",
            "       [  11,   62,  151, ...,    0,    0,    0],\n",
            "       [1650,   10,    7, ...,    0,    0,    0],\n",
            "       [  45,    2, 1288, ...,    1,    7,    4]])>, <tf.Tensor: shape=(64,), dtype=int64, numpy=\n",
            "array([1, 1, 0, 0, 1, 0, 0, 0, 1, 0, 1, 1, 1, 1, 0, 1, 0, 0, 1, 1, 0, 0,\n",
            "       1, 1, 0, 1, 0, 0, 1, 1, 0, 1, 1, 1, 0, 1, 1, 0, 1, 0, 0, 1, 0, 1,\n",
            "       1, 0, 0, 1, 0, 0, 0, 0, 0, 0, 1, 1, 1, 1, 1, 1, 1, 0, 1, 1])>)\n"
          ]
        }
      ]
    },
    {
      "cell_type": "code",
      "source": [
        "history = transformer.fit(\n",
        "    train_dataset,\n",
        "    validation_data = val_dataset,\n",
        "    epochs = num_epochs,\n",
        "    callbacks=[model_checkpoint_callback])"
      ],
      "metadata": {
        "colab": {
          "base_uri": "https://localhost:8080/"
        },
        "id": "DvkyxTOwhlt7",
        "outputId": "22479627-58dc-4c53-99ce-7e31c744f692"
      },
      "execution_count": null,
      "outputs": [
        {
          "output_type": "stream",
          "name": "stdout",
          "text": [
            "Epoch 1/10\n",
            "391/391 [==============================] - 63s 131ms/step - loss: 0.9849 - accuracy: 0.5051 - val_loss: 0.6920 - val_accuracy: 0.5148\n",
            "Epoch 2/10\n"
          ]
        },
        {
          "output_type": "stream",
          "name": "stderr",
          "text": [
            "/usr/local/lib/python3.10/dist-packages/keras/src/engine/training.py:3103: UserWarning: You are saving your model as an HDF5 file via `model.save()`. This file format is considered legacy. We recommend using instead the native Keras format, e.g. `model.save('my_model.keras')`.\n",
            "  saving_api.save_model(\n"
          ]
        },
        {
          "output_type": "stream",
          "name": "stdout",
          "text": [
            "391/391 [==============================] - 33s 84ms/step - loss: 0.6410 - accuracy: 0.5970 - val_loss: 0.3658 - val_accuracy: 0.8373\n",
            "Epoch 3/10\n",
            "391/391 [==============================] - 33s 84ms/step - loss: 0.3131 - accuracy: 0.8714 - val_loss: 0.3146 - val_accuracy: 0.8674\n",
            "Epoch 4/10\n",
            "391/391 [==============================] - 38s 96ms/step - loss: 0.2272 - accuracy: 0.9151 - val_loss: 0.3700 - val_accuracy: 0.8562\n",
            "Epoch 5/10\n",
            "391/391 [==============================] - 38s 96ms/step - loss: 0.2155 - accuracy: 0.9266 - val_loss: 0.4864 - val_accuracy: 0.8211\n",
            "Epoch 6/10\n",
            "391/391 [==============================] - 38s 97ms/step - loss: 0.1686 - accuracy: 0.9439 - val_loss: 0.5922 - val_accuracy: 0.8336\n",
            "Epoch 7/10\n",
            "391/391 [==============================] - 38s 97ms/step - loss: 0.1315 - accuracy: 0.9561 - val_loss: 0.6215 - val_accuracy: 0.8340\n",
            "Epoch 8/10\n",
            "391/391 [==============================] - 33s 85ms/step - loss: 0.0980 - accuracy: 0.9677 - val_loss: 0.7285 - val_accuracy: 0.8278\n",
            "Epoch 9/10\n",
            "391/391 [==============================] - 33s 86ms/step - loss: 0.0969 - accuracy: 0.9710 - val_loss: 1.0535 - val_accuracy: 0.8266\n",
            "Epoch 10/10\n",
            "391/391 [==============================] - 38s 97ms/step - loss: 0.0836 - accuracy: 0.9721 - val_loss: 0.8398 - val_accuracy: 0.8394\n"
          ]
        }
      ]
    },
    {
      "cell_type": "code",
      "source": [
        "plt.plot(history.history['loss'])\n",
        "plt.plot(history.history['val_loss'])\n",
        "plt.title('model_loss')\n",
        "plt.ylabel('loss')\n",
        "plt.xlabel('epoch')\n",
        "plt.legend(['train', 'val'], loc = 'upper left')\n",
        "plt.show()"
      ],
      "metadata": {
        "colab": {
          "base_uri": "https://localhost:8080/",
          "height": 472
        },
        "id": "q177Sp4Mh0d8",
        "outputId": "a65a2c81-4486-4822-c979-445e3270120b"
      },
      "execution_count": null,
      "outputs": [
        {
          "output_type": "display_data",
          "data": {
            "text/plain": [
              "<Figure size 640x480 with 1 Axes>"
            ],
            "image/png": "[encoded data removed]"
          },
          "metadata": {}
        }
      ]
    },
    {
      "cell_type": "code",
      "source": [
        "plt.plot(history.history['accuracy'])\n",
        "plt.plot(history.history['val_accuracy'])\n",
        "plt.title('model_accuracy')\n",
        "plt.ylabel('accuracy')\n",
        "plt.xlabel('epoch')\n",
        "plt.legend(['train', 'val'], loc = 'upper left')\n",
        "plt.show()"
      ],
      "metadata": {
        "colab": {
          "base_uri": "https://localhost:8080/",
          "height": 472
        },
        "id": "qUVS2RmQmRuT",
        "outputId": "8771751d-b532-4527-8b7e-1435de76c45c"
      },
      "execution_count": null,
      "outputs": [
        {
          "output_type": "display_data",
          "data": {
            "text/plain": [
              "<Figure size 640x480 with 1 Axes>"
            ],
            "image/png": "[encoded data removed]"
          },
          "metadata": {}
        }
      ]
    },
    {
      "cell_type": "markdown",
      "source": [
        "# **TESTING**"
      ],
      "metadata": {
        "id": "QmoRghu-BtVx"
      }
    },
    {
      "cell_type": "code",
      "source": [
        "test_data=tf.data.Dataset.from_tensor_slices([[\"this movie looks very interesting, i love the fact that the actors do a great job in showing how people lived in the 18th century, which wasn't very good at all. But atleast this movie recreates this scenes! \"],\n",
        "                                              [\"very good start, but movie started becoming interesting at some point and fortunately at some point it started becoming much more fun, so in all i liked this movie \"],])\n"
      ],
      "metadata": {
        "id": "6k_RYtL4moc9"
      },
      "execution_count": null,
      "outputs": []
    },
    {
      "cell_type": "code",
      "source": [
        "def vectorizer_test(review):\n",
        "    return vectorization_layer(review)\n",
        "test_dataset=test_data.map(vectorizer_test)"
      ],
      "metadata": {
        "id": "24PLICoqmo1-"
      },
      "execution_count": null,
      "outputs": []
    },
    {
      "cell_type": "code",
      "source": [
        "transformer.predict(test_dataset)"
      ],
      "metadata": {
        "colab": {
          "base_uri": "https://localhost:8080/"
        },
        "id": "Guaymy3pmrIh",
        "outputId": "ba9f4e1a-8a45-4e63-f675-0f2f4789a9ef"
      },
      "execution_count": null,
      "outputs": [
        {
          "output_type": "stream",
          "name": "stdout",
          "text": [
            "2/2 [==============================] - 3s 7ms/step\n"
          ]
        },
        {
          "output_type": "execute_result",
          "data": {
            "text/plain": [
              "array([[0.92979616],\n",
              "       [0.9947237 ]], dtype=float32)"
            ]
          },
          "metadata": {},
          "execution_count": 29
        }
      ]
    },
    {
      "cell_type": "markdown",
      "source": [
        "## **Inference Ready Testing**"
      ],
      "metadata": {
        "id": "BZ7euMveCPBe"
      }
    },
    {
      "cell_type": "code",
      "source": [
        "inputs = Input(shape = (1), dtype = \"string\")\n",
        "vectorized_inputs = vectorization_layer(inputs)\n",
        "outputs = transformer(vectorized_inputs)\n",
        "\n",
        "inference_model = tf.keras.Model(inputs, outputs)\n",
        "inference_model.summary()"
      ],
      "metadata": {
        "colab": {
          "base_uri": "https://localhost:8080/"
        },
        "id": "xyR2EN7vmzLs",
        "outputId": "a60a97af-794a-40fc-876d-5a38ab51d8da"
      },
      "execution_count": null,
      "outputs": [
        {
          "output_type": "stream",
          "name": "stdout",
          "text": [
            "Model: \"model\"\n",
            "_________________________________________________________________\n",
            " Layer (type)                Output Shape              Param #   \n",
            "=================================================================\n",
            " input_1 (InputLayer)        [(None, 1)]               0         \n",
            "                                                                 \n",
            " text_vectorization (TextVe  (None, 250)               0         \n",
            " ctorization)                                                    \n",
            "                                                                 \n",
            " transformer (Functional)    (None, 1)                 2103297   \n",
            "                                                                 \n",
            "=================================================================\n",
            "Total params: 2103297 (8.02 MB)\n",
            "Trainable params: 2103297 (8.02 MB)\n",
            "Non-trainable params: 0 (0.00 Byte)\n",
            "_________________________________________________________________\n"
          ]
        }
      ]
    },
    {
      "cell_type": "code",
      "source": [
        "inference_model.predict([\"this movie looks very interesting, i love the fact that the actors do a great job in showing how people lived in the 18th century, which wasn't very good at all. But atleast this movie recreates this scenes! \",\n",
        "                               \"very good start, but movie started becoming interesting at some point and fortunately at some point it started becoming much more fun, so in all i liked this movie \"])"
      ],
      "metadata": {
        "colab": {
          "base_uri": "https://localhost:8080/"
        },
        "id": "GxLScf3Qm6ef",
        "outputId": "c45b4db3-ee68-4319-e07d-e34ffc143e83"
      },
      "execution_count": null,
      "outputs": [
        {
          "output_type": "stream",
          "name": "stdout",
          "text": [
            "1/1 [==============================] - 5s 5s/step\n"
          ]
        },
        {
          "output_type": "execute_result",
          "data": {
            "text/plain": [
              "array([[0.92979616],\n",
              "       [0.9947237 ]], dtype=float32)"
            ]
          },
          "metadata": {},
          "execution_count": 31
        }
      ]
    },
    {
      "cell_type": "markdown",
      "source": [
        "# **LSH Attention (Angular hash function)**"
      ],
      "metadata": {
        "id": "HRj-1NGqFWOi"
      }
    },
    {
      "cell_type": "code",
      "source": [
        "def look_one_back(x): #let x be [x1, x2, x3 ... xN]\n",
        "  x_extra = tf.concat([x[:, -1:, ...], x[:, :-1, ...]], axis = 1) #x_extra = [xN, x1, x2, x3 ... xN-1] #so x_extra is x shifted right by one place\n",
        "  return tf.concat([x, x_extra], axis = 2) #we concat x and x_extra to get pairs of consecutive buckets an element in x_extra is the consecutive bucket of x corresponding element\n",
        "\n",
        "def sticker_look_one_back(x): #very similar to look back function\n",
        "  x_extra = tf.concat([x[:-1:], x[:, :-1]], axis = 1)\n",
        "  return tf.concat([x, x_extra], axis = -1)\n",
        "\n",
        "def causal_masker(a,b):\n",
        "  '''a and b are indices of bucket elements\n",
        "  To do masking here, we use the logic that if b / a > 1, b comes after a and b needs to be masked. Else, b comes before or on a and doesn't need to be masked.'''\n",
        "  a, b = tf.cast(a, dtype = tf.float32) + 0.01, tf.cast(b, dtype = tf.float32) + 0.01 #To prevent zero division error or zero as the value\n",
        "  vals = tf.einsum('ipj,ipk->ipjk', b, 1 / a) #b/a matrix\n",
        "  out = tf.cast(tf.cast(tf.cast(vals, dtype = tf.int32), dtype = tf.bool), dtype = tf.int32) #here we have created an inverse causal mask\n",
        "  out = -out + 1 #to create the required causal mask\n",
        "  return tf.cast(out, dtype = tf.float32)\n",
        "\n",
        "class LSHAttention(Layer):\n",
        "    def __init__(self, bucket_size = 8, n_hashes = 1):\n",
        "        super(LSHAttention, self).__init__()\n",
        "        self.n_hashes = n_hashes\n",
        "        self.bucket_size = bucket_size #no. of buckets\n",
        "\n",
        "    def call(self, query, key, value, causal_masking = False):\n",
        "        R = tf.random.normal((tf.shape(query)[0], #batch_size\n",
        "                            tf.shape(query)[-1], #embedding_dimension\n",
        "                            self.bucket_size // 2))\n",
        "        xR = tf.matmul(query, R)\n",
        "        concat_xR = tf.concat([xR, -xR], axis = -1)\n",
        "        #concat_xR = [batch_size, sequence_length, bucket_size]\n",
        "        buckets = tf.math.argmax(concat_xR, axis = -1)\n",
        "        #buckets = [batch_size, sequence_length]\n",
        "        # buckets tell the bucket number to which each sequence belongs to\n",
        "\n",
        "        sticker = tf.argsort(buckets) #gives the indices of the buckets elements in ascending order\n",
        "        undo_sort = tf.argsort(sticker) #original unsorted buckets elements indices with reference to the indices values in sticker\n",
        "\n",
        "        # sequences sorted (axis = 1) based on the order in sticker\n",
        "        sorted_query = tf.gather(query, sticker, axis = 1, batch_dims = 1)\n",
        "        sorted_value = tf.gather(value, sticker, axis = 1, batch_dims = 1)\n",
        "\n",
        "        chunked_query = tf.reshape(sorted_query, (tf.shape(query)[0],\n",
        "                                                  self.bucket_size,\n",
        "                                                  -1,\n",
        "                                                  tf.shape(query)[-1])) #chunked_query = [batch_size, bucket_size, sequence_length // bucket_size, embedding_dimension]\n",
        "        chunked_value = tf.reshape(sorted_value, (tf.shape(value)[0],\n",
        "                                                  self.bucket_size,\n",
        "                                                  -1,\n",
        "                                                  tf.shape(value)[-1])) #chunked_value = [batch_size, bucket_size, sequence_length // bucket_size, embedding_dimension]\n",
        "\n",
        "        sticker = tf.stack(tf.split(sticker, self.bucket_size, 1), 1)\n",
        "        new_sticker = sticker_look_one_back(sticker)\n",
        "\n",
        "        lb_chunked_query = look_one_back(chunked_query) #each query is linked to a previous query. This acts as the key for inter bucket attention\n",
        "        #lb_chunked_query = [batch_size, bucket_size, 2 * (sequence_length // bucket_size), embedding_dimension]\n",
        "        lb_chunked_value = look_one_back(chunked_value)\n",
        "\n",
        "        score = tf.einsum('bhie,bhje->bhij', chunked_query, lb_chunked_query) #tf.linalg.matmul(query, key_transpose) in self attention\n",
        "        #score = [batch_size, bucket_size, sequence_length // bucket_size, 2 * (sequence_length // bucket_size)]\n",
        "        score /= tf.math.sqrt(tf.cast(query.shape[-1], tf.float32)) #normalization of score by dividing score by square root of embedding dimension\n",
        "\n",
        "        if causal_masking == True:\n",
        "            causal_mask = causal_masker(new_sticker, sticker)\n",
        "            score += causal_mask * -1e-10\n",
        "\n",
        "        score = tf.nn.softmax(score)\n",
        "        output = tf.einsum('buij,buje->buie', score, lb_chunked_value)\n",
        "\n",
        "        sorted_output = tf.reshape(output, (tf.shape(output)[0], tf.shape(query)[1], output.shape[3]))\n",
        "        output=tf.gather(sorted_output, undo_sort, axis = 1, batch_dims = 1) #reordering according to original senquence order of the input\n",
        "        return output"
      ],
      "metadata": {
        "id": "DVQqmHQM1Kbr"
      },
      "execution_count": null,
      "outputs": []
    }
  ]
}