{
  "cells": [
    {
      "cell_type": "markdown",
      "metadata": {
        "id": "view-in-github",
        "colab_type": "text"
      },
      "source": [
        "<a href=\"https://colab.research.google.com/github/UKJaagadhep/Data-science-and-machine-learning/blob/main/Learning%20CNN%20and%20MLOps%20with%20Malaria%20Diagnosis/Skeleton_code.ipynb\" target=\"_parent\"><img src=\"https://colab.research.google.com/assets/colab-badge.svg\" alt=\"Open In Colab\"/></a>"
      ]
    },
    {
      "cell_type": "code",
      "source": [
        "%tensorflow_version 2.x\n",
        "import tensorflow as tf\n",
        "device_name = tf.test.gpu_device_name()\n",
        "if device_name != '/device:GPU:0':\n",
        "  raise SystemError('GPU device not found')\n",
        "print('Found GPU at: {}'.format(device_name))"
      ],
      "metadata": {
        "id": "A8NmQHPH8MsK"
      },
      "execution_count": null,
      "outputs": []
    },
    {
      "cell_type": "code",
      "source": [
        "!pip install wandb"
      ],
      "metadata": {
        "id": "YKF-yF45Tflt"
      },
      "execution_count": null,
      "outputs": []
    },
    {
      "cell_type": "code",
      "source": [
        "%tensorflow_version 2.x\n",
        "import tensorflow as tf\n",
        "import numpy as np\n",
        "import matplotlib.pyplot as plt\n",
        "import seaborn as sns\n",
        "import cv2\n",
        "import datetime\n",
        "import io\n",
        "import wandb\n",
        "from wandb.keras import WandbCallback\n",
        "import tensorflow_datasets as tfds\n",
        "import tensorflow_probability as tfp\n",
        "from tensorflow.keras.models import Model, Sequential\n",
        "from tensorflow.keras.layers import Dense, Conv2D, MaxPool2D, Flatten, InputLayer, BatchNormalization, Input, Layer, Dropout, RandomFlip, RandomRotation, RandomCrop, RandomZoom, Resizing\n",
        "from tensorflow.keras.metrics import BinaryAccuracy, TruePositives, TrueNegatives, FalsePositives, FalseNegatives, Precision, Recall, F1Score, AUC\n",
        "from tensorflow.keras.losses import BinaryCrossentropy\n",
        "from tensorflow.keras.optimizers import Adam\n",
        "from tensorflow.keras.callbacks import Callback, CSVLogger, EarlyStopping, LearningRateScheduler, ModelCheckpoint, ReduceLROnPlateau, TensorBoard\n",
        "from tensorflow.keras.regularizers import L1, L2\n",
        "from tensorflow.image import flip_left_right, flip_up_down, rot90, resize, transpose, central_crop, random_crop, random_brightness, adjust_brightness, adjust_contrast\n",
        "from tensorboard.plugins.hparams import api as hp\n",
        "import albumentations as A\n",
        "import sklearn\n",
        "from sklearn.metrics import confusion_matrix, roc_curve\n",
        "from google.colab import drive"
      ],
      "metadata": {
        "id": "2OFxDPAs8QO_"
      },
      "execution_count": null,
      "outputs": []
    },
    {
      "cell_type": "code",
      "source": [
        "!wandb login"
      ],
      "metadata": {
        "id": "-dMqw6Qy8Ti-"
      },
      "execution_count": null,
      "outputs": []
    },
    {
      "cell_type": "code",
      "source": [
        "wandb.init(project = 'malaria_detection', entity = 'jagaadhep')\n",
        "#EVERYTHING WE DO AFTER THIS IS STORED IN THE RUN (LIKE IN LOGS)"
      ],
      "metadata": {
        "id": "648NdSff8WIo"
      },
      "execution_count": null,
      "outputs": []
    },
    {
      "cell_type": "code",
      "source": [
        "wandb.config = {\n",
        "  \"LEARNING_RATE\": 0.001,\n",
        "  \"N_EPOCHS\": 3,\n",
        "  \"BATCH_SIZE\": 128,\n",
        "  \"DROPOUT_RATE\": 0.0,\n",
        "  \"IM_SIZE\": 224,\n",
        "  \"REGULARIZATION_RATE\": 0.0,\n",
        "  \"N_FILTERS\": 6,\n",
        "  \"KERNEL_SIZE\": 3,\n",
        "  \"N_STRIDES\": 1,\n",
        "  \"POOL_SIZE\": 2,\n",
        "  \"N_DENSE_1\": 100,\n",
        "  \"N_DENSE_2\": 10,\n",
        "}\n",
        "\n",
        "configuration = wandb.config\n",
        "\n",
        "im_size = configuration['IM_SIZE']\n",
        "dropout_rate = configuration['DROPOUT_RATE']\n",
        "regularization_rate = configuration['REGULARIZATION_RATE']\n",
        "n_filters = configuration['N_FILTERS']\n",
        "kernel_size = configuration['KERNEL_SIZE']\n",
        "pool_size = configuration['POOL_SIZE']\n",
        "n_strides = configuration['N_STRIDES']\n",
        "learning_rate = configuration['LEARNING_RATE']\n",
        "\n",
        "#USE THESE VARIABLES FOR THEIR APPROPRIATE PLACES IN THE MODEL/PROJECT/CODE\n",
        "#USE WandbCallback() IN CALLBACKS IN MODEL.FIT()\n",
        "#AFTER FITTING AND TRAINING MODEL, YOU COULD GO TO YOUR WANDB WEBSITE DASHBOARD AND SEE EXACTLYWHAT WENT ON DURING TRAINING PROCESS LIKE METRICS, SYSTEM USAGE, MODEL ARCHITECTURE, LOGS, MODEL, WANDB - METADATA, RUN OVERVIEW\n",
        "#IF YOU HAVE ANY DOUBT, GO TO WANDB DOCUMENTATION AND CLICK ON KERAS/TENSORFLOW\n"
      ],
      "metadata": {
        "id": "dzQFidwoUi9u"
      },
      "execution_count": null,
      "outputs": []
    },
    {
      "cell_type": "code",
      "source": [
        "data, data_info = tfds.load('malaria', with_info = True, as_supervised = True, shuffle_files = True, split = ['train'])"
      ],
      "metadata": {
        "id": "3qJjYlLb8ZmB"
      },
      "execution_count": null,
      "outputs": []
    },
    {
      "cell_type": "markdown",
      "metadata": {
        "id": "L7C8dpK66p1g"
      },
      "source": [
        "### **DATA SPLITTING**"
      ]
    },
    {
      "cell_type": "code",
      "execution_count": null,
      "metadata": {
        "colab": {
          "base_uri": "https://localhost:8080/"
        },
        "id": "xewdy6ZRjq3p",
        "outputId": "dc8cbe4b-504e-4d18-ab04-ca5c038a19f0"
      },
      "outputs": [
        {
          "name": "stdout",
          "output_type": "stream",
          "text": [
            "[0, 1, 2, 3, 4, 5, 6, 7, 8, 9]\n",
            "[0, 1, 2, 3, 4, 5]\n",
            "[3, 4, 5, 6, 7, 8, 9]\n"
          ]
        }
      ],
      "source": [
        "dataset_ = tf.data.Dataset.range(10)\n",
        "print(list(dataset_.as_numpy_iterator()))\n",
        "dats = dataset_.take(6)\n",
        "print(list(dats.as_numpy_iterator()))\n",
        "datsa = dataset_.skip(3)\n",
        "print(list(datsa.as_numpy_iterator()))"
      ]
    },
    {
      "cell_type": "code",
      "execution_count": null,
      "metadata": {
        "id": "bEcW4MHAfDKX"
      },
      "outputs": [],
      "source": [
        "def splitting(dataset, train_ratio, val_ratio, test_ratio):\n",
        "  data_size = len(dataset)\n",
        "  train_data = dataset.take(int(train_ratio * data_size))\n",
        "  val_test_data = dataset.skip(int(train_ratio * data_size))\n",
        "  val_data  = val_test_data.take(int(val_ratio * data_size))\n",
        "  test_data = val_test_data.skip(int(val_ratio * data_size))\n",
        "  return train_data, val_data, test_data"
      ]
    },
    {
      "cell_type": "code",
      "execution_count": null,
      "metadata": {
        "colab": {
          "base_uri": "https://localhost:8080/"
        },
        "id": "sFRH9f9njCv6",
        "outputId": "f54396b2-b97b-469a-8193-88b64233fb2f"
      },
      "outputs": [
        {
          "name": "stdout",
          "output_type": "stream",
          "text": [
            "Train ratio : 0.8\n",
            "Validation ratio : 0.1\n",
            "Test ratio : 0.1\n"
          ]
        }
      ],
      "source": [
        "train_ratio = eval(input(\"Train ratio : \"))\n",
        "val_ratio = eval(input(\"Validation ratio : \"))\n",
        "test_ratio = eval(input(\"Test ratio : \"))\n"
      ]
    },
    {
      "cell_type": "code",
      "execution_count": null,
      "metadata": {
        "colab": {
          "base_uri": "https://localhost:8080/",
          "height": 263
        },
        "id": "g8kLyBLUmIYU",
        "outputId": "32e11e25-d0ec-415d-919d-7d6bddd213dd"
      },
      "outputs": [
        {
          "ename": "AttributeError",
          "evalue": "'list' object has no attribute 'take'",
          "output_type": "error",
          "traceback": [
            "\u001b[0;31m---------------------------------------------------------------------------\u001b[0m",
            "\u001b[0;31mAttributeError\u001b[0m                            Traceback (most recent call last)",
            "\u001b[0;32m<ipython-input-11-ddf5fd09e448>\u001b[0m in \u001b[0;36m<cell line: 1>\u001b[0;34m()\u001b[0m\n\u001b[0;32m----> 1\u001b[0;31m \u001b[0mtrain_data\u001b[0m\u001b[0;34m,\u001b[0m \u001b[0mval_data\u001b[0m\u001b[0;34m,\u001b[0m \u001b[0mtest_data\u001b[0m \u001b[0;34m=\u001b[0m \u001b[0msplitting\u001b[0m\u001b[0;34m(\u001b[0m\u001b[0mdata\u001b[0m\u001b[0;34m,\u001b[0m \u001b[0mtrain_ratio\u001b[0m\u001b[0;34m,\u001b[0m \u001b[0mval_ratio\u001b[0m\u001b[0;34m,\u001b[0m \u001b[0mtest_ratio\u001b[0m\u001b[0;34m)\u001b[0m\u001b[0;34m\u001b[0m\u001b[0;34m\u001b[0m\u001b[0m\n\u001b[0m",
            "\u001b[0;32m<ipython-input-9-cf88d6491010>\u001b[0m in \u001b[0;36msplitting\u001b[0;34m(dataset, train_ratio, val_ratio, test_ratio)\u001b[0m\n\u001b[1;32m      1\u001b[0m \u001b[0;32mdef\u001b[0m \u001b[0msplitting\u001b[0m\u001b[0;34m(\u001b[0m\u001b[0mdataset\u001b[0m\u001b[0;34m,\u001b[0m \u001b[0mtrain_ratio\u001b[0m\u001b[0;34m,\u001b[0m \u001b[0mval_ratio\u001b[0m\u001b[0;34m,\u001b[0m \u001b[0mtest_ratio\u001b[0m\u001b[0;34m)\u001b[0m\u001b[0;34m:\u001b[0m\u001b[0;34m\u001b[0m\u001b[0;34m\u001b[0m\u001b[0m\n\u001b[1;32m      2\u001b[0m   \u001b[0mdata_size\u001b[0m \u001b[0;34m=\u001b[0m \u001b[0mlen\u001b[0m\u001b[0;34m(\u001b[0m\u001b[0mdataset\u001b[0m\u001b[0;34m)\u001b[0m\u001b[0;34m\u001b[0m\u001b[0;34m\u001b[0m\u001b[0m\n\u001b[0;32m----> 3\u001b[0;31m   \u001b[0mtrain_data\u001b[0m \u001b[0;34m=\u001b[0m \u001b[0mdataset\u001b[0m\u001b[0;34m.\u001b[0m\u001b[0mtake\u001b[0m\u001b[0;34m(\u001b[0m\u001b[0mint\u001b[0m\u001b[0;34m(\u001b[0m\u001b[0mtrain_ratio\u001b[0m \u001b[0;34m*\u001b[0m \u001b[0mdata_size\u001b[0m\u001b[0;34m)\u001b[0m\u001b[0;34m)\u001b[0m\u001b[0;34m\u001b[0m\u001b[0;34m\u001b[0m\u001b[0m\n\u001b[0m\u001b[1;32m      4\u001b[0m   \u001b[0mval_test_data\u001b[0m \u001b[0;34m=\u001b[0m \u001b[0mdataset\u001b[0m\u001b[0;34m.\u001b[0m\u001b[0mskip\u001b[0m\u001b[0;34m(\u001b[0m\u001b[0mint\u001b[0m\u001b[0;34m(\u001b[0m\u001b[0mtrain_ratio\u001b[0m \u001b[0;34m*\u001b[0m \u001b[0mdata_size\u001b[0m\u001b[0;34m)\u001b[0m\u001b[0;34m)\u001b[0m\u001b[0;34m\u001b[0m\u001b[0;34m\u001b[0m\u001b[0m\n\u001b[1;32m      5\u001b[0m   \u001b[0mval_data\u001b[0m  \u001b[0;34m=\u001b[0m \u001b[0mval_test_data\u001b[0m\u001b[0;34m.\u001b[0m\u001b[0mtake\u001b[0m\u001b[0;34m(\u001b[0m\u001b[0mint\u001b[0m\u001b[0;34m(\u001b[0m\u001b[0mval_ratio\u001b[0m \u001b[0;34m*\u001b[0m \u001b[0mdata_size\u001b[0m\u001b[0;34m)\u001b[0m\u001b[0;34m)\u001b[0m\u001b[0;34m\u001b[0m\u001b[0;34m\u001b[0m\u001b[0m\n",
            "\u001b[0;31mAttributeError\u001b[0m: 'list' object has no attribute 'take'"
          ]
        }
      ],
      "source": [
        "train_data, val_data, test_data = splitting(data, train_ratio, val_ratio, test_ratio)"
      ]
    },
    {
      "cell_type": "markdown",
      "metadata": {
        "id": "ky4eWjeVmdFl"
      },
      "source": [
        " we see above data is a list so, we use data[0] to call train data"
      ]
    },
    {
      "cell_type": "code",
      "execution_count": null,
      "metadata": {
        "id": "fGzXGKutmWjk"
      },
      "outputs": [],
      "source": [
        "train_data, val_data, test_data = splitting(data[0], train_ratio, val_ratio, test_ratio)"
      ]
    },
    {
      "cell_type": "markdown",
      "metadata": {
        "id": "U2qGFUo160_R"
      },
      "source": [
        "### **DATA VISUALIZATION**"
      ]
    },
    {
      "cell_type": "code",
      "execution_count": null,
      "metadata": {
        "colab": {
          "base_uri": "https://localhost:8080/",
          "height": 36
        },
        "id": "UKQaZjbLt7cQ",
        "outputId": "27e7a658-00dd-41b2-b08e-f90387d98f48"
      },
      "outputs": [
        {
          "data": {
            "application/vnd.google.colaboratory.intrinsic+json": {
              "type": "string"
            },
            "text/plain": [
              "'parasitized'"
            ]
          },
          "execution_count": 13,
          "metadata": {},
          "output_type": "execute_result"
        }
      ],
      "source": [
        "data_info.features['label'].int2str(0)"
      ]
    },
    {
      "cell_type": "code",
      "execution_count": null,
      "metadata": {
        "colab": {
          "base_uri": "https://localhost:8080/",
          "height": 36
        },
        "id": "jMCq6zEJuACW",
        "outputId": "1405f9a8-e8e2-4c10-f1c8-71e7e933a708"
      },
      "outputs": [
        {
          "data": {
            "application/vnd.google.colaboratory.intrinsic+json": {
              "type": "string"
            },
            "text/plain": [
              "'uninfected'"
            ]
          },
          "execution_count": 14,
          "metadata": {},
          "output_type": "execute_result"
        }
      ],
      "source": [
        "data_info.features['label'].int2str(1)"
      ]
    },
    {
      "cell_type": "code",
      "execution_count": null,
      "metadata": {
        "colab": {
          "base_uri": "https://localhost:8080/",
          "height": 428
        },
        "id": "CAtL8NOGmmmg",
        "outputId": "db412aa0-ee99-407e-8aab-6995eedea575"
      },
      "outputs": [
        {
          "data": {
            "image/png": "[encoded data removed]",
            "text/plain": [
              "<Figure size 640x480 with 16 Axes>"
            ]
          },
          "metadata": {},
          "output_type": "display_data"
        }
      ],
      "source": [
        "for i, (image, label) in enumerate(train_data.take(16)):\n",
        "  ax = plt.subplot(4, 4, i+1)\n",
        "  plt.imshow(image)\n",
        "  plt.title(data_info.features['label'].int2str(label))\n",
        "  plt.axis(\"off\")"
      ]
    },
    {
      "cell_type": "markdown",
      "metadata": {
        "id": "Hd8fy_GH68i3"
      },
      "source": [
        "### **DATA PROCESSING**"
      ]
    },
    {
      "cell_type": "code",
      "execution_count": null,
      "metadata": {
        "colab": {
          "base_uri": "https://localhost:8080/"
        },
        "id": "JbvfPxSXrS0f",
        "outputId": "f1f5533a-a7ba-4621-efa2-ba80b226e6bc"
      },
      "outputs": [
        {
          "name": "stdout",
          "output_type": "stream",
          "text": [
            "image size : 224\n"
          ]
        }
      ],
      "source": [
        "im_size = int(input(\"image size : \"))"
      ]
    },
    {
      "cell_type": "code",
      "execution_count": null,
      "metadata": {
        "colab": {
          "base_uri": "https://localhost:8080/"
        },
        "id": "KrAJ_fH67nKC",
        "outputId": "db373916-8e29-4f4c-d3c2-066bb8331b06"
      },
      "outputs": [
        {
          "name": "stdout",
          "output_type": "stream",
          "text": [
            "tf.Tensor(\n",
            "[[[0. 0. 0.]\n",
            "  [0. 0. 0.]\n",
            "  [0. 0. 0.]\n",
            "  ...\n",
            "  [0. 0. 0.]\n",
            "  [0. 0. 0.]\n",
            "  [0. 0. 0.]]\n",
            "\n",
            " [[0. 0. 0.]\n",
            "  [0. 0. 0.]\n",
            "  [0. 0. 0.]\n",
            "  ...\n",
            "  [0. 0. 0.]\n",
            "  [0. 0. 0.]\n",
            "  [0. 0. 0.]]\n",
            "\n",
            " [[0. 0. 0.]\n",
            "  [0. 0. 0.]\n",
            "  [0. 0. 0.]\n",
            "  ...\n",
            "  [0. 0. 0.]\n",
            "  [0. 0. 0.]\n",
            "  [0. 0. 0.]]\n",
            "\n",
            " ...\n",
            "\n",
            " [[0. 0. 0.]\n",
            "  [0. 0. 0.]\n",
            "  [0. 0. 0.]\n",
            "  ...\n",
            "  [0. 0. 0.]\n",
            "  [0. 0. 0.]\n",
            "  [0. 0. 0.]]\n",
            "\n",
            " [[0. 0. 0.]\n",
            "  [0. 0. 0.]\n",
            "  [0. 0. 0.]\n",
            "  ...\n",
            "  [0. 0. 0.]\n",
            "  [0. 0. 0.]\n",
            "  [0. 0. 0.]]\n",
            "\n",
            " [[0. 0. 0.]\n",
            "  [0. 0. 0.]\n",
            "  [0. 0. 0.]\n",
            "  ...\n",
            "  [0. 0. 0.]\n",
            "  [0. 0. 0.]\n",
            "  [0. 0. 0.]]], shape=(224, 224, 3), dtype=float32) tf.Tensor(1, shape=(), dtype=int64)\n"
          ]
        }
      ],
      "source": [
        "for image, label in train_data.take(1):\n",
        "  print(image,label)"
      ]
    },
    {
      "cell_type": "code",
      "execution_count": null,
      "metadata": {
        "id": "W5Qg2a4B7KPM"
      },
      "outputs": [],
      "source": [
        "#resizing and rescaling using tf.image\n",
        "@tf.function #converting function in eager mode to graph (graph mode)\n",
        "def resize_rescale(image, label):\n",
        "  return tf.image.resize(image, (im_size, im_size))/255.0, label"
      ]
    },
    {
      "cell_type": "markdown",
      "metadata": {
        "id": "LH9EuLm_8uoM"
      },
      "source": [
        "Here we see that the image has been resized to 224 x 224 and then rescaled or normalized by dividing by 255"
      ]
    },
    {
      "cell_type": "markdown",
      "source": [
        "### **DATA AUGMENTATION**"
      ],
      "metadata": {
        "id": "zeEwFh4zC094"
      }
    },
    {
      "cell_type": "markdown",
      "source": [
        "**USING TF.IMAGE**"
      ],
      "metadata": {
        "id": "b69oGuPnC6Ug"
      }
    },
    {
      "cell_type": "code",
      "execution_count": null,
      "metadata": {
        "id": "T-s0RvgA7hbS"
      },
      "outputs": [],
      "source": [
        "#augmentation using tf.image\n",
        "@tf.function #converting function in eager mode to graph (graph mode)\n",
        "def augment(image, label):\n",
        "  tf.config.run_functions_eagerly(True) #run functions in eager mode\n",
        "  image, label = resize_rescale(image, label)\n",
        "  image = tf.image.rot90(image, k = tf.random.uniform(shape =[], minval = 0, maxval = 2, dtype = tf.int32, seed = 42)) #randomize k to introduce randomness\n",
        "  image = tf.image.stateless_random_flip_left_right(image, seed = 42)\n",
        "  return image, label\n",
        "train_data = train_data.shuffle(8, reshuffle_each_iteration = True).map(augment).batch(32).prefetch(tf.data.AUTOTUNE)\n",
        "val_data = val_data.shuffle(8, reshuffle_each_iteration = True).map(resize_rescale).batch(32).prefetch(tf.data.AUTOTUNE)\n",
        "test_data = test_data.shuffle(8, reshuffle_each_iteration = True).map(resize_rescale)"
      ]
    },
    {
      "cell_type": "markdown",
      "source": [
        "**USING TF.KERAS.LAYERS**"
      ],
      "metadata": {
        "id": "F7LAEeHMDK9L"
      }
    },
    {
      "cell_type": "code",
      "source": [
        "#resizing and rescaling using tf.keras.layers\n",
        "resize_rescale_layer = Sequential([\n",
        "    Resizing(im_size, im_size),\n",
        "    Rescaling(1.0/255)\n",
        "])"
      ],
      "metadata": {
        "id": "kLJjylZ7vSW_"
      },
      "execution_count": null,
      "outputs": []
    },
    {
      "cell_type": "code",
      "source": [
        "#Custom augmentation layer\n",
        "class RotNinety(Layer):\n",
        "  def __init__(self):\n",
        "    super().__init__()\n",
        "  @tf.function #converting function in eager mode to graph (graph mode)\n",
        "  def call(self, image):\n",
        "    return tf.image.rot90(image, k = tf.random.uniform(shape =[], minval = 0, maxval = 2, dtype = tf.int32, seed = 42))"
      ],
      "metadata": {
        "id": "OEb-SwpxPx6d"
      },
      "execution_count": null,
      "outputs": []
    },
    {
      "cell_type": "code",
      "source": [
        "#augmentation using tf.keras.layers\n",
        "augment_ = Sequential([\n",
        "    RandomRotation(factor = (0.25, 0.2501)), #or use RotNinety()     #so that all images all rotated by about 90 degrees\n",
        "    RandomFlip(mode = 'horizontal')\n",
        "])\n",
        "@tf.function #converting function in eager mode to graph (graph mode)\n",
        "def augment_layer(image, labels):\n",
        "  return augment_(resize_rescale_layer(image), training = True), labels\n",
        "train_data = train_data.shuffle(8, reshuffle_each_iteration = True).batch(1).prefetch(tf.data.AUTOTUNE) #since we are batching and then doing resizing in training, batch size other than 1 would result in the inputs having different shapes\n",
        "val_data = val_data.shuffle(8, reshuffle_each_iteration = True).batch(1).prefetch(tf.data.AUTOTUNE) #lesser the batch size, more the training time\n",
        "test_data = test_data.shuffle(8, reshuffle_each_iteration = True)"
      ],
      "metadata": {
        "id": "nFmpsP761-Bz"
      },
      "execution_count": null,
      "outputs": []
    },
    {
      "cell_type": "markdown",
      "source": [
        "**MIXUP AUGMENTATION**"
      ],
      "metadata": {
        "id": "HSw5fGo5DsxK"
      }
    },
    {
      "cell_type": "markdown",
      "source": [
        "MIXUP AUGMENTATION MAY BE NECESSARILY BE SUITED TO EVERY PROBLEM STATEMENT LIKE HERE"
      ],
      "metadata": {
        "id": "9M49zqziPlDA"
      }
    },
    {
      "cell_type": "code",
      "source": [
        "#GETTING LAMBDA FROM BETA DISTRIBUTION\n",
        "lamda = tfp.distributions.Beta(0.2, 0.2)\n",
        "print(lamda.sample())\n",
        "print(lamda.sample(1))\n",
        "print(lamda.sample(4))\n",
        "print(lamda.sample((4,3)))\n",
        "print(lamda.sample(1).numpy())"
      ],
      "metadata": {
        "colab": {
          "base_uri": "https://localhost:8080/"
        },
        "id": "j2Xxk8kQDsUj",
        "outputId": "e5247d87-84c8-446b-99d4-14f3b9a677ad"
      },
      "execution_count": null,
      "outputs": [
        {
          "output_type": "stream",
          "name": "stdout",
          "text": [
            "tf.Tensor(0.9451205, shape=(), dtype=float32)\n",
            "tf.Tensor([7.1846165e-09], shape=(1,), dtype=float32)\n",
            "tf.Tensor([0.11152684 0.4213449  0.94487906 0.9883088 ], shape=(4,), dtype=float32)\n",
            "tf.Tensor(\n",
            "[[0.04197026 0.9870051  0.00843861]\n",
            " [0.00129065 0.86064535 0.5655213 ]\n",
            " [0.99987745 0.22131848 0.85540223]\n",
            " [0.957042   0.25870073 0.99399865]], shape=(4, 3), dtype=float32)\n",
            "[0.99994075]\n"
          ]
        }
      ]
    },
    {
      "cell_type": "code",
      "source": [
        "#CREATING DATASETS FOR MIXUP\n",
        "train_dataset_1 = train_data.shuffle(buffer_size = 8, reshuffle_each_iteration = True).map(resize_rescale)\n",
        "train_dataset_2 = train_data.shuffle(buffer_size = 8, reshuffle_each_iteration = True).map(resize_rescale)\n",
        "mixed_dataset = tf.data.Dataset.zip((train_dataset_1, train_dataset_2))"
      ],
      "metadata": {
        "id": "dSRGj2wdLLOw"
      },
      "execution_count": null,
      "outputs": []
    },
    {
      "cell_type": "code",
      "source": [
        "#AFTER FINDING LAMDA, WE JUST APPLY THE FORMULA FOR MIXUP\n",
        "#X' = LAMDA * X1 + (1=LAMDA) * X2 WHERE X1 AND X2 ARE INPUT IMAGES\n",
        "#LABEL Y' = LAMDA * Y1 + (1=LAMDA) * Y2\n",
        "\n",
        "def mixup(train_dataset_1, train_dataset_2):\n",
        "  (image1, label1), (image2, label2) = train_dataset_1, train_dataset_2\n",
        "\n",
        "  lamda = tfp.distributions.Beta(0.4,0.4)\n",
        "  lamda = lamda.sample(1)[0]\n",
        "\n",
        "  image = lamda * image1 + (1 - lamda) * image2\n",
        "  label = lamda * tf.cast(label1, dtype = tf.float32) + (1 - lamda) * tf.cast(label2, dtype = tf.float32)\n",
        "\n",
        "  return image, label"
      ],
      "metadata": {
        "id": "pZLD2ronFhk3"
      },
      "execution_count": null,
      "outputs": []
    },
    {
      "cell_type": "code",
      "source": [
        "train_data = mixed_dataset.shuffle(8, reshuffle_each_iteration = True).map(mixup).batch(32).prefetch(tf.data.AUTOTUNE)\n",
        "val_data = val_data.shuffle(8, reshuffle_each_iteration = True).map(resize_rescale).batch(32).prefetch(tf.data.AUTOTUNE)\n",
        "test_data = test_data.shuffle(8, reshuffle_each_iteration = True).map(resize_rescale)"
      ],
      "metadata": {
        "id": "OtoUH80NNbK8"
      },
      "execution_count": null,
      "outputs": []
    },
    {
      "cell_type": "code",
      "source": [
        "#plt.imshow(image/255)"
      ],
      "metadata": {
        "id": "mlUaxbOV4-o1"
      },
      "execution_count": null,
      "outputs": []
    },
    {
      "cell_type": "markdown",
      "source": [
        "**CUTMIX AUGMENTATION**"
      ],
      "metadata": {
        "id": "84mLikH7QVzd"
      }
    },
    {
      "cell_type": "markdown",
      "source": [
        "CUTMIX AUGMENTATION MAY BE NECESSARILY BE SUITED TO EVERY PROBLEM STATEMENT LIKE HERE BECAUSE IF WE CROP OUT THE PATCHTHAT DEFINES A CELL AS PARASITIC, THEN THE MODEL CAN GET CONFUSED AS IT WILL LOOK LIKE A HEALTHY CELL BUT WILL HAVE A LABEL BETWEEN HEALTHY AND PARASITIC"
      ],
      "metadata": {
        "id": "YRh3hWfYiIvf"
      }
    },
    {
      "cell_type": "code",
      "source": [
        "#CREATING DATASETS FOR CUTMIX\n",
        "train_dataset_1 = train_data.shuffle(buffer_size = 8, reshuffle_each_iteration = True).map(resize_rescale)\n",
        "train_dataset_2 = train_data.shuffle(buffer_size = 8, reshuffle_each_iteration = True).map(resize_rescale)\n",
        "mixed_dataset = tf.data.Dataset.zip((train_dataset_1, train_dataset_2))"
      ],
      "metadata": {
        "id": "1O5diWF1-HBJ"
      },
      "execution_count": null,
      "outputs": []
    },
    {
      "cell_type": "code",
      "source": [
        "def box(lamda):\n",
        "  r_x = tf.cast(tfp.distribution.Uniform(0,im_size).sample(1)[0], dtype = tf.int32) #im_size = width #r_x = center x coordinate\n",
        "  r_y = tf.cast(tfp.distribution.Uniform(0,im_size).sample(1)[0], dtype = tf.int32) #im_size = height  #r_y = center y coordinate\n",
        "\n",
        "  r_w = tf.cast(im_size * tf.math.sqrt(1 - lamda), dtype = tf.int32)  #im_size = width  #r_w = width of image\n",
        "  r_h = tf.cast(im_size * tf.math.sqrt(1 - lamda), dtype = tf.int32)  #im_size = height #r_h = height of image\n",
        "\n",
        "  r_x = tf.clip_by_value(r_x - (r_w//2), 0, im_size) #r_x = top left corner's x coordinate clipped to not extend beyond the image\n",
        "  r_y = tf.clip_by_value(r_y - (r_h//2), 0, im_size) #r_y = top left corner's y coordinate clipped to not extend beyond the image\n",
        "\n",
        "  x_b_r = tf.clip_by_value(r_x + (r_w//2), 0, im_size) #x_b_r = bottom right corner's x coordinate clipped to not extend beyond the image\n",
        "  y_b_r = tf.clip_by_value(r_x + (r_w//2), 0, im_size) #y_b_r = bottom right corner's y coordinate clipped to not extend beyond the image\n",
        "\n",
        "  r_w = x_b_r - r_x\n",
        "  if r_w == 0:\n",
        "    r_w = 1\n",
        "  r_h = y_b_r - r_y\n",
        "  if r_h == 0:\n",
        "    r_h = 1\n",
        "  return r_y, r_x, r_h, r_w"
      ],
      "metadata": {
        "id": "o_mkwJ3_Qatl"
      },
      "execution_count": null,
      "outputs": []
    },
    {
      "cell_type": "code",
      "source": [
        "def cutmix(train_dataset_1, train_dataset_2):\n",
        "  (image1, label1), (image2, label2) = train_dataset_1, train_dataset_2\n",
        "  lamda = tfp.distributions.Beta(0.2,0.2)\n",
        "  lamda = lamda.sample(1)[0]\n",
        "  r_y, r_x, r_h, r_w = box(lamda)\n",
        "\n",
        "  crop_2 = tf.image.crop_to_bounding_box(image2, r_y, r_x, r_h, r_w)\n",
        "  pad_2 = tf.pad_to_bounding_box(crop_2, r_y, r_x, im_size, im_size)\n",
        "\n",
        "  crop_1 = tf.image.crop_to_bounding_box(image1, r_y, r_x, r_h, r_w)\n",
        "  pad_1 = tf.pad_to_bounding_box(crop_1, r_y, r_x, im_size, im_size)\n",
        "\n",
        "  image = image1 - pad_1 + pad_2\n",
        "\n",
        "  lamda = tf.cast(1 - (r_w * r_h)/(im_size * im_size), dtype = tf.float32)\n",
        "  label = lamda * tf.cast(label1, dtype = tf.float32) + (1 - lamda) * tf.cast(label2, dtype = tf.float32)\n",
        "\n",
        "  return image, label"
      ],
      "metadata": {
        "id": "U2n_47t2BN3K"
      },
      "execution_count": null,
      "outputs": []
    },
    {
      "cell_type": "code",
      "source": [
        "train_data = mixed_dataset.shuffle(8, reshuffle_each_iteration = True).map(cutmix).batch(32).prefetch(tf.data.AUTOTUNE)\n",
        "val_data = val_data.shuffle(8, reshuffle_each_iteration = True).map(resize_rescale).batch(32).prefetch(tf.data.AUTOTUNE)\n",
        "test_data = test_data.shuffle(8, reshuffle_each_iteration = True).map(resize_rescale)"
      ],
      "metadata": {
        "id": "CaU0w3x_C6DJ"
      },
      "execution_count": null,
      "outputs": []
    },
    {
      "cell_type": "code",
      "source": [
        "#TO VISUALIZE CUTMIP AUGMENTED IMAGE\n",
        "original_image, label = next(iter(train_data))\n",
        "plt.imshow(original_image[0])"
      ],
      "metadata": {
        "id": "9CZ66rUjC-Vo"
      },
      "execution_count": null,
      "outputs": []
    },
    {
      "cell_type": "markdown",
      "source": [
        "**DATA AUGMENTATION WITH ALBUMENTATIONS**"
      ],
      "metadata": {
        "id": "2tO7RDf0D3Qa"
      }
    },
    {
      "cell_type": "code",
      "source": [
        "transforms = A.Compose([\n",
        "    A.Resize(im_size, im_size),\n",
        "    A.OneOf([A.HorizontalFlip(),\n",
        "             A.VerticalFlip()], p = 0.3),\n",
        "    A.RandomRotate90(),\n",
        "    A.RandomGridShuffle(grid = (3,3)),\n",
        "    A.RandomBrightnessContrast(brightness_limit = 0.2, contrast_limit = 0.2),\n",
        "    A.Cutout(),\n",
        "    A.Sharpen()\n",
        "])"
      ],
      "metadata": {
        "id": "e7RhRAsQD-an"
      },
      "execution_count": null,
      "outputs": []
    },
    {
      "cell_type": "code",
      "source": [
        "def aug_albument(image):\n",
        "  data = {'image':image}\n",
        "  image = transforms(**data) #The ** syntax is used in Python to unpack the values from a dictionary and pass them as keyword arguments to a function.\n",
        "  image = image['image']\n",
        "  image = tf.cast(image/255., dtype = tf.float32)\n",
        "  return image"
      ],
      "metadata": {
        "id": "Nt9-JR_jN5Dt"
      },
      "execution_count": null,
      "outputs": []
    },
    {
      "cell_type": "code",
      "source": [
        "def process_data(image, label):\n",
        "  aug_img = tf.numpy_function(func = aug_albument, inp = [image], Tout = tf.float32)\n",
        "  return aug_img, label"
      ],
      "metadata": {
        "id": "DTd-AqP1ZfTo"
      },
      "execution_count": null,
      "outputs": []
    },
    {
      "cell_type": "code",
      "source": [
        "train_data = train_data.shuffle(buffer_size = 1024, reshuffle_each_iteration = True).map(process_data).batch(32).prefetch(tf.data.AUTOTUNE)"
      ],
      "metadata": {
        "id": "xdglS5MJaDaT"
      },
      "execution_count": null,
      "outputs": []
    },
    {
      "cell_type": "code",
      "source": [
        "#visualizing augmented image\n",
        "im, _ = next(iter(train_data))\n",
        "plt.imshow(im[0])"
      ],
      "metadata": {
        "id": "pu7Jrn8icqTN"
      },
      "execution_count": null,
      "outputs": []
    },
    {
      "cell_type": "code",
      "source": [
        "plt.figure(fgisize = (10,10))\n",
        "for i in range(1,32):\n",
        "  plt.subplot(8,4,i)\n",
        "  plt.imshow(im[i])"
      ],
      "metadata": {
        "id": "nUBLutEvdPi8"
      },
      "execution_count": null,
      "outputs": []
    },
    {
      "cell_type": "markdown",
      "source": [
        "### **WANDB DATASET VERSIONING**"
      ],
      "metadata": {
        "id": "shLecpieFzLn"
      }
    },
    {
      "cell_type": "markdown",
      "source": [
        "**STEP 1) LOADING AND STORING ORIGINAL DATASET IN WANDB**"
      ],
      "metadata": {
        "id": "ckpZyu87e6JE"
      }
    },
    {
      "cell_type": "code",
      "source": [
        "dataset, dataset_info = tfds.load('malaria', with_info=True, as_supervised=True, shuffle_files = True, split=['train'])"
      ],
      "metadata": {
        "id": "YjQQU4iSb7Tf"
      },
      "execution_count": null,
      "outputs": []
    },
    {
      "cell_type": "code",
      "source": [
        "#CREATE A NEW FOLDER NAMED 'DATASET'\n",
        "#STORE EACH DATAPOINT AS A SEPARATE FILE IN THE DATASET FOLDER\n",
        "k = 0\n",
        "for data in dataset[0]:\n",
        "  with open(\"dataset/malaria_dataset_\" + str(k) + \".npz\", mode = \"wb\") as file:\n",
        "    np.savez(file, data)\n",
        "  k += 1"
      ],
      "metadata": {
        "id": "Zi8UafrfcHIm"
      },
      "execution_count": null,
      "outputs": []
    },
    {
      "cell_type": "code",
      "source": [
        "#STORE ALL FILES IN DATASET FOLDER TO WANDB\n",
        "def load_original_data():\n",
        "  with wandb.init(project = 'malaria__detection', entity = 'jagaadhep') as run:\n",
        "    original_data = wandb.Artifact(name = \"raw_dataset\",\n",
        "                                  type = \"raw_data\",\n",
        "                                  description = \"The Malaria dataset contains a total of 27,558 cell images with equal instances of parasitized and uninfected cell data\",\n",
        "                                  metadata = {\"source\" : \"TFDS\",\n",
        "                                              \"homepage\": \"https://lhncbc.nlm.nih.gov/publication/pub9932\",\n",
        "                                              \"source_code\": \"tfds.image_classification.Malaria\",\n",
        "                                              \"version\": \"1.0.0\",\n",
        "                                              \"download_size\": \"337.08 MiB\"})\n",
        "    original_data.add_dir(\"dataset/\")\n",
        "    run.log_artifact(original_data)"
      ],
      "metadata": {
        "id": "RzP5ozSKF3ly"
      },
      "execution_count": null,
      "outputs": []
    },
    {
      "cell_type": "code",
      "source": [
        "load_original_data()"
      ],
      "metadata": {
        "id": "RlwnrhR9eRP0"
      },
      "execution_count": null,
      "outputs": []
    },
    {
      "cell_type": "markdown",
      "source": [
        "**STEP 2) CREATING A PREPROCESSED DATASET**"
      ],
      "metadata": {
        "id": "w8QXjUMjkLFU"
      }
    },
    {
      "cell_type": "code",
      "source": [
        "#STORE ALL FILES IN DATASET FOLDER TO WANDB\n",
        "def preprocess_data():\n",
        "  with wandb.init(project = 'malaria__detection', entity = 'jagaadhep') as run:\n",
        "    #DOWNLOAD AND GET THE ARTIFACT DATA FROM WANDB FOR USAGE\n",
        "    artifact = run.use_artifact(\"jagaadhep/malaria__detection/new_dataset:v1\", type = \"raw_data\")\n",
        "    artifact_dir = artifact.download()\n",
        "    print(artifact_dir)\n",
        "\n",
        "    preprocessed_data = wandb.Artifact(name = \"preprocessed_dataset\",\n",
        "                                  type = \"preprocessed_data\",\n",
        "                                  description = \"A preprocessed version of the Malaria dataset\")\n",
        "\n",
        "    artifact_directory = artifact_dir + \"/\"\n",
        "\n",
        "    dataset_x = []\n",
        "    dataset_y = []\n",
        "    for file_ in os.listdir(artifact_directory): #USE 'for file_ in os.listdir(artifact_directory)[:1000]:' BECAUSE WE DON'T HAVE ENOUGH MEMORY TO STORE ABOUT 22000 IN A SINGLE FILE\n",
        "      with open(artifact_directory + file_, \"rb\") as file:\n",
        "        npz_array = np.load(file, allow_pickle = True)\n",
        "        x, y = npz_array.f.arr_0\n",
        "        dataset_x.append(resize_rescale(x)) #DATA PREPROCESSING : RESIZE AND RESCALE\n",
        "        dataset_y.append(y)\n",
        "    #dataset = tf.data.Dataset.from_tensor_slices((dataset_x, dataset_y))\n",
        "    with preprocessed_data.new_file(\"preprocessed_dataset\") as file:\n",
        "      np.savez(file, [dataset_x, dataset_y])\n",
        "    run.log_artifact(preprocessed_data)"
      ],
      "metadata": {
        "id": "PMs9AHO4fV8E"
      },
      "execution_count": null,
      "outputs": []
    },
    {
      "cell_type": "code",
      "source": [
        "preprocess_data()"
      ],
      "metadata": {
        "id": "WFvoyDHGWEYT"
      },
      "execution_count": null,
      "outputs": []
    },
    {
      "cell_type": "markdown",
      "source": [
        "**STEP 3) SPLIT THE PREPROCESSED DATASET INTO TRAIN DATASET, VALIDATION DATASET AND TEST DATASET**"
      ],
      "metadata": {
        "id": "MWMBokLtaBLj"
      }
    },
    {
      "cell_type": "code",
      "source": [
        "def split_data():\n",
        "  with wandb.init(project = 'malaria__detection', entity = 'jagaadhep') as run:\n",
        "    #DOWNLOAD AND GET THE ARTIFACT DATA FROM WANDB FOR USAGE\n",
        "    artifact = run.use_artifact(\"jagaadhep/malaria__detection/preprocessed_dataset:v2\", type = \"preprocessed_data\")\n",
        "    artifact_dir = artifact.download()\n",
        "    print(artifact_dir)\n",
        "\n",
        "    train_data = wandb.Artifact(name = \"train_dataset\",\n",
        "                                  type = \"preprocessed_data\",\n",
        "                                  description = \"Training Dataset\")\n",
        "\n",
        "    val_data = wandb.Artifact(name = \"val_dataset\",\n",
        "                                  type = \"preprocessed_data\",\n",
        "                                  description = \"Validation Dataset\")\n",
        "\n",
        "    test_data = wandb.Artifact(name = \"test_dataset\",\n",
        "                                  type = \"preprocessed_data\",\n",
        "                                  description = \"Test Dataset\")\n",
        "\n",
        "    artifact_file = \"artifacts/preprocessed_dataset:v2/prep_dataset.npz\"\n",
        "\n",
        "    with open(artifact_file, \"rb\") as file:\n",
        "      npz_array = np.load(file, allow_pickle = True)\n",
        "      arr = npz_array.f.arr_0\n",
        "\n",
        "    train_split = 0.8\n",
        "    val_split = 0.1\n",
        "    test_split = 0.1\n",
        "    data_len = len(arr[0])\n",
        "\n",
        "    train_arr = [arr[0][0: int(train_split * data_len)], arr[1][0: int(train_split * data_len)]]\n",
        "    val_arr = [arr[0][int(train_split * data_len) : int((train_split + val_split) * data_len)], arr[1][int(train_split * data_len) : int((train_split + val_split) * data_len)]]\n",
        "    test_arr = [arr[0][int((train_split + val_split) * data_len) : ], arr[1][int((train_split + val_split) * data_len) : ]]\n",
        "\n",
        "    with train_data.new_file(\"train_dataset.npz\", mode = \"wb\") as file:\n",
        "      np.savez(file, train_arr)\n",
        "\n",
        "    with val_data.new_file(\"val_dataset.npz\", mode = \"wb\") as file:\n",
        "      np.savez(file, val_arr)\n",
        "\n",
        "    with test_data.new_file(\"test_dataset.npz\", mode = \"wb\") as file:\n",
        "      np.savez(file, test_arr)\n",
        "\n",
        "    run.log_artifact(train_data)\n",
        "    run.log_artifact(val_data)\n",
        "    run.log_artifact(test_data)"
      ],
      "metadata": {
        "id": "Bw_TG7avaL0d"
      },
      "execution_count": null,
      "outputs": []
    },
    {
      "cell_type": "code",
      "source": [
        "split_data()"
      ],
      "metadata": {
        "id": "tixOrBfokg9-"
      },
      "execution_count": null,
      "outputs": []
    },
    {
      "cell_type": "markdown",
      "source": [
        "**STEP 4) DATA AUGMENTATION WITH TRAIN_DATA**"
      ],
      "metadata": {
        "id": "1YzU7ZYRoL6d"
      }
    },
    {
      "cell_type": "code",
      "source": [
        "def augment_data():\n",
        "  with wandb.init(project = 'malaria__detection', entity = 'jagaadhep') as run:\n",
        "    #DOWNLOAD AND GET THE ARTIFACT DATA FROM WANDB FOR USAGE\n",
        "    artifact = run.use_artifact(\"jagaadhep/malaria__detection/train_dataset:v0\", type = \"preprocessed_data\")\n",
        "    artifact_dir = artifact.download()\n",
        "    print(artifact_dir)\n",
        "\n",
        "    augmented_data = wandb.Artifact(name = \"augmented_dataset\",\n",
        "                                  type = \"preprocessed_data\",\n",
        "                                  description = \"An augmented version of the Malaria dataset\")\n",
        "\n",
        "    dataset_x = []\n",
        "    artifact_file = \"artifacts/train_dataset:v0/train_dataset.npz\"\n",
        "    with open(artifact_file, \"rb\") as file:\n",
        "        npz_array = np.load(file, allow_pickle = True)\n",
        "        arr = npz_array.f.arr_0\n",
        "        for im in arr[0]:\n",
        "          dataset_x.append(augment(im))\n",
        "        dataset_y = arr[1]\n",
        "    #dataset = tf.data.Dataset.from_tensor_slices((dataset_x, dataset_y))\n",
        "    with augmented_data.new_file(\"augmented_dataset.npz\", mode = \"wb\") as file:\n",
        "      np.savez(file, [dataset_x, dataset_y])\n",
        "    run.log_artifact(augmented_data)"
      ],
      "metadata": {
        "id": "W03Lx2LboUT3"
      },
      "execution_count": null,
      "outputs": []
    },
    {
      "cell_type": "code",
      "source": [
        "augment_data()"
      ],
      "metadata": {
        "id": "8C6ETu_5I_8C"
      },
      "execution_count": null,
      "outputs": []
    },
    {
      "cell_type": "markdown",
      "source": [
        "### **WANDB MODEL VERSIONING**"
      ],
      "metadata": {
        "id": "PYltvF6Dj5-H"
      }
    },
    {
      "cell_type": "markdown",
      "source": [
        "**1) UNTRAINED MODEL VERSIONING**"
      ],
      "metadata": {
        "id": "OIM_z2Xcma16"
      }
    },
    {
      "cell_type": "code",
      "source": [
        "#NOT LINKED TO DATASET\n",
        "def log_model():\n",
        "  with wandb.init(project = 'malaria__detection', entity = 'jagaadhep') as run:\n",
        "    untrained_model = wandb.Artifact(name = \"untrained_model\",\n",
        "                                  type = \"model\",\n",
        "                                  description = \"The initial version of our lenet model\",\n",
        "                                  metadata = configuration)\n",
        "    file_name = 'lenet.h5'\n",
        "    lenet_model.save(file_name)\n",
        "\n",
        "    untrained_model.add_file(file_name)\n",
        "    wandb.save(file_name)\n",
        "    run.log_artifact(untrained_model)"
      ],
      "metadata": {
        "id": "R0k5NGB-kS-a"
      },
      "execution_count": null,
      "outputs": []
    },
    {
      "cell_type": "code",
      "source": [
        "log_model()"
      ],
      "metadata": {
        "id": "onkx9F2QmMOY"
      },
      "execution_count": null,
      "outputs": []
    },
    {
      "cell_type": "markdown",
      "source": [
        "**2) TRAINED MODEL VERSIONING**"
      ],
      "metadata": {
        "id": "awi5wGLknrUk"
      }
    },
    {
      "cell_type": "code",
      "source": [
        "#LINKED TO DATASET\n",
        "def train_and_log():\n",
        "  with wandb.init(project = 'malaria__detection', entity = 'jagaadhep') as run:\n",
        "    #DOWNLOAD AND GET THE ARTIFACT DATA FROM WANDB FOR USAGE\n",
        "    artifact = run.use_artifact(\"jagaadhep/malaria__detection/augmented_dataset:v0\", type = \"preprocessed_data\")\n",
        "    artifact_dir = artifact.download()\n",
        "    #DO WANDB HYPERPARAMETER TUNING AND USE THAT MODEL CODE\n",
        "    trained_sequential_model = wandb.Artifact(name = \"trained_sequential_model\",\n",
        "                                  type = \"model\",\n",
        "                                  description = \"A trained version of our model\",\n",
        "                                  metadata = configuration)\n",
        "    dataset_x = []\n",
        "    artifact_file = \"artifacts/augmented_dataset:v0/augmented_dataset.npz\"\n",
        "    with open(artifact_file, \"rb\") as file:\n",
        "        npz_array = np.load(file, allow_pickle = True)\n",
        "        arr = npz_array.f.arr_0\n",
        "        for im in arr[0]:\n",
        "          dataset_x.append(im)\n",
        "        dataset_y = arr[1]\n",
        "\n",
        "    #CREATE A TENSORFLOW DATASET AND DATA PIPELINE\n",
        "    d_x = tf.convert_to_tensor(dataset_x, dtype = tf.float32)\n",
        "    d_y = tf.convert_to_tensor(dataset_y, dtype = tf.float32)\n",
        "    dataset = tf.data.Dataset.from_tensor_slices((d_x, d_y))\n",
        "    train_dataset = (\n",
        "        dataset\n",
        "        .shuffle(buffer_size = 1024, reshuffle_each_iteration = True)\n",
        "        .batch(32)\n",
        "        .prefetch(tf.data.AUTOTUNE)\n",
        "    )\n",
        "\n",
        "    metrics = [TruePositives(name='tp'),FalsePositives(name='fp'), TrueNegatives(name='tn'), FalseNegatives(name='fn'),\n",
        "                BinaryAccuracy(name='accuracy'), Precision(name='precision'), Recall(name='recall'), AUC(name='auc')]\n",
        "\n",
        "    #LINK TO UNTRAINED MODEL\n",
        "    artifact = run.use_artifact('jagaadhep/malaria__detection/untrained_model:v0', type='model')\n",
        "    artifact_dir = artifact.download()\n",
        "\n",
        "    artifact_file_model = \"artifacts/untrained_model:v0/lenet.h5\"\n",
        "\n",
        "    lenet_model = tf.keras.models.load_model(artifact_file_model)\n",
        "    lenet_model.compile(optimizer = Adam(learning_rate = configuration['LEARNING_RATE']),\n",
        "          loss = BinaryCrossentropy(),\n",
        "          metrics = metrics)\n",
        "\n",
        "    lenet_model.fit(\n",
        "        train_dataset,\n",
        "        epochs = 3,\n",
        "        verbose = 1,\n",
        "        callbacks=[WandbCallback()],\n",
        "    )\n",
        "\n",
        "    filename = 'lenet_trained.h5'\n",
        "    lenet_model.save(filename)\n",
        "\n",
        "    trained_sequential_model.add_file(filename)\n",
        "    wandb.save(filename)\n",
        "    run.log_artifact(trained_sequential_model)\n"
      ],
      "metadata": {
        "id": "54IjDuJMn5bS"
      },
      "execution_count": null,
      "outputs": []
    },
    {
      "cell_type": "markdown",
      "metadata": {
        "id": "rIiueQoGKgq5"
      },
      "source": [
        "### **MODEL CREATION**"
      ]
    },
    {
      "cell_type": "code",
      "source": [
        "dropout_rate = 0.3\n",
        "regularization_rate = 0.01"
      ],
      "metadata": {
        "id": "7DtmfGBCxmIN"
      },
      "execution_count": null,
      "outputs": []
    },
    {
      "cell_type": "code",
      "execution_count": null,
      "metadata": {
        "colab": {
          "base_uri": "https://localhost:8080/"
        },
        "id": "Y9DrY8ii-4H2",
        "outputId": "d90e8bc1-0d46-4a36-b45c-1a0983e91a59"
      },
      "outputs": [
        {
          "name": "stdout",
          "output_type": "stream",
          "text": [
            "Model: \"sequential\"\n",
            "_________________________________________________________________\n",
            " Layer (type)                Output Shape              Param #   \n",
            "=================================================================\n",
            " conv2d (Conv2D)             (None, 222, 222, 6)       168       \n",
            "                                                                 \n",
            " batch_normalization (Batch  (None, 222, 222, 6)       24        \n",
            " Normalization)                                                  \n",
            "                                                                 \n",
            " max_pooling2d (MaxPooling2  (None, 111, 111, 6)       0         \n",
            " D)                                                              \n",
            "                                                                 \n",
            " conv2d_1 (Conv2D)           (None, 109, 109, 16)      880       \n",
            "                                                                 \n",
            " batch_normalization_1 (Bat  (None, 109, 109, 16)      64        \n",
            " chNormalization)                                                \n",
            "                                                                 \n",
            " max_pooling2d_1 (MaxPoolin  (None, 54, 54, 16)        0         \n",
            " g2D)                                                            \n",
            "                                                                 \n",
            " flatten (Flatten)           (None, 46656)             0         \n",
            "                                                                 \n",
            " dense (Dense)               (None, 100)               4665700   \n",
            "                                                                 \n",
            " batch_normalization_2 (Bat  (None, 100)               400       \n",
            " chNormalization)                                                \n",
            "                                                                 \n",
            " dense_1 (Dense)             (None, 10)                1010      \n",
            "                                                                 \n",
            " batch_normalization_3 (Bat  (None, 10)                40        \n",
            " chNormalization)                                                \n",
            "                                                                 \n",
            " dense_2 (Dense)             (None, 1)                 11        \n",
            "                                                                 \n",
            "=================================================================\n",
            "Total params: 4668297 (17.81 MB)\n",
            "Trainable params: 4668033 (17.81 MB)\n",
            "Non-trainable params: 264 (1.03 KB)\n",
            "_________________________________________________________________\n"
          ]
        }
      ],
      "source": [
        "model = tf.keras.Sequential([\n",
        "    InputLayer(input_shape = (none, none, 3)),\n",
        "\n",
        "    '''used for data agumentation with tf.keras.layers :\n",
        "    resize_rescale_layer,\n",
        "    augment_'''\n",
        "\n",
        "    Conv2D(filters = 6, kernel_size = (3,3), strides = (1,1), padding = 'valid', activation = 'relu', kernel_regularizer  = L2(regularization_rate )), #(5,5) and (1,1) can also be given as 5 and 1 respectively\n",
        "    BatchNormalization(),\n",
        "    MaxPool2D(pool_size = (2,2), strides = (2,2)), #(2,2) can also be given as 2\n",
        "    Dropout(rate = dropout_rate),\n",
        "\n",
        "    Conv2D(filters = 16, kernel_size = (3,3), strides = (1,1), padding = 'valid', activation = 'relu', kernel_regularizer  = L2(regularization_rate)), #(5,5) and (1,1) can also be given as 5 and 1 respectively\n",
        "    BatchNormalization(),\n",
        "    MaxPool2D(pool_size = (2,2), strides = (2,2)), #(2,2) can also be given as 2\n",
        "\n",
        "    Flatten(),\n",
        "\n",
        "    Dense(100, activation = 'relu', kernel_regularizer  = L2(regularization_rate)),\n",
        "    BatchNormalization(),\n",
        "    Dropout(rate = dropout_rate),\n",
        "    Dense(10, activation = 'relu', kernel_regularizer  = L2(regularization_rate)),\n",
        "    BatchNormalization(),\n",
        "    Dense(1, activation = 'sigmoid', kernel_regularizer  = L2(regularization_rate ))\n",
        "])\n",
        "model.summary()"
      ]
    },
    {
      "cell_type": "markdown",
      "metadata": {
        "id": "P8s31kGcNvfI"
      },
      "source": [
        "This is LUNET architecture"
      ]
    },
    {
      "cell_type": "code",
      "execution_count": null,
      "metadata": {
        "colab": {
          "base_uri": "https://localhost:8080/",
          "height": 1000
        },
        "id": "EFu0L28kMyft",
        "outputId": "b28050e0-fe3c-4e3e-b909-723be5f3636d"
      },
      "outputs": [
        {
          "data": {
            "image/png": "[encoded data removed]",
            "text/plain": [
              "<IPython.core.display.Image object>"
            ]
          },
          "execution_count": 23,
          "metadata": {},
          "output_type": "execute_result"
        }
      ],
      "source": [
        "tf.keras.utils.plot_model(model, show_shapes = True, show_layer_activations = True, show_dtype = True)"
      ]
    },
    {
      "cell_type": "markdown",
      "metadata": {
        "id": "jFboj-PUhaRQ"
      },
      "source": [
        "BINARY CROSS ENTROPY LOSS"
      ]
    },
    {
      "cell_type": "code",
      "execution_count": null,
      "metadata": {
        "colab": {
          "base_uri": "https://localhost:8080/"
        },
        "id": "KXwTUDIfV6ce",
        "outputId": "04562286-258d-41d3-baef-47da7b4b093d"
      },
      "outputs": [
        {
          "data": {
            "text/plain": [
              "<tf.Tensor: shape=(), dtype=float32, numpy=15.333239>"
            ]
          },
          "execution_count": 24,
          "metadata": {},
          "output_type": "execute_result"
        }
      ],
      "source": [
        "y_1 = tf.convert_to_tensor([0], dtype = tf.float32)\n",
        "y_1_pred = tf.convert_to_tensor([1], dtype = tf.float32)\n",
        "bce = tf.keras.losses.BinaryCrossentropy()\n",
        "bce(y_1, y_1_pred)"
      ]
    },
    {
      "cell_type": "code",
      "execution_count": null,
      "metadata": {
        "colab": {
          "base_uri": "https://localhost:8080/"
        },
        "id": "Z38UxuAKgFGx",
        "outputId": "c6ee1ca8-4e45-411f-853a-afaa584168ab"
      },
      "outputs": [
        {
          "data": {
            "text/plain": [
              "<tf.Tensor: shape=(), dtype=float32, numpy=-0.0>"
            ]
          },
          "execution_count": 25,
          "metadata": {},
          "output_type": "execute_result"
        }
      ],
      "source": [
        "y_1 = tf.convert_to_tensor([0], dtype = tf.float32)\n",
        "y_1_pred = tf.convert_to_tensor([0], dtype = tf.float32)\n",
        "bce = tf.keras.losses.BinaryCrossentropy()\n",
        "bce(y_1, y_1_pred)"
      ]
    },
    {
      "cell_type": "code",
      "execution_count": null,
      "metadata": {
        "colab": {
          "base_uri": "https://localhost:8080/"
        },
        "id": "BjwPYyr2-i0Z",
        "outputId": "4bc3eb2f-a5c1-45ee-f2e7-c94a97e99663"
      },
      "outputs": [
        {
          "data": {
            "text/plain": [
              "<tf.Tensor: shape=(), dtype=float32, numpy=1.3132617>"
            ]
          },
          "execution_count": 26,
          "metadata": {},
          "output_type": "execute_result"
        }
      ],
      "source": [
        "y_1 = tf.convert_to_tensor([0], dtype = tf.float32)\n",
        "y_1_pred = tf.convert_to_tensor([1], dtype = tf.float32)\n",
        "bce = tf.keras.losses.BinaryCrossentropy(from_logits = True)\n",
        "bce(y_1, y_1_pred)"
      ]
    },
    {
      "cell_type": "code",
      "execution_count": null,
      "metadata": {
        "colab": {
          "base_uri": "https://localhost:8080/"
        },
        "id": "TAMEs9f7hCqg",
        "outputId": "004a60c9-5490-4366-8e15-f30fa441afea"
      },
      "outputs": [
        {
          "data": {
            "text/plain": [
              "<tf.Tensor: shape=(), dtype=float32, numpy=0.69314694>"
            ]
          },
          "execution_count": 27,
          "metadata": {},
          "output_type": "execute_result"
        }
      ],
      "source": [
        "y_1 = tf.convert_to_tensor([0], dtype = tf.float32)\n",
        "y_1_pred = tf.convert_to_tensor([0.5], dtype = tf.float32)\n",
        "bce = tf.keras.losses.BinaryCrossentropy()\n",
        "bce(y_1, y_1_pred)"
      ]
    },
    {
      "cell_type": "code",
      "execution_count": null,
      "metadata": {
        "colab": {
          "base_uri": "https://localhost:8080/"
        },
        "id": "SHIW5HJFhGhj",
        "outputId": "e7b2cf89-1500-4216-fc2a-e0b5a5f0fbee"
      },
      "outputs": [
        {
          "data": {
            "text/plain": [
              "<tf.Tensor: shape=(), dtype=float32, numpy=1.2039725>"
            ]
          },
          "execution_count": 28,
          "metadata": {},
          "output_type": "execute_result"
        }
      ],
      "source": [
        "y_1 = tf.convert_to_tensor([0], dtype = tf.float32)\n",
        "y_1_pred = tf.convert_to_tensor([0.7], dtype = tf.float32)\n",
        "bce = tf.keras.losses.BinaryCrossentropy()\n",
        "bce(y_1, y_1_pred)"
      ]
    },
    {
      "cell_type": "code",
      "execution_count": null,
      "metadata": {
        "colab": {
          "base_uri": "https://localhost:8080/"
        },
        "id": "MesGgksHhOT3",
        "outputId": "48f4c493-3439-4aca-fb34-06be5cb59690"
      },
      "outputs": [
        {
          "data": {
            "text/plain": [
              "<tf.Tensor: shape=(), dtype=float32, numpy=1.8971194>"
            ]
          },
          "execution_count": 29,
          "metadata": {},
          "output_type": "execute_result"
        }
      ],
      "source": [
        "y_1 = tf.convert_to_tensor([0], dtype = tf.float32)\n",
        "y_1_pred = tf.convert_to_tensor([0.85], dtype = tf.float32)\n",
        "bce = tf.keras.losses.BinaryCrossentropy()\n",
        "bce(y_1, y_1_pred)"
      ]
    },
    {
      "cell_type": "code",
      "execution_count": null,
      "metadata": {
        "colab": {
          "base_uri": "https://localhost:8080/"
        },
        "id": "0ciwNHQjhT2_",
        "outputId": "1e4328e6-0e70-48a5-952a-dd5c6a4c672d"
      },
      "outputs": [
        {
          "data": {
            "text/plain": [
              "<tf.Tensor: shape=(), dtype=float32, numpy=4.26789>"
            ]
          },
          "execution_count": 30,
          "metadata": {},
          "output_type": "execute_result"
        }
      ],
      "source": [
        "y_1 = tf.convert_to_tensor([0,1,0,1,1], dtype = tf.float32)\n",
        "y_1_pred = tf.convert_to_tensor([0.95,0.6,0.7,0.3,0], dtype = tf.float32)\n",
        "bce = tf.keras.losses.BinaryCrossentropy()\n",
        "bce(y_1, y_1_pred)"
      ]
    },
    {
      "cell_type": "code",
      "execution_count": null,
      "metadata": {
        "colab": {
          "base_uri": "https://localhost:8080/"
        },
        "id": "6VDVbJWW-rTn",
        "outputId": "c020f5b8-d5ec-4c51-98ea-9dd931190902"
      },
      "outputs": [
        {
          "data": {
            "text/plain": [
              "<tf.Tensor: shape=(), dtype=float32, numpy=0.81302655>"
            ]
          },
          "execution_count": 31,
          "metadata": {},
          "output_type": "execute_result"
        }
      ],
      "source": [
        "y_1 = tf.convert_to_tensor([0,1,0,1,1], dtype = tf.float32)\n",
        "y_1_pred = tf.convert_to_tensor([0.95,0.6,0.7,0.3,0], dtype = tf.float32)\n",
        "bce = tf.keras.losses.BinaryCrossentropy(from_logits = True)\n",
        "bce(y_1, y_1_pred)"
      ]
    },
    {
      "cell_type": "code",
      "execution_count": null,
      "metadata": {
        "colab": {
          "base_uri": "https://localhost:8080/"
        },
        "id": "lZivq-pDhWm5",
        "outputId": "b498b479-2de2-4e6b-8b6f-1bf69c8be509"
      },
      "outputs": [
        {
          "data": {
            "text/plain": [
              "<tf.Tensor: shape=(), dtype=float32, numpy=15.424949>"
            ]
          },
          "execution_count": 32,
          "metadata": {},
          "output_type": "execute_result"
        }
      ],
      "source": [
        "y_1 = tf.convert_to_tensor([1], dtype = tf.float32)\n",
        "y_1_pred = tf.convert_to_tensor([0], dtype = tf.float32)\n",
        "bce = tf.keras.losses.BinaryCrossentropy()\n",
        "bce(y_1, y_1_pred)"
      ]
    },
    {
      "cell_type": "markdown",
      "metadata": {
        "id": "zLcJQOpIK9Mc"
      },
      "source": [
        "**MODEL COMPILATION AND FITTING**"
      ]
    },
    {
      "cell_type": "code",
      "execution_count": null,
      "metadata": {
        "id": "mVQPnUi9XZc-"
      },
      "outputs": [],
      "source": [
        "METRICS = [BinaryAccuracy(name = 'accuracy'), TruePositives(name = 'tp'), FalsePositives(name = 'fp'), TrueNegatives(name = 'tn'), FalseNegatives(name = 'fn'), Precision(name = 'precision'), Recall(name = 'recall'), AUC(name = 'auc')]"
      ]
    },
    {
      "cell_type": "code",
      "source": [
        "csv_callback = CSVLogger('logs.csv', separator = ',', append = False)"
      ],
      "metadata": {
        "id": "yXmKH3Z1I7R2"
      },
      "execution_count": null,
      "outputs": []
    },
    {
      "cell_type": "code",
      "source": [
        "es_callback = EarlyStopping(monitor = 'val_loss', min_delta = 0, patience = 4, verbose = 1, mode = 'auto', baseline = None, restore_best_weights = True )"
      ],
      "metadata": {
        "id": "A9YR1sF2MR2O"
      },
      "execution_count": null,
      "outputs": []
    },
    {
      "cell_type": "code",
      "source": [
        "current_time = datetime.datetime.now().strftime('%d%m%y - %h%m%s')\n",
        "metric_directory = \"./logs/\" + current_time + \"/metrics\"\n",
        "train_writer = tf.summary.create_file_writer(metric_directory)"
      ],
      "metadata": {
        "id": "ZlYrYBbD_15z"
      },
      "execution_count": null,
      "outputs": []
    },
    {
      "cell_type": "code",
      "source": [
        "def scheduler(epoch, lr):\n",
        "  if epoch <= 1:\n",
        "    learning_rate = lr\n",
        "  else:\n",
        "    learning_rate = lr * tf.math.exp(-0.1)\n",
        "    learning_rate = learning_rate.numpy()\n",
        "  with train_writer.as_default():\n",
        "    tf.summary.scalar('Learning Rate', data = learning_rate, step = epoch)\n",
        "  return learning_rate\n",
        "lrs_callback = LearningRateScheduler(scheduler, verbose = 1)"
      ],
      "metadata": {
        "id": "T7fd84bPX5Rl"
      },
      "execution_count": null,
      "outputs": []
    },
    {
      "cell_type": "code",
      "source": [
        "mc_callback = ModelCheckpoint('/content/sample_data', monitor = 'val_loss', verbose = 1, save_best_only = True, save_weigths_only = True, mode = 'auto', save_frequency = 'epoch' )"
      ],
      "metadata": {
        "id": "9HNSXF64p_S5"
      },
      "execution_count": null,
      "outputs": []
    },
    {
      "cell_type": "code",
      "source": [
        "rlrop_callback = ReduceLROnPlateau(monitor = 'val_accuracy', factor = 0.1, patience = 2, verbose = 1 )"
      ],
      "metadata": {
        "id": "whNlckMVtk6M"
      },
      "execution_count": null,
      "outputs": []
    },
    {
      "cell_type": "code",
      "source": [
        "pip install -U tensorboard_plugin_profile"
      ],
      "metadata": {
        "colab": {
          "base_uri": "https://localhost:8080/"
        },
        "id": "rcCL-QySHBb0",
        "outputId": "804193c7-d220-4a87-f2e2-e4d2ce01e878"
      },
      "execution_count": null,
      "outputs": [
        {
          "output_type": "stream",
          "name": "stdout",
          "text": [
            "Collecting tensorboard_plugin_profile\n",
            "  Downloading tensorboard_plugin_profile-2.15.1-py3-none-any.whl (5.6 MB)\n",
            "\u001b[2K     \u001b[90m━━━━━━━━━━━━━━━━━━━━━━━━━━━━━━━━━━━━━━━━\u001b[0m \u001b[32m5.6/5.6 MB\u001b[0m \u001b[31m22.7 MB/s\u001b[0m eta \u001b[36m0:00:00\u001b[0m\n",
            "\u001b[?25hCollecting gviz-api>=1.9.0 (from tensorboard_plugin_profile)\n",
            "  Downloading gviz_api-1.10.0-py2.py3-none-any.whl (13 kB)\n",
            "Requirement already satisfied: protobuf<5.0.0dev,>=3.19.6 in /usr/local/lib/python3.10/dist-packages (from tensorboard_plugin_profile) (3.20.3)\n",
            "Requirement already satisfied: setuptools>=41.0.0 in /usr/local/lib/python3.10/dist-packages (from tensorboard_plugin_profile) (67.7.2)\n",
            "Requirement already satisfied: six>=1.10.0 in /usr/local/lib/python3.10/dist-packages (from tensorboard_plugin_profile) (1.16.0)\n",
            "Requirement already satisfied: werkzeug>=0.11.15 in /usr/local/lib/python3.10/dist-packages (from tensorboard_plugin_profile) (3.0.1)\n",
            "Requirement already satisfied: MarkupSafe>=2.1.1 in /usr/local/lib/python3.10/dist-packages (from werkzeug>=0.11.15->tensorboard_plugin_profile) (2.1.5)\n",
            "Installing collected packages: gviz-api, tensorboard_plugin_profile\n",
            "Successfully installed gviz-api-1.10.0 tensorboard_plugin_profile-2.15.1\n"
          ]
        }
      ]
    },
    {
      "cell_type": "code",
      "source": [
        "current_time = datetime.datetime.now().strftime('%d%m%y - %h%m%s')\n",
        "log_directory = \"./logs\" + current_time\n",
        "tensorboard_callback = TensorBoard(log_dir = log_directory, profile_batch = '100,132')"
      ],
      "metadata": {
        "id": "yGpndw0QlWMW"
      },
      "execution_count": null,
      "outputs": []
    },
    {
      "cell_type": "code",
      "execution_count": null,
      "metadata": {
        "id": "H8tk-eT9K7K-"
      },
      "outputs": [],
      "source": [
        "model.compile( optimizer = Adam(learning_rate = learning_rate), loss = BinaryCrossentropy(), metrics = METRICS )"
      ]
    },
    {
      "cell_type": "code",
      "source": [
        "labels_ = ['Parasitized', 'Uninfected']"
      ],
      "metadata": {
        "id": "Jcg4gE1fCzkw"
      },
      "execution_count": null,
      "outputs": []
    },
    {
      "cell_type": "code",
      "source": [
        "#LOG IMAGES IN WANDB\n",
        "#YOU COULD DOWNLOAD THESE IMAGES FROM WANDB WEBSITE\n",
        "#HERE WE WILL LOG CONFUSION MATRIX AND ROC_CURVE FOR EACH EPOCH\n",
        "class LogImagesCallbackWandb(Callback):\n",
        "  def on_epoch_end(self, epoch, logs):\n",
        "    #COPY AND PASTE CONFUSION MATRIX CODE\n",
        "    labels = []\n",
        "    inp = []\n",
        "    for x, y in test_data.as_numpy_iterator():\n",
        "      labels.append(y)\n",
        "      inp.append(x)\n",
        "    labels = np.array(i[0] for i in labels)\n",
        "    inp = np.array(inp[:,0,...])\n",
        "    predicted = model.predict(inp)\n",
        "    predicted = predicted[:,0]\n",
        "\n",
        "    #INPUT TO PROBS AND Y_PROBAS IN WANDB.LOG() SHOULD BE IN THE FORMAT [CLASS_1_PROBABILITY, CLASS_2_PROBABILITY]\n",
        "    pred = []\n",
        "    for i in range(len(predicted)):\n",
        "      if predicted[i][0] < 0.5:\n",
        "        pred.append([1,0])\n",
        "      else:\n",
        "        pred.append([0,1])\n",
        "    pred = np.array(pred)\n",
        "\n",
        "    #INFO IN WANDB.LOG() IS AUTOMATICALLY SAVED WHEN WANDBCALLBACK IS USED IN MODEL FITTING\n",
        "\n",
        "    #TO LOG CONFUSION MATRIX\n",
        "    wandb.log({\"confusion_matrix\" : wandb.plot.confusion_matrix(probs = pred, y_true = labels, class_names = ['Parasitized', 'Uninfected'])})\n",
        "\n",
        "    #TO LOG ROC_CURVE\n",
        "    wandb.log({\"ROC_CURVE\" : wandb.plot.roc_curve(y_true = labels, y_probas = pred, labels = ['Parasitized', 'Uninfected'])})\n",
        "\n",
        "    #TO LOG LOSS (NOT IMAGE)\n",
        "    wandb.log({'loss' : logs['loss']})\n",
        "\n",
        "    threshold = 0.5\n",
        "    cm = confusion_matrix(labels, prediction > threshold)\n",
        "    plt.figure(figsize = (8,8))\n",
        "    sns.heatmap(cm, annot = True)\n",
        "    plt.title('Confusion matrix - {}'.format(threshold))\n",
        "    plt.xlabel('Predicted')\n",
        "    plt.ylabel('Actual')\n",
        "    plt.axis('off')\n",
        "\n",
        "    buffer = io.BytesIO() #WE STORE THE IMAGE IN VARIABLE 'buffer'\n",
        "    plt.savefig(buffer, format = 'png')\n",
        "\n",
        "    image_array = tf.image.decode_png(buffer.get_value(), channels = 4) #GETTING IMAGE FROM SAVED PNG FILE 'buffer'\n",
        "\n",
        "    #LOGGING IMAGES FROM ARRAYS\n",
        "    images = wandb.Image(image_array, caption = \"Confusion matrix for each epoch {}\".format(epoch))\n",
        "    wandb.log({'Confusion Matrix' : images})"
      ],
      "metadata": {
        "id": "x-TBg7Wn2Pqy"
      },
      "execution_count": null,
      "outputs": []
    },
    {
      "cell_type": "code",
      "source": [
        "#LOG MATPLOTLIB IMAGES IN WANDB\n",
        "plt.plot([1,2,3,4])\n",
        "plt.ylabel(\"some interesting numbers\")\n",
        "wandb.log({'chart': plt})"
      ],
      "metadata": {
        "id": "M_WTbIGdLVP_"
      },
      "execution_count": null,
      "outputs": []
    },
    {
      "cell_type": "code",
      "execution_count": null,
      "metadata": {
        "colab": {
          "background_save": true,
          "base_uri": "https://localhost:8080/"
        },
        "id": "j6izOxKZh_Ko",
        "outputId": "b85fd038-7fe3-4155-f5e1-7f58438f9c7e"
      },
      "outputs": [
        {
          "name": "stdout",
          "output_type": "stream",
          "text": [
            "Epoch 1/20\n",
            "689/689 [==============================] - 950s 1s/step - loss: 0.3002 - accuracy: 0.8802 - tp: 9820.0000 - fp: 1439.0000 - tn: 9585.0000 - fn: 1202.0000 - precision: 0.8722 - recall: 0.8909 - auc: 0.9433 - val_loss: 0.3291 - val_accuracy: 0.8791 - val_tp: 1379.0000 - val_fp: 317.0000 - val_tn: 1043.0000 - val_fn: 16.0000 - val_precision: 0.8131 - val_recall: 0.9885 - val_auc: 0.9667\n",
            "Epoch 2/20\n",
            "689/689 [==============================] - 856s 1s/step - loss: 0.2337 - accuracy: 0.9193 - tp: 10278.0000 - fp: 1034.0000 - tn: 9989.0000 - fn: 745.0000 - precision: 0.9086 - recall: 0.9324 - auc: 0.9616 - val_loss: 2.6546 - val_accuracy: 0.5506 - val_tp: 1380.0000 - val_fp: 1231.0000 - val_tn: 137.0000 - val_fn: 7.0000 - val_precision: 0.5285 - val_recall: 0.9950 - val_auc: 0.7065\n",
            "Epoch 3/20\n",
            "689/689 [==============================] - 842s 1s/step - loss: 0.2019 - accuracy: 0.9298 - tp: 10376.0000 - fp: 902.0000 - tn: 10122.0000 - fn: 646.0000 - precision: 0.9200 - recall: 0.9414 - auc: 0.9699 - val_loss: 0.4021 - val_accuracy: 0.7913 - val_tp: 836.0000 - val_fp: 20.0000 - val_tn: 1344.0000 - val_fn: 555.0000 - val_precision: 0.9766 - val_recall: 0.6010 - val_auc: 0.9776\n",
            "Epoch 4/20\n",
            "689/689 [==============================] - 903s 1s/step - loss: 0.1821 - accuracy: 0.9386 - tp: 10495.0000 - fp: 825.0000 - tn: 10198.0000 - fn: 528.0000 - precision: 0.9271 - recall: 0.9521 - auc: 0.9743 - val_loss: 0.3212 - val_accuracy: 0.8722 - val_tp: 1369.0000 - val_fp: 333.0000 - val_tn: 1034.0000 - val_fn: 19.0000 - val_precision: 0.8043 - val_recall: 0.9863 - val_auc: 0.9466\n",
            "Epoch 5/20\n",
            "689/689 [==============================] - 857s 1s/step - loss: 0.1814 - accuracy: 0.9382 - tp: 10516.0000 - fp: 856.0000 - tn: 10168.0000 - fn: 506.0000 - precision: 0.9247 - recall: 0.9541 - auc: 0.9750 - val_loss: 1.6107 - val_accuracy: 0.4904 - val_tp: 3.0000 - val_fp: 10.0000 - val_tn: 1348.0000 - val_fn: 1394.0000 - val_precision: 0.2308 - val_recall: 0.0021 - val_auc: 0.4799\n",
            "Epoch 6/20\n",
            "689/689 [==============================] - 863s 1s/step - loss: 0.1731 - accuracy: 0.9418 - tp: 10517.0000 - fp: 774.0000 - tn: 10247.0000 - fn: 508.0000 - precision: 0.9314 - recall: 0.9539 - auc: 0.9770 - val_loss: 0.1830 - val_accuracy: 0.9525 - val_tp: 1342.0000 - val_fp: 79.0000 - val_tn: 1282.0000 - val_fn: 52.0000 - val_precision: 0.9444 - val_recall: 0.9627 - val_auc: 0.9831\n",
            "Epoch 7/20\n",
            "689/689 [==============================] - 863s 1s/step - loss: 0.1594 - accuracy: 0.9473 - tp: 10595.0000 - fp: 733.0000 - tn: 10289.0000 - fn: 429.0000 - precision: 0.9353 - recall: 0.9611 - auc: 0.9802 - val_loss: 0.8051 - val_accuracy: 0.5310 - val_tp: 116.0000 - val_fp: 20.0000 - val_tn: 1347.0000 - val_fn: 1272.0000 - val_precision: 0.8529 - val_recall: 0.0836 - val_auc: 0.9548\n",
            "Epoch 8/20\n",
            "689/689 [==============================] - 846s 1s/step - loss: 0.1475 - accuracy: 0.9509 - tp: 10617.0000 - fp: 674.0000 - tn: 10347.0000 - fn: 408.0000 - precision: 0.9403 - recall: 0.9630 - auc: 0.9828 - val_loss: 0.2007 - val_accuracy: 0.9539 - val_tp: 1339.0000 - val_fp: 78.0000 - val_tn: 1289.0000 - val_fn: 49.0000 - val_precision: 0.9450 - val_recall: 0.9647 - val_auc: 0.9788\n",
            "Epoch 9/20\n",
            "689/689 [==============================] - 864s 1s/step - loss: 0.1387 - accuracy: 0.9541 - tp: 10687.0000 - fp: 677.0000 - tn: 10346.0000 - fn: 336.0000 - precision: 0.9404 - recall: 0.9695 - auc: 0.9837 - val_loss: 0.3291 - val_accuracy: 0.8541 - val_tp: 1042.0000 - val_fp: 56.0000 - val_tn: 1311.0000 - val_fn: 346.0000 - val_precision: 0.9490 - val_recall: 0.7507 - val_auc: 0.9652\n",
            "Epoch 10/20\n",
            "689/689 [==============================] - 848s 1s/step - loss: 0.1336 - accuracy: 0.9545 - tp: 10680.0000 - fp: 661.0000 - tn: 10363.0000 - fn: 342.0000 - precision: 0.9417 - recall: 0.9690 - auc: 0.9857 - val_loss: 0.9656 - val_accuracy: 0.5456 - val_tp: 161.0000 - val_fp: 26.0000 - val_tn: 1342.0000 - val_fn: 1226.0000 - val_precision: 0.8610 - val_recall: 0.1161 - val_auc: 0.9362\n",
            "Epoch 11/20\n",
            "689/689 [==============================] - 844s 1s/step - loss: 0.1256 - accuracy: 0.9585 - tp: 10720.0000 - fp: 610.0000 - tn: 10412.0000 - fn: 304.0000 - precision: 0.9462 - recall: 0.9724 - auc: 0.9868 - val_loss: 0.1761 - val_accuracy: 0.9448 - val_tp: 1370.0000 - val_fp: 132.0000 - val_tn: 1233.0000 - val_fn: 20.0000 - val_precision: 0.9121 - val_recall: 0.9856 - val_auc: 0.9805\n",
            "Epoch 12/20\n",
            "689/689 [==============================] - 847s 1s/step - loss: 0.1182 - accuracy: 0.9599 - tp: 10726.0000 - fp: 588.0000 - tn: 10435.0000 - fn: 297.0000 - precision: 0.9480 - recall: 0.9731 - auc: 0.9886 - val_loss: 0.2038 - val_accuracy: 0.9336 - val_tp: 1343.0000 - val_fp: 132.0000 - val_tn: 1229.0000 - val_fn: 51.0000 - val_precision: 0.9105 - val_recall: 0.9634 - val_auc: 0.9723\n",
            "Epoch 13/20\n",
            "255/689 [==========>...................] - ETA: 8:25 - loss: 0.1218 - accuracy: 0.9603 - tp: 3985.0000 - fp: 222.0000 - tn: 3851.0000 - fn: 102.0000 - precision: 0.9472 - recall: 0.9750 - auc: 0.9884"
          ]
        }
      ],
      "source": [
        "history = model.fit(train_data,\n",
        "                    validation_data = val_data,\n",
        "                    epochs = 20,\n",
        "                    verbose = 1,\n",
        "                    callbacks = [csv_callback, es_callback, lrs_callback, mc_callback, rlrop_callback, LogImagesCallbackTensorboard(), tensorboard_callback, LogImagesCallbackWandb(), WandbCallback(\n",
        "                        validation_data = val_data,\n",
        "                        labels = labels_,\n",
        "                        data_type = image\n",
        "                    )])"
      ]
    },
    {
      "cell_type": "code",
      "source": [
        "wandb.finish()"
      ],
      "metadata": {
        "id": "HCjVzWPUDsJ5"
      },
      "execution_count": null,
      "outputs": []
    },
    {
      "cell_type": "code",
      "source": [
        "%load_ext tensorboard"
      ],
      "metadata": {
        "id": "uYBWDCbpmzwu"
      },
      "execution_count": null,
      "outputs": []
    },
    {
      "cell_type": "code",
      "source": [
        "#TENSORBOARD VISUALIZATIONS\n",
        "tensorboard --logdir = log_directory"
      ],
      "metadata": {
        "id": "Enp9MBoHmiZr"
      },
      "execution_count": null,
      "outputs": []
    },
    {
      "cell_type": "code",
      "execution_count": null,
      "metadata": {
        "colab": {
          "base_uri": "https://localhost:8080/",
          "height": 472
        },
        "id": "Je1l5U0AnQ21",
        "outputId": "a4332907-3e2d-4116-f9ec-715292bf3ef8"
      },
      "outputs": [
        {
          "data": {
            "image/png": "[encoded data removed]",
            "text/plain": [
              "<Figure size 640x480 with 1 Axes>"
            ]
          },
          "metadata": {},
          "output_type": "display_data"
        }
      ],
      "source": [
        "plt.plot(history.history['loss'])\n",
        "plt.plot(history.history['val_loss'])\n",
        "plt.title('Model Loss')\n",
        "plt.xlabel('epoch')\n",
        "plt.ylabel('loss')\n",
        "plt.legend(['train_loss', 'val_loss'])\n",
        "plt.show()"
      ]
    },
    {
      "cell_type": "code",
      "execution_count": null,
      "metadata": {
        "colab": {
          "base_uri": "https://localhost:8080/",
          "height": 472
        },
        "id": "GglwJHj2n68T",
        "outputId": "e6c02678-77b9-4256-ee72-96a8843b5c70"
      },
      "outputs": [
        {
          "data": {
            "image/png": "[encoded data removed]",
            "text/plain": [
              "<Figure size 640x480 with 1 Axes>"
            ]
          },
          "metadata": {},
          "output_type": "display_data"
        }
      ],
      "source": [
        "plt.plot(history.history['accuracy'])\n",
        "plt.plot(history.history['val_accuracy'])\n",
        "plt.title('Model Accuracy')\n",
        "plt.xlabel('epoch')\n",
        "plt.ylabel('Accuracy')\n",
        "plt.legend(['train_accuracy', 'val_accuracy'])\n",
        "plt.show()"
      ]
    },
    {
      "cell_type": "markdown",
      "metadata": {
        "id": "lgg5c4GSmmiv"
      },
      "source": [
        "### **MODEL EVALUATION AND TESTING**"
      ]
    },
    {
      "cell_type": "code",
      "execution_count": null,
      "metadata": {
        "colab": {
          "base_uri": "https://localhost:8080/"
        },
        "id": "9kkm-1JfnNQD",
        "outputId": "b2c7fee3-7949-46a1-e25f-f1a567921a2a"
      },
      "outputs": [
        {
          "data": {
            "text/plain": [
              "<_MapDataset element_spec=(TensorSpec(shape=(224, 224, 3), dtype=tf.float32, name=None), TensorSpec(shape=(), dtype=tf.int64, name=None))>"
            ]
          },
          "execution_count": 34,
          "metadata": {},
          "output_type": "execute_result"
        }
      ],
      "source": [
        "test_data"
      ]
    },
    {
      "cell_type": "code",
      "execution_count": null,
      "metadata": {
        "id": "OQdlWoyxnSbk"
      },
      "outputs": [],
      "source": [
        "test_data = test_data.batch(1)"
      ]
    },
    {
      "cell_type": "code",
      "execution_count": null,
      "metadata": {
        "colab": {
          "base_uri": "https://localhost:8080/"
        },
        "id": "5fGslc14LwFe",
        "outputId": "ee735c40-d8f3-4450-cfbc-359ed242397f"
      },
      "outputs": [
        {
          "name": "stdout",
          "output_type": "stream",
          "text": [
            "2757/2757 [==============================] - 23s 5ms/step - loss: 0.8591 - accuracy: 0.9195 - tp: 1226.0000 - fp: 81.0000 - tn: 1309.0000 - fn: 141.0000 - precision: 0.9380 - recall: 0.8969 - auc: 0.9625\n"
          ]
        },
        {
          "data": {
            "text/plain": [
              "[0.859131395816803,\n",
              " 0.9194777011871338,\n",
              " 1226.0,\n",
              " 81.0,\n",
              " 1309.0,\n",
              " 141.0,\n",
              " 0.9380260109901428,\n",
              " 0.8968544006347656,\n",
              " 0.9624776244163513]"
            ]
          },
          "execution_count": 36,
          "metadata": {},
          "output_type": "execute_result"
        }
      ],
      "source": [
        "model.evaluate(test_data)"
      ]
    },
    {
      "cell_type": "code",
      "execution_count": null,
      "metadata": {
        "colab": {
          "base_uri": "https://localhost:8080/"
        },
        "id": "VWRSOiRpn03P",
        "outputId": "5a4ff173-7305-460d-b0fd-2aac59a2e06b"
      },
      "outputs": [
        {
          "name": "stdout",
          "output_type": "stream",
          "text": [
            "1/1 [==============================] - 11s 11s/step\n"
          ]
        },
        {
          "data": {
            "text/plain": [
              "0.5875204"
            ]
          },
          "execution_count": 37,
          "metadata": {},
          "output_type": "execute_result"
        }
      ],
      "source": [
        "model.predict(test_data.take(1))[0][0]"
      ]
    },
    {
      "cell_type": "code",
      "execution_count": null,
      "metadata": {
        "id": "PlB7JE_iolsM"
      },
      "outputs": [],
      "source": [
        "def parasite_or_not(x):\n",
        "  if x<0.5:\n",
        "    return str(\"P\")\n",
        "  else:\n",
        "    return str(\"U\")"
      ]
    },
    {
      "cell_type": "code",
      "execution_count": null,
      "metadata": {
        "colab": {
          "base_uri": "https://localhost:8080/",
          "height": 53
        },
        "id": "n6Kh-SpTpXpg",
        "outputId": "52cb9619-37a9-4ccf-941a-751620268f53"
      },
      "outputs": [
        {
          "name": "stdout",
          "output_type": "stream",
          "text": [
            "1/1 [==============================] - 10s 10s/step\n"
          ]
        },
        {
          "data": {
            "application/vnd.google.colaboratory.intrinsic+json": {
              "type": "string"
            },
            "text/plain": [
              "'U'"
            ]
          },
          "execution_count": 39,
          "metadata": {},
          "output_type": "execute_result"
        }
      ],
      "source": [
        "parasite_or_not(model.predict(test_data.take(1))[0][0])"
      ]
    },
    {
      "cell_type": "markdown",
      "metadata": {
        "id": "bW0mrqZCv-M_"
      },
      "source": [
        "**CONFUSION MATRIX**"
      ]
    },
    {
      "cell_type": "code",
      "execution_count": null,
      "metadata": {
        "colab": {
          "base_uri": "https://localhost:8080/",
          "height": 193
        },
        "id": "dMBPALPrwB3X",
        "outputId": "3ddfead3-51ec-4956-b33f-81cbd2d16af1"
      },
      "outputs": [
        {
          "ename": "NameError",
          "evalue": "name 'test_data' is not defined",
          "output_type": "error",
          "traceback": [
            "\u001b[0;31m---------------------------------------------------------------------------\u001b[0m",
            "\u001b[0;31mNameError\u001b[0m                                 Traceback (most recent call last)",
            "\u001b[0;32m<ipython-input-3-d2934431445b>\u001b[0m in \u001b[0;36m<cell line: 2>\u001b[0;34m()\u001b[0m\n\u001b[1;32m      1\u001b[0m \u001b[0mlabels\u001b[0m \u001b[0;34m=\u001b[0m \u001b[0;34m[\u001b[0m\u001b[0;34m]\u001b[0m\u001b[0;34m\u001b[0m\u001b[0;34m\u001b[0m\u001b[0m\n\u001b[0;32m----> 2\u001b[0;31m \u001b[0;32mfor\u001b[0m \u001b[0mx\u001b[0m\u001b[0;34m,\u001b[0m \u001b[0my\u001b[0m \u001b[0;32min\u001b[0m \u001b[0mtest_data\u001b[0m\u001b[0;34m.\u001b[0m\u001b[0mas_numpy_iterator\u001b[0m\u001b[0;34m(\u001b[0m\u001b[0;34m)\u001b[0m\u001b[0;34m:\u001b[0m\u001b[0;34m\u001b[0m\u001b[0;34m\u001b[0m\u001b[0m\n\u001b[0m\u001b[1;32m      3\u001b[0m   \u001b[0mlabels\u001b[0m\u001b[0;34m.\u001b[0m\u001b[0mappend\u001b[0m\u001b[0;34m(\u001b[0m\u001b[0my\u001b[0m\u001b[0;34m)\u001b[0m\u001b[0;34m\u001b[0m\u001b[0;34m\u001b[0m\u001b[0m\n\u001b[1;32m      4\u001b[0m \u001b[0mlabels\u001b[0m \u001b[0;34m=\u001b[0m \u001b[0mnp\u001b[0m\u001b[0;34m.\u001b[0m\u001b[0marray\u001b[0m\u001b[0;34m(\u001b[0m\u001b[0mi\u001b[0m\u001b[0;34m[\u001b[0m\u001b[0;36m0\u001b[0m\u001b[0;34m]\u001b[0m \u001b[0;32mfor\u001b[0m \u001b[0mi\u001b[0m \u001b[0;32min\u001b[0m \u001b[0mlabels\u001b[0m\u001b[0;34m)\u001b[0m\u001b[0;34m\u001b[0m\u001b[0;34m\u001b[0m\u001b[0m\n",
            "\u001b[0;31mNameError\u001b[0m: name 'test_data' is not defined"
          ]
        }
      ],
      "source": [
        "labels = []\n",
        "inp = []\n",
        "for x, y in test_data.as_numpy_iterator():\n",
        "  labels.append(y)\n",
        "  inp.append(x)\n",
        "labels = np.array(i[0] for i in labels)\n",
        "inp = np.array(inp[:,0,...])\n",
        "predicted = model.predict(inp)\n",
        "predicted = predicted[:,0]\n",
        "\n",
        "threshold = 0.5\n",
        "cm = confusion_matrix(labels, prediction > threshold)\n",
        "print(cm)"
      ]
    },
    {
      "cell_type": "code",
      "source": [
        "plt.figure(figsize = (8,8))\n",
        "sns.heatmap(cm, annot = True)\n",
        "plt.title('Confusion matrix - {}'.format(threshold))\n",
        "plt.xlabel('Predicted')\n",
        "plt.ylabel('Actual')"
      ],
      "metadata": {
        "id": "jyaRbcPmTHlK"
      },
      "execution_count": null,
      "outputs": []
    },
    {
      "cell_type": "code",
      "source": [
        "#LOGGING IMAGES\n",
        "#HERE WE WILL LOG CONFUSION MATERIX FOR EACH EPOCH\n",
        "class LogImagesCallbackTensorboard(Callback):\n",
        "  def on_epoch_end(self, epoch, logs):\n",
        "    #COPY AND PASTE CONFUSION MATRIX CODE\n",
        "    labels = []\n",
        "    inp = []\n",
        "    for x, y in test_data.as_numpy_iterator():\n",
        "      labels.append(y)\n",
        "      inp.append(x)\n",
        "    labels = np.array(i[0] for i in labels)\n",
        "    inp = np.array(inp[:,0,...])\n",
        "    predicted = model.predict(inp)\n",
        "    predicted = predicted[:,0]\n",
        "\n",
        "    threshold = 0.5\n",
        "    cm = confusion_matrix(labels, prediction > threshold)\n",
        "    plt.figure(figsize = (8,8))\n",
        "    sns.heatmap(cm, annot = True)\n",
        "    plt.title('Confusion matrix - {}'.format(threshold))\n",
        "    plt.xlabel('Predicted')\n",
        "    plt.ylabel('Actual')\n",
        "    plt.axis('off')\n",
        "\n",
        "    buffer = io.BytesIO() #WE STORE THE IMAGE IN VARIABLE 'buffer'\n",
        "    plt.savefig(buffer, format = 'png')\n",
        "\n",
        "    image = tf.image.decode_png(buffer.get_value(), channels = 4) #GETTING IMAGE FROM SAVED PNG FILE 'buffer'\n",
        "    image = tf.expand_dims(image, axis = 0)\n",
        "\n",
        "    current_time = datetime.datetime.now().strftime('%d%m%y - %h%m%s')\n",
        "    image_directory = \"./logs/\" + current_time + \"/images\"\n",
        "    image_writer = tf.summary.create_file_writer(image_directory)\n",
        "\n",
        "    with image_writer.as_default():\n",
        "      tf.summary.image(\"Training data\", image, step = epoch)\n"
      ],
      "metadata": {
        "id": "L3PuslvTn_eC"
      },
      "execution_count": null,
      "outputs": []
    },
    {
      "cell_type": "markdown",
      "source": [
        "**ROC CURVE**"
      ],
      "metadata": {
        "id": "R7RZWYE7U5FB"
      }
    },
    {
      "cell_type": "code",
      "source": [
        "fp, tp, thresholds = roc_curve(labels, predicted)\n",
        "print(len(fp), len(tp), len(thresholds))"
      ],
      "metadata": {
        "id": "mubzu77oVBm8"
      },
      "execution_count": null,
      "outputs": []
    },
    {
      "cell_type": "code",
      "source": [
        "#plotting line graph of fps with corresponding tps\n",
        "plt.plot(fp, tp)\n",
        "plt.ylabel('True positive rate')\n",
        "plt.xlabel('False positive rate')\n",
        "\n",
        "plt.grid()\n",
        "\n",
        "skip = 10\n",
        "for i in range(0, len(threshold), skip):\n",
        "  plt.text(fp[i], tp[i], thresholds[i])\n",
        "plt.show()\n",
        "#find the optimal threshold from this to strike a balance bw fp rate and tp rate and is correct for given problem statement and do classification and confusion matrix (and its visualization) with this threshold\n"
      ],
      "metadata": {
        "colab": {
          "base_uri": "https://localhost:8080/",
          "height": 211
        },
        "id": "S3hGuZD0VZNR",
        "outputId": "fb95a8e1-521c-4c2a-af5b-49e60498733b"
      },
      "execution_count": null,
      "outputs": [
        {
          "output_type": "error",
          "ename": "NameError",
          "evalue": "name 'plt' is not defined",
          "traceback": [
            "\u001b[0;31m---------------------------------------------------------------------------\u001b[0m",
            "\u001b[0;31mNameError\u001b[0m                                 Traceback (most recent call last)",
            "\u001b[0;32m<ipython-input-1-6d9653c4e7ae>\u001b[0m in \u001b[0;36m<cell line: 2>\u001b[0;34m()\u001b[0m\n\u001b[1;32m      1\u001b[0m \u001b[0;31m#plotting line graph of fps with corresponding tps\u001b[0m\u001b[0;34m\u001b[0m\u001b[0;34m\u001b[0m\u001b[0m\n\u001b[0;32m----> 2\u001b[0;31m \u001b[0mplt\u001b[0m\u001b[0;34m.\u001b[0m\u001b[0mplot\u001b[0m\u001b[0;34m(\u001b[0m\u001b[0mfp\u001b[0m\u001b[0;34m,\u001b[0m \u001b[0mtp\u001b[0m\u001b[0;34m)\u001b[0m\u001b[0;34m\u001b[0m\u001b[0;34m\u001b[0m\u001b[0m\n\u001b[0m\u001b[1;32m      3\u001b[0m \u001b[0mplt\u001b[0m\u001b[0;34m.\u001b[0m\u001b[0mylabel\u001b[0m\u001b[0;34m(\u001b[0m\u001b[0;34m'True positive rate'\u001b[0m\u001b[0;34m)\u001b[0m\u001b[0;34m\u001b[0m\u001b[0;34m\u001b[0m\u001b[0m\n\u001b[1;32m      4\u001b[0m \u001b[0mplt\u001b[0m\u001b[0;34m.\u001b[0m\u001b[0mxlabel\u001b[0m\u001b[0;34m(\u001b[0m\u001b[0;34m'False positive rate'\u001b[0m\u001b[0;34m)\u001b[0m\u001b[0;34m\u001b[0m\u001b[0;34m\u001b[0m\u001b[0m\n\u001b[1;32m      5\u001b[0m \u001b[0;34m\u001b[0m\u001b[0m\n",
            "\u001b[0;31mNameError\u001b[0m: name 'plt' is not defined"
          ]
        }
      ]
    },
    {
      "cell_type": "code",
      "source": [],
      "metadata": {
        "id": "YrCVoXOVq-Hu"
      },
      "execution_count": null,
      "outputs": []
    },
    {
      "cell_type": "markdown",
      "metadata": {
        "id": "MjOX_x7sp1gR"
      },
      "source": [
        "VISUALIZE OUTPUT AS CORRECT LABEL VS PREDICTED LABEL"
      ]
    },
    {
      "cell_type": "code",
      "execution_count": null,
      "metadata": {
        "colab": {
          "base_uri": "https://localhost:8080/",
          "height": 706
        },
        "id": "q8E-d_8GpwQz",
        "outputId": "6dd95dba-0cc1-4876-e913-20620c50c6ab"
      },
      "outputs": [
        {
          "name": "stdout",
          "output_type": "stream",
          "text": [
            "1/1 [==============================] - 0s 134ms/step\n",
            "1/1 [==============================] - 0s 28ms/step\n",
            "1/1 [==============================] - 0s 35ms/step\n",
            "1/1 [==============================] - 0s 33ms/step\n",
            "1/1 [==============================] - 0s 33ms/step\n",
            "1/1 [==============================] - 0s 42ms/step\n",
            "1/1 [==============================] - 0s 32ms/step\n",
            "1/1 [==============================] - 0s 36ms/step\n",
            "1/1 [==============================] - 0s 34ms/step\n",
            "1/1 [==============================] - 0s 40ms/step\n",
            "1/1 [==============================] - 0s 37ms/step\n",
            "1/1 [==============================] - 0s 33ms/step\n",
            "1/1 [==============================] - 0s 43ms/step\n",
            "1/1 [==============================] - 0s 58ms/step\n",
            "1/1 [==============================] - 0s 53ms/step\n",
            "1/1 [==============================] - 0s 44ms/step\n"
          ]
        },
        {
          "data": {
            "image/png": "[encoded data removed]",
            "text/plain": [
              "<Figure size 640x480 with 16 Axes>"
            ]
          },
          "metadata": {},
          "output_type": "display_data"
        }
      ],
      "source": [
        "for i, (image, label) in enumerate(train_data.take(16)):\n",
        "  ax = plt.subplot(4, 4, i+1)\n",
        "  plt.imshow(image[0])\n",
        "  plt.title(str(parasite_or_not(label.numpy()[0])) + ':' + str(parasite_or_not(model.predict(image)[0][0]))) #true label : predicted label\n",
        "  plt.axis(\"off\")"
      ]
    },
    {
      "cell_type": "markdown",
      "metadata": {
        "id": "FpYHVM1LzD_p"
      },
      "source": [
        "### **FUNCTIONAL API**"
      ]
    },
    {
      "cell_type": "code",
      "execution_count": null,
      "metadata": {
        "id": "HsSHB2ElrANH"
      },
      "outputs": [],
      "source": [
        "func_input = Input( shape = (im_size, im_size, 3))\n",
        "x = Conv2D(filters = 6, kernel_size = (3,3), strides = (1,1), padding = 'valid', activation = 'relu')(func_input) #(5,5) and (1,1) can also be given as 5 and 1 respectively\n",
        "x = BatchNormalization()(x)\n",
        "x = MaxPool2D(pool_size = (2,2), strides = (2,2))(x) #(2,2) can also be given as 2\n",
        "\n",
        "x = Conv2D(filters = 16, kernel_size = (3,3), strides = (1,1), padding = 'valid', activation = 'relu')(x) #(5,5) and (1,1) can also be given as 5 and 1 respectively\n",
        "x = BatchNormalization()(x)\n",
        "feature_extraction = MaxPool2D(pool_size = (2,2), strides = (2,2))(x) #(2,2) can also be given as 2\n",
        "\n",
        "x = Flatten()(feature_extraction)\n",
        "\n",
        "x = Dense(100, activation = 'relu')(x)\n",
        "x = BatchNormalization()(x)\n",
        "x = Dense(10, activation = 'relu')(x)\n",
        "x = BatchNormalization()(x)\n",
        "func_output = Dense(1, activation = 'sigmoid')(x)"
      ]
    },
    {
      "cell_type": "code",
      "execution_count": null,
      "metadata": {
        "id": "_B58AU-vHAte"
      },
      "outputs": [],
      "source": [
        "model_func_api = Model(func_input, func_output, name = 'lenet_model')"
      ]
    },
    {
      "cell_type": "code",
      "execution_count": null,
      "metadata": {
        "colab": {
          "base_uri": "https://localhost:8080/"
        },
        "id": "pM4WJHxHHzvp",
        "outputId": "8f428380-9352-4998-aaa6-84aed861117c"
      },
      "outputs": [
        {
          "name": "stdout",
          "output_type": "stream",
          "text": [
            "Model: \"lenet_model\"\n",
            "_________________________________________________________________\n",
            " Layer (type)                Output Shape              Param #   \n",
            "=================================================================\n",
            " input_2 (InputLayer)        [(None, 224, 224, 3)]     0         \n",
            "                                                                 \n",
            " conv2d_2 (Conv2D)           (None, 222, 222, 6)       168       \n",
            "                                                                 \n",
            " batch_normalization_4 (Bat  (None, 222, 222, 6)       24        \n",
            " chNormalization)                                                \n",
            "                                                                 \n",
            " max_pooling2d_2 (MaxPoolin  (None, 111, 111, 6)       0         \n",
            " g2D)                                                            \n",
            "                                                                 \n",
            " conv2d_3 (Conv2D)           (None, 109, 109, 16)      880       \n",
            "                                                                 \n",
            " batch_normalization_5 (Bat  (None, 109, 109, 16)      64        \n",
            " chNormalization)                                                \n",
            "                                                                 \n",
            " max_pooling2d_3 (MaxPoolin  (None, 54, 54, 16)        0         \n",
            " g2D)                                                            \n",
            "                                                                 \n",
            " flatten_1 (Flatten)         (None, 46656)             0         \n",
            "                                                                 \n",
            " dense_3 (Dense)             (None, 100)               4665700   \n",
            "                                                                 \n",
            " batch_normalization_6 (Bat  (None, 100)               400       \n",
            " chNormalization)                                                \n",
            "                                                                 \n",
            " dense_4 (Dense)             (None, 10)                1010      \n",
            "                                                                 \n",
            " batch_normalization_7 (Bat  (None, 10)                40        \n",
            " chNormalization)                                                \n",
            "                                                                 \n",
            " dense_5 (Dense)             (None, 1)                 11        \n",
            "                                                                 \n",
            "=================================================================\n",
            "Total params: 4668297 (17.81 MB)\n",
            "Trainable params: 4668033 (17.81 MB)\n",
            "Non-trainable params: 264 (1.03 KB)\n",
            "_________________________________________________________________\n"
          ]
        }
      ],
      "source": [
        "model_func_api.summary()"
      ]
    },
    {
      "cell_type": "code",
      "execution_count": null,
      "metadata": {
        "id": "LGcaGSsnIBFs"
      },
      "outputs": [],
      "source": [
        "model_func_api.compile( optimizer = Adam(learning_rate = 0.01), loss = BinaryCrossentropy(), metrics = ['accuracy'] )"
      ]
    },
    {
      "cell_type": "markdown",
      "metadata": {
        "id": "1HqPmqW5JX5h"
      },
      "source": [
        "### **CALLABLE MODELS**"
      ]
    },
    {
      "cell_type": "code",
      "execution_count": null,
      "metadata": {
        "id": "ofam6UmfIeoy"
      },
      "outputs": [],
      "source": [
        "func_input = Input( shape = (im_size, im_size, 3))\n",
        "x = Conv2D(filters = 6, kernel_size = (3,3), strides = (1,1), padding = 'valid', activation = 'relu')(func_input) #(5,5) and (1,1) can also be given as 5 and 1 respectively\n",
        "x = BatchNormalization()(x)\n",
        "x = MaxPool2D(pool_size = (2,2), strides = (2,2))(x) #(2,2) can also be given as 2\n",
        "\n",
        "x = Conv2D(filters = 16, kernel_size = (3,3), strides = (1,1), padding = 'valid', activation = 'relu')(x) #(5,5) and (1,1) can also be given as 5 and 1 respectively\n",
        "x = BatchNormalization()(x)\n",
        "feature_extraction = MaxPool2D(pool_size = (2,2), strides = (2,2))(x) #(2,2) can also be given as 2\n"
      ]
    },
    {
      "cell_type": "code",
      "execution_count": null,
      "metadata": {
        "id": "weTvFRdGJ43i"
      },
      "outputs": [],
      "source": [
        "feature_extraction_model = Model(func_input, feature_extraction, name = 'feature_extractor')"
      ]
    },
    {
      "cell_type": "code",
      "execution_count": null,
      "metadata": {
        "colab": {
          "base_uri": "https://localhost:8080/",
          "height": 203
        },
        "id": "niEVzKNBKJY1",
        "outputId": "962702b7-7c93-48ee-acf4-d6918dc67d95"
      },
      "outputs": [
        {
          "data": {
            "text/html": [
              "<div style=\"max-width:800px; border: 1px solid var(--colab-border-color);\"><style>\n",
              "      pre.function-repr-contents {\n",
              "        overflow-x: auto;\n",
              "        padding: 8px 12px;\n",
              "        max-height: 500px;\n",
              "      }\n",
              "\n",
              "      pre.function-repr-contents.function-repr-contents-collapsed {\n",
              "        cursor: pointer;\n",
              "        max-height: 100px;\n",
              "      }\n",
              "    </style>\n",
              "    <pre style=\"white-space: initial; background:\n",
              "         var(--colab-secondary-surface-color); padding: 8px 12px;\n",
              "         border-bottom: 1px solid var(--colab-border-color);\"><b>keras.src.engine.training.Model.summary</b><br/>def summary(line_length=None, positions=None, print_fn=None, expand_nested=False, show_trainable=False, layer_range=None)</pre><pre class=\"function-repr-contents function-repr-contents-collapsed\" style=\"\"><a class=\"filepath\" style=\"display:none\" href=\"#\">/usr/local/lib/python3.10/dist-packages/keras/src/engine/training.py</a>Prints a string summary of the network.\n",
              "\n",
              "Args:\n",
              "    line_length: Total length of printed lines\n",
              "        (e.g. set this to adapt the display to different\n",
              "        terminal window sizes).\n",
              "    positions: Relative or absolute positions of log elements\n",
              "        in each line. If not provided, becomes\n",
              "        `[0.3, 0.6, 0.70, 1.]`. Defaults to `None`.\n",
              "    print_fn: Print function to use. By default, prints to `stdout`.\n",
              "        If `stdout` doesn&#x27;t work in your environment, change to `print`.\n",
              "        It will be called on each line of the summary.\n",
              "        You can set it to a custom function\n",
              "        in order to capture the string summary.\n",
              "    expand_nested: Whether to expand the nested models.\n",
              "        Defaults to `False`.\n",
              "    show_trainable: Whether to show if a layer is trainable.\n",
              "        Defaults to `False`.\n",
              "    layer_range: a list or tuple of 2 strings,\n",
              "        which is the starting layer name and ending layer name\n",
              "        (both inclusive) indicating the range of layers to be printed\n",
              "        in summary. It also accepts regex patterns instead of exact\n",
              "        name. In such case, start predicate will be the first element\n",
              "        it matches to `layer_range[0]` and the end predicate will be\n",
              "        the last element it matches to `layer_range[1]`.\n",
              "        By default `None` which considers all layers of model.\n",
              "\n",
              "Raises:\n",
              "    ValueError: if `summary()` is called before the model is built.</pre>\n",
              "      <script>\n",
              "      if (google.colab.kernel.accessAllowed && google.colab.files && google.colab.files.view) {\n",
              "        for (const element of document.querySelectorAll('.filepath')) {\n",
              "          element.style.display = 'block'\n",
              "          element.onclick = (event) => {\n",
              "            event.preventDefault();\n",
              "            event.stopPropagation();\n",
              "            google.colab.files.view(element.textContent, 3466);\n",
              "          };\n",
              "        }\n",
              "      }\n",
              "      for (const element of document.querySelectorAll('.function-repr-contents')) {\n",
              "        element.onclick = (event) => {\n",
              "          event.preventDefault();\n",
              "          event.stopPropagation();\n",
              "          element.classList.toggle('function-repr-contents-collapsed');\n",
              "        };\n",
              "      }\n",
              "      </script>\n",
              "      </div>"
            ],
            "text/plain": [
              "<bound method Model.summary of <keras.src.engine.functional.Functional object at 0x79d80897ad40>>"
            ]
          },
          "execution_count": 47,
          "metadata": {},
          "output_type": "execute_result"
        }
      ],
      "source": [
        "feature_extraction_model.summary"
      ]
    },
    {
      "cell_type": "code",
      "execution_count": null,
      "metadata": {
        "id": "bkvpPkceKOsR"
      },
      "outputs": [],
      "source": [
        "func_input = Input( shape = (im_size, im_size, 3))\n",
        "x = feature_extraction_model(func_input) #we have called the model feature_extraction_model here\n",
        "\n",
        "x = Flatten()(x)\n",
        "\n",
        "x = Dense(100, activation = 'relu')(x)\n",
        "x = BatchNormalization()(x)\n",
        "x = Dense(10, activation = 'relu')(x)\n",
        "x = BatchNormalization()(x)\n",
        "func_output = Dense(1, activation = 'sigmoid')(x)"
      ]
    },
    {
      "cell_type": "code",
      "execution_count": null,
      "metadata": {
        "id": "2bVmaWS4KkSG"
      },
      "outputs": [],
      "source": [
        "model_ = Model(func_input, func_output, name = 'lenet_model_')"
      ]
    },
    {
      "cell_type": "code",
      "execution_count": null,
      "metadata": {
        "colab": {
          "base_uri": "https://localhost:8080/"
        },
        "id": "hlWsAxm9LfeW",
        "outputId": "2d8bdacb-cfa7-4eaa-b202-136dabbf5422"
      },
      "outputs": [
        {
          "name": "stdout",
          "output_type": "stream",
          "text": [
            "Model: \"lenet_model_\"\n",
            "_________________________________________________________________\n",
            " Layer (type)                Output Shape              Param #   \n",
            "=================================================================\n",
            " input_4 (InputLayer)        [(None, 224, 224, 3)]     0         \n",
            "                                                                 \n",
            " feature_extractor (Functio  (None, 54, 54, 16)        1136      \n",
            " nal)                                                            \n",
            "                                                                 \n",
            " flatten_2 (Flatten)         (None, 46656)             0         \n",
            "                                                                 \n",
            " dense_6 (Dense)             (None, 100)               4665700   \n",
            "                                                                 \n",
            " batch_normalization_10 (Ba  (None, 100)               400       \n",
            " tchNormalization)                                               \n",
            "                                                                 \n",
            " dense_7 (Dense)             (None, 10)                1010      \n",
            "                                                                 \n",
            " batch_normalization_11 (Ba  (None, 10)                40        \n",
            " tchNormalization)                                               \n",
            "                                                                 \n",
            " dense_8 (Dense)             (None, 1)                 11        \n",
            "                                                                 \n",
            "=================================================================\n",
            "Total params: 4668297 (17.81 MB)\n",
            "Trainable params: 4668033 (17.81 MB)\n",
            "Non-trainable params: 264 (1.03 KB)\n",
            "_________________________________________________________________\n"
          ]
        }
      ],
      "source": [
        "model_.summary()\n"
      ]
    },
    {
      "cell_type": "code",
      "execution_count": null,
      "metadata": {
        "colab": {
          "base_uri": "https://localhost:8080/"
        },
        "id": "nKNNKjmBLiBT",
        "outputId": "ad0c97a1-190e-4400-f674-4b1735d072fe"
      },
      "outputs": [
        {
          "name": "stdout",
          "output_type": "stream",
          "text": [
            "Model: \"sequential_1\"\n",
            "_________________________________________________________________\n",
            " Layer (type)                Output Shape              Param #   \n",
            "=================================================================\n",
            " conv2d_6 (Conv2D)           (None, 222, 222, 6)       168       \n",
            "                                                                 \n",
            " batch_normalization_12 (Ba  (None, 222, 222, 6)       24        \n",
            " tchNormalization)                                               \n",
            "                                                                 \n",
            " max_pooling2d_6 (MaxPoolin  (None, 111, 111, 6)       0         \n",
            " g2D)                                                            \n",
            "                                                                 \n",
            " conv2d_7 (Conv2D)           (None, 109, 109, 16)      880       \n",
            "                                                                 \n",
            " batch_normalization_13 (Ba  (None, 109, 109, 16)      64        \n",
            " tchNormalization)                                               \n",
            "                                                                 \n",
            " max_pooling2d_7 (MaxPoolin  (None, 54, 54, 16)        0         \n",
            " g2D)                                                            \n",
            "                                                                 \n",
            "=================================================================\n",
            "Total params: 1136 (4.44 KB)\n",
            "Trainable params: 1092 (4.27 KB)\n",
            "Non-trainable params: 44 (176.00 Byte)\n",
            "_________________________________________________________________\n"
          ]
        }
      ],
      "source": [
        "model_feature_extraction = tf.keras.Sequential([\n",
        "    InputLayer(input_shape = (im_size, im_size, 3)),\n",
        "\n",
        "    Conv2D(filters = 6, kernel_size = (3,3), strides = (1,1), padding = 'valid', activation = 'relu'), #(5,5) and (1,1) can also be given as 5 and 1 respectively\n",
        "    BatchNormalization(),\n",
        "    MaxPool2D(pool_size = (2,2), strides = (2,2)), #(2,2) can also be given as 2\n",
        "\n",
        "    Conv2D(filters = 16, kernel_size = (3,3), strides = (1,1), padding = 'valid', activation = 'relu'), #(5,5) and (1,1) can also be given as 5 and 1 respectively\n",
        "    BatchNormalization(),\n",
        "    MaxPool2D(pool_size = (2,2), strides = (2,2)) #(2,2) can also be given as 2\n",
        "\n",
        "])\n",
        "model_feature_extraction.summary()"
      ]
    },
    {
      "cell_type": "code",
      "execution_count": null,
      "metadata": {
        "id": "n3-42wRSMrMk"
      },
      "outputs": [],
      "source": [
        "#we have used both Sequential API(model_feature_extraction) and Functional API here\n",
        "func_input = Input( shape = (im_size, im_size, 3))\n",
        "x = model_feature_extraction(func_input) #we have called the model model_feature_extraction here\n",
        "\n",
        "x = Flatten()(x)\n",
        "\n",
        "x = Dense(100, activation = 'relu')(x)\n",
        "x = BatchNormalization()(x)\n",
        "x = Dense(10, activation = 'relu')(x)\n",
        "x = BatchNormalization()(x)\n",
        "func_output = Dense(1, activation = 'sigmoid')(x)"
      ]
    },
    {
      "cell_type": "code",
      "execution_count": null,
      "metadata": {
        "colab": {
          "base_uri": "https://localhost:8080/"
        },
        "id": "uTWPEsI1M5H5",
        "outputId": "4ce52843-200c-4ad4-a80b-3f53183f48af"
      },
      "outputs": [
        {
          "name": "stdout",
          "output_type": "stream",
          "text": [
            "Model: \"_lenet_model_\"\n",
            "_________________________________________________________________\n",
            " Layer (type)                Output Shape              Param #   \n",
            "=================================================================\n",
            " input_6 (InputLayer)        [(None, 224, 224, 3)]     0         \n",
            "                                                                 \n",
            " sequential_1 (Sequential)   (None, 54, 54, 16)        1136      \n",
            "                                                                 \n",
            " flatten_3 (Flatten)         (None, 46656)             0         \n",
            "                                                                 \n",
            " dense_9 (Dense)             (None, 100)               4665700   \n",
            "                                                                 \n",
            " batch_normalization_14 (Ba  (None, 100)               400       \n",
            " tchNormalization)                                               \n",
            "                                                                 \n",
            " dense_10 (Dense)            (None, 10)                1010      \n",
            "                                                                 \n",
            " batch_normalization_15 (Ba  (None, 10)                40        \n",
            " tchNormalization)                                               \n",
            "                                                                 \n",
            " dense_11 (Dense)            (None, 1)                 11        \n",
            "                                                                 \n",
            "=================================================================\n",
            "Total params: 4668297 (17.81 MB)\n",
            "Trainable params: 4668033 (17.81 MB)\n",
            "Non-trainable params: 264 (1.03 KB)\n",
            "_________________________________________________________________\n"
          ]
        }
      ],
      "source": [
        "model_s_f = Model(func_input, func_output, name = '_lenet_model_')\n",
        "model_s_f.summary()"
      ]
    },
    {
      "cell_type": "markdown",
      "metadata": {
        "id": "KP1B6uC8Ndfu"
      },
      "source": [
        "### **MODEL SUBCLASSING**"
      ]
    },
    {
      "cell_type": "code",
      "execution_count": null,
      "metadata": {
        "id": "-VPwb1XyNVqS"
      },
      "outputs": [],
      "source": [
        "class feature_extractor(Layer):\n",
        "  def __init__(self, filters, kernel_size, strides, padding, activation, pool_size):\n",
        "        super(feature_extractor, self).__init__() #important to do in subclassing a layer\n",
        "        self.conv1 = Conv2D(filters = filters, kernel_size = kernel_size, strides = strides, padding = padding, activation = activation) #(5,5) and (1,1) can also be given as 5 and 1 respectively\n",
        "        self.batch1 = BatchNormalization()\n",
        "        self.maxpool1 = MaxPool2D(pool_size = pool_size, strides = 2*strides) #(2,2) can also be given as 2\n",
        "\n",
        "        self.conv2 = Conv2D(filters = filters*2, kernel_size = kernel_size, strides = strides, padding = padding, activation = activation)#(5,5) and (1,1) can also be given as 5 and 1 respectively\n",
        "        self.batch2 = BatchNormalization()\n",
        "        self.maxpool2 = MaxPool2D(pool_size = pool_size, strides = 2*strides) #(2,2) can also be given as 2\n",
        "\n",
        "  def call(self, x):\n",
        "        x = self.conv1(x)\n",
        "        x = self.batch1(x)\n",
        "        x = self.maxpool1(x)\n",
        "\n",
        "        x = self.conv2(x)\n",
        "        x = self.batch2(x)\n",
        "        x = self.maxpool2(x)\n",
        "\n",
        "        return x\n",
        "\n"
      ]
    },
    {
      "cell_type": "code",
      "execution_count": null,
      "metadata": {
        "id": "5KiwbFewedob"
      },
      "outputs": [],
      "source": [
        "subclassing_layer = feature_extractor(8, 3, 1, 'valid', 'relu', 2)"
      ]
    },
    {
      "cell_type": "code",
      "execution_count": null,
      "metadata": {
        "id": "SxtidcpbfYdI"
      },
      "outputs": [],
      "source": [
        "#we have used both Sequential API(model_feature_extraction) and Functional API here\n",
        "func_input = Input( shape = (im_size, im_size, 3))\n",
        "x = subclassing_layer(func_input) #we have called the model model_feature_extraction here\n",
        "\n",
        "x = Flatten()(x)\n",
        "\n",
        "x = Dense(100, activation = 'relu')(x)\n",
        "x = BatchNormalization()(x)\n",
        "x = Dense(10, activation = 'relu')(x)\n",
        "x = BatchNormalization()(x)\n",
        "func_output = Dense(1, activation = 'sigmoid')(x)"
      ]
    },
    {
      "cell_type": "code",
      "execution_count": null,
      "metadata": {
        "colab": {
          "base_uri": "https://localhost:8080/"
        },
        "id": "lP5r2Ixgfmf3",
        "outputId": "ea6f86b4-1963-4ac4-affc-1e1dbb61dba4"
      },
      "outputs": [
        {
          "name": "stdout",
          "output_type": "stream",
          "text": [
            "Model: \"_lenet_model_\"\n",
            "_________________________________________________________________\n",
            " Layer (type)                Output Shape              Param #   \n",
            "=================================================================\n",
            " input_7 (InputLayer)        [(None, 224, 224, 3)]     0         \n",
            "                                                                 \n",
            " feature_extractor (feature  (None, 54, 54, 16)        1488      \n",
            " _extractor)                                                     \n",
            "                                                                 \n",
            " flatten_4 (Flatten)         (None, 46656)             0         \n",
            "                                                                 \n",
            " dense_12 (Dense)            (None, 100)               4665700   \n",
            "                                                                 \n",
            " batch_normalization_18 (Ba  (None, 100)               400       \n",
            " tchNormalization)                                               \n",
            "                                                                 \n",
            " dense_13 (Dense)            (None, 10)                1010      \n",
            "                                                                 \n",
            " batch_normalization_19 (Ba  (None, 10)                40        \n",
            " tchNormalization)                                               \n",
            "                                                                 \n",
            " dense_14 (Dense)            (None, 1)                 11        \n",
            "                                                                 \n",
            "=================================================================\n",
            "Total params: 4668649 (17.81 MB)\n",
            "Trainable params: 4668381 (17.81 MB)\n",
            "Non-trainable params: 268 (1.05 KB)\n",
            "_________________________________________________________________\n"
          ]
        }
      ],
      "source": [
        "model_s_ = Model(func_input, func_output, name = '_lenet_model_')\n",
        "model_s_.summary()"
      ]
    },
    {
      "cell_type": "code",
      "execution_count": null,
      "metadata": {
        "id": "TjtYjcA7gcEA"
      },
      "outputs": [],
      "source": [
        "class LenetModel(Model):\n",
        "  def __init__(self):\n",
        "        super(LenetModel, self).__init__() #important to do in subclassing a layer\n",
        "\n",
        "        self.feature_extractor = feature_extractor(8, 3, 1, 'valid', 'relu', 2)\n",
        "        self.flatten = Flatten()\n",
        "        self.dense_1 = Dense(100, activation = 'relu')\n",
        "        self.batch_1 = BatchNormalization()\n",
        "        self.dense_2 = Dense(10, activation = 'relu')\n",
        "        self.batch_2 = BatchNormalization()\n",
        "        self.dense_3 = Dense(1, activation = 'sigmoid')\n",
        "\n",
        "  def call(self, x):\n",
        "        x = self.feature_extractor(x)\n",
        "        x = self.flatten(x)\n",
        "        x = self.dense_1(x)\n",
        "        x = self.batch_1(x)\n",
        "        x = self.dense_2(x)\n",
        "        x = self.batch_2(x)\n",
        "        x = self.dense_3(x)\n",
        "        return x\n",
        "\n"
      ]
    },
    {
      "cell_type": "code",
      "execution_count": null,
      "metadata": {
        "colab": {
          "base_uri": "https://localhost:8080/",
          "height": 280
        },
        "id": "rFUhpYxAj-PS",
        "outputId": "63aeff32-fa60-4ee5-925f-95257d1e51e4"
      },
      "outputs": [
        {
          "ename": "ValueError",
          "evalue": "This model has not yet been built. Build the model first by calling `build()` or by calling the model on a batch of data.",
          "output_type": "error",
          "traceback": [
            "\u001b[0;31m---------------------------------------------------------------------------\u001b[0m",
            "\u001b[0;31mValueError\u001b[0m                                Traceback (most recent call last)",
            "\u001b[0;32m<ipython-input-59-771f42367a7a>\u001b[0m in \u001b[0;36m<cell line: 2>\u001b[0;34m()\u001b[0m\n\u001b[1;32m      1\u001b[0m \u001b[0mlenet_subclassed\u001b[0m \u001b[0;34m=\u001b[0m \u001b[0mLenetModel\u001b[0m\u001b[0;34m(\u001b[0m\u001b[0;34m)\u001b[0m\u001b[0;34m\u001b[0m\u001b[0;34m\u001b[0m\u001b[0m\n\u001b[0;32m----> 2\u001b[0;31m \u001b[0mlenet_subclassed\u001b[0m\u001b[0;34m.\u001b[0m\u001b[0msummary\u001b[0m\u001b[0;34m(\u001b[0m\u001b[0;34m)\u001b[0m\u001b[0;34m\u001b[0m\u001b[0;34m\u001b[0m\u001b[0m\n\u001b[0m",
            "\u001b[0;32m/usr/local/lib/python3.10/dist-packages/keras/src/engine/training.py\u001b[0m in \u001b[0;36msummary\u001b[0;34m(self, line_length, positions, print_fn, expand_nested, show_trainable, layer_range)\u001b[0m\n\u001b[1;32m   3504\u001b[0m         \"\"\"\n\u001b[1;32m   3505\u001b[0m         \u001b[0;32mif\u001b[0m \u001b[0;32mnot\u001b[0m \u001b[0mself\u001b[0m\u001b[0;34m.\u001b[0m\u001b[0mbuilt\u001b[0m\u001b[0;34m:\u001b[0m\u001b[0;34m\u001b[0m\u001b[0;34m\u001b[0m\u001b[0m\n\u001b[0;32m-> 3506\u001b[0;31m             raise ValueError(\n\u001b[0m\u001b[1;32m   3507\u001b[0m                 \u001b[0;34m\"This model has not yet been built. \"\u001b[0m\u001b[0;34m\u001b[0m\u001b[0;34m\u001b[0m\u001b[0m\n\u001b[1;32m   3508\u001b[0m                 \u001b[0;34m\"Build the model first by calling `build()` or by calling \"\u001b[0m\u001b[0;34m\u001b[0m\u001b[0;34m\u001b[0m\u001b[0m\n",
            "\u001b[0;31mValueError\u001b[0m: This model has not yet been built. Build the model first by calling `build()` or by calling the model on a batch of data."
          ]
        }
      ],
      "source": [
        "lenet_subclassed = LenetModel()\n",
        "lenet_subclassed.summary()"
      ]
    },
    {
      "cell_type": "code",
      "execution_count": null,
      "metadata": {
        "colab": {
          "base_uri": "https://localhost:8080/"
        },
        "id": "t2cV0UBYkWfF",
        "outputId": "d6dc5cca-b572-46b0-e84e-84bb9731d4ab"
      },
      "outputs": [
        {
          "name": "stdout",
          "output_type": "stream",
          "text": [
            "Model: \"lenet_model_1\"\n",
            "_________________________________________________________________\n",
            " Layer (type)                Output Shape              Param #   \n",
            "=================================================================\n",
            " feature_extractor_2 (featu  multiple                  1488      \n",
            " re_extractor)                                                   \n",
            "                                                                 \n",
            " flatten_6 (Flatten)         multiple                  0         \n",
            "                                                                 \n",
            " dense_18 (Dense)            multiple                  4665700   \n",
            "                                                                 \n",
            " batch_normalization_26 (Ba  multiple                  400       \n",
            " tchNormalization)                                               \n",
            "                                                                 \n",
            " dense_19 (Dense)            multiple                  1010      \n",
            "                                                                 \n",
            " batch_normalization_27 (Ba  multiple                  40        \n",
            " tchNormalization)                                               \n",
            "                                                                 \n",
            " dense_20 (Dense)            multiple                  11        \n",
            "                                                                 \n",
            "=================================================================\n",
            "Total params: 4668649 (17.81 MB)\n",
            "Trainable params: 4668381 (17.81 MB)\n",
            "Non-trainable params: 268 (1.05 KB)\n",
            "_________________________________________________________________\n"
          ]
        }
      ],
      "source": [
        "lenet_subclassed = LenetModel()\n",
        "lenet_subclassed(tf.zeros([1,224,224,3]))\n",
        "lenet_subclassed.summary()"
      ]
    },
    {
      "cell_type": "markdown",
      "metadata": {
        "id": "PIu4pK0QlJNz"
      },
      "source": [
        "### **CUSTOM LAYERS**"
      ]
    },
    {
      "cell_type": "markdown",
      "metadata": {
        "id": "F30E-8WRSMgT"
      },
      "source": [
        "FOR DENSE LAYER"
      ]
    },
    {
      "cell_type": "code",
      "execution_count": null,
      "metadata": {
        "colab": {
          "base_uri": "https://localhost:8080/",
          "height": 211
        },
        "id": "Z1HSFDzikxyj",
        "outputId": "368b3b9d-cf39-4075-e6c8-74154df89422"
      },
      "outputs": [
        {
          "ename": "NameError",
          "evalue": "name 'Layer' is not defined",
          "output_type": "error",
          "traceback": [
            "\u001b[0;31m---------------------------------------------------------------------------\u001b[0m",
            "\u001b[0;31mNameError\u001b[0m                                 Traceback (most recent call last)",
            "\u001b[0;32m<ipython-input-1-fbbd4cafe5bb>\u001b[0m in \u001b[0;36m<cell line: 1>\u001b[0;34m()\u001b[0m\n\u001b[0;32m----> 1\u001b[0;31m \u001b[0;32mclass\u001b[0m \u001b[0mNeural_Dense\u001b[0m\u001b[0;34m(\u001b[0m\u001b[0mLayer\u001b[0m\u001b[0;34m)\u001b[0m\u001b[0;34m:\u001b[0m\u001b[0;34m\u001b[0m\u001b[0;34m\u001b[0m\u001b[0m\n\u001b[0m\u001b[1;32m      2\u001b[0m   \u001b[0;32mdef\u001b[0m \u001b[0m__init__\u001b[0m\u001b[0;34m(\u001b[0m\u001b[0mself\u001b[0m\u001b[0;34m,\u001b[0m \u001b[0moutput_units\u001b[0m\u001b[0;34m,\u001b[0m \u001b[0mactivation\u001b[0m\u001b[0;34m)\u001b[0m\u001b[0;34m:\u001b[0m\u001b[0;34m\u001b[0m\u001b[0;34m\u001b[0m\u001b[0m\n\u001b[1;32m      3\u001b[0m     \u001b[0msuper\u001b[0m\u001b[0;34m(\u001b[0m\u001b[0mNeural_Dense\u001b[0m\u001b[0;34m,\u001b[0m \u001b[0mself\u001b[0m\u001b[0;34m)\u001b[0m\u001b[0;34m.\u001b[0m\u001b[0m__init__\u001b[0m\u001b[0;34m(\u001b[0m\u001b[0;34m)\u001b[0m\u001b[0;34m\u001b[0m\u001b[0;34m\u001b[0m\u001b[0m\n\u001b[1;32m      4\u001b[0m     \u001b[0mself\u001b[0m\u001b[0;34m.\u001b[0m\u001b[0moutput_units\u001b[0m \u001b[0;34m=\u001b[0m \u001b[0moutput_units\u001b[0m\u001b[0;34m\u001b[0m\u001b[0;34m\u001b[0m\u001b[0m\n\u001b[1;32m      5\u001b[0m     \u001b[0mself\u001b[0m\u001b[0;34m.\u001b[0m\u001b[0mactivation\u001b[0m \u001b[0;34m=\u001b[0m \u001b[0mactivation\u001b[0m\u001b[0;34m\u001b[0m\u001b[0;34m\u001b[0m\u001b[0m\n",
            "\u001b[0;31mNameError\u001b[0m: name 'Layer' is not defined"
          ]
        }
      ],
      "source": [
        "class Neural_Dense(Layer):\n",
        "  def __init__(self, output_units, activation):\n",
        "    super(Neural_Dense, self).__init__()\n",
        "    self.output_units = output_units\n",
        "    self.activation = activation\n",
        "  def build(self, input_features_shape):\n",
        "    self.w = self.add_weights(shape = (input_features_weights[-1], output_units), initializer = 'random_normal', trainable = True)\n",
        "    self.b = self.add_weights(shape = (input_features_weights[-1],), initializer = 'random_normal', trainable = True)\n",
        "  def call(self, input_features):\n",
        "    pre_output = tf.matmul(input_features, self.w) + self.b\n",
        "    if self.activation == 'relu':\n",
        "      return tf.nn.relu(pre_output)\n",
        "    elif self.activation == 'sigmoid':\n",
        "      return tf.nn.sigmoid(pre_output)\n",
        "    else:\n",
        "      return pre_output\n"
      ]
    },
    {
      "cell_type": "markdown",
      "source": [
        "### **CUSTOM CALLBACK**"
      ],
      "metadata": {
        "id": "b_9lL9U2FazY"
      }
    },
    {
      "cell_type": "code",
      "execution_count": null,
      "metadata": {
        "id": "LI9FjgTuUV29"
      },
      "outputs": [],
      "source": [
        "class LossCallback(Callback):\n",
        "  def on_epoch_end(self, epoch, logs):\n",
        "    print(\"\\n epoch no {} has loss of {}\".format(epoch+1, logs['loss']))\n",
        "  def on_batch_end(self, batch, logs):\n",
        "    print(\"\\n batch no {} has loss of {}\".format(batch+1, logs))"
      ]
    },
    {
      "cell_type": "markdown",
      "source": [
        "### **DATA AUGMENTATION**"
      ],
      "metadata": {
        "id": "L7mLM7ETGMEZ"
      }
    },
    {
      "cell_type": "code",
      "source": [
        "def visualize(original, augmented):\n",
        "  plt.subplot(1,2,1)\n",
        "  plt.imshow(original)\n",
        "\n",
        "  plt.subplot(1,2,2)\n",
        "  plt.imshow(augmented)"
      ],
      "metadata": {
        "id": "Xz0AIhX0G2G4"
      },
      "execution_count": null,
      "outputs": []
    },
    {
      "cell_type": "code",
      "source": [
        "original_image = next(iter(train_dataset))\n",
        "augmented_image = tf.image.flip_left_right(original_image)\n",
        "visualize(original_image, augmented_image)"
      ],
      "metadata": {
        "id": "j-CD0dN0GQ3L"
      },
      "execution_count": null,
      "outputs": []
    },
    {
      "cell_type": "code",
      "source": [
        "augmented_image_rud = tf.image.random_flip_up_down(original_image, seed = 42)\n",
        "visualize(original, augmented_image_rud)"
      ],
      "metadata": {
        "id": "n-mXZi01HekW"
      },
      "execution_count": null,
      "outputs": []
    },
    {
      "cell_type": "code",
      "source": [
        "augmented_image_r90 = tf.image.rot90(original_image, k = 1)\n",
        "visualize(original, augmented_image_r90)"
      ],
      "metadata": {
        "id": "bihAE5TTI3Iu"
      },
      "execution_count": null,
      "outputs": []
    },
    {
      "cell_type": "code",
      "source": [
        "augmented_image_r180 = tf.image.rot90(original_image, k = 2)\n",
        "visualize(original, augmented_image_r180)"
      ],
      "metadata": {
        "id": "M-LAfqSaJ4cl"
      },
      "execution_count": null,
      "outputs": []
    },
    {
      "cell_type": "code",
      "source": [
        "augmented_image_r270= tf.image.rot90(original_image, k = 3)\n",
        "visualize(original, augmented_image_r270)"
      ],
      "metadata": {
        "id": "piZZmwLSJ8TG"
      },
      "execution_count": null,
      "outputs": []
    },
    {
      "cell_type": "code",
      "source": [
        "augmented_image_r360 = tf.image.rot90(original_image, k = 4)\n",
        "visualize(original, augmented_image_r360)"
      ],
      "metadata": {
        "id": "29NOdOl5KLdY"
      },
      "execution_count": null,
      "outputs": []
    },
    {
      "cell_type": "code",
      "source": [
        "augmented_image_ab = tf.image.adjust_brightness(original_image, delta = 0.2) #delta should be in range [-1, 1]\n",
        "visualize(original, augmented_image_ab)"
      ],
      "metadata": {
        "id": "5so-3tU1KRE1"
      },
      "execution_count": null,
      "outputs": []
    },
    {
      "cell_type": "code",
      "source": [
        "augmented_image_rs = tf.image.random_saturation(original_image, lower = 2, upper = 10)\n",
        "visualize(original, augmented_image_rs)"
      ],
      "metadata": {
        "id": "VH8xCWVuL0zt"
      },
      "execution_count": null,
      "outputs": []
    },
    {
      "cell_type": "code",
      "source": [
        "augmented_image_cc = tf.image.central_crop(original_image, central_fraction = 0.7)\n",
        "visualize(original, augmented_image_cc)"
      ],
      "metadata": {
        "id": "FehaiLsBNH3d"
      },
      "execution_count": null,
      "outputs": []
    },
    {
      "cell_type": "markdown",
      "source": [
        "### **CUSTOM LOSS**"
      ],
      "metadata": {
        "id": "6PmyrDkymEUq"
      }
    },
    {
      "cell_type": "markdown",
      "source": [
        "i) CREATING A METHOD/ FUNCTION THAT CAN BE CALLED WITHOUT PARAMETERS"
      ],
      "metadata": {
        "id": "vthANER2mO8q"
      }
    },
    {
      "cell_type": "code",
      "source": [
        "def custom_bce(y_true, y_pred):\n",
        "  bce = BinaryCrossentropy()\n",
        "  return bce(y_true, y_pred)"
      ],
      "metadata": {
        "id": "E2IDzoj5mDpJ"
      },
      "execution_count": null,
      "outputs": []
    },
    {
      "cell_type": "code",
      "source": [
        "model.compile( optimizer = Adam(learning_rate = 0.01), loss = custom_bce(), metrics = METRICS )"
      ],
      "metadata": {
        "id": "Fa5PBM7xpdII"
      },
      "execution_count": null,
      "outputs": []
    },
    {
      "cell_type": "markdown",
      "source": [
        "ii) CREATING A METHOD/ FUNCTION THAT is WITH PARAMETERS"
      ],
      "metadata": {
        "id": "CETpnwnvpWHA"
      }
    },
    {
      "cell_type": "code",
      "source": [
        "factor = 1\n",
        "def custom_bce(y_true, y_pred, factor):\n",
        "  def loss(y_true, y_pred):\n",
        "    bce = BinaryCrossentropy()\n",
        "    return bce(y_true, y_pred) * factor\n",
        "  return loss"
      ],
      "metadata": {
        "id": "hrl6FUndNcnQ"
      },
      "execution_count": null,
      "outputs": []
    },
    {
      "cell_type": "code",
      "source": [
        "model.compile( optimizer = Adam(learning_rate = 0.01), loss = custom_bce(factor), metrics = METRICS )"
      ],
      "metadata": {
        "id": "jjr9yxaPp53m"
      },
      "execution_count": null,
      "outputs": []
    },
    {
      "cell_type": "markdown",
      "source": [
        "iii) CREATING A CLASS THAT INHERITS FROM tf.keras.losses.Loss"
      ],
      "metadata": {
        "id": "FaCQkhVvOy2c"
      }
    },
    {
      "cell_type": "code",
      "source": [
        "class custom_bce(tf.keras.losses.Loss):\n",
        "  def __init__(self, factor):\n",
        "    super(custom_bce, self).__init__()\n",
        "    self.factor = factor\n",
        "  def call(self, y_true, y_pred):\n",
        "    bce = BinaryCrossentropy()\n",
        "    return bce(y_true, y_pred) * self.factor"
      ],
      "metadata": {
        "id": "yjFCa_0AOyR8"
      },
      "execution_count": null,
      "outputs": []
    },
    {
      "cell_type": "code",
      "source": [
        "model.compile( optimizer = Adam(learning_rate = 0.01), loss = custom_bce(factor), metrics = METRICS )"
      ],
      "metadata": {
        "id": "JTgYXa5Pp8cj"
      },
      "execution_count": null,
      "outputs": []
    },
    {
      "cell_type": "markdown",
      "source": [
        "SAME 3 WAYS OF CUSTOM METRICS APPLY"
      ],
      "metadata": {
        "id": "O53Mi5WyUXBP"
      }
    },
    {
      "cell_type": "markdown",
      "source": [
        "EXAMPLE : CREATING CLASS THAT INHERITS FROM tf.keras.metrics.Metric"
      ],
      "metadata": {
        "id": "0GlsYhZGUd1v"
      }
    },
    {
      "cell_type": "code",
      "source": [
        "class CustomAccuracy(tf.keras.metrics.Metric):\n",
        "  def __init__(self, name = 'custom_accuracy', factor):\n",
        "    super(CustomAccuracy, self).__init__()\n",
        "    self.factor = factor\n",
        "    self.accuracy = self.add_weights(name = name, initializer = 'zeros')\n",
        "  def update_state(self,y_true, y_pred, sample_weight = None):\n",
        "    output = binary_accuracy(tf.cast(y_true, dtype = tf.float32), y_pred) * self.factor\n",
        "    self.accuracy.assign(tf.math.count_nonzero(output, dtype = tf.float32)/tf.cast(len(output), dtype = tf.float32))\n",
        "  def result(self):\n",
        "    return self.accuracy\n",
        "  def reset_states(self):\n",
        "    self.accuracy.assign(0.)"
      ],
      "metadata": {
        "id": "2HrDH9ODUnVX"
      },
      "execution_count": null,
      "outputs": []
    },
    {
      "cell_type": "code",
      "source": [
        "factor = 0.8"
      ],
      "metadata": {
        "id": "d_Nuzz8kWZkl"
      },
      "execution_count": null,
      "outputs": []
    },
    {
      "cell_type": "code",
      "source": [
        "model.compile( optimizer = Adam(learning_rate = 0.01), loss = BinaryCrossentropy(), metrics = CustomAccuracy(factor) )"
      ],
      "metadata": {
        "id": "7wolYPe2WMKR"
      },
      "execution_count": null,
      "outputs": []
    },
    {
      "cell_type": "markdown",
      "source": [
        "PRINTING IN GRAPH MODE"
      ],
      "metadata": {
        "id": "-C6SkLhAurCF"
      }
    },
    {
      "cell_type": "code",
      "source": [
        "#eager mode\n",
        "def a():\n",
        "  print(\"aa\")\n",
        "\n",
        "a()\n",
        "a()\n",
        "a()"
      ],
      "metadata": {
        "colab": {
          "base_uri": "https://localhost:8080/"
        },
        "id": "i86haBhevcZv",
        "outputId": "d40ae86e-06fd-48d5-a2e1-ebd28f7953de"
      },
      "execution_count": null,
      "outputs": [
        {
          "output_type": "stream",
          "name": "stdout",
          "text": [
            "aa\n",
            "aa\n",
            "aa\n"
          ]
        }
      ]
    },
    {
      "cell_type": "code",
      "source": [
        "import tensorflow as tf\n",
        "@tf.function\n",
        "def a():\n",
        "  print(\"aa\")\n",
        "\n",
        "a()\n",
        "a()\n",
        "a()"
      ],
      "metadata": {
        "colab": {
          "base_uri": "https://localhost:8080/"
        },
        "id": "o7i1X041uubb",
        "outputId": "1a66404f-b096-40fa-fbd9-4f2d7d5794cf"
      },
      "execution_count": null,
      "outputs": [
        {
          "output_type": "stream",
          "name": "stdout",
          "text": [
            "aa\n"
          ]
        }
      ]
    },
    {
      "cell_type": "code",
      "source": [
        "@tf.function\n",
        "def a():\n",
        "  tf.print(\"aa\")\n",
        "\n",
        "a()\n",
        "a()\n",
        "a()"
      ],
      "metadata": {
        "colab": {
          "base_uri": "https://localhost:8080/"
        },
        "id": "WDyueQ8HvGhp",
        "outputId": "9cabad35-504b-47ac-ff90-11bd3a7b7336"
      },
      "execution_count": null,
      "outputs": [
        {
          "output_type": "stream",
          "name": "stdout",
          "text": [
            "aa\n",
            "aa\n",
            "aa\n"
          ]
        }
      ]
    },
    {
      "cell_type": "markdown",
      "source": [
        "### **CUSTOM TRAINING LOOPS**"
      ],
      "metadata": {
        "id": "dp4g8BRgwO5d"
      }
    },
    {
      "cell_type": "code",
      "source": [
        "'''optimizer = Adam(learning_rate = 0.01)\n",
        "epochs = 3\n",
        "metric = BinaryAccuracy()\n",
        "metric_val = BinaryAccuracy()'''"
      ],
      "metadata": {
        "id": "O0Chbh1PbVGa"
      },
      "execution_count": null,
      "outputs": []
    },
    {
      "cell_type": "code",
      "source": [
        "import wandb\n",
        "\n",
        "#wandb.tensorboard.patch(root_logdir = \"./logs/\")\n",
        "#wandb.init(project = 'malaria_detection', entity = 'jagaadhep')\n",
        "\n",
        "#OR\n",
        "\n",
        "wandb.init(project = 'malaria_detection___', entity = 'jagaadhep', sync_tensorboard = True)"
      ],
      "metadata": {
        "id": "vsNka_m4e0Zy"
      },
      "execution_count": null,
      "outputs": []
    },
    {
      "cell_type": "code",
      "source": [
        "#LOGGING FOR USAGE IN TENSORBOARD\n",
        "current_time = datetime.datetime.now().strftime('%d%m%y - %h%m%s')\n",
        "custom_train_directory = \"./logs/\" + current_time + \"/custom/train\"\n",
        "custom_validation_directory = \"./logs/\" + current_time + \"/custom/validation\"\n",
        "custom_train_writer = tf.summary.create_file_writer(custom_train_directory)\n",
        "custom_validation_writer = tf.summary.create_file_writer(custom_validation_directory)"
      ],
      "metadata": {
        "id": "hSYgovIMfrsV"
      },
      "execution_count": null,
      "outputs": []
    },
    {
      "cell_type": "code",
      "source": [
        "#TO DO TRAINING\n",
        "def training_block(x_batch, y_batch):\n",
        "  with tf.GradientTape as recorder: #records operations during automatic differentiation like gradients\n",
        "    y_pred = model(x_batch, training = True):\n",
        "    bce = BinaryCrossentropy()\n",
        "    loss = bce(y_batch, y_pred)\n",
        "  #wandb.log({'loss': loss.numpy()})\n",
        "  partial_derivatives = recorder.gradient(loss, model.trainable_weights = True) #compute gradients\n",
        "  optimizer.apply_gradients(zip(partial_derivatives, model.trainable_weights)) #update weights\n",
        "  metric.update_state(y_batch, y_pred)\n",
        "  return loss"
      ],
      "metadata": {
        "id": "1u1m0oFJ8KFP"
      },
      "execution_count": null,
      "outputs": []
    },
    {
      "cell_type": "code",
      "source": [
        "#TO DO VALIDATION\n",
        "def val_block(x_batch_val, y_batch_val):\n",
        "    y_pred_val = model(x_batch_val, training = False)\n",
        "    bce = BinaryCrossentropy()\n",
        "    loss_val = bce(y_batch_val, y_pred_val)\n",
        "\n",
        "    metric_val.update_state(y_batch_val, y_pred_val)\n",
        "    return loss_val"
      ],
      "metadata": {
        "id": "-QF_keMX83Sa"
      },
      "execution_count": null,
      "outputs": []
    },
    {
      "cell_type": "code",
      "source": [
        "@tf.function #RUNNING EVERYTHING IN GRAPH MODE\n",
        "def neuralearn(model, loss_function, metric, metric_val, optimizer, train_data, val_data, epochs):\n",
        "  for epoch in epochs:\n",
        "    print('Training starts for epoch number {}'format(epoch))\n",
        "    for step, (x_batch, y_batch) in enumerate(train_data):\n",
        "      loss = training_block(x_batch, y_batch)\n",
        "    print(\"Training loss : \",loss)\n",
        "    print(\"Training Binary Accuracy : \",metric.result())\n",
        "    #logging accuracy and loss\n",
        "    with custom_train_writer.as_default():\n",
        "      tf.summary.scalar('Train loss', data = loss, step = epoch)\n",
        "    with custom_train_writer.as_default():\n",
        "      tf.summary.scalar('Train Accuracy', data = metric.result(), step = epoch)\n",
        "    metric.reset_states() #reset metric to 0 after the epoch is over\n",
        "\n",
        "    #VALIDATION\n",
        "    for (x_batch_val, y_batch_val) in val_data:\n",
        "      loss_val = val_block(x_batch_val, y_batch_val)\n",
        "    print(\"Validation loss : \", loss_val)\n",
        "    print(\"Validation Binary Accuracy : \",metric_val.result())\n",
        "    #logging accuracy and loss\n",
        "    with custom_validation_writer.as_default():\n",
        "      tf.summary.scalar('Validation loss', data = loss_val, step = epoch)\n",
        "    with custom_validation_writer.as_default():\n",
        "      tf.summary.scalar('Validation Accuracy', data = metric_val.result(), step = epoch)\n",
        "    metric_val.reset_states() #reset metric to 0 after the epoch is over"
      ],
      "metadata": {
        "id": "HwRH7jV1vZZs"
      },
      "execution_count": null,
      "outputs": []
    },
    {
      "cell_type": "code",
      "source": [
        "neuralearn(model_s_, BinaryCrossentropy(), BinaryAccuracy(), BinaryAccuracy(), Adam(learning_rate = 0.01), train_data, val_data, 3)"
      ],
      "metadata": {
        "id": "-TWRgN9Thm4j"
      },
      "execution_count": null,
      "outputs": []
    },
    {
      "cell_type": "markdown",
      "source": [
        "### **HYPERPARAMETER TUNING WITH WANDB**"
      ],
      "metadata": {
        "id": "kzCaAsQgLe8e"
      }
    },
    {
      "cell_type": "code",
      "source": [
        "#MAKE USE OF THE CONFIGURATIONS WE HAVE HAVE ALREADY DEFINED AT THE BEGINNING OF THE NOTEBOOK\n",
        "sweep_config = {\n",
        "    \"name\" : \"malaria_prediction_sweep\",\n",
        "    \"method\" : \"random\",\n",
        "    \"metric\" : {\n",
        "        \"name\" : \"accuracy\",\n",
        "        \"goal\" : \"maximize\"\n",
        "    },\n",
        "    \"parameters\" : {\n",
        "        \"N_DENSE_1\" : {\n",
        "            \"values\" : [16, 32, 64, 128]\n",
        "        },\n",
        "        \"N_DENSE_2\" : {\n",
        "            \"values\" : [16, 32, 64, 128]\n",
        "        },\n",
        "        \"DROPOUT_RATE\" : {\n",
        "            \"min\" : 0.1,\n",
        "            \"max\" : 0.4\n",
        "        },\n",
        "        \"REGULARIZATION_RATE\" : {\n",
        "            \"distribution\" : \"uniform\",\n",
        "            \"min\" : 0.001,\n",
        "            \"max\" : 0.1\n",
        "        }\n",
        "        \"LEARNING_RATE\" : {\n",
        "            \"distribution\" : \"uniform\",\n",
        "            \"min\" : 1e-4,\n",
        "            \"max\" : 1e-2\n",
        "        }\n",
        "    }\n",
        "}\n",
        "\n",
        "sweep_id = wandb.sweep(sweep_config)"
      ],
      "metadata": {
        "id": "1ODkP10rQXbG"
      },
      "execution_count": null,
      "outputs": []
    },
    {
      "cell_type": "code",
      "source": [
        "#MAKE USE OF THE CONFIGURATIONS WE HAVE HAVE ALREADY DEFINED AT THE BEGINNING OF THE NOTEBOOK\n",
        "def model_tune(config):\n",
        "  hyp_model = tf.keras.Sequential([\n",
        "      InputLayer(input_shape = (config.IM_SIZE, config.IM_SIZE, 3)),\n",
        "\n",
        "      '''used for data agumentation with tf.keras.layers:\n",
        "      resize_rescale_layer,\n",
        "      augment_'''\n",
        "\n",
        "      Conv2D(filters = config.N_FILTERS, kernel_size = config.KERNEL_SIZE, strides = config.N_STRIDES, padding = 'valid', activation = 'relu', kernel_regularizer  = L2(config.REGULARIZATION_RATE)), #(5,5) and (1,1) can also be given as 5 and 1 respectively\n",
        "      BatchNormalization(),\n",
        "      MaxPool2D(pool_size = config.POOL_SIZE, strides = config.N_STRIDES), #(2,2) can also be given as 2\n",
        "      Dropout(rate = config.DROPOUT_RATE),\n",
        "\n",
        "      Conv2D(filters = config.N_FILTERS, kernel_size = config.KERNEL_SIZE, strides = config.N_STRIDES, padding = 'valid', activation = 'relu', kernel_regularizer  = L2(config.REGULARIZATION_RATE)), #(5,5) and (1,1) can also be given as 5 and 1 respectively\n",
        "      BatchNormalization(),\n",
        "      MaxPool2D(pool_size = config.POOL_SIZE, strides = config.N_STRIDES), #(2,2) can also be given as 2\n",
        "\n",
        "      Flatten(),\n",
        "\n",
        "      Dense(config.N_DENSE_1, activation = 'relu', kernel_regularizer  = L2(config.REGULARIZATION_RATE)),\n",
        "      BatchNormalization(),\n",
        "      Dropout(rate = config.DROPOUT_RATE),\n",
        "      Dense(config.N_DENSE_2, activation = 'relu', kernel_regularizer  = L2(config.REGULARIZATION_RATE )),\n",
        "      BatchNormalization(),\n",
        "      Dense(1, activation = 'sigmoid', kernel_regularizer  = L2(config.REGULARIZATION_RATE ))\n",
        "  ])\n",
        "\n",
        "  return hyp_model"
      ],
      "metadata": {
        "id": "wrA8FQ-xPGCM"
      },
      "execution_count": null,
      "outputs": []
    },
    {
      "cell_type": "code",
      "source": [
        "def train():\n",
        "  with wandb.init(project = \"malaria_detection_\", entity = \"jagaadhep\", config = configuration) as run:\n",
        "    config = wandb.config\n",
        "    model = model_tune(config)\n",
        "    model.compile( optimizer = Adam(learning_rate = config.LEARNING_RATE), loss = BinaryCrossentropy(), metrics = ['accuracy'] )\n",
        "    model.fit(val_data, epochs = config.N_EPOCHS, callbacks = [WandbCallback()] )\n",
        "\n",
        "count = 5 #NUMBER OF RUNS TO EXECUTE\n",
        "wandb.agent(sweep_id, funcion = train, count = count)"
      ],
      "metadata": {
        "id": "vMDRDkcwTuOA"
      },
      "execution_count": null,
      "outputs": []
    },
    {
      "cell_type": "markdown",
      "source": [
        "### **HYPERPARAMETER TUNING WITH TENSORBOARD**"
      ],
      "metadata": {
        "id": "DfF85MM3vj9o"
      }
    },
    {
      "cell_type": "code",
      "source": [
        "def model_tune(hparams):\n",
        "  hyp_model = tf.keras.Sequential([\n",
        "      InputLayer(input_shape = (none, none, 3)),\n",
        "\n",
        "      '''used for data agumentation with tf.keras.layers:\n",
        "      resize_rescale_layer,\n",
        "      augment_'''\n",
        "\n",
        "      Conv2D(filters = 6, kernel_size = (3,3), strides = (1,1), padding = 'valid', activation = 'relu', kernel_regularizer  = L2(hparams[HP_REGULARIZATION_RATE] )), #(5,5) and (1,1) can also be given as 5 and 1 respectively\n",
        "      BatchNormalization(),\n",
        "      MaxPool2D(pool_size = (2,2), strides = (2,2)), #(2,2) can also be given as 2\n",
        "      Dropout(rate = hparams[HP_DROPOUT]),\n",
        "\n",
        "      Conv2D(filters = 16, kernel_size = (3,3), strides = (1,1), padding = 'valid', activation = 'relu', kernel_regularizer  = L2(hparams[HP_REGULARIZATION_RATE] )), #(5,5) and (1,1) can also be given as 5 and 1 respectively\n",
        "      BatchNormalization(),\n",
        "      MaxPool2D(pool_size = (2,2), strides = (2,2)), #(2,2) can also be given as 2\n",
        "\n",
        "      Flatten(),\n",
        "\n",
        "      Dense(hparams[HP_NUM_UNITS_1], activation = 'relu', kernel_regularizer  = L2(hparams[HP_REGULARIZATION_RATE] )),\n",
        "      BatchNormalization(),\n",
        "      Dropout(rate = hparams[HP_DROPOUT]),\n",
        "      Dense(hparams[HP_NUM_UNITS_2], activation = 'relu', kernel_regularizer  = L2(hparams[HP_REGULARIZATION_RATE] )),\n",
        "      BatchNormalization(),\n",
        "      Dense(1, activation = 'sigmoid', kernel_regularizer  = L2(hparams[HP_REGULARIZATION_RATE] ))\n",
        "  ])\n",
        "  METRICS = [BinaryAccuracy(name = 'accuracy')]\n",
        "  model_hyp.compile( optimizer = Adam(learning_rate = hparams[HP_LEARNING_RATE]), loss = BinaryCrossentropy(), metrics = METRICS )\n",
        "  history = model_hyp.fit(val_data, epochs = 2)\n",
        "\n",
        "  loss, accuracy = model_hyp.evaluate(val_data)\n",
        "  print(loss, accuracy)\n",
        "  return accuracy"
      ],
      "metadata": {
        "id": "cV6GHzA4E5Qi"
      },
      "execution_count": null,
      "outputs": []
    },
    {
      "cell_type": "code",
      "source": [
        "HP_NUM_UNITS_1 = hp.HParam('num_units_1', hp.Discrete([16,32,64,128]))\n",
        "HP_NUM_UNITS_2 = hp.HParam('num_units_2', hp.Discrete([16,32,64,128]))\n",
        "HP_DROPOUT = hp.HParam('dropout_rate', hp.Discrete([0.1,0.2,0.3]))\n",
        "HP_REGULARIZATION_RATE = hp.HParam('regularization_rate', hp.Discrete([0.001,0.01,0.1]))\n",
        "HP_LEARNING_RATE = hp.HParam('learning_rate', hp.Discrete([1e-4,1e-3]))"
      ],
      "metadata": {
        "id": "eJ9ieDSAzPlE"
      },
      "execution_count": null,
      "outputs": []
    },
    {
      "cell_type": "code",
      "source": [
        "run_number = 0\n",
        "for num_units_1 in HP_NUM_UNITS_1.domain.values:\n",
        "  for num_units_2 in HP_NUM_UNITS_2.domain.values:\n",
        "    for dropout_rate in HP_DROPOUT.domain.values:\n",
        "      for regularization_rate in HP_REGULARIZATION_RATE.domain.values:\n",
        "        for learning_rate in HP_LEARNING_RATE.domain.vales:\n",
        "\n",
        "          hparams = {\n",
        "              HP_NUM_UNITS_1 : num_units_1,\n",
        "              HP_NUM_UNITS_2 : num_units_2,\n",
        "              HP_DROPOUT : dropout_rate,\n",
        "              HP_REGULARIZATION_RATE : regularization_rate,\n",
        "              HP_LEARNING_RATE : learning_rate\n",
        "          }\n",
        "\n",
        "          file_writer = tf.summary.create_file_writer('logs/hparams - '  + str(run_number))\n",
        "\n",
        "          with file_writer.as_default():\n",
        "            hp.hparams(hparams)\n",
        "            accuracy = model_tune(hparams)\n",
        "            tf.summary.scalar('accuracy', accuracy, step = 0) #step = 0 or 1\n",
        "          print(\"For the run {} : \\n hparams num_unit_1 : {}, num_unit_2 : {}, dropout_rate : {}, regularization_rate : {}, learning_rate : {} \".format(run_number, hparams[HP_NUM_UNITS_1], hparams[HP_NUM_UNITS_2], hparams[HP_DROPOUT], hparams[HP_REGULARIZATION_RATE], hparams[HP_LEARNING_RATE]))\n",
        "          run_number += 1"
      ],
      "metadata": {
        "id": "URr6YYvr_6yl"
      },
      "execution_count": null,
      "outputs": []
    },
    {
      "cell_type": "code",
      "source": [
        "tensorboard --logdir = './logs'\n",
        "#CHOOSE THE HYPERPARAMETERS WITH THE HIGHEST ACCURACY IN PARALLEL COORDINATES VIEW IN HPARAMS IN TENSORBOARD INTERFACE\n",
        "#THEN MODEL THE MAIN MODEL 'MODEL' ACCORDING TO THE BEST HYPERPARAMETERS"
      ],
      "metadata": {
        "id": "igoTwDQnGnm1"
      },
      "execution_count": null,
      "outputs": []
    },
    {
      "cell_type": "code",
      "source": [],
      "metadata": {
        "id": "Z3lkkM_AIols"
      },
      "execution_count": null,
      "outputs": []
    }
  ],
  "metadata": {
    "accelerator": "GPU",
    "colab": {
      "gpuType": "T4",
      "provenance": [],
      "collapsed_sections": [
        "L7C8dpK66p1g",
        "U2qGFUo160_R",
        "Hd8fy_GH68i3",
        "zeEwFh4zC094",
        "shLecpieFzLn",
        "rIiueQoGKgq5",
        "lgg5c4GSmmiv",
        "FpYHVM1LzD_p",
        "1HqPmqW5JX5h",
        "KP1B6uC8Ndfu",
        "PIu4pK0QlJNz",
        "b_9lL9U2FazY",
        "L7mLM7ETGMEZ",
        "6PmyrDkymEUq",
        "dp4g8BRgwO5d",
        "DfF85MM3vj9o"
      ],
      "authorship_tag": "ABX9TyNmvqBg6VDD/LeAXAClWEbm",
      "include_colab_link": true
    },
    "kernelspec": {
      "display_name": "Python 3",
      "name": "python3"
    },
    "language_info": {
      "name": "python"
    }
  },
  "nbformat": 4,
  "nbformat_minor": 0
}